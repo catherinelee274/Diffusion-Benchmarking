{
 "cells": [
  {
   "cell_type": "markdown",
   "metadata": {},
   "source": [
    "## Clip score eval"
   ]
  },
  {
   "cell_type": "code",
   "execution_count": 1,
   "metadata": {},
   "outputs": [],
   "source": [
    "from torchmetrics.functional.multimodal import clip_score\n",
    "from functools import partial\n",
    "import torch\n",
    "### dont move to another cell\n",
    "clip_score_fn = partial(clip_score, model_name_or_path=\"openai/clip-vit-base-patch16\")\n",
    "\n",
    "def calculate_clip_score(images, prompts):\n",
    "    images_int = (images * 255).astype(\"uint8\")\n",
    "    clip_score = clip_score_fn(torch.from_numpy(images_int).permute(0, 3, 1, 2), prompts).detach()\n",
    "    return round(float(clip_score), 4)"
   ]
  },
  {
   "cell_type": "code",
   "execution_count": 2,
   "metadata": {},
   "outputs": [
    {
     "name": "stderr",
     "output_type": "stream",
     "text": [
      "/home/research/jenzheng/.conda/envs/cs229/lib/python3.9/site-packages/datasets/load.py:1461: FutureWarning: The repository for HuggingFaceM4/COCO contains custom code which must be executed to correctly load the dataset. You can inspect the repository content at https://hf.co/datasets/HuggingFaceM4/COCO\n",
      "You can avoid this message in future by passing the argument `trust_remote_code=True`.\n",
      "Passing `trust_remote_code=True` will be mandatory to load this dataset from the next major release of `datasets`.\n",
      "  warnings.warn(\n"
     ]
    }
   ],
   "source": [
    "from datasets import load_dataset\n",
    "\n",
    "dataset = load_dataset(\"HuggingFaceM4/COCO\", split='test[0:100]')\n",
    "\n",
    "tokens = dataset['sentences'][:100]\n",
    "\n",
    "prompts = []\n",
    "for token in tokens:\n",
    "   prompts.append(token['raw'])"
   ]
  },
  {
   "cell_type": "code",
   "execution_count": 3,
   "metadata": {},
   "outputs": [],
   "source": [
    "import diffusers\n",
    "diffusers.logging.set_verbosity_warning()\n",
    "\n",
    "diffusers.logging.disable_progress_bar()\n",
    "import datasets\n",
    "datasets.disable_progress_bar()"
   ]
  },
  {
   "cell_type": "markdown",
   "metadata": {},
   "source": [
    "# Compare Different Models"
   ]
  },
  {
   "cell_type": "code",
   "execution_count": 14,
   "metadata": {},
   "outputs": [],
   "source": [
    "from time import time\n",
    "prompt = prompts[1]"
   ]
  },
  {
   "cell_type": "code",
   "execution_count": 8,
   "metadata": {},
   "outputs": [
    {
     "name": "stdout",
     "output_type": "stream",
     "text": [
      "Man riding a motor bike on a dirt road on the countryside.\n"
     ]
    }
   ],
   "source": [
    "print(prompt)"
   ]
  },
  {
   "cell_type": "markdown",
   "metadata": {},
   "source": [
    "### LDM"
   ]
  },
  {
   "cell_type": "code",
   "execution_count": 28,
   "metadata": {},
   "outputs": [
    {
     "name": "stderr",
     "output_type": "stream",
     "text": [
      "vqvae/diffusion_pytorch_model.safetensors not found\n",
      "The config attributes {'timestep_values': None} were passed to DDIMScheduler, but are not expected and will be ignored. Please verify your scheduler_config.json configuration file.\n"
     ]
    },
    {
     "data": {
      "application/vnd.jupyter.widget-view+json": {
       "model_id": "48dbe5233ce84da1aaddd71f8178e1b9",
       "version_major": 2,
       "version_minor": 0
      },
      "text/plain": [
       "  0%|          | 0/75 [00:00<?, ?it/s]"
      ]
     },
     "metadata": {},
     "output_type": "display_data"
    },
    {
     "name": "stdout",
     "output_type": "stream",
     "text": [
      "Generating time in seconds:  371.7733271121979\n"
     ]
    }
   ],
   "source": [
    "from diffusers import DiffusionPipeline\n",
    "model_id = \"CompVis/ldm-text2im-large-256\"\n",
    "\n",
    "# load model and scheduler\n",
    "ldm = DiffusionPipeline.from_pretrained(model_id)\n",
    "\n",
    "cur = time()\n",
    "ldm_image = ldm([prompt], num_inference_steps=75, eta=0.3, guidance_scale=8).images\n",
    "print(\"Generating time in seconds: \", time()-cur)"
   ]
  },
  {
   "cell_type": "markdown",
   "metadata": {},
   "source": [
    "### LCM"
   ]
  },
  {
   "cell_type": "code",
   "execution_count": 20,
   "metadata": {},
   "outputs": [
    {
     "name": "stderr",
     "output_type": "stream",
     "text": [
      "The config attributes {'skip_prk_steps': True} were passed to LCMScheduler, but are not expected and will be ignored. Please verify your scheduler_config.json configuration file.\n"
     ]
    },
    {
     "data": {
      "application/vnd.jupyter.widget-view+json": {
       "model_id": "a925e7cc74974c9086eb0d1dff79f6f3",
       "version_major": 2,
       "version_minor": 0
      },
      "text/plain": [
       "  0%|          | 0/45 [00:00<?, ?it/s]"
      ]
     },
     "metadata": {},
     "output_type": "display_data"
    },
    {
     "name": "stdout",
     "output_type": "stream",
     "text": [
      "Generating time in seconds:  7.78581166267395\n"
     ]
    }
   ],
   "source": [
    "from diffusers import UNet2DConditionModel, DiffusionPipeline, LCMScheduler\n",
    "import torch\n",
    "\n",
    "unet = UNet2DConditionModel.from_pretrained(\"latent-consistency/lcm-sdxl\", torch_dtype=torch.float16, variant=\"fp16\")\n",
    "pipe = DiffusionPipeline.from_pretrained(\"stabilityai/stable-diffusion-xl-base-1.0\", unet=unet, torch_dtype=torch.float16, variant=\"fp16\")\n",
    "\n",
    "pipe.scheduler = LCMScheduler.from_config(pipe.scheduler.config)\n",
    "pipe.to(\"cuda\")\n",
    "cur = time()\n",
    "lcm_image = pipe(prompt=prompt, num_inference_steps=45, guidance_scale=8.0 ).images\n",
    "print(\"Generating time in seconds: \", time()-cur)"
   ]
  },
  {
   "cell_type": "markdown",
   "metadata": {},
   "source": [
    "### LCM-LoRA"
   ]
  },
  {
   "cell_type": "code",
   "execution_count": 38,
   "metadata": {},
   "outputs": [
    {
     "name": "stderr",
     "output_type": "stream",
     "text": [
      "The config attributes {'skip_prk_steps': True} were passed to LCMScheduler, but are not expected and will be ignored. Please verify your scheduler_config.json configuration file.\n"
     ]
    },
    {
     "data": {
      "application/vnd.jupyter.widget-view+json": {
       "model_id": "9e675e70410446d798dcf64bb0486fad",
       "version_major": 2,
       "version_minor": 0
      },
      "text/plain": [
       "  0%|          | 0/45 [00:00<?, ?it/s]"
      ]
     },
     "metadata": {},
     "output_type": "display_data"
    },
    {
     "name": "stdout",
     "output_type": "stream",
     "text": [
      "Generating time in seconds:  13.801863431930542\n"
     ]
    }
   ],
   "source": [
    "import torch\n",
    "from diffusers import LCMScheduler, AutoPipelineForText2Image\n",
    "\n",
    "model_id = \"stabilityai/stable-diffusion-xl-base-1.0\"\n",
    "adapter_id = \"latent-consistency/lcm-lora-sdxl\"\n",
    "\n",
    "sdxlpipe = AutoPipelineForText2Image.from_pretrained(model_id, torch_dtype=torch.float16, variant=\"fp16\")\n",
    "sdxlpipe.scheduler = LCMScheduler.from_config(sdxlpipe.scheduler.config)\n",
    "sdxlpipe.to(\"cuda\")\n",
    "\n",
    "# load and fuse lcm lora\n",
    "sdxlpipe.load_lora_weights(adapter_id)\n",
    "sdxlpipe.fuse_lora()\n",
    "cur = time()\n",
    "lora_image = sdxlpipe(prompt=prompt, num_inference_steps=45, guidance_scale=8.0).images\n",
    "print(\"Generating time in seconds: \", time()-cur)"
   ]
  },
  {
   "cell_type": "markdown",
   "metadata": {},
   "source": [
    "### LDM-DPO"
   ]
  },
  {
   "cell_type": "code",
   "execution_count": 16,
   "metadata": {},
   "outputs": [
    {
     "name": "stderr",
     "output_type": "stream",
     "text": [
      "You are using `unload_lora_weights` to disable and unload lora weights. If you want to iteratively enable and disable adapter weights,you can use `pipe.enable_lora()` or `pipe.disable_lora()`. After installing the latest version of PEFT.\n"
     ]
    },
    {
     "name": "stdout",
     "output_type": "stream",
     "text": [
      "Generating time in seconds:  15.30357027053833\n"
     ]
    }
   ],
   "source": [
    "import torch\n",
    "from diffusers import AutoPipelineForText2Image, DPMSolverMultistepScheduler\n",
    "from diffusers.utils import make_image_grid\n",
    "\n",
    "sdxl_dpo_lora_pipe = AutoPipelineForText2Image.from_pretrained(\n",
    "    \"stabilityai/stable-diffusion-xl-base-1.0\",\n",
    "    torch_dtype=torch.float16,\n",
    "    use_safetensors=True,\n",
    "    variant=\"fp16\",\n",
    ")\n",
    "\n",
    "sdxl_dpo_lora_pipe.safety_checker = None\n",
    "sdxl_dpo_lora_pipe.set_progress_bar_config(disable=True)\n",
    "\n",
    "\n",
    "sdxl_dpo_lora_pipe.scheduler = DPMSolverMultistepScheduler.from_config(\n",
    "    sdxl_dpo_lora_pipe.scheduler.config,\n",
    "    use_karras_sigmas=True,\n",
    "    algorithm_type=\"sde-dpmsolver++\"\n",
    ")\n",
    "\n",
    "sdxl_dpo_lora_pipe.to(\"cuda\");\n",
    "\n",
    "seed = 12341234123\n",
    "negative_prompt = \"3d render, cartoon, drawing, art, low light, blur, pixelated, low resolution, black and white\"\n",
    "num_inference_steps = 40 # Keep\n",
    "height = 1024\n",
    "width = height\n",
    "\n",
    "sdxl_dpo_lora_pipe.unload_lora_weights()\n",
    "sdxl_dpo_lora_pipe.load_lora_weights(\n",
    "    \"radames/sdxl-DPO-LoRA\",\n",
    "    adapter_name=\"sdxl-dpo-lora\",\n",
    ")\n",
    "# sdxl_dpo_lora_pipe.set_adapters([\"sdxl-dpo-lora\"], adapter_weights=[0.9])\n",
    "generator = torch.Generator().manual_seed(seed)\n",
    "cur = time()\n",
    "dpo_image = sdxl_dpo_lora_pipe(disable_tqdm = True,prompt=prompt,num_images_per_prompt=1, num_inference_steps=45, guidance_scale=8.0).images\n",
    "print(\"Generating time in seconds: \", time()-cur)"
   ]
  },
  {
   "cell_type": "markdown",
   "metadata": {},
   "source": [
    "### Evaluation"
   ]
  },
  {
   "cell_type": "code",
   "execution_count": 29,
   "metadata": {},
   "outputs": [
    {
     "name": "stdout",
     "output_type": "stream",
     "text": [
      "CLIP Score:  25.3381\n"
     ]
    }
   ],
   "source": [
    "# works with (, output_type='np')\n",
    "import numpy as np\n",
    "v14Image = ldm_image\n",
    "clip_score = calculate_clip_score(np.array(v14Image), prompt)\n",
    "print(\"CLIP Score: \", clip_score)"
   ]
  },
  {
   "cell_type": "code",
   "execution_count": 30,
   "metadata": {
    "jupyter": {
     "source_hidden": true
    }
   },
   "outputs": [],
   "source": [
    "from PIL import Image\n",
    "import io\n",
    "import os\n",
    "import json\n",
    "\n",
    "from warnings import filterwarnings\n",
    "\n",
    "\n",
    "# os.environ[\"CUDA_VISIBLE_DEVICES\"] = \"0\"    # choose GPU if you are on a multi GPU server\n",
    "import numpy as np\n",
    "import torch\n",
    "import pytorch_lightning as pl\n",
    "import torch.nn as nn\n",
    "from torchvision import datasets, transforms\n",
    "import tqdm\n",
    "\n",
    "from os.path import join\n",
    "from datasets import load_dataset\n",
    "import pandas as pd\n",
    "from torch.utils.data import Dataset, DataLoader\n",
    "import json\n",
    "\n",
    "import clip\n",
    "\n",
    "\n",
    "from PIL import Image, ImageFile\n",
    "\n",
    "\n",
    "#####  This script will predict the aesthetic score for this image file:\n",
    "\n",
    "img_path = \"test.jpg\"\n",
    "\n",
    "\n",
    "\n",
    "\n",
    "\n",
    "# if you changed the MLP architecture during training, change it also here:\n",
    "class MLP(pl.LightningModule):\n",
    "    def __init__(self, input_size, xcol='emb', ycol='avg_rating'):\n",
    "        super().__init__()\n",
    "        self.input_size = input_size\n",
    "        self.xcol = xcol\n",
    "        self.ycol = ycol\n",
    "        self.layers = nn.Sequential(\n",
    "            nn.Linear(self.input_size, 1024),\n",
    "            #nn.ReLU(),\n",
    "            nn.Dropout(0.2),\n",
    "            nn.Linear(1024, 128),\n",
    "            #nn.ReLU(),\n",
    "            nn.Dropout(0.2),\n",
    "            nn.Linear(128, 64),\n",
    "            #nn.ReLU(),\n",
    "            nn.Dropout(0.1),\n",
    "\n",
    "            nn.Linear(64, 16),\n",
    "            #nn.ReLU(),\n",
    "\n",
    "            nn.Linear(16, 1)\n",
    "        )\n",
    "\n",
    "    def forward(self, x):\n",
    "        return self.layers(x)\n",
    "\n",
    "    def training_step(self, batch, batch_idx):\n",
    "            x = batch[self.xcol]\n",
    "            y = batch[self.ycol].reshape(-1, 1)\n",
    "            x_hat = self.layers(x)\n",
    "            loss = F.mse_loss(x_hat, y)\n",
    "            return loss\n",
    "\n",
    "    def validation_step(self, batch, batch_idx):\n",
    "        x = batch[self.xcol]\n",
    "        y = batch[self.ycol].reshape(-1, 1)\n",
    "        x_hat = self.layers(x)\n",
    "        loss = F.mse_loss(x_hat, y)\n",
    "        return loss\n",
    "\n",
    "    def configure_optimizers(self):\n",
    "        optimizer = torch.optim.Adam(self.parameters(), lr=1e-3)\n",
    "        return optimizer\n",
    "\n",
    "def normalized(a, axis=-1, order=2):\n",
    "    import numpy as np  # pylint: disable=import-outside-toplevel\n",
    "\n",
    "    l2 = np.atleast_1d(np.linalg.norm(a, order, axis))\n",
    "    l2[l2 == 0] = 1\n",
    "    return a / np.expand_dims(l2, axis)\n"
   ]
  },
  {
   "cell_type": "code",
   "execution_count": 31,
   "metadata": {
    "jupyter": {
     "source_hidden": true
    }
   },
   "outputs": [],
   "source": [
    "aestheticPredictorModel = MLP(768)  # CLIP embedding dim is 768 for CLIP ViT L 14\n",
    "\n",
    "s = torch.load(\"sac+logos+ava1-l14-linearMSE.pth\")   # load the model you trained previously or the model available in this repo\n",
    "\n",
    "aestheticPredictorModel.load_state_dict(s)\n",
    "\n",
    "aestheticPredictorModel.to(\"cuda\")\n",
    "aestheticPredictorModel.eval()\n",
    "\n",
    "device = \"cuda\" if torch.cuda.is_available() else \"cpu\"\n",
    "model2, preprocess = clip.load(\"ViT-L/14\", device=device)  #RN50x64"
   ]
  },
  {
   "cell_type": "code",
   "execution_count": 32,
   "metadata": {},
   "outputs": [
    {
     "name": "stdout",
     "output_type": "stream",
     "text": [
      "load checkpoint from /home/research/jenzheng/.cache/ImageReward/ImageReward.pt\n",
      "checkpoint loaded\n",
      "HPS:  tensor([[0.3140]], device='cuda:0', dtype=torch.float16)\n",
      "image reward:  1.1446330547332764\n",
      "aesthetic score:  tensor([[5.2901]], device='cuda:0', grad_fn=<AddmmBackward0>)\n"
     ]
    }
   ],
   "source": [
    "# works with output type not 'np'\n",
    "import ImageReward as reward\n",
    "import clip\n",
    "from PIL import Image\n",
    "imageReward = reward.load(\"ImageReward-v1.0\")\n",
    "device = \"cuda\" if torch.cuda.is_available() else \"cpu\"\n",
    "model, preprocess = clip.load(\"ViT-B/32\", device=device)\n",
    "\n",
    "image = preprocess(v14Image[0]).unsqueeze(0).to(device)\n",
    "text = clip.tokenize(prompt).to(device)\n",
    "\n",
    "with torch.no_grad():\n",
    "    image_features = model.encode_image(image)\n",
    "    text_features = model.encode_text(text)\n",
    "\n",
    "    image_features = image_features / image_features.norm(dim=-1, keepdim=True)\n",
    "    text_features = text_features / text_features.norm(dim=-1, keepdim=True)\n",
    "\n",
    "    hps = image_features @ text_features.T\n",
    "    print(\"HPS: \",hps)\n",
    "\n",
    "    v14_image_reward = imageReward.score(prompt, v14Image)\n",
    "    image_features = model2.encode_image(image)\n",
    "\n",
    "print(\"image reward: \", v14_image_reward)\n",
    "im_emb_arr = normalized(image_features.cpu().detach().numpy() )\n",
    "v14_aesthetic_score = aestheticPredictorModel(torch.from_numpy(im_emb_arr).to(device).type(torch.cuda.FloatTensor))\n",
    "print(\"aesthetic score: \", v14_aesthetic_score)"
   ]
  },
  {
   "cell_type": "code",
   "execution_count": 33,
   "metadata": {},
   "outputs": [],
   "source": [
    "v14Image[0].save(\"ldm_75.png\")"
   ]
  },
  {
   "cell_type": "markdown",
   "metadata": {
    "id": "8337rY8EEGpM"
   },
   "source": [
    "## Latent Diffusion Model"
   ]
  },
  {
   "cell_type": "markdown",
   "metadata": {
    "id": "HMg19-r4Xro0"
   },
   "source": [
    "https://huggingface.co/CompVis/ldm-text2im-large-256"
   ]
  },
  {
   "cell_type": "code",
   "execution_count": 4,
   "metadata": {
    "colab": {
     "base_uri": "https://localhost:8080/",
     "height": 333,
     "referenced_widgets": [
      "da507b713aa5498991c3e0565ccfa0b7",
      "568353acde19493cbd09d2d34cc87adf",
      "407f8bed081f4aaa97ede2f9604b6492",
      "93d5dbc80ea2417b8d3879f8a4c7a65f",
      "6ac2c844d56f4ff59bf1d5156fc17da0",
      "e88cb545828a4aeb8c600f52a7fe9e20",
      "e1f76eb0534e4b499d6ca5d740cf94ff",
      "0c4417399bda47549d29525a82c7617a",
      "ecd096bf38b14c2cbf5b03264b2a8ecd",
      "9709d0b8d3fe4c0eb77c485e1af63dac",
      "f8a6ab59b69c49b4a1f9e9ba8a384a9c",
      "6315699925034ce29a02e27a547cfad4",
      "d3c24aa8fadb416482d725a018e276ff",
      "43714ab73ceb4e68b26ba9fa6388ffe1",
      "4da83507e156461482bc3b08c3670a55",
      "300dc104db0542df81a0d98235e0cdc8",
      "25aba69a1b774a6687716b1135fb1e20",
      "0a3a687188294b2c8420bc071b085302",
      "0e2af0d279344422958ae375cfab0934",
      "cbdf3bff447143a694d6f51247505fd3",
      "ef97f34b88d2414c8fd995452fda3459",
      "940061667e494a8ca6cf2f7fe269d59f"
     ]
    },
    "executionInfo": {
     "elapsed": 423895,
     "status": "ok",
     "timestamp": 1708318272268,
     "user": {
      "displayName": "Jennifer Zheng",
      "userId": "14661279943548343722"
     },
     "user_tz": 300
    },
    "id": "dnkIoxt3Ai_F",
    "outputId": "51bb8229-9f6c-4fc2-f326-666ecd7265e9"
   },
   "outputs": [
    {
     "name": "stderr",
     "output_type": "stream",
     "text": [
      "/home/research/jenzheng/.conda/envs/cs229/lib/python3.9/site-packages/diffusers/utils/outputs.py:63: UserWarning: torch.utils._pytree._register_pytree_node is deprecated. Please use torch.utils._pytree.register_pytree_node instead.\n",
      "  torch.utils._pytree._register_pytree_node(\n",
      "/home/research/jenzheng/.conda/envs/cs229/lib/python3.9/site-packages/diffusers/utils/outputs.py:63: UserWarning: torch.utils._pytree._register_pytree_node is deprecated. Please use torch.utils._pytree.register_pytree_node instead.\n",
      "  torch.utils._pytree._register_pytree_node(\n",
      "bert/model.safetensors not found\n",
      "The config attributes {'timestep_values': None} were passed to DDIMScheduler, but are not expected and will be ignored. Please verify your scheduler_config.json configuration file.\n"
     ]
    }
   ],
   "source": [
    "from diffusers import DiffusionPipeline\n",
    "model_id = \"CompVis/ldm-text2im-large-256\"\n",
    "\n",
    "# load model and scheduler\n",
    "ldm = DiffusionPipeline.from_pretrained(model_id)\n",
    "\n",
    "# # run pipeline in inference (sample random noise and denoise)\n",
    "# prompt = \"A woman wearing a net on her head cutting a cake\"\n",
    "# images_ldm = ldm([prompt], num_inference_steps=50, eta=0.3, guidance_scale=6).images\n",
    "\n",
    "# # save images\n",
    "# for idx, image in enumerate(images_ldm):\n",
    "#     image.save(f\"ldm-{idx}.png\")\n"
   ]
  },
  {
   "cell_type": "code",
   "execution_count": 5,
   "metadata": {
    "collapsed": true,
    "jupyter": {
     "outputs_hidden": true
    }
   },
   "outputs": [
    {
     "data": {
      "application/vnd.jupyter.widget-view+json": {
       "model_id": "d8ce1e138dd2490da5bf82cdaf98975d",
       "version_major": 2,
       "version_minor": 0
      },
      "text/plain": [
       "  0%|          | 0/1 [00:00<?, ?it/s]"
      ]
     },
     "metadata": {},
     "output_type": "display_data"
    },
    {
     "ename": "KeyboardInterrupt",
     "evalue": "",
     "output_type": "error",
     "traceback": [
      "\u001b[0;31m---------------------------------------------------------------------------\u001b[0m",
      "\u001b[0;31mKeyboardInterrupt\u001b[0m                         Traceback (most recent call last)",
      "Cell \u001b[0;32mIn[5], line 6\u001b[0m\n\u001b[1;32m      3\u001b[0m num_inference_steps \u001b[38;5;241m=\u001b[39m \u001b[38;5;241m1\u001b[39m\n\u001b[1;32m      5\u001b[0m \u001b[38;5;66;03m# image = pipe(prompt=prompt, num_inference_steps=num_inference_steps, guidance_scale=8.0, output_type='np' ).images\u001b[39;00m\n\u001b[0;32m----> 6\u001b[0m image \u001b[38;5;241m=\u001b[39m \u001b[43mldm\u001b[49m\u001b[43m(\u001b[49m\u001b[43m[\u001b[49m\u001b[43mprompt\u001b[49m\u001b[43m]\u001b[49m\u001b[43m,\u001b[49m\u001b[43m \u001b[49m\u001b[43mnum_inference_steps\u001b[49m\u001b[38;5;241;43m=\u001b[39;49m\u001b[43mnum_inference_steps\u001b[49m\u001b[43m,\u001b[49m\u001b[43m \u001b[49m\u001b[43meta\u001b[49m\u001b[38;5;241;43m=\u001b[39;49m\u001b[38;5;241;43m0.3\u001b[39;49m\u001b[43m,\u001b[49m\u001b[43m \u001b[49m\u001b[43mguidance_scale\u001b[49m\u001b[38;5;241;43m=\u001b[39;49m\u001b[38;5;241;43m6\u001b[39;49m\u001b[43m,\u001b[49m\u001b[43m \u001b[49m\u001b[43moutput_type\u001b[49m\u001b[38;5;241;43m=\u001b[39;49m\u001b[38;5;124;43m'\u001b[39;49m\u001b[38;5;124;43mnp\u001b[39;49m\u001b[38;5;124;43m'\u001b[39;49m\u001b[43m)\u001b[49m\u001b[38;5;241m.\u001b[39mimages\n\u001b[1;32m      8\u001b[0m img_clip_score \u001b[38;5;241m=\u001b[39m calculate_clip_score(image, prompt)\n\u001b[1;32m      9\u001b[0m total_clip_score \u001b[38;5;241m+\u001b[39m\u001b[38;5;241m=\u001b[39m img_clip_score\n",
      "File \u001b[0;32m~/.conda/envs/cs229/lib/python3.9/site-packages/torch/utils/_contextlib.py:115\u001b[0m, in \u001b[0;36mcontext_decorator.<locals>.decorate_context\u001b[0;34m(*args, **kwargs)\u001b[0m\n\u001b[1;32m    112\u001b[0m \u001b[38;5;129m@functools\u001b[39m\u001b[38;5;241m.\u001b[39mwraps(func)\n\u001b[1;32m    113\u001b[0m \u001b[38;5;28;01mdef\u001b[39;00m \u001b[38;5;21mdecorate_context\u001b[39m(\u001b[38;5;241m*\u001b[39margs, \u001b[38;5;241m*\u001b[39m\u001b[38;5;241m*\u001b[39mkwargs):\n\u001b[1;32m    114\u001b[0m     \u001b[38;5;28;01mwith\u001b[39;00m ctx_factory():\n\u001b[0;32m--> 115\u001b[0m         \u001b[38;5;28;01mreturn\u001b[39;00m \u001b[43mfunc\u001b[49m\u001b[43m(\u001b[49m\u001b[38;5;241;43m*\u001b[39;49m\u001b[43margs\u001b[49m\u001b[43m,\u001b[49m\u001b[43m \u001b[49m\u001b[38;5;241;43m*\u001b[39;49m\u001b[38;5;241;43m*\u001b[39;49m\u001b[43mkwargs\u001b[49m\u001b[43m)\u001b[49m\n",
      "File \u001b[0;32m~/.conda/envs/cs229/lib/python3.9/site-packages/diffusers/pipelines/latent_diffusion/pipeline_latent_diffusion.py:196\u001b[0m, in \u001b[0;36mLDMTextToImagePipeline.__call__\u001b[0;34m(self, prompt, height, width, num_inference_steps, guidance_scale, eta, generator, latents, output_type, return_dict, **kwargs)\u001b[0m\n\u001b[1;32m    193\u001b[0m     context \u001b[38;5;241m=\u001b[39m torch\u001b[38;5;241m.\u001b[39mcat([negative_prompt_embeds, prompt_embeds])\n\u001b[1;32m    195\u001b[0m \u001b[38;5;66;03m# predict the noise residual\u001b[39;00m\n\u001b[0;32m--> 196\u001b[0m noise_pred \u001b[38;5;241m=\u001b[39m \u001b[38;5;28;43mself\u001b[39;49m\u001b[38;5;241;43m.\u001b[39;49m\u001b[43munet\u001b[49m\u001b[43m(\u001b[49m\u001b[43mlatents_input\u001b[49m\u001b[43m,\u001b[49m\u001b[43m \u001b[49m\u001b[43mt\u001b[49m\u001b[43m,\u001b[49m\u001b[43m \u001b[49m\u001b[43mencoder_hidden_states\u001b[49m\u001b[38;5;241;43m=\u001b[39;49m\u001b[43mcontext\u001b[49m\u001b[43m)\u001b[49m\u001b[38;5;241m.\u001b[39msample\n\u001b[1;32m    197\u001b[0m \u001b[38;5;66;03m# perform guidance\u001b[39;00m\n\u001b[1;32m    198\u001b[0m \u001b[38;5;28;01mif\u001b[39;00m guidance_scale \u001b[38;5;241m!=\u001b[39m \u001b[38;5;241m1.0\u001b[39m:\n",
      "File \u001b[0;32m~/.conda/envs/cs229/lib/python3.9/site-packages/torch/nn/modules/module.py:1511\u001b[0m, in \u001b[0;36mModule._wrapped_call_impl\u001b[0;34m(self, *args, **kwargs)\u001b[0m\n\u001b[1;32m   1509\u001b[0m     \u001b[38;5;28;01mreturn\u001b[39;00m \u001b[38;5;28mself\u001b[39m\u001b[38;5;241m.\u001b[39m_compiled_call_impl(\u001b[38;5;241m*\u001b[39margs, \u001b[38;5;241m*\u001b[39m\u001b[38;5;241m*\u001b[39mkwargs)  \u001b[38;5;66;03m# type: ignore[misc]\u001b[39;00m\n\u001b[1;32m   1510\u001b[0m \u001b[38;5;28;01melse\u001b[39;00m:\n\u001b[0;32m-> 1511\u001b[0m     \u001b[38;5;28;01mreturn\u001b[39;00m \u001b[38;5;28;43mself\u001b[39;49m\u001b[38;5;241;43m.\u001b[39;49m\u001b[43m_call_impl\u001b[49m\u001b[43m(\u001b[49m\u001b[38;5;241;43m*\u001b[39;49m\u001b[43margs\u001b[49m\u001b[43m,\u001b[49m\u001b[43m \u001b[49m\u001b[38;5;241;43m*\u001b[39;49m\u001b[38;5;241;43m*\u001b[39;49m\u001b[43mkwargs\u001b[49m\u001b[43m)\u001b[49m\n",
      "File \u001b[0;32m~/.conda/envs/cs229/lib/python3.9/site-packages/torch/nn/modules/module.py:1520\u001b[0m, in \u001b[0;36mModule._call_impl\u001b[0;34m(self, *args, **kwargs)\u001b[0m\n\u001b[1;32m   1515\u001b[0m \u001b[38;5;66;03m# If we don't have any hooks, we want to skip the rest of the logic in\u001b[39;00m\n\u001b[1;32m   1516\u001b[0m \u001b[38;5;66;03m# this function, and just call forward.\u001b[39;00m\n\u001b[1;32m   1517\u001b[0m \u001b[38;5;28;01mif\u001b[39;00m \u001b[38;5;129;01mnot\u001b[39;00m (\u001b[38;5;28mself\u001b[39m\u001b[38;5;241m.\u001b[39m_backward_hooks \u001b[38;5;129;01mor\u001b[39;00m \u001b[38;5;28mself\u001b[39m\u001b[38;5;241m.\u001b[39m_backward_pre_hooks \u001b[38;5;129;01mor\u001b[39;00m \u001b[38;5;28mself\u001b[39m\u001b[38;5;241m.\u001b[39m_forward_hooks \u001b[38;5;129;01mor\u001b[39;00m \u001b[38;5;28mself\u001b[39m\u001b[38;5;241m.\u001b[39m_forward_pre_hooks\n\u001b[1;32m   1518\u001b[0m         \u001b[38;5;129;01mor\u001b[39;00m _global_backward_pre_hooks \u001b[38;5;129;01mor\u001b[39;00m _global_backward_hooks\n\u001b[1;32m   1519\u001b[0m         \u001b[38;5;129;01mor\u001b[39;00m _global_forward_hooks \u001b[38;5;129;01mor\u001b[39;00m _global_forward_pre_hooks):\n\u001b[0;32m-> 1520\u001b[0m     \u001b[38;5;28;01mreturn\u001b[39;00m \u001b[43mforward_call\u001b[49m\u001b[43m(\u001b[49m\u001b[38;5;241;43m*\u001b[39;49m\u001b[43margs\u001b[49m\u001b[43m,\u001b[49m\u001b[43m \u001b[49m\u001b[38;5;241;43m*\u001b[39;49m\u001b[38;5;241;43m*\u001b[39;49m\u001b[43mkwargs\u001b[49m\u001b[43m)\u001b[49m\n\u001b[1;32m   1522\u001b[0m \u001b[38;5;28;01mtry\u001b[39;00m:\n\u001b[1;32m   1523\u001b[0m     result \u001b[38;5;241m=\u001b[39m \u001b[38;5;28;01mNone\u001b[39;00m\n",
      "File \u001b[0;32m~/.conda/envs/cs229/lib/python3.9/site-packages/diffusers/models/unets/unet_2d_condition.py:1121\u001b[0m, in \u001b[0;36mUNet2DConditionModel.forward\u001b[0;34m(self, sample, timestep, encoder_hidden_states, class_labels, timestep_cond, attention_mask, cross_attention_kwargs, added_cond_kwargs, down_block_additional_residuals, mid_block_additional_residual, down_intrablock_additional_residuals, encoder_attention_mask, return_dict)\u001b[0m\n\u001b[1;32m   1118\u001b[0m     \u001b[38;5;28;01mif\u001b[39;00m is_adapter \u001b[38;5;129;01mand\u001b[39;00m \u001b[38;5;28mlen\u001b[39m(down_intrablock_additional_residuals) \u001b[38;5;241m>\u001b[39m \u001b[38;5;241m0\u001b[39m:\n\u001b[1;32m   1119\u001b[0m         additional_residuals[\u001b[38;5;124m\"\u001b[39m\u001b[38;5;124madditional_residuals\u001b[39m\u001b[38;5;124m\"\u001b[39m] \u001b[38;5;241m=\u001b[39m down_intrablock_additional_residuals\u001b[38;5;241m.\u001b[39mpop(\u001b[38;5;241m0\u001b[39m)\n\u001b[0;32m-> 1121\u001b[0m     sample, res_samples \u001b[38;5;241m=\u001b[39m \u001b[43mdownsample_block\u001b[49m\u001b[43m(\u001b[49m\n\u001b[1;32m   1122\u001b[0m \u001b[43m        \u001b[49m\u001b[43mhidden_states\u001b[49m\u001b[38;5;241;43m=\u001b[39;49m\u001b[43msample\u001b[49m\u001b[43m,\u001b[49m\n\u001b[1;32m   1123\u001b[0m \u001b[43m        \u001b[49m\u001b[43mtemb\u001b[49m\u001b[38;5;241;43m=\u001b[39;49m\u001b[43memb\u001b[49m\u001b[43m,\u001b[49m\n\u001b[1;32m   1124\u001b[0m \u001b[43m        \u001b[49m\u001b[43mencoder_hidden_states\u001b[49m\u001b[38;5;241;43m=\u001b[39;49m\u001b[43mencoder_hidden_states\u001b[49m\u001b[43m,\u001b[49m\n\u001b[1;32m   1125\u001b[0m \u001b[43m        \u001b[49m\u001b[43mattention_mask\u001b[49m\u001b[38;5;241;43m=\u001b[39;49m\u001b[43mattention_mask\u001b[49m\u001b[43m,\u001b[49m\n\u001b[1;32m   1126\u001b[0m \u001b[43m        \u001b[49m\u001b[43mcross_attention_kwargs\u001b[49m\u001b[38;5;241;43m=\u001b[39;49m\u001b[43mcross_attention_kwargs\u001b[49m\u001b[43m,\u001b[49m\n\u001b[1;32m   1127\u001b[0m \u001b[43m        \u001b[49m\u001b[43mencoder_attention_mask\u001b[49m\u001b[38;5;241;43m=\u001b[39;49m\u001b[43mencoder_attention_mask\u001b[49m\u001b[43m,\u001b[49m\n\u001b[1;32m   1128\u001b[0m \u001b[43m        \u001b[49m\u001b[38;5;241;43m*\u001b[39;49m\u001b[38;5;241;43m*\u001b[39;49m\u001b[43madditional_residuals\u001b[49m\u001b[43m,\u001b[49m\n\u001b[1;32m   1129\u001b[0m \u001b[43m    \u001b[49m\u001b[43m)\u001b[49m\n\u001b[1;32m   1130\u001b[0m \u001b[38;5;28;01melse\u001b[39;00m:\n\u001b[1;32m   1131\u001b[0m     sample, res_samples \u001b[38;5;241m=\u001b[39m downsample_block(hidden_states\u001b[38;5;241m=\u001b[39msample, temb\u001b[38;5;241m=\u001b[39memb, scale\u001b[38;5;241m=\u001b[39mlora_scale)\n",
      "File \u001b[0;32m~/.conda/envs/cs229/lib/python3.9/site-packages/torch/nn/modules/module.py:1511\u001b[0m, in \u001b[0;36mModule._wrapped_call_impl\u001b[0;34m(self, *args, **kwargs)\u001b[0m\n\u001b[1;32m   1509\u001b[0m     \u001b[38;5;28;01mreturn\u001b[39;00m \u001b[38;5;28mself\u001b[39m\u001b[38;5;241m.\u001b[39m_compiled_call_impl(\u001b[38;5;241m*\u001b[39margs, \u001b[38;5;241m*\u001b[39m\u001b[38;5;241m*\u001b[39mkwargs)  \u001b[38;5;66;03m# type: ignore[misc]\u001b[39;00m\n\u001b[1;32m   1510\u001b[0m \u001b[38;5;28;01melse\u001b[39;00m:\n\u001b[0;32m-> 1511\u001b[0m     \u001b[38;5;28;01mreturn\u001b[39;00m \u001b[38;5;28;43mself\u001b[39;49m\u001b[38;5;241;43m.\u001b[39;49m\u001b[43m_call_impl\u001b[49m\u001b[43m(\u001b[49m\u001b[38;5;241;43m*\u001b[39;49m\u001b[43margs\u001b[49m\u001b[43m,\u001b[49m\u001b[43m \u001b[49m\u001b[38;5;241;43m*\u001b[39;49m\u001b[38;5;241;43m*\u001b[39;49m\u001b[43mkwargs\u001b[49m\u001b[43m)\u001b[49m\n",
      "File \u001b[0;32m~/.conda/envs/cs229/lib/python3.9/site-packages/torch/nn/modules/module.py:1520\u001b[0m, in \u001b[0;36mModule._call_impl\u001b[0;34m(self, *args, **kwargs)\u001b[0m\n\u001b[1;32m   1515\u001b[0m \u001b[38;5;66;03m# If we don't have any hooks, we want to skip the rest of the logic in\u001b[39;00m\n\u001b[1;32m   1516\u001b[0m \u001b[38;5;66;03m# this function, and just call forward.\u001b[39;00m\n\u001b[1;32m   1517\u001b[0m \u001b[38;5;28;01mif\u001b[39;00m \u001b[38;5;129;01mnot\u001b[39;00m (\u001b[38;5;28mself\u001b[39m\u001b[38;5;241m.\u001b[39m_backward_hooks \u001b[38;5;129;01mor\u001b[39;00m \u001b[38;5;28mself\u001b[39m\u001b[38;5;241m.\u001b[39m_backward_pre_hooks \u001b[38;5;129;01mor\u001b[39;00m \u001b[38;5;28mself\u001b[39m\u001b[38;5;241m.\u001b[39m_forward_hooks \u001b[38;5;129;01mor\u001b[39;00m \u001b[38;5;28mself\u001b[39m\u001b[38;5;241m.\u001b[39m_forward_pre_hooks\n\u001b[1;32m   1518\u001b[0m         \u001b[38;5;129;01mor\u001b[39;00m _global_backward_pre_hooks \u001b[38;5;129;01mor\u001b[39;00m _global_backward_hooks\n\u001b[1;32m   1519\u001b[0m         \u001b[38;5;129;01mor\u001b[39;00m _global_forward_hooks \u001b[38;5;129;01mor\u001b[39;00m _global_forward_pre_hooks):\n\u001b[0;32m-> 1520\u001b[0m     \u001b[38;5;28;01mreturn\u001b[39;00m \u001b[43mforward_call\u001b[49m\u001b[43m(\u001b[49m\u001b[38;5;241;43m*\u001b[39;49m\u001b[43margs\u001b[49m\u001b[43m,\u001b[49m\u001b[43m \u001b[49m\u001b[38;5;241;43m*\u001b[39;49m\u001b[38;5;241;43m*\u001b[39;49m\u001b[43mkwargs\u001b[49m\u001b[43m)\u001b[49m\n\u001b[1;32m   1522\u001b[0m \u001b[38;5;28;01mtry\u001b[39;00m:\n\u001b[1;32m   1523\u001b[0m     result \u001b[38;5;241m=\u001b[39m \u001b[38;5;28;01mNone\u001b[39;00m\n",
      "File \u001b[0;32m~/.conda/envs/cs229/lib/python3.9/site-packages/diffusers/models/unets/unet_2d_blocks.py:1198\u001b[0m, in \u001b[0;36mCrossAttnDownBlock2D.forward\u001b[0;34m(self, hidden_states, temb, encoder_hidden_states, attention_mask, cross_attention_kwargs, encoder_attention_mask, additional_residuals)\u001b[0m\n\u001b[1;32m   1189\u001b[0m     hidden_states \u001b[38;5;241m=\u001b[39m attn(\n\u001b[1;32m   1190\u001b[0m         hidden_states,\n\u001b[1;32m   1191\u001b[0m         encoder_hidden_states\u001b[38;5;241m=\u001b[39mencoder_hidden_states,\n\u001b[0;32m   (...)\u001b[0m\n\u001b[1;32m   1195\u001b[0m         return_dict\u001b[38;5;241m=\u001b[39m\u001b[38;5;28;01mFalse\u001b[39;00m,\n\u001b[1;32m   1196\u001b[0m     )[\u001b[38;5;241m0\u001b[39m]\n\u001b[1;32m   1197\u001b[0m \u001b[38;5;28;01melse\u001b[39;00m:\n\u001b[0;32m-> 1198\u001b[0m     hidden_states \u001b[38;5;241m=\u001b[39m \u001b[43mresnet\u001b[49m\u001b[43m(\u001b[49m\u001b[43mhidden_states\u001b[49m\u001b[43m,\u001b[49m\u001b[43m \u001b[49m\u001b[43mtemb\u001b[49m\u001b[43m,\u001b[49m\u001b[43m \u001b[49m\u001b[43mscale\u001b[49m\u001b[38;5;241;43m=\u001b[39;49m\u001b[43mlora_scale\u001b[49m\u001b[43m)\u001b[49m\n\u001b[1;32m   1199\u001b[0m     hidden_states \u001b[38;5;241m=\u001b[39m attn(\n\u001b[1;32m   1200\u001b[0m         hidden_states,\n\u001b[1;32m   1201\u001b[0m         encoder_hidden_states\u001b[38;5;241m=\u001b[39mencoder_hidden_states,\n\u001b[0;32m   (...)\u001b[0m\n\u001b[1;32m   1205\u001b[0m         return_dict\u001b[38;5;241m=\u001b[39m\u001b[38;5;28;01mFalse\u001b[39;00m,\n\u001b[1;32m   1206\u001b[0m     )[\u001b[38;5;241m0\u001b[39m]\n\u001b[1;32m   1208\u001b[0m \u001b[38;5;66;03m# apply additional residuals to the output of the last pair of resnet and attention blocks\u001b[39;00m\n",
      "File \u001b[0;32m~/.conda/envs/cs229/lib/python3.9/site-packages/torch/nn/modules/module.py:1511\u001b[0m, in \u001b[0;36mModule._wrapped_call_impl\u001b[0;34m(self, *args, **kwargs)\u001b[0m\n\u001b[1;32m   1509\u001b[0m     \u001b[38;5;28;01mreturn\u001b[39;00m \u001b[38;5;28mself\u001b[39m\u001b[38;5;241m.\u001b[39m_compiled_call_impl(\u001b[38;5;241m*\u001b[39margs, \u001b[38;5;241m*\u001b[39m\u001b[38;5;241m*\u001b[39mkwargs)  \u001b[38;5;66;03m# type: ignore[misc]\u001b[39;00m\n\u001b[1;32m   1510\u001b[0m \u001b[38;5;28;01melse\u001b[39;00m:\n\u001b[0;32m-> 1511\u001b[0m     \u001b[38;5;28;01mreturn\u001b[39;00m \u001b[38;5;28;43mself\u001b[39;49m\u001b[38;5;241;43m.\u001b[39;49m\u001b[43m_call_impl\u001b[49m\u001b[43m(\u001b[49m\u001b[38;5;241;43m*\u001b[39;49m\u001b[43margs\u001b[49m\u001b[43m,\u001b[49m\u001b[43m \u001b[49m\u001b[38;5;241;43m*\u001b[39;49m\u001b[38;5;241;43m*\u001b[39;49m\u001b[43mkwargs\u001b[49m\u001b[43m)\u001b[49m\n",
      "File \u001b[0;32m~/.conda/envs/cs229/lib/python3.9/site-packages/torch/nn/modules/module.py:1520\u001b[0m, in \u001b[0;36mModule._call_impl\u001b[0;34m(self, *args, **kwargs)\u001b[0m\n\u001b[1;32m   1515\u001b[0m \u001b[38;5;66;03m# If we don't have any hooks, we want to skip the rest of the logic in\u001b[39;00m\n\u001b[1;32m   1516\u001b[0m \u001b[38;5;66;03m# this function, and just call forward.\u001b[39;00m\n\u001b[1;32m   1517\u001b[0m \u001b[38;5;28;01mif\u001b[39;00m \u001b[38;5;129;01mnot\u001b[39;00m (\u001b[38;5;28mself\u001b[39m\u001b[38;5;241m.\u001b[39m_backward_hooks \u001b[38;5;129;01mor\u001b[39;00m \u001b[38;5;28mself\u001b[39m\u001b[38;5;241m.\u001b[39m_backward_pre_hooks \u001b[38;5;129;01mor\u001b[39;00m \u001b[38;5;28mself\u001b[39m\u001b[38;5;241m.\u001b[39m_forward_hooks \u001b[38;5;129;01mor\u001b[39;00m \u001b[38;5;28mself\u001b[39m\u001b[38;5;241m.\u001b[39m_forward_pre_hooks\n\u001b[1;32m   1518\u001b[0m         \u001b[38;5;129;01mor\u001b[39;00m _global_backward_pre_hooks \u001b[38;5;129;01mor\u001b[39;00m _global_backward_hooks\n\u001b[1;32m   1519\u001b[0m         \u001b[38;5;129;01mor\u001b[39;00m _global_forward_hooks \u001b[38;5;129;01mor\u001b[39;00m _global_forward_pre_hooks):\n\u001b[0;32m-> 1520\u001b[0m     \u001b[38;5;28;01mreturn\u001b[39;00m \u001b[43mforward_call\u001b[49m\u001b[43m(\u001b[49m\u001b[38;5;241;43m*\u001b[39;49m\u001b[43margs\u001b[49m\u001b[43m,\u001b[49m\u001b[43m \u001b[49m\u001b[38;5;241;43m*\u001b[39;49m\u001b[38;5;241;43m*\u001b[39;49m\u001b[43mkwargs\u001b[49m\u001b[43m)\u001b[49m\n\u001b[1;32m   1522\u001b[0m \u001b[38;5;28;01mtry\u001b[39;00m:\n\u001b[1;32m   1523\u001b[0m     result \u001b[38;5;241m=\u001b[39m \u001b[38;5;28;01mNone\u001b[39;00m\n",
      "File \u001b[0;32m~/.conda/envs/cs229/lib/python3.9/site-packages/diffusers/models/resnet.py:396\u001b[0m, in \u001b[0;36mResnetBlock2D.forward\u001b[0;34m(self, input_tensor, temb, scale)\u001b[0m\n\u001b[1;32m    393\u001b[0m hidden_states \u001b[38;5;241m=\u001b[39m \u001b[38;5;28mself\u001b[39m\u001b[38;5;241m.\u001b[39mnonlinearity(hidden_states)\n\u001b[1;32m    395\u001b[0m hidden_states \u001b[38;5;241m=\u001b[39m \u001b[38;5;28mself\u001b[39m\u001b[38;5;241m.\u001b[39mdropout(hidden_states)\n\u001b[0;32m--> 396\u001b[0m hidden_states \u001b[38;5;241m=\u001b[39m \u001b[38;5;28;43mself\u001b[39;49m\u001b[38;5;241;43m.\u001b[39;49m\u001b[43mconv2\u001b[49m\u001b[43m(\u001b[49m\u001b[43mhidden_states\u001b[49m\u001b[43m,\u001b[49m\u001b[43m \u001b[49m\u001b[43mscale\u001b[49m\u001b[43m)\u001b[49m \u001b[38;5;28;01mif\u001b[39;00m \u001b[38;5;129;01mnot\u001b[39;00m USE_PEFT_BACKEND \u001b[38;5;28;01melse\u001b[39;00m \u001b[38;5;28mself\u001b[39m\u001b[38;5;241m.\u001b[39mconv2(hidden_states)\n\u001b[1;32m    398\u001b[0m \u001b[38;5;28;01mif\u001b[39;00m \u001b[38;5;28mself\u001b[39m\u001b[38;5;241m.\u001b[39mconv_shortcut \u001b[38;5;129;01mis\u001b[39;00m \u001b[38;5;129;01mnot\u001b[39;00m \u001b[38;5;28;01mNone\u001b[39;00m:\n\u001b[1;32m    399\u001b[0m     input_tensor \u001b[38;5;241m=\u001b[39m (\n\u001b[1;32m    400\u001b[0m         \u001b[38;5;28mself\u001b[39m\u001b[38;5;241m.\u001b[39mconv_shortcut(input_tensor, scale) \u001b[38;5;28;01mif\u001b[39;00m \u001b[38;5;129;01mnot\u001b[39;00m USE_PEFT_BACKEND \u001b[38;5;28;01melse\u001b[39;00m \u001b[38;5;28mself\u001b[39m\u001b[38;5;241m.\u001b[39mconv_shortcut(input_tensor)\n\u001b[1;32m    401\u001b[0m     )\n",
      "File \u001b[0;32m~/.conda/envs/cs229/lib/python3.9/site-packages/torch/nn/modules/module.py:1511\u001b[0m, in \u001b[0;36mModule._wrapped_call_impl\u001b[0;34m(self, *args, **kwargs)\u001b[0m\n\u001b[1;32m   1509\u001b[0m     \u001b[38;5;28;01mreturn\u001b[39;00m \u001b[38;5;28mself\u001b[39m\u001b[38;5;241m.\u001b[39m_compiled_call_impl(\u001b[38;5;241m*\u001b[39margs, \u001b[38;5;241m*\u001b[39m\u001b[38;5;241m*\u001b[39mkwargs)  \u001b[38;5;66;03m# type: ignore[misc]\u001b[39;00m\n\u001b[1;32m   1510\u001b[0m \u001b[38;5;28;01melse\u001b[39;00m:\n\u001b[0;32m-> 1511\u001b[0m     \u001b[38;5;28;01mreturn\u001b[39;00m \u001b[38;5;28;43mself\u001b[39;49m\u001b[38;5;241;43m.\u001b[39;49m\u001b[43m_call_impl\u001b[49m\u001b[43m(\u001b[49m\u001b[38;5;241;43m*\u001b[39;49m\u001b[43margs\u001b[49m\u001b[43m,\u001b[49m\u001b[43m \u001b[49m\u001b[38;5;241;43m*\u001b[39;49m\u001b[38;5;241;43m*\u001b[39;49m\u001b[43mkwargs\u001b[49m\u001b[43m)\u001b[49m\n",
      "File \u001b[0;32m~/.conda/envs/cs229/lib/python3.9/site-packages/torch/nn/modules/module.py:1520\u001b[0m, in \u001b[0;36mModule._call_impl\u001b[0;34m(self, *args, **kwargs)\u001b[0m\n\u001b[1;32m   1515\u001b[0m \u001b[38;5;66;03m# If we don't have any hooks, we want to skip the rest of the logic in\u001b[39;00m\n\u001b[1;32m   1516\u001b[0m \u001b[38;5;66;03m# this function, and just call forward.\u001b[39;00m\n\u001b[1;32m   1517\u001b[0m \u001b[38;5;28;01mif\u001b[39;00m \u001b[38;5;129;01mnot\u001b[39;00m (\u001b[38;5;28mself\u001b[39m\u001b[38;5;241m.\u001b[39m_backward_hooks \u001b[38;5;129;01mor\u001b[39;00m \u001b[38;5;28mself\u001b[39m\u001b[38;5;241m.\u001b[39m_backward_pre_hooks \u001b[38;5;129;01mor\u001b[39;00m \u001b[38;5;28mself\u001b[39m\u001b[38;5;241m.\u001b[39m_forward_hooks \u001b[38;5;129;01mor\u001b[39;00m \u001b[38;5;28mself\u001b[39m\u001b[38;5;241m.\u001b[39m_forward_pre_hooks\n\u001b[1;32m   1518\u001b[0m         \u001b[38;5;129;01mor\u001b[39;00m _global_backward_pre_hooks \u001b[38;5;129;01mor\u001b[39;00m _global_backward_hooks\n\u001b[1;32m   1519\u001b[0m         \u001b[38;5;129;01mor\u001b[39;00m _global_forward_hooks \u001b[38;5;129;01mor\u001b[39;00m _global_forward_pre_hooks):\n\u001b[0;32m-> 1520\u001b[0m     \u001b[38;5;28;01mreturn\u001b[39;00m \u001b[43mforward_call\u001b[49m\u001b[43m(\u001b[49m\u001b[38;5;241;43m*\u001b[39;49m\u001b[43margs\u001b[49m\u001b[43m,\u001b[49m\u001b[43m \u001b[49m\u001b[38;5;241;43m*\u001b[39;49m\u001b[38;5;241;43m*\u001b[39;49m\u001b[43mkwargs\u001b[49m\u001b[43m)\u001b[49m\n\u001b[1;32m   1522\u001b[0m \u001b[38;5;28;01mtry\u001b[39;00m:\n\u001b[1;32m   1523\u001b[0m     result \u001b[38;5;241m=\u001b[39m \u001b[38;5;28;01mNone\u001b[39;00m\n",
      "File \u001b[0;32m~/.conda/envs/cs229/lib/python3.9/site-packages/diffusers/models/lora.py:358\u001b[0m, in \u001b[0;36mLoRACompatibleConv.forward\u001b[0;34m(self, hidden_states, scale)\u001b[0m\n\u001b[1;32m    354\u001b[0m \u001b[38;5;28;01mdef\u001b[39;00m \u001b[38;5;21mforward\u001b[39m(\u001b[38;5;28mself\u001b[39m, hidden_states: torch\u001b[38;5;241m.\u001b[39mTensor, scale: \u001b[38;5;28mfloat\u001b[39m \u001b[38;5;241m=\u001b[39m \u001b[38;5;241m1.0\u001b[39m) \u001b[38;5;241m-\u001b[39m\u001b[38;5;241m>\u001b[39m torch\u001b[38;5;241m.\u001b[39mTensor:\n\u001b[1;32m    355\u001b[0m     \u001b[38;5;28;01mif\u001b[39;00m \u001b[38;5;28mself\u001b[39m\u001b[38;5;241m.\u001b[39mlora_layer \u001b[38;5;129;01mis\u001b[39;00m \u001b[38;5;28;01mNone\u001b[39;00m:\n\u001b[1;32m    356\u001b[0m         \u001b[38;5;66;03m# make sure to the functional Conv2D function as otherwise torch.compile's graph will break\u001b[39;00m\n\u001b[1;32m    357\u001b[0m         \u001b[38;5;66;03m# see: https://github.com/huggingface/diffusers/pull/4315\u001b[39;00m\n\u001b[0;32m--> 358\u001b[0m         \u001b[38;5;28;01mreturn\u001b[39;00m \u001b[43mF\u001b[49m\u001b[38;5;241;43m.\u001b[39;49m\u001b[43mconv2d\u001b[49m\u001b[43m(\u001b[49m\n\u001b[1;32m    359\u001b[0m \u001b[43m            \u001b[49m\u001b[43mhidden_states\u001b[49m\u001b[43m,\u001b[49m\u001b[43m \u001b[49m\u001b[38;5;28;43mself\u001b[39;49m\u001b[38;5;241;43m.\u001b[39;49m\u001b[43mweight\u001b[49m\u001b[43m,\u001b[49m\u001b[43m \u001b[49m\u001b[38;5;28;43mself\u001b[39;49m\u001b[38;5;241;43m.\u001b[39;49m\u001b[43mbias\u001b[49m\u001b[43m,\u001b[49m\u001b[43m \u001b[49m\u001b[38;5;28;43mself\u001b[39;49m\u001b[38;5;241;43m.\u001b[39;49m\u001b[43mstride\u001b[49m\u001b[43m,\u001b[49m\u001b[43m \u001b[49m\u001b[38;5;28;43mself\u001b[39;49m\u001b[38;5;241;43m.\u001b[39;49m\u001b[43mpadding\u001b[49m\u001b[43m,\u001b[49m\u001b[43m \u001b[49m\u001b[38;5;28;43mself\u001b[39;49m\u001b[38;5;241;43m.\u001b[39;49m\u001b[43mdilation\u001b[49m\u001b[43m,\u001b[49m\u001b[43m \u001b[49m\u001b[38;5;28;43mself\u001b[39;49m\u001b[38;5;241;43m.\u001b[39;49m\u001b[43mgroups\u001b[49m\n\u001b[1;32m    360\u001b[0m \u001b[43m        \u001b[49m\u001b[43m)\u001b[49m\n\u001b[1;32m    361\u001b[0m     \u001b[38;5;28;01melse\u001b[39;00m:\n\u001b[1;32m    362\u001b[0m         original_outputs \u001b[38;5;241m=\u001b[39m F\u001b[38;5;241m.\u001b[39mconv2d(\n\u001b[1;32m    363\u001b[0m             hidden_states, \u001b[38;5;28mself\u001b[39m\u001b[38;5;241m.\u001b[39mweight, \u001b[38;5;28mself\u001b[39m\u001b[38;5;241m.\u001b[39mbias, \u001b[38;5;28mself\u001b[39m\u001b[38;5;241m.\u001b[39mstride, \u001b[38;5;28mself\u001b[39m\u001b[38;5;241m.\u001b[39mpadding, \u001b[38;5;28mself\u001b[39m\u001b[38;5;241m.\u001b[39mdilation, \u001b[38;5;28mself\u001b[39m\u001b[38;5;241m.\u001b[39mgroups\n\u001b[1;32m    364\u001b[0m         )\n",
      "\u001b[0;31mKeyboardInterrupt\u001b[0m: "
     ]
    }
   ],
   "source": [
    "total_clip_score = 0\n",
    "for prompt in prompts:\n",
    "  num_inference_steps = 75\n",
    "\n",
    "  # image = pipe(prompt=prompt, num_inference_steps=num_inference_steps, guidance_scale=8.0, output_type='np' ).images\n",
    "  image = ldm([prompt], num_inference_steps=num_inference_steps, eta=0.3, guidance_scale=6, output_type='np').images\n",
    "\n",
    "  img_clip_score = calculate_clip_score(image, prompt)\n",
    "  total_clip_score += img_clip_score\n",
    "  print(img_clip_score)\n",
    "\n",
    "# clip score:\n",
    "total_clip_score = total_clip_score/100\n",
    "print(total_clip_score)"
   ]
  },
  {
   "cell_type": "markdown",
   "metadata": {
    "id": "jpa9ZuofEt4Y"
   },
   "source": [
    "## Consistency Model"
   ]
  },
  {
   "cell_type": "markdown",
   "metadata": {
    "id": "n_3zrbxbJJgB"
   },
   "source": [
    "https://huggingface.co/dg845/consistency-model-pipelines"
   ]
  },
  {
   "cell_type": "code",
   "execution_count": 4,
   "metadata": {
    "colab": {
     "base_uri": "https://localhost:8080/",
     "height": 386,
     "referenced_widgets": [
      "2a4ad9344c9f4e67bb9344d8be9daa9c",
      "158bb04128f34a2895d64f4d9381064d",
      "630192fcfef140a59d4a84c661e42a8c",
      "1177ec43638742e695d66c3aacbebccf",
      "af0d88d26ef94b03b5b66a502c69978a",
      "2c206ded35dc4a48afb5121d9043c15e",
      "d997f94aea1043bfbbbd1720452a7555",
      "c787838ac033415b89bdf76185ac1d95",
      "dc123354b4fa4f7f8b076ef0c33a44e4",
      "b06547186130428e94902933e8e7bac1",
      "356e871a8d104738811b30602fa7b2e7",
      "5d87e6e7d3b6457bae3f721a27f0ba5e",
      "393586315ffe4517892438475a4515fe",
      "55c9b7b497644d8c960b81ae801d160f",
      "11513858627549caaf56ac2e1b36bc54",
      "26744eace84e42a391e81ba28aa8dfdc",
      "f89679319faa49728b8c9e981a911ce1",
      "67c51a314b474a9d8cdf0c75ed5fda52",
      "b4be22e633614cd38d8c4bf9c032e147",
      "cb94d8122af047b097b50eb5e3d472bd",
      "1bbf5d3b09e54e9c80a814a0b29594db",
      "cc4b09747fb5488098176897328d12ae",
      "986a28e08b2e4a9dacd202b7540854d7",
      "50ee75c4ed6d4fbf99838d946455df56",
      "0e17054ac69d4ceab8ad21bf750abc42",
      "c7882515706f469e8b20f314a0fed99a",
      "a2f76c217864456aa502b61db9fa9ce5",
      "48433cec2434499bbb2c43b3df004e22",
      "bf637ee3501d4a39b852fc38ef46e7e4",
      "2eaaad1d258b49fd90706a7b724078b0",
      "62732c0c696448638f44d6899690daa9",
      "e98182e486cf4c2cacee221c85e83437",
      "5521fa04bfbf400c865118d35fe697bf",
      "76b9f084e81d4bd1b41dcef68fb7df78",
      "cbd7ad12a2854a029f10c39bda0e90f7",
      "68fe506cb3e146d38f1307e824b1c4c2",
      "084ecb928326480ba1200f349b055c4d",
      "9b4652270e2447658812715af54ae040",
      "ecbc7cb5a6f64d5c9789451f569bc090",
      "4e9ac322d6bf4428bb4f47d4dda2e65f",
      "d29519d34c034cba84f776e64367c061",
      "f88ca2e8e72548c4a26f037e77677324",
      "58d9a62b34b2434bba2956e1a8355c63",
      "92a5b01f7bb946e7b8294d1407219817",
      "c03921baab5a4c4aaac5a3b4f4980fce",
      "82b36337f6084500861a1ea78212e0a8",
      "3b4da930211b44a29a386116baea5094",
      "122912cf07014297b5e3b93af8659430",
      "6b86b03816b24801925b2bc52e1437fb",
      "7fb24d08cb0a4ce5b617ccaad31858fe",
      "bca9ca7afab14ff694c80f658cb9cf32",
      "862b40336fca4a7eb6558cebf3341453",
      "65781bb44ca4407fa3350058823411fb",
      "fad461acf2744b0785377d6c4c3abeee",
      "61642eefdb5d4430b0944c45599c728e",
      "615d4181ddb44df39f6778b901aa8919",
      "0c6c618dfcbc418aabb8271ea01ae292",
      "9c23dd6d5a7b4adea1beac3ff2711368",
      "6a31c5bf72bf47e8a92d4908b1565df1",
      "9902e3e893924b2fac641d314ba13ec2",
      "6048f04d9ef6426688d7906758bb3a0d",
      "bfc0bf6c02a6496089f38407addd7caf",
      "635940fa48814424806ea6d9e359818b",
      "33df725f64a644b9ab51df7fdcdf05eb",
      "600c88529b2c4f59b6b782ab6edd2dc8",
      "59052209a73746469dadb588324ee3c1",
      "c1f30d802f55480fbcb31c468244f773",
      "d9fff5c428e94d9aaf847d9325773e65",
      "a23a0e32937842a0862edb8f6147362c",
      "9c998e5954dc423b9532016d702dbc30",
      "7b55d3a222fd42b48021431333c8e74e",
      "3e1bf1b04faf455bb90eb46f3a430197",
      "aceebb7ca0eb4aa3bd1afe6b1c246999",
      "763385e7672944f4a4746f241cc3dcf6",
      "3ba7ba3a082e4279a98d383a422dcfc9",
      "299377f0df9443d6b5625ddcfc7c0f5d",
      "8294326fcb884d6390148cf641112639"
     ]
    },
    "executionInfo": {
     "elapsed": 37138,
     "status": "ok",
     "timestamp": 1708293170445,
     "user": {
      "displayName": "Jennifer Zheng",
      "userId": "14661279943548343722"
     },
     "user_tz": 300
    },
    "id": "VoZStrvfEvXu",
    "outputId": "2802a15b-dd64-43e9-b57b-ab92279d25fc"
   },
   "outputs": [
    {
     "name": "stderr",
     "output_type": "stream",
     "text": [
      "/home/research/jenzheng/.conda/envs/cs229/lib/python3.9/site-packages/diffusers/utils/outputs.py:63: UserWarning: torch.utils._pytree._register_pytree_node is deprecated. Please use torch.utils._pytree.register_pytree_node instead.\n",
      "  torch.utils._pytree._register_pytree_node(\n",
      "/home/research/jenzheng/.conda/envs/cs229/lib/python3.9/site-packages/diffusers/configuration_utils.py:139: FutureWarning: Accessing config attribute `sigma_min` directly via 'CMStochasticIterativeScheduler' object attribute is deprecated. Please access 'sigma_min' over 'CMStochasticIterativeScheduler's config object instead, e.g. 'scheduler.config.sigma_min'.\n",
      "  deprecate(\"direct config name access\", \"1.0.0\", deprecation_message, standard_warn=False)\n"
     ]
    },
    {
     "data": {
      "application/vnd.jupyter.widget-view+json": {
       "model_id": "69aa1df66e0242f3bb738038e28370a5",
       "version_major": 2,
       "version_minor": 0
      },
      "text/plain": [
       "  0%|          | 0/1 [00:00<?, ?it/s]"
      ]
     },
     "metadata": {},
     "output_type": "display_data"
    }
   ],
   "source": [
    "import torch\n",
    "\n",
    "from diffusers import ConsistencyModelPipeline\n",
    "\n",
    "device = \"cuda\"\n",
    "# Load the cd_imagenet64_l2 checkpoint.\n",
    "model_id_or_path = \"dg845/consistency-model-pipelines\"\n",
    "pipe = ConsistencyModelPipeline.from_pretrained(model_id_or_path, torch_dtype=torch.float16)\n",
    "pipe.to(device)\n",
    "\n",
    "# Onestep Sampling\n",
    "image = pipe(num_inference_steps=1).images[0]"
   ]
  },
  {
   "cell_type": "code",
   "execution_count": 5,
   "metadata": {},
   "outputs": [
    {
     "ename": "TypeError",
     "evalue": "__call__() got an unexpected keyword argument 'prompt'",
     "output_type": "error",
     "traceback": [
      "\u001b[0;31m---------------------------------------------------------------------------\u001b[0m",
      "\u001b[0;31mTypeError\u001b[0m                                 Traceback (most recent call last)",
      "Cell \u001b[0;32mIn[5], line 5\u001b[0m\n\u001b[1;32m      2\u001b[0m \u001b[38;5;28;01mfor\u001b[39;00m prompt \u001b[38;5;129;01min\u001b[39;00m prompts:\n\u001b[1;32m      3\u001b[0m   num_inference_steps \u001b[38;5;241m=\u001b[39m \u001b[38;5;241m45\u001b[39m\n\u001b[0;32m----> 5\u001b[0m   image \u001b[38;5;241m=\u001b[39m \u001b[43mpipe\u001b[49m\u001b[43m(\u001b[49m\u001b[43mprompt\u001b[49m\u001b[38;5;241;43m=\u001b[39;49m\u001b[43mprompt\u001b[49m\u001b[43m,\u001b[49m\u001b[43m \u001b[49m\u001b[43mnum_inference_steps\u001b[49m\u001b[38;5;241;43m=\u001b[39;49m\u001b[43mnum_inference_steps\u001b[49m\u001b[43m,\u001b[49m\u001b[43m \u001b[49m\u001b[43mguidance_scale\u001b[49m\u001b[38;5;241;43m=\u001b[39;49m\u001b[38;5;241;43m8.0\u001b[39;49m\u001b[43m,\u001b[49m\u001b[43m \u001b[49m\u001b[43moutput_type\u001b[49m\u001b[38;5;241;43m=\u001b[39;49m\u001b[38;5;124;43m'\u001b[39;49m\u001b[38;5;124;43mnp\u001b[39;49m\u001b[38;5;124;43m'\u001b[39;49m\u001b[43m \u001b[49m\u001b[43m)\u001b[49m\u001b[38;5;241m.\u001b[39mimages\n\u001b[1;32m      6\u001b[0m   \u001b[38;5;66;03m# image = ldm([prompt], num_inference_steps=num_inference_steps, eta=0.3, guidance_scale=6, output_type='np').images\u001b[39;00m\n\u001b[1;32m      8\u001b[0m   img_clip_score \u001b[38;5;241m=\u001b[39m calculate_clip_score(image, prompt)\n",
      "File \u001b[0;32m~/.conda/envs/cs229/lib/python3.9/site-packages/torch/utils/_contextlib.py:115\u001b[0m, in \u001b[0;36mcontext_decorator.<locals>.decorate_context\u001b[0;34m(*args, **kwargs)\u001b[0m\n\u001b[1;32m    112\u001b[0m \u001b[38;5;129m@functools\u001b[39m\u001b[38;5;241m.\u001b[39mwraps(func)\n\u001b[1;32m    113\u001b[0m \u001b[38;5;28;01mdef\u001b[39;00m \u001b[38;5;21mdecorate_context\u001b[39m(\u001b[38;5;241m*\u001b[39margs, \u001b[38;5;241m*\u001b[39m\u001b[38;5;241m*\u001b[39mkwargs):\n\u001b[1;32m    114\u001b[0m     \u001b[38;5;28;01mwith\u001b[39;00m ctx_factory():\n\u001b[0;32m--> 115\u001b[0m         \u001b[38;5;28;01mreturn\u001b[39;00m \u001b[43mfunc\u001b[49m\u001b[43m(\u001b[49m\u001b[38;5;241;43m*\u001b[39;49m\u001b[43margs\u001b[49m\u001b[43m,\u001b[49m\u001b[43m \u001b[49m\u001b[38;5;241;43m*\u001b[39;49m\u001b[38;5;241;43m*\u001b[39;49m\u001b[43mkwargs\u001b[49m\u001b[43m)\u001b[49m\n",
      "\u001b[0;31mTypeError\u001b[0m: __call__() got an unexpected keyword argument 'prompt'"
     ]
    }
   ],
   "source": [
    "total_clip_score = 0\n",
    "for prompt in prompts:\n",
    "  num_inference_steps = 45\n",
    "\n",
    "  image = pipe(prompt=prompt, num_inference_steps=num_inference_steps, guidance_scale=8.0, output_type='np' ).images\n",
    "  # image = ldm([prompt], num_inference_steps=num_inference_steps, eta=0.3, guidance_scale=6, output_type='np').images\n",
    "\n",
    "  img_clip_score = calculate_clip_score(image, prompt)\n",
    "  total_clip_score += img_clip_score\n",
    "  print(img_clip_score)\n",
    "\n",
    "# clip score:\n",
    "total_clip_score = total_clip_score/100\n",
    "print(total_clip_score)"
   ]
  },
  {
   "cell_type": "code",
   "execution_count": null,
   "metadata": {},
   "outputs": [],
   "source": [
    "import torch\n",
    "import clip\n",
    "from PIL import Image\n",
    "\n",
    "num_inference_steps = 45\n",
    "total_hps = 0\n",
    "\n",
    "for i in range(len(prompts)):\n",
    "    prompt = prompts[i]\n",
    "    \n",
    "    v14Image = pipe(prompt=prompt, num_inference_steps=num_inference_steps, guidance_scale=8.0).images[0]\n",
    "    \n",
    "    device = \"cuda\" if torch.cuda.is_available() else \"cpu\"\n",
    "    model, preprocess = clip.load(\"ViT-B/32\", device=device)\n",
    "    \n",
    "    image = preprocess(v14Image).unsqueeze(0).to(device)\n",
    "    text = clip.tokenize(prompt).to(device)\n",
    "\n",
    "    with torch.no_grad():\n",
    "        image_features = model.encode_image(image)\n",
    "        text_features = model.encode_text(text)\n",
    "    \n",
    "        image_features = image_features / image_features.norm(dim=-1, keepdim=True)\n",
    "        text_features = text_features / text_features.norm(dim=-1, keepdim=True)\n",
    "    \n",
    "        hps = image_features @ text_features.T\n",
    "        print(hps)\n",
    "    \n",
    "    total_hps += hps\n",
    "\n",
    "print(total_hps/100)"
   ]
  },
  {
   "cell_type": "markdown",
   "metadata": {
    "id": "guzmA_VGEeNs"
   },
   "source": [
    "## Latent Consistency Model"
   ]
  },
  {
   "cell_type": "code",
   "execution_count": null,
   "metadata": {},
   "outputs": [],
   "source": [
    "# !git clone https://github.com/huggingface/transformers.git\n",
    "# %cd transformers\n",
    "# !pip install -e ."
   ]
  },
  {
   "cell_type": "markdown",
   "metadata": {
    "id": "Qzv1kaRXI61k"
   },
   "source": [
    "https://huggingface.co/latent-consistency/lcm-sdxl"
   ]
  },
  {
   "cell_type": "code",
   "execution_count": 4,
   "metadata": {
    "colab": {
     "base_uri": "https://localhost:8080/",
     "height": 190,
     "referenced_widgets": [
      "c252de5f04814af087654801b750c518",
      "a1808c9489ea4b398360dc52c9eb548e",
      "69b07faef030446f9e81f116d61a33f2",
      "00e7088646734146b808724c7e7cf04a",
      "dbf1b004c8494844850ee31862010b51",
      "467cdc71a1d445e8b533ea63989c93d0",
      "dda3cde8b5714923af89cdc0a8735a80",
      "999ad5e4a6b1466a9b24fbaf876069fb",
      "7b491099f44c43f4bb5d80a7bf183c70",
      "8bdc3605b4434f69a3b5a72af3eaff73",
      "18234c1bc8a0444daa37fc0f0ca32cca",
      "7b2bcae5c7c4491abec0d5da37aa17a6",
      "5bc3e51821dc4124999924a61c610694",
      "17d0e7b094084e54893120c30ad8449a",
      "0c4c6593f0f1438e8ece6c6285dc2ae7",
      "40fa1c2c1fdb40cb8a339bb4f3ba83e9",
      "91d5d74d92d64cbdb87c9eaa12dd856f",
      "7cb930575f8647a2bcf73d24231bef5e",
      "82ecc6406c2b44d98f52d4157e464bc9",
      "3d43b5a04194495b9c338ba3f5d5ba18",
      "902eb6c8d8104d918a63e3653bec0892",
      "e45f8d8b1161425db3a03cebf0c4dc4e"
     ]
    },
    "id": "UWvgdg_mEdGB",
    "outputId": "dfa15475-b1e7-41b6-8ef2-ac9a79e769a6",
    "scrolled": true
   },
   "outputs": [
    {
     "name": "stderr",
     "output_type": "stream",
     "text": [
      "/home/research/jenzheng/.conda/envs/cs229/lib/python3.9/site-packages/diffusers/utils/outputs.py:63: UserWarning: torch.utils._pytree._register_pytree_node is deprecated. Please use torch.utils._pytree.register_pytree_node instead.\n",
      "  torch.utils._pytree._register_pytree_node(\n",
      "/home/research/jenzheng/.conda/envs/cs229/lib/python3.9/site-packages/diffusers/utils/outputs.py:63: UserWarning: torch.utils._pytree._register_pytree_node is deprecated. Please use torch.utils._pytree.register_pytree_node instead.\n",
      "  torch.utils._pytree._register_pytree_node(\n",
      "The config attributes {'skip_prk_steps': True} were passed to LCMScheduler, but are not expected and will be ignored. Please verify your scheduler_config.json configuration file.\n"
     ]
    },
    {
     "data": {
      "text/plain": [
       "StableDiffusionXLPipeline {\n",
       "  \"_class_name\": \"StableDiffusionXLPipeline\",\n",
       "  \"_diffusers_version\": \"0.26.3\",\n",
       "  \"_name_or_path\": \"stabilityai/stable-diffusion-xl-base-1.0\",\n",
       "  \"feature_extractor\": [\n",
       "    null,\n",
       "    null\n",
       "  ],\n",
       "  \"force_zeros_for_empty_prompt\": true,\n",
       "  \"image_encoder\": [\n",
       "    null,\n",
       "    null\n",
       "  ],\n",
       "  \"scheduler\": [\n",
       "    \"diffusers\",\n",
       "    \"LCMScheduler\"\n",
       "  ],\n",
       "  \"text_encoder\": [\n",
       "    \"transformers\",\n",
       "    \"CLIPTextModel\"\n",
       "  ],\n",
       "  \"text_encoder_2\": [\n",
       "    \"transformers\",\n",
       "    \"CLIPTextModelWithProjection\"\n",
       "  ],\n",
       "  \"tokenizer\": [\n",
       "    \"transformers\",\n",
       "    \"CLIPTokenizer\"\n",
       "  ],\n",
       "  \"tokenizer_2\": [\n",
       "    \"transformers\",\n",
       "    \"CLIPTokenizer\"\n",
       "  ],\n",
       "  \"unet\": [\n",
       "    \"diffusers\",\n",
       "    \"UNet2DConditionModel\"\n",
       "  ],\n",
       "  \"vae\": [\n",
       "    \"diffusers\",\n",
       "    \"AutoencoderKL\"\n",
       "  ]\n",
       "}"
      ]
     },
     "execution_count": 4,
     "metadata": {},
     "output_type": "execute_result"
    }
   ],
   "source": [
    "from diffusers import UNet2DConditionModel, DiffusionPipeline, LCMScheduler\n",
    "import torch\n",
    "\n",
    "unet = UNet2DConditionModel.from_pretrained(\"latent-consistency/lcm-sdxl\", torch_dtype=torch.float16, variant=\"fp16\")\n",
    "pipe = DiffusionPipeline.from_pretrained(\"stabilityai/stable-diffusion-xl-base-1.0\", unet=unet, torch_dtype=torch.float16, variant=\"fp16\")\n",
    "\n",
    "pipe.scheduler = LCMScheduler.from_config(pipe.scheduler.config)\n",
    "pipe.to(\"cuda\")\n",
    "\n",
    "# prompt = \"a close-up picture of an old man standing in the rain\"\n",
    "\n",
    "# image = pipe(prompt, num_inference_steps=4, guidance_scale=8.0).images[0]"
   ]
  },
  {
   "cell_type": "code",
   "execution_count": 6,
   "metadata": {
    "collapsed": true,
    "jupyter": {
     "outputs_hidden": true
    }
   },
   "outputs": [
    {
     "data": {
      "application/vnd.jupyter.widget-view+json": {
       "model_id": "29989d074558401981b2f08e218d25fe",
       "version_major": 2,
       "version_minor": 0
      },
      "text/plain": [
       "  0%|          | 0/45 [00:00<?, ?it/s]"
      ]
     },
     "metadata": {},
     "output_type": "display_data"
    },
    {
     "name": "stdout",
     "output_type": "stream",
     "text": [
      "31.9215\n"
     ]
    },
    {
     "data": {
      "application/vnd.jupyter.widget-view+json": {
       "model_id": "b105bac1ab444e55870722a2cc97ec5a",
       "version_major": 2,
       "version_minor": 0
      },
      "text/plain": [
       "  0%|          | 0/45 [00:00<?, ?it/s]"
      ]
     },
     "metadata": {},
     "output_type": "display_data"
    },
    {
     "name": "stdout",
     "output_type": "stream",
     "text": [
      "33.19\n"
     ]
    },
    {
     "data": {
      "application/vnd.jupyter.widget-view+json": {
       "model_id": "c80b3de508f64a5bbc8582ecea0888f8",
       "version_major": 2,
       "version_minor": 0
      },
      "text/plain": [
       "  0%|          | 0/45 [00:00<?, ?it/s]"
      ]
     },
     "metadata": {},
     "output_type": "display_data"
    },
    {
     "name": "stdout",
     "output_type": "stream",
     "text": [
      "27.6881\n"
     ]
    },
    {
     "data": {
      "application/vnd.jupyter.widget-view+json": {
       "model_id": "d9f44e32cbfe47f9a4065414b870ba9e",
       "version_major": 2,
       "version_minor": 0
      },
      "text/plain": [
       "  0%|          | 0/45 [00:00<?, ?it/s]"
      ]
     },
     "metadata": {},
     "output_type": "display_data"
    },
    {
     "name": "stdout",
     "output_type": "stream",
     "text": [
      "30.7924\n"
     ]
    },
    {
     "data": {
      "application/vnd.jupyter.widget-view+json": {
       "model_id": "f0a56abe3e774f8c92950f63dfeb5a6b",
       "version_major": 2,
       "version_minor": 0
      },
      "text/plain": [
       "  0%|          | 0/45 [00:00<?, ?it/s]"
      ]
     },
     "metadata": {},
     "output_type": "display_data"
    },
    {
     "name": "stdout",
     "output_type": "stream",
     "text": [
      "33.7725\n"
     ]
    },
    {
     "data": {
      "application/vnd.jupyter.widget-view+json": {
       "model_id": "2a70cdd63d034e74a41516554a07dd07",
       "version_major": 2,
       "version_minor": 0
      },
      "text/plain": [
       "  0%|          | 0/45 [00:00<?, ?it/s]"
      ]
     },
     "metadata": {},
     "output_type": "display_data"
    },
    {
     "name": "stdout",
     "output_type": "stream",
     "text": [
      "32.8635\n"
     ]
    },
    {
     "data": {
      "application/vnd.jupyter.widget-view+json": {
       "model_id": "68a1ed470fc3428e8b6800dcff812c7a",
       "version_major": 2,
       "version_minor": 0
      },
      "text/plain": [
       "  0%|          | 0/45 [00:00<?, ?it/s]"
      ]
     },
     "metadata": {},
     "output_type": "display_data"
    },
    {
     "name": "stdout",
     "output_type": "stream",
     "text": [
      "31.7462\n"
     ]
    },
    {
     "data": {
      "application/vnd.jupyter.widget-view+json": {
       "model_id": "8e467819f45e4503a8eaf11acfe05713",
       "version_major": 2,
       "version_minor": 0
      },
      "text/plain": [
       "  0%|          | 0/45 [00:00<?, ?it/s]"
      ]
     },
     "metadata": {},
     "output_type": "display_data"
    },
    {
     "name": "stdout",
     "output_type": "stream",
     "text": [
      "31.5683\n"
     ]
    },
    {
     "data": {
      "application/vnd.jupyter.widget-view+json": {
       "model_id": "5d473aa148e3410ab3aee01130244bd2",
       "version_major": 2,
       "version_minor": 0
      },
      "text/plain": [
       "  0%|          | 0/45 [00:00<?, ?it/s]"
      ]
     },
     "metadata": {},
     "output_type": "display_data"
    },
    {
     "name": "stdout",
     "output_type": "stream",
     "text": [
      "35.084\n"
     ]
    },
    {
     "data": {
      "application/vnd.jupyter.widget-view+json": {
       "model_id": "d50885c169bc4535a3d6ee9179ada879",
       "version_major": 2,
       "version_minor": 0
      },
      "text/plain": [
       "  0%|          | 0/45 [00:00<?, ?it/s]"
      ]
     },
     "metadata": {},
     "output_type": "display_data"
    },
    {
     "name": "stdout",
     "output_type": "stream",
     "text": [
      "34.18\n"
     ]
    },
    {
     "data": {
      "application/vnd.jupyter.widget-view+json": {
       "model_id": "e596f19999a44135a3af0b0955e26620",
       "version_major": 2,
       "version_minor": 0
      },
      "text/plain": [
       "  0%|          | 0/45 [00:00<?, ?it/s]"
      ]
     },
     "metadata": {},
     "output_type": "display_data"
    },
    {
     "name": "stdout",
     "output_type": "stream",
     "text": [
      "35.1797\n"
     ]
    },
    {
     "data": {
      "application/vnd.jupyter.widget-view+json": {
       "model_id": "2035d1bb178e46b3993e45c859b7e777",
       "version_major": 2,
       "version_minor": 0
      },
      "text/plain": [
       "  0%|          | 0/45 [00:00<?, ?it/s]"
      ]
     },
     "metadata": {},
     "output_type": "display_data"
    },
    {
     "name": "stdout",
     "output_type": "stream",
     "text": [
      "31.5178\n"
     ]
    },
    {
     "data": {
      "application/vnd.jupyter.widget-view+json": {
       "model_id": "c175ad0fb9b0439ea1d87c7a9d6dee23",
       "version_major": 2,
       "version_minor": 0
      },
      "text/plain": [
       "  0%|          | 0/45 [00:00<?, ?it/s]"
      ]
     },
     "metadata": {},
     "output_type": "display_data"
    },
    {
     "name": "stdout",
     "output_type": "stream",
     "text": [
      "33.303\n"
     ]
    },
    {
     "data": {
      "application/vnd.jupyter.widget-view+json": {
       "model_id": "095ceadd4c31445f881dae86b6a91823",
       "version_major": 2,
       "version_minor": 0
      },
      "text/plain": [
       "  0%|          | 0/45 [00:00<?, ?it/s]"
      ]
     },
     "metadata": {},
     "output_type": "display_data"
    },
    {
     "name": "stdout",
     "output_type": "stream",
     "text": [
      "32.6073\n"
     ]
    },
    {
     "data": {
      "application/vnd.jupyter.widget-view+json": {
       "model_id": "a2f1e6887afc4bacbee7450afc14c22c",
       "version_major": 2,
       "version_minor": 0
      },
      "text/plain": [
       "  0%|          | 0/45 [00:00<?, ?it/s]"
      ]
     },
     "metadata": {},
     "output_type": "display_data"
    },
    {
     "name": "stdout",
     "output_type": "stream",
     "text": [
      "34.9461\n"
     ]
    },
    {
     "data": {
      "application/vnd.jupyter.widget-view+json": {
       "model_id": "0bd984c63c3b4be0bd62a059dc127bc0",
       "version_major": 2,
       "version_minor": 0
      },
      "text/plain": [
       "  0%|          | 0/45 [00:00<?, ?it/s]"
      ]
     },
     "metadata": {},
     "output_type": "display_data"
    },
    {
     "name": "stdout",
     "output_type": "stream",
     "text": [
      "31.0084\n"
     ]
    },
    {
     "data": {
      "application/vnd.jupyter.widget-view+json": {
       "model_id": "0c422435db064a59b99c7868b7e0d1ee",
       "version_major": 2,
       "version_minor": 0
      },
      "text/plain": [
       "  0%|          | 0/45 [00:00<?, ?it/s]"
      ]
     },
     "metadata": {},
     "output_type": "display_data"
    },
    {
     "name": "stdout",
     "output_type": "stream",
     "text": [
      "30.9671\n"
     ]
    },
    {
     "data": {
      "application/vnd.jupyter.widget-view+json": {
       "model_id": "4a6f157830b44e4b9fce46e95a4cb98d",
       "version_major": 2,
       "version_minor": 0
      },
      "text/plain": [
       "  0%|          | 0/45 [00:00<?, ?it/s]"
      ]
     },
     "metadata": {},
     "output_type": "display_data"
    },
    {
     "name": "stdout",
     "output_type": "stream",
     "text": [
      "31.2763\n"
     ]
    },
    {
     "data": {
      "application/vnd.jupyter.widget-view+json": {
       "model_id": "a22d598ebcf34c96992be5a296583c62",
       "version_major": 2,
       "version_minor": 0
      },
      "text/plain": [
       "  0%|          | 0/45 [00:00<?, ?it/s]"
      ]
     },
     "metadata": {},
     "output_type": "display_data"
    },
    {
     "name": "stdout",
     "output_type": "stream",
     "text": [
      "29.6859\n"
     ]
    },
    {
     "data": {
      "application/vnd.jupyter.widget-view+json": {
       "model_id": "aa8e377913f24f19ac694b12d6407f9d",
       "version_major": 2,
       "version_minor": 0
      },
      "text/plain": [
       "  0%|          | 0/45 [00:00<?, ?it/s]"
      ]
     },
     "metadata": {},
     "output_type": "display_data"
    },
    {
     "name": "stdout",
     "output_type": "stream",
     "text": [
      "26.3598\n"
     ]
    },
    {
     "data": {
      "application/vnd.jupyter.widget-view+json": {
       "model_id": "ec61c9c6426a485cac5988ae50d09c2c",
       "version_major": 2,
       "version_minor": 0
      },
      "text/plain": [
       "  0%|          | 0/45 [00:00<?, ?it/s]"
      ]
     },
     "metadata": {},
     "output_type": "display_data"
    },
    {
     "name": "stdout",
     "output_type": "stream",
     "text": [
      "33.8572\n"
     ]
    },
    {
     "data": {
      "application/vnd.jupyter.widget-view+json": {
       "model_id": "2f7e7befbd0840019dd5bac8788bf5bc",
       "version_major": 2,
       "version_minor": 0
      },
      "text/plain": [
       "  0%|          | 0/45 [00:00<?, ?it/s]"
      ]
     },
     "metadata": {},
     "output_type": "display_data"
    },
    {
     "name": "stdout",
     "output_type": "stream",
     "text": [
      "29.9998\n"
     ]
    },
    {
     "data": {
      "application/vnd.jupyter.widget-view+json": {
       "model_id": "c3c3c6aafea845d8a1e8553e89c2b62e",
       "version_major": 2,
       "version_minor": 0
      },
      "text/plain": [
       "  0%|          | 0/45 [00:00<?, ?it/s]"
      ]
     },
     "metadata": {},
     "output_type": "display_data"
    },
    {
     "name": "stdout",
     "output_type": "stream",
     "text": [
      "30.1192\n"
     ]
    },
    {
     "data": {
      "application/vnd.jupyter.widget-view+json": {
       "model_id": "8feeeb8e39d149e19d6ee53f21f4b4d1",
       "version_major": 2,
       "version_minor": 0
      },
      "text/plain": [
       "  0%|          | 0/45 [00:00<?, ?it/s]"
      ]
     },
     "metadata": {},
     "output_type": "display_data"
    },
    {
     "name": "stdout",
     "output_type": "stream",
     "text": [
      "31.3145\n"
     ]
    },
    {
     "data": {
      "application/vnd.jupyter.widget-view+json": {
       "model_id": "42d2d42620a14114af9d95699667d8c1",
       "version_major": 2,
       "version_minor": 0
      },
      "text/plain": [
       "  0%|          | 0/45 [00:00<?, ?it/s]"
      ]
     },
     "metadata": {},
     "output_type": "display_data"
    },
    {
     "name": "stdout",
     "output_type": "stream",
     "text": [
      "34.5031\n"
     ]
    },
    {
     "data": {
      "application/vnd.jupyter.widget-view+json": {
       "model_id": "06377237a36c4779a86ca4373f027821",
       "version_major": 2,
       "version_minor": 0
      },
      "text/plain": [
       "  0%|          | 0/45 [00:00<?, ?it/s]"
      ]
     },
     "metadata": {},
     "output_type": "display_data"
    },
    {
     "name": "stdout",
     "output_type": "stream",
     "text": [
      "33.5505\n"
     ]
    },
    {
     "data": {
      "application/vnd.jupyter.widget-view+json": {
       "model_id": "2489c9ad2a3947d3ad09328d5e015cf1",
       "version_major": 2,
       "version_minor": 0
      },
      "text/plain": [
       "  0%|          | 0/45 [00:00<?, ?it/s]"
      ]
     },
     "metadata": {},
     "output_type": "display_data"
    },
    {
     "name": "stdout",
     "output_type": "stream",
     "text": [
      "24.1632\n"
     ]
    },
    {
     "data": {
      "application/vnd.jupyter.widget-view+json": {
       "model_id": "8fa792d7f7a74c0caa68781a6c9fcf3b",
       "version_major": 2,
       "version_minor": 0
      },
      "text/plain": [
       "  0%|          | 0/45 [00:00<?, ?it/s]"
      ]
     },
     "metadata": {},
     "output_type": "display_data"
    },
    {
     "name": "stdout",
     "output_type": "stream",
     "text": [
      "32.5233\n"
     ]
    },
    {
     "data": {
      "application/vnd.jupyter.widget-view+json": {
       "model_id": "672577c887aa4e3fb1c4e8cbacc21884",
       "version_major": 2,
       "version_minor": 0
      },
      "text/plain": [
       "  0%|          | 0/45 [00:00<?, ?it/s]"
      ]
     },
     "metadata": {},
     "output_type": "display_data"
    },
    {
     "name": "stdout",
     "output_type": "stream",
     "text": [
      "30.9015\n"
     ]
    },
    {
     "data": {
      "application/vnd.jupyter.widget-view+json": {
       "model_id": "4e74ae2852174e248ed2ec21379789db",
       "version_major": 2,
       "version_minor": 0
      },
      "text/plain": [
       "  0%|          | 0/45 [00:00<?, ?it/s]"
      ]
     },
     "metadata": {},
     "output_type": "display_data"
    },
    {
     "name": "stdout",
     "output_type": "stream",
     "text": [
      "32.5124\n"
     ]
    },
    {
     "data": {
      "application/vnd.jupyter.widget-view+json": {
       "model_id": "c43b7fcdfbcb40358d131ef461b76185",
       "version_major": 2,
       "version_minor": 0
      },
      "text/plain": [
       "  0%|          | 0/45 [00:00<?, ?it/s]"
      ]
     },
     "metadata": {},
     "output_type": "display_data"
    },
    {
     "name": "stdout",
     "output_type": "stream",
     "text": [
      "29.7767\n"
     ]
    },
    {
     "data": {
      "application/vnd.jupyter.widget-view+json": {
       "model_id": "4db243841c444b91946853d02ace9bec",
       "version_major": 2,
       "version_minor": 0
      },
      "text/plain": [
       "  0%|          | 0/45 [00:00<?, ?it/s]"
      ]
     },
     "metadata": {},
     "output_type": "display_data"
    },
    {
     "name": "stdout",
     "output_type": "stream",
     "text": [
      "29.0806\n"
     ]
    },
    {
     "data": {
      "application/vnd.jupyter.widget-view+json": {
       "model_id": "2460b7493e9d43baaaa0e1e78f5d0133",
       "version_major": 2,
       "version_minor": 0
      },
      "text/plain": [
       "  0%|          | 0/45 [00:00<?, ?it/s]"
      ]
     },
     "metadata": {},
     "output_type": "display_data"
    },
    {
     "name": "stdout",
     "output_type": "stream",
     "text": [
      "28.2494\n"
     ]
    },
    {
     "data": {
      "application/vnd.jupyter.widget-view+json": {
       "model_id": "efe77e7d02ff47adb2324aa9965ad887",
       "version_major": 2,
       "version_minor": 0
      },
      "text/plain": [
       "  0%|          | 0/45 [00:00<?, ?it/s]"
      ]
     },
     "metadata": {},
     "output_type": "display_data"
    },
    {
     "name": "stdout",
     "output_type": "stream",
     "text": [
      "28.5056\n"
     ]
    },
    {
     "data": {
      "application/vnd.jupyter.widget-view+json": {
       "model_id": "04eb427c754b423e8c07a6a76824358d",
       "version_major": 2,
       "version_minor": 0
      },
      "text/plain": [
       "  0%|          | 0/45 [00:00<?, ?it/s]"
      ]
     },
     "metadata": {},
     "output_type": "display_data"
    },
    {
     "name": "stdout",
     "output_type": "stream",
     "text": [
      "27.293\n"
     ]
    },
    {
     "data": {
      "application/vnd.jupyter.widget-view+json": {
       "model_id": "66f7e1f7d7e246729ac3a9e38c48d240",
       "version_major": 2,
       "version_minor": 0
      },
      "text/plain": [
       "  0%|          | 0/45 [00:00<?, ?it/s]"
      ]
     },
     "metadata": {},
     "output_type": "display_data"
    },
    {
     "name": "stdout",
     "output_type": "stream",
     "text": [
      "31.0074\n"
     ]
    },
    {
     "data": {
      "application/vnd.jupyter.widget-view+json": {
       "model_id": "0f850f8d62c447bca02084e95b18372a",
       "version_major": 2,
       "version_minor": 0
      },
      "text/plain": [
       "  0%|          | 0/45 [00:00<?, ?it/s]"
      ]
     },
     "metadata": {},
     "output_type": "display_data"
    },
    {
     "name": "stdout",
     "output_type": "stream",
     "text": [
      "33.706\n"
     ]
    },
    {
     "data": {
      "application/vnd.jupyter.widget-view+json": {
       "model_id": "5b0562daf7f842f39ab9b6224ba7f514",
       "version_major": 2,
       "version_minor": 0
      },
      "text/plain": [
       "  0%|          | 0/45 [00:00<?, ?it/s]"
      ]
     },
     "metadata": {},
     "output_type": "display_data"
    },
    {
     "name": "stdout",
     "output_type": "stream",
     "text": [
      "30.5113\n"
     ]
    },
    {
     "data": {
      "application/vnd.jupyter.widget-view+json": {
       "model_id": "1c30c2ee32f6417793668ae93d81fc7c",
       "version_major": 2,
       "version_minor": 0
      },
      "text/plain": [
       "  0%|          | 0/45 [00:00<?, ?it/s]"
      ]
     },
     "metadata": {},
     "output_type": "display_data"
    },
    {
     "name": "stdout",
     "output_type": "stream",
     "text": [
      "31.1367\n"
     ]
    },
    {
     "data": {
      "application/vnd.jupyter.widget-view+json": {
       "model_id": "475a8e42161e49c0aadb64979fd2b9f4",
       "version_major": 2,
       "version_minor": 0
      },
      "text/plain": [
       "  0%|          | 0/45 [00:00<?, ?it/s]"
      ]
     },
     "metadata": {},
     "output_type": "display_data"
    },
    {
     "name": "stdout",
     "output_type": "stream",
     "text": [
      "29.6724\n"
     ]
    },
    {
     "data": {
      "application/vnd.jupyter.widget-view+json": {
       "model_id": "4ccc34bf99404a52b1416a7eb3c1fb16",
       "version_major": 2,
       "version_minor": 0
      },
      "text/plain": [
       "  0%|          | 0/45 [00:00<?, ?it/s]"
      ]
     },
     "metadata": {},
     "output_type": "display_data"
    },
    {
     "name": "stdout",
     "output_type": "stream",
     "text": [
      "30.7422\n"
     ]
    },
    {
     "data": {
      "application/vnd.jupyter.widget-view+json": {
       "model_id": "7702d7c0c0674ccdbf5515bfbbdfee48",
       "version_major": 2,
       "version_minor": 0
      },
      "text/plain": [
       "  0%|          | 0/45 [00:00<?, ?it/s]"
      ]
     },
     "metadata": {},
     "output_type": "display_data"
    },
    {
     "name": "stdout",
     "output_type": "stream",
     "text": [
      "32.4404\n"
     ]
    },
    {
     "data": {
      "application/vnd.jupyter.widget-view+json": {
       "model_id": "a0ccb3656bac4676be931265e791fe6d",
       "version_major": 2,
       "version_minor": 0
      },
      "text/plain": [
       "  0%|          | 0/45 [00:00<?, ?it/s]"
      ]
     },
     "metadata": {},
     "output_type": "display_data"
    },
    {
     "name": "stdout",
     "output_type": "stream",
     "text": [
      "34.7519\n"
     ]
    },
    {
     "data": {
      "application/vnd.jupyter.widget-view+json": {
       "model_id": "0406f7311cc44e03800d5439fe494641",
       "version_major": 2,
       "version_minor": 0
      },
      "text/plain": [
       "  0%|          | 0/45 [00:00<?, ?it/s]"
      ]
     },
     "metadata": {},
     "output_type": "display_data"
    },
    {
     "name": "stdout",
     "output_type": "stream",
     "text": [
      "29.7968\n"
     ]
    },
    {
     "data": {
      "application/vnd.jupyter.widget-view+json": {
       "model_id": "d1245df60b1e404f82d37f36462a26cb",
       "version_major": 2,
       "version_minor": 0
      },
      "text/plain": [
       "  0%|          | 0/45 [00:00<?, ?it/s]"
      ]
     },
     "metadata": {},
     "output_type": "display_data"
    },
    {
     "name": "stdout",
     "output_type": "stream",
     "text": [
      "30.094\n"
     ]
    },
    {
     "data": {
      "application/vnd.jupyter.widget-view+json": {
       "model_id": "062215ed0ebc4486925a9ace56fd7e73",
       "version_major": 2,
       "version_minor": 0
      },
      "text/plain": [
       "  0%|          | 0/45 [00:00<?, ?it/s]"
      ]
     },
     "metadata": {},
     "output_type": "display_data"
    },
    {
     "name": "stdout",
     "output_type": "stream",
     "text": [
      "26.2508\n"
     ]
    },
    {
     "data": {
      "application/vnd.jupyter.widget-view+json": {
       "model_id": "362d4b73a6c04fa7a76d90d54b3fe693",
       "version_major": 2,
       "version_minor": 0
      },
      "text/plain": [
       "  0%|          | 0/45 [00:00<?, ?it/s]"
      ]
     },
     "metadata": {},
     "output_type": "display_data"
    },
    {
     "name": "stdout",
     "output_type": "stream",
     "text": [
      "30.2737\n"
     ]
    },
    {
     "data": {
      "application/vnd.jupyter.widget-view+json": {
       "model_id": "86eb15f52a814ba290276401afa2850d",
       "version_major": 2,
       "version_minor": 0
      },
      "text/plain": [
       "  0%|          | 0/45 [00:00<?, ?it/s]"
      ]
     },
     "metadata": {},
     "output_type": "display_data"
    },
    {
     "name": "stdout",
     "output_type": "stream",
     "text": [
      "29.7505\n"
     ]
    },
    {
     "data": {
      "application/vnd.jupyter.widget-view+json": {
       "model_id": "1447ae2df47340908b9df3c47d36a00d",
       "version_major": 2,
       "version_minor": 0
      },
      "text/plain": [
       "  0%|          | 0/45 [00:00<?, ?it/s]"
      ]
     },
     "metadata": {},
     "output_type": "display_data"
    },
    {
     "name": "stdout",
     "output_type": "stream",
     "text": [
      "29.3609\n"
     ]
    },
    {
     "data": {
      "application/vnd.jupyter.widget-view+json": {
       "model_id": "9c7e8ca47bb34b03b50dfb73b884346a",
       "version_major": 2,
       "version_minor": 0
      },
      "text/plain": [
       "  0%|          | 0/45 [00:00<?, ?it/s]"
      ]
     },
     "metadata": {},
     "output_type": "display_data"
    },
    {
     "name": "stdout",
     "output_type": "stream",
     "text": [
      "29.6801\n"
     ]
    },
    {
     "data": {
      "application/vnd.jupyter.widget-view+json": {
       "model_id": "a18164eab431482abece9c1aba86e717",
       "version_major": 2,
       "version_minor": 0
      },
      "text/plain": [
       "  0%|          | 0/45 [00:00<?, ?it/s]"
      ]
     },
     "metadata": {},
     "output_type": "display_data"
    },
    {
     "name": "stdout",
     "output_type": "stream",
     "text": [
      "28.6414\n"
     ]
    },
    {
     "data": {
      "application/vnd.jupyter.widget-view+json": {
       "model_id": "14c17b2aa700453e8df899e867e61b39",
       "version_major": 2,
       "version_minor": 0
      },
      "text/plain": [
       "  0%|          | 0/45 [00:00<?, ?it/s]"
      ]
     },
     "metadata": {},
     "output_type": "display_data"
    },
    {
     "name": "stdout",
     "output_type": "stream",
     "text": [
      "31.864\n"
     ]
    },
    {
     "data": {
      "application/vnd.jupyter.widget-view+json": {
       "model_id": "34e353edd973475aaf0e2b0f715f01a1",
       "version_major": 2,
       "version_minor": 0
      },
      "text/plain": [
       "  0%|          | 0/45 [00:00<?, ?it/s]"
      ]
     },
     "metadata": {},
     "output_type": "display_data"
    },
    {
     "name": "stdout",
     "output_type": "stream",
     "text": [
      "29.065\n"
     ]
    },
    {
     "data": {
      "application/vnd.jupyter.widget-view+json": {
       "model_id": "e99d2d9eafb5497085fb92dcf10f4274",
       "version_major": 2,
       "version_minor": 0
      },
      "text/plain": [
       "  0%|          | 0/45 [00:00<?, ?it/s]"
      ]
     },
     "metadata": {},
     "output_type": "display_data"
    },
    {
     "name": "stdout",
     "output_type": "stream",
     "text": [
      "30.7703\n"
     ]
    },
    {
     "data": {
      "application/vnd.jupyter.widget-view+json": {
       "model_id": "c95a3632254f427fb09f33b62f8ba797",
       "version_major": 2,
       "version_minor": 0
      },
      "text/plain": [
       "  0%|          | 0/45 [00:00<?, ?it/s]"
      ]
     },
     "metadata": {},
     "output_type": "display_data"
    },
    {
     "name": "stdout",
     "output_type": "stream",
     "text": [
      "30.7466\n"
     ]
    },
    {
     "data": {
      "application/vnd.jupyter.widget-view+json": {
       "model_id": "12f52f2b14bd41bd89c7bc2c50bd833c",
       "version_major": 2,
       "version_minor": 0
      },
      "text/plain": [
       "  0%|          | 0/45 [00:00<?, ?it/s]"
      ]
     },
     "metadata": {},
     "output_type": "display_data"
    },
    {
     "name": "stdout",
     "output_type": "stream",
     "text": [
      "28.3079\n"
     ]
    },
    {
     "data": {
      "application/vnd.jupyter.widget-view+json": {
       "model_id": "10db20dd01794eb89a199d811b7a03fb",
       "version_major": 2,
       "version_minor": 0
      },
      "text/plain": [
       "  0%|          | 0/45 [00:00<?, ?it/s]"
      ]
     },
     "metadata": {},
     "output_type": "display_data"
    },
    {
     "name": "stdout",
     "output_type": "stream",
     "text": [
      "26.8763\n"
     ]
    },
    {
     "data": {
      "application/vnd.jupyter.widget-view+json": {
       "model_id": "b394de16be7640ccb863048e92b7d255",
       "version_major": 2,
       "version_minor": 0
      },
      "text/plain": [
       "  0%|          | 0/45 [00:00<?, ?it/s]"
      ]
     },
     "metadata": {},
     "output_type": "display_data"
    },
    {
     "name": "stdout",
     "output_type": "stream",
     "text": [
      "27.2683\n"
     ]
    },
    {
     "data": {
      "application/vnd.jupyter.widget-view+json": {
       "model_id": "d5a8b3b0e5a54ff78c4d2773bc6480ce",
       "version_major": 2,
       "version_minor": 0
      },
      "text/plain": [
       "  0%|          | 0/45 [00:00<?, ?it/s]"
      ]
     },
     "metadata": {},
     "output_type": "display_data"
    },
    {
     "name": "stdout",
     "output_type": "stream",
     "text": [
      "25.7732\n"
     ]
    },
    {
     "data": {
      "application/vnd.jupyter.widget-view+json": {
       "model_id": "609699a7dab24853a108ff81741c8ab7",
       "version_major": 2,
       "version_minor": 0
      },
      "text/plain": [
       "  0%|          | 0/45 [00:00<?, ?it/s]"
      ]
     },
     "metadata": {},
     "output_type": "display_data"
    },
    {
     "name": "stdout",
     "output_type": "stream",
     "text": [
      "27.7829\n"
     ]
    },
    {
     "data": {
      "application/vnd.jupyter.widget-view+json": {
       "model_id": "a84131fd73864381a9a724dd46aab7b3",
       "version_major": 2,
       "version_minor": 0
      },
      "text/plain": [
       "  0%|          | 0/45 [00:00<?, ?it/s]"
      ]
     },
     "metadata": {},
     "output_type": "display_data"
    },
    {
     "name": "stdout",
     "output_type": "stream",
     "text": [
      "28.005\n"
     ]
    },
    {
     "data": {
      "application/vnd.jupyter.widget-view+json": {
       "model_id": "63020f33057843f9883654a6d64395c6",
       "version_major": 2,
       "version_minor": 0
      },
      "text/plain": [
       "  0%|          | 0/45 [00:00<?, ?it/s]"
      ]
     },
     "metadata": {},
     "output_type": "display_data"
    },
    {
     "name": "stdout",
     "output_type": "stream",
     "text": [
      "29.127\n"
     ]
    },
    {
     "data": {
      "application/vnd.jupyter.widget-view+json": {
       "model_id": "289cecbbacf04190ace0a450bfb1988c",
       "version_major": 2,
       "version_minor": 0
      },
      "text/plain": [
       "  0%|          | 0/45 [00:00<?, ?it/s]"
      ]
     },
     "metadata": {},
     "output_type": "display_data"
    },
    {
     "name": "stdout",
     "output_type": "stream",
     "text": [
      "25.754\n"
     ]
    },
    {
     "data": {
      "application/vnd.jupyter.widget-view+json": {
       "model_id": "638d09a989bc40eaaf814c1f5f1d42bd",
       "version_major": 2,
       "version_minor": 0
      },
      "text/plain": [
       "  0%|          | 0/45 [00:00<?, ?it/s]"
      ]
     },
     "metadata": {},
     "output_type": "display_data"
    },
    {
     "name": "stdout",
     "output_type": "stream",
     "text": [
      "28.9783\n"
     ]
    },
    {
     "data": {
      "application/vnd.jupyter.widget-view+json": {
       "model_id": "6a90f417372144f68b056bfeb2c57af1",
       "version_major": 2,
       "version_minor": 0
      },
      "text/plain": [
       "  0%|          | 0/45 [00:00<?, ?it/s]"
      ]
     },
     "metadata": {},
     "output_type": "display_data"
    },
    {
     "name": "stdout",
     "output_type": "stream",
     "text": [
      "30.7962\n"
     ]
    },
    {
     "data": {
      "application/vnd.jupyter.widget-view+json": {
       "model_id": "dcd4567f0a0c44d6aeceb30a439d40fa",
       "version_major": 2,
       "version_minor": 0
      },
      "text/plain": [
       "  0%|          | 0/45 [00:00<?, ?it/s]"
      ]
     },
     "metadata": {},
     "output_type": "display_data"
    },
    {
     "name": "stdout",
     "output_type": "stream",
     "text": [
      "31.8782\n"
     ]
    },
    {
     "data": {
      "application/vnd.jupyter.widget-view+json": {
       "model_id": "54d75dd61b954cf493e787c2ae7cdcd1",
       "version_major": 2,
       "version_minor": 0
      },
      "text/plain": [
       "  0%|          | 0/45 [00:00<?, ?it/s]"
      ]
     },
     "metadata": {},
     "output_type": "display_data"
    },
    {
     "name": "stdout",
     "output_type": "stream",
     "text": [
      "27.3048\n"
     ]
    },
    {
     "data": {
      "application/vnd.jupyter.widget-view+json": {
       "model_id": "461bbe2d479d4430b1965dd71483a59a",
       "version_major": 2,
       "version_minor": 0
      },
      "text/plain": [
       "  0%|          | 0/45 [00:00<?, ?it/s]"
      ]
     },
     "metadata": {},
     "output_type": "display_data"
    },
    {
     "name": "stdout",
     "output_type": "stream",
     "text": [
      "29.3329\n"
     ]
    },
    {
     "data": {
      "application/vnd.jupyter.widget-view+json": {
       "model_id": "53559a83e4fb482fbd1b2fe02a77d5cb",
       "version_major": 2,
       "version_minor": 0
      },
      "text/plain": [
       "  0%|          | 0/45 [00:00<?, ?it/s]"
      ]
     },
     "metadata": {},
     "output_type": "display_data"
    },
    {
     "name": "stdout",
     "output_type": "stream",
     "text": [
      "34.3961\n"
     ]
    },
    {
     "data": {
      "application/vnd.jupyter.widget-view+json": {
       "model_id": "ae1ae931a23d40e49ebb86f16f9beee5",
       "version_major": 2,
       "version_minor": 0
      },
      "text/plain": [
       "  0%|          | 0/45 [00:00<?, ?it/s]"
      ]
     },
     "metadata": {},
     "output_type": "display_data"
    },
    {
     "name": "stdout",
     "output_type": "stream",
     "text": [
      "31.2864\n"
     ]
    },
    {
     "data": {
      "application/vnd.jupyter.widget-view+json": {
       "model_id": "cdc6d72371de46939a4f32ede55e75fd",
       "version_major": 2,
       "version_minor": 0
      },
      "text/plain": [
       "  0%|          | 0/45 [00:00<?, ?it/s]"
      ]
     },
     "metadata": {},
     "output_type": "display_data"
    },
    {
     "name": "stdout",
     "output_type": "stream",
     "text": [
      "29.9814\n"
     ]
    },
    {
     "data": {
      "application/vnd.jupyter.widget-view+json": {
       "model_id": "d282be3c6e5a4c098d5a5c6cf768fa79",
       "version_major": 2,
       "version_minor": 0
      },
      "text/plain": [
       "  0%|          | 0/45 [00:00<?, ?it/s]"
      ]
     },
     "metadata": {},
     "output_type": "display_data"
    },
    {
     "name": "stdout",
     "output_type": "stream",
     "text": [
      "26.5694\n"
     ]
    },
    {
     "data": {
      "application/vnd.jupyter.widget-view+json": {
       "model_id": "dc7284e710764abdb079e74e47f63d93",
       "version_major": 2,
       "version_minor": 0
      },
      "text/plain": [
       "  0%|          | 0/45 [00:00<?, ?it/s]"
      ]
     },
     "metadata": {},
     "output_type": "display_data"
    },
    {
     "name": "stdout",
     "output_type": "stream",
     "text": [
      "28.4127\n"
     ]
    },
    {
     "data": {
      "application/vnd.jupyter.widget-view+json": {
       "model_id": "d226e8e68dd943d1927bcc516e28eb6e",
       "version_major": 2,
       "version_minor": 0
      },
      "text/plain": [
       "  0%|          | 0/45 [00:00<?, ?it/s]"
      ]
     },
     "metadata": {},
     "output_type": "display_data"
    },
    {
     "name": "stdout",
     "output_type": "stream",
     "text": [
      "31.1059\n"
     ]
    },
    {
     "data": {
      "application/vnd.jupyter.widget-view+json": {
       "model_id": "497196b187534f538cba76d64e1106f5",
       "version_major": 2,
       "version_minor": 0
      },
      "text/plain": [
       "  0%|          | 0/45 [00:00<?, ?it/s]"
      ]
     },
     "metadata": {},
     "output_type": "display_data"
    },
    {
     "name": "stdout",
     "output_type": "stream",
     "text": [
      "30.3824\n"
     ]
    },
    {
     "data": {
      "application/vnd.jupyter.widget-view+json": {
       "model_id": "8a5e95fd19464ed5a1fcb4b4ad10237a",
       "version_major": 2,
       "version_minor": 0
      },
      "text/plain": [
       "  0%|          | 0/45 [00:00<?, ?it/s]"
      ]
     },
     "metadata": {},
     "output_type": "display_data"
    },
    {
     "name": "stdout",
     "output_type": "stream",
     "text": [
      "33.688\n"
     ]
    },
    {
     "data": {
      "application/vnd.jupyter.widget-view+json": {
       "model_id": "112e37a3d614481c9422fa21d7807fbf",
       "version_major": 2,
       "version_minor": 0
      },
      "text/plain": [
       "  0%|          | 0/45 [00:00<?, ?it/s]"
      ]
     },
     "metadata": {},
     "output_type": "display_data"
    },
    {
     "name": "stdout",
     "output_type": "stream",
     "text": [
      "32.7816\n"
     ]
    },
    {
     "data": {
      "application/vnd.jupyter.widget-view+json": {
       "model_id": "d14188b85c974c45a219eb7501487f41",
       "version_major": 2,
       "version_minor": 0
      },
      "text/plain": [
       "  0%|          | 0/45 [00:00<?, ?it/s]"
      ]
     },
     "metadata": {},
     "output_type": "display_data"
    },
    {
     "name": "stdout",
     "output_type": "stream",
     "text": [
      "35.2279\n"
     ]
    },
    {
     "data": {
      "application/vnd.jupyter.widget-view+json": {
       "model_id": "9769cf107f854eb78d4847dc88555cff",
       "version_major": 2,
       "version_minor": 0
      },
      "text/plain": [
       "  0%|          | 0/45 [00:00<?, ?it/s]"
      ]
     },
     "metadata": {},
     "output_type": "display_data"
    },
    {
     "name": "stdout",
     "output_type": "stream",
     "text": [
      "34.953\n"
     ]
    },
    {
     "data": {
      "application/vnd.jupyter.widget-view+json": {
       "model_id": "5f23305caaf2404da3da86859b159142",
       "version_major": 2,
       "version_minor": 0
      },
      "text/plain": [
       "  0%|          | 0/45 [00:00<?, ?it/s]"
      ]
     },
     "metadata": {},
     "output_type": "display_data"
    },
    {
     "name": "stdout",
     "output_type": "stream",
     "text": [
      "33.1133\n"
     ]
    },
    {
     "data": {
      "application/vnd.jupyter.widget-view+json": {
       "model_id": "c0c892e49c0a46b4bcf9bfa157683925",
       "version_major": 2,
       "version_minor": 0
      },
      "text/plain": [
       "  0%|          | 0/45 [00:00<?, ?it/s]"
      ]
     },
     "metadata": {},
     "output_type": "display_data"
    },
    {
     "name": "stdout",
     "output_type": "stream",
     "text": [
      "34.0347\n"
     ]
    },
    {
     "data": {
      "application/vnd.jupyter.widget-view+json": {
       "model_id": "400274df1b914b578fd883c74ca06ae3",
       "version_major": 2,
       "version_minor": 0
      },
      "text/plain": [
       "  0%|          | 0/45 [00:00<?, ?it/s]"
      ]
     },
     "metadata": {},
     "output_type": "display_data"
    },
    {
     "name": "stdout",
     "output_type": "stream",
     "text": [
      "29.5631\n"
     ]
    },
    {
     "data": {
      "application/vnd.jupyter.widget-view+json": {
       "model_id": "e45b09d82f00469196ee7566780f6e33",
       "version_major": 2,
       "version_minor": 0
      },
      "text/plain": [
       "  0%|          | 0/45 [00:00<?, ?it/s]"
      ]
     },
     "metadata": {},
     "output_type": "display_data"
    },
    {
     "name": "stdout",
     "output_type": "stream",
     "text": [
      "35.2932\n"
     ]
    },
    {
     "data": {
      "application/vnd.jupyter.widget-view+json": {
       "model_id": "c1e7c4061cbd43ada5e057716aaba1c1",
       "version_major": 2,
       "version_minor": 0
      },
      "text/plain": [
       "  0%|          | 0/45 [00:00<?, ?it/s]"
      ]
     },
     "metadata": {},
     "output_type": "display_data"
    },
    {
     "name": "stdout",
     "output_type": "stream",
     "text": [
      "33.3295\n"
     ]
    },
    {
     "data": {
      "application/vnd.jupyter.widget-view+json": {
       "model_id": "141fe0ced287414281cad907fdae9897",
       "version_major": 2,
       "version_minor": 0
      },
      "text/plain": [
       "  0%|          | 0/45 [00:00<?, ?it/s]"
      ]
     },
     "metadata": {},
     "output_type": "display_data"
    },
    {
     "name": "stdout",
     "output_type": "stream",
     "text": [
      "32.7473\n"
     ]
    },
    {
     "data": {
      "application/vnd.jupyter.widget-view+json": {
       "model_id": "63d75ef76c7a41efb424e6e50e730e76",
       "version_major": 2,
       "version_minor": 0
      },
      "text/plain": [
       "  0%|          | 0/45 [00:00<?, ?it/s]"
      ]
     },
     "metadata": {},
     "output_type": "display_data"
    },
    {
     "name": "stdout",
     "output_type": "stream",
     "text": [
      "32.2369\n"
     ]
    },
    {
     "data": {
      "application/vnd.jupyter.widget-view+json": {
       "model_id": "27948417860c49018cc1a4b879094d65",
       "version_major": 2,
       "version_minor": 0
      },
      "text/plain": [
       "  0%|          | 0/45 [00:00<?, ?it/s]"
      ]
     },
     "metadata": {},
     "output_type": "display_data"
    },
    {
     "name": "stdout",
     "output_type": "stream",
     "text": [
      "29.4413\n"
     ]
    },
    {
     "data": {
      "application/vnd.jupyter.widget-view+json": {
       "model_id": "be0726c94b1c448689f5be4b9b7c9ab7",
       "version_major": 2,
       "version_minor": 0
      },
      "text/plain": [
       "  0%|          | 0/45 [00:00<?, ?it/s]"
      ]
     },
     "metadata": {},
     "output_type": "display_data"
    },
    {
     "name": "stdout",
     "output_type": "stream",
     "text": [
      "36.528\n"
     ]
    },
    {
     "data": {
      "application/vnd.jupyter.widget-view+json": {
       "model_id": "7cce55615ad146f8924ef56bb7c04aa7",
       "version_major": 2,
       "version_minor": 0
      },
      "text/plain": [
       "  0%|          | 0/45 [00:00<?, ?it/s]"
      ]
     },
     "metadata": {},
     "output_type": "display_data"
    },
    {
     "name": "stdout",
     "output_type": "stream",
     "text": [
      "33.4031\n"
     ]
    },
    {
     "data": {
      "application/vnd.jupyter.widget-view+json": {
       "model_id": "5c492a7396814f3db82542797a76789c",
       "version_major": 2,
       "version_minor": 0
      },
      "text/plain": [
       "  0%|          | 0/45 [00:00<?, ?it/s]"
      ]
     },
     "metadata": {},
     "output_type": "display_data"
    },
    {
     "name": "stdout",
     "output_type": "stream",
     "text": [
      "39.4351\n"
     ]
    },
    {
     "data": {
      "application/vnd.jupyter.widget-view+json": {
       "model_id": "d4604443eefe4a50be38289ade5c97eb",
       "version_major": 2,
       "version_minor": 0
      },
      "text/plain": [
       "  0%|          | 0/45 [00:00<?, ?it/s]"
      ]
     },
     "metadata": {},
     "output_type": "display_data"
    },
    {
     "name": "stdout",
     "output_type": "stream",
     "text": [
      "26.5637\n"
     ]
    },
    {
     "data": {
      "application/vnd.jupyter.widget-view+json": {
       "model_id": "6e48aa90a7db4a409cde8f9f23a726a1",
       "version_major": 2,
       "version_minor": 0
      },
      "text/plain": [
       "  0%|          | 0/45 [00:00<?, ?it/s]"
      ]
     },
     "metadata": {},
     "output_type": "display_data"
    },
    {
     "name": "stdout",
     "output_type": "stream",
     "text": [
      "29.1427\n"
     ]
    },
    {
     "data": {
      "application/vnd.jupyter.widget-view+json": {
       "model_id": "c0a0e9b05896470f92fb6552422c7fd1",
       "version_major": 2,
       "version_minor": 0
      },
      "text/plain": [
       "  0%|          | 0/45 [00:00<?, ?it/s]"
      ]
     },
     "metadata": {},
     "output_type": "display_data"
    },
    {
     "name": "stdout",
     "output_type": "stream",
     "text": [
      "25.0895\n"
     ]
    },
    {
     "data": {
      "application/vnd.jupyter.widget-view+json": {
       "model_id": "dfc5f624784e4853b67dfadeafb1c744",
       "version_major": 2,
       "version_minor": 0
      },
      "text/plain": [
       "  0%|          | 0/45 [00:00<?, ?it/s]"
      ]
     },
     "metadata": {},
     "output_type": "display_data"
    },
    {
     "name": "stdout",
     "output_type": "stream",
     "text": [
      "26.9789\n"
     ]
    },
    {
     "data": {
      "application/vnd.jupyter.widget-view+json": {
       "model_id": "0f3a6207f27c4a3fbd73a3eb9fcca732",
       "version_major": 2,
       "version_minor": 0
      },
      "text/plain": [
       "  0%|          | 0/45 [00:00<?, ?it/s]"
      ]
     },
     "metadata": {},
     "output_type": "display_data"
    },
    {
     "name": "stdout",
     "output_type": "stream",
     "text": [
      "28.0774\n"
     ]
    },
    {
     "data": {
      "application/vnd.jupyter.widget-view+json": {
       "model_id": "37386be3611448da9c409abecd7e136f",
       "version_major": 2,
       "version_minor": 0
      },
      "text/plain": [
       "  0%|          | 0/45 [00:00<?, ?it/s]"
      ]
     },
     "metadata": {},
     "output_type": "display_data"
    },
    {
     "name": "stdout",
     "output_type": "stream",
     "text": [
      "31.5245\n"
     ]
    },
    {
     "data": {
      "application/vnd.jupyter.widget-view+json": {
       "model_id": "9e44c3f87fd042468bd4cc2344438c37",
       "version_major": 2,
       "version_minor": 0
      },
      "text/plain": [
       "  0%|          | 0/45 [00:00<?, ?it/s]"
      ]
     },
     "metadata": {},
     "output_type": "display_data"
    },
    {
     "name": "stdout",
     "output_type": "stream",
     "text": [
      "30.5553\n"
     ]
    },
    {
     "data": {
      "application/vnd.jupyter.widget-view+json": {
       "model_id": "b2411db02bca4e8e9bf6ccc95de64767",
       "version_major": 2,
       "version_minor": 0
      },
      "text/plain": [
       "  0%|          | 0/45 [00:00<?, ?it/s]"
      ]
     },
     "metadata": {},
     "output_type": "display_data"
    },
    {
     "name": "stdout",
     "output_type": "stream",
     "text": [
      "33.5582\n"
     ]
    },
    {
     "data": {
      "application/vnd.jupyter.widget-view+json": {
       "model_id": "a5d95f1aeca546a29a46089a0e858ced",
       "version_major": 2,
       "version_minor": 0
      },
      "text/plain": [
       "  0%|          | 0/45 [00:00<?, ?it/s]"
      ]
     },
     "metadata": {},
     "output_type": "display_data"
    },
    {
     "name": "stdout",
     "output_type": "stream",
     "text": [
      "27.1192\n"
     ]
    },
    {
     "data": {
      "application/vnd.jupyter.widget-view+json": {
       "model_id": "5bc812fbfc2b401aa5671d2a85dedaff",
       "version_major": 2,
       "version_minor": 0
      },
      "text/plain": [
       "  0%|          | 0/45 [00:00<?, ?it/s]"
      ]
     },
     "metadata": {},
     "output_type": "display_data"
    },
    {
     "name": "stdout",
     "output_type": "stream",
     "text": [
      "29.7487\n",
      "30.797236999999985\n"
     ]
    }
   ],
   "source": [
    "total_clip_score = 0\n",
    "for prompt in prompts:\n",
    "  num_inference_steps = 45\n",
    "\n",
    "  image = pipe(prompt=prompt, num_inference_steps=num_inference_steps, guidance_scale=8.0, output_type='np' ).images\n",
    "  # image = ldm([prompt], num_inference_steps=num_inference_steps, eta=0.3, guidance_scale=6, output_type='np').images\n",
    "\n",
    "  img_clip_score = calculate_clip_score(image, prompt)\n",
    "  total_clip_score += img_clip_score\n",
    "  print(img_clip_score)\n",
    "\n",
    "# clip score:\n",
    "total_clip_score = total_clip_score/100\n",
    "print(total_clip_score)"
   ]
  },
  {
   "cell_type": "code",
   "execution_count": 63,
   "metadata": {
    "scrolled": true
   },
   "outputs": [
    {
     "data": {
      "application/vnd.jupyter.widget-view+json": {
       "model_id": "b7fa14110de3407f82c428739533c3b0",
       "version_major": 2,
       "version_minor": 0
      },
      "text/plain": [
       "  0%|          | 0/45 [00:00<?, ?it/s]"
      ]
     },
     "metadata": {},
     "output_type": "display_data"
    },
    {
     "name": "stdout",
     "output_type": "stream",
     "text": [
      "tensor([[0.3633]], device='cuda:0', dtype=torch.float16)\n"
     ]
    },
    {
     "data": {
      "application/vnd.jupyter.widget-view+json": {
       "model_id": "07ef4edeef694e309aa8a809d0ce2a26",
       "version_major": 2,
       "version_minor": 0
      },
      "text/plain": [
       "  0%|          | 0/45 [00:00<?, ?it/s]"
      ]
     },
     "metadata": {},
     "output_type": "display_data"
    },
    {
     "name": "stdout",
     "output_type": "stream",
     "text": [
      "tensor([[0.3296]], device='cuda:0', dtype=torch.float16)\n"
     ]
    },
    {
     "data": {
      "application/vnd.jupyter.widget-view+json": {
       "model_id": "0959b5c1e01142afa741fbecf7af2be9",
       "version_major": 2,
       "version_minor": 0
      },
      "text/plain": [
       "  0%|          | 0/45 [00:00<?, ?it/s]"
      ]
     },
     "metadata": {},
     "output_type": "display_data"
    },
    {
     "name": "stdout",
     "output_type": "stream",
     "text": [
      "tensor([[0.2891]], device='cuda:0', dtype=torch.float16)\n"
     ]
    },
    {
     "data": {
      "application/vnd.jupyter.widget-view+json": {
       "model_id": "b38490d1df2841cc95444b4951bd2447",
       "version_major": 2,
       "version_minor": 0
      },
      "text/plain": [
       "  0%|          | 0/45 [00:00<?, ?it/s]"
      ]
     },
     "metadata": {},
     "output_type": "display_data"
    },
    {
     "name": "stdout",
     "output_type": "stream",
     "text": [
      "tensor([[0.3206]], device='cuda:0', dtype=torch.float16)\n"
     ]
    },
    {
     "data": {
      "application/vnd.jupyter.widget-view+json": {
       "model_id": "10efbb3deda748a0b9630201eaae579d",
       "version_major": 2,
       "version_minor": 0
      },
      "text/plain": [
       "  0%|          | 0/45 [00:00<?, ?it/s]"
      ]
     },
     "metadata": {},
     "output_type": "display_data"
    },
    {
     "name": "stdout",
     "output_type": "stream",
     "text": [
      "tensor([[0.3557]], device='cuda:0', dtype=torch.float16)\n"
     ]
    },
    {
     "data": {
      "application/vnd.jupyter.widget-view+json": {
       "model_id": "d47a13c48076428399546298bb50fc5c",
       "version_major": 2,
       "version_minor": 0
      },
      "text/plain": [
       "  0%|          | 0/45 [00:00<?, ?it/s]"
      ]
     },
     "metadata": {},
     "output_type": "display_data"
    },
    {
     "name": "stdout",
     "output_type": "stream",
     "text": [
      "tensor([[0.3481]], device='cuda:0', dtype=torch.float16)\n"
     ]
    },
    {
     "data": {
      "application/vnd.jupyter.widget-view+json": {
       "model_id": "0279d2f8a5cc47faa6f81c0ad2aba9cf",
       "version_major": 2,
       "version_minor": 0
      },
      "text/plain": [
       "  0%|          | 0/45 [00:00<?, ?it/s]"
      ]
     },
     "metadata": {},
     "output_type": "display_data"
    },
    {
     "name": "stdout",
     "output_type": "stream",
     "text": [
      "tensor([[0.3528]], device='cuda:0', dtype=torch.float16)\n"
     ]
    },
    {
     "data": {
      "application/vnd.jupyter.widget-view+json": {
       "model_id": "7c6ebf9c4036498988ed1aa9a3fbe47a",
       "version_major": 2,
       "version_minor": 0
      },
      "text/plain": [
       "  0%|          | 0/45 [00:00<?, ?it/s]"
      ]
     },
     "metadata": {},
     "output_type": "display_data"
    },
    {
     "name": "stdout",
     "output_type": "stream",
     "text": [
      "tensor([[0.3479]], device='cuda:0', dtype=torch.float16)\n"
     ]
    },
    {
     "data": {
      "application/vnd.jupyter.widget-view+json": {
       "model_id": "150dcc69680e4444a30c0576f625fb2b",
       "version_major": 2,
       "version_minor": 0
      },
      "text/plain": [
       "  0%|          | 0/45 [00:00<?, ?it/s]"
      ]
     },
     "metadata": {},
     "output_type": "display_data"
    },
    {
     "name": "stdout",
     "output_type": "stream",
     "text": [
      "tensor([[0.3555]], device='cuda:0', dtype=torch.float16)\n"
     ]
    },
    {
     "data": {
      "application/vnd.jupyter.widget-view+json": {
       "model_id": "13a2758579cc414c9f4c584328c9192a",
       "version_major": 2,
       "version_minor": 0
      },
      "text/plain": [
       "  0%|          | 0/45 [00:00<?, ?it/s]"
      ]
     },
     "metadata": {},
     "output_type": "display_data"
    },
    {
     "name": "stdout",
     "output_type": "stream",
     "text": [
      "tensor([[0.3113]], device='cuda:0', dtype=torch.float16)\n"
     ]
    },
    {
     "data": {
      "application/vnd.jupyter.widget-view+json": {
       "model_id": "31f9bc07b1ad403f84ccc0ffb43a6844",
       "version_major": 2,
       "version_minor": 0
      },
      "text/plain": [
       "  0%|          | 0/45 [00:00<?, ?it/s]"
      ]
     },
     "metadata": {},
     "output_type": "display_data"
    },
    {
     "name": "stdout",
     "output_type": "stream",
     "text": [
      "tensor([[0.3394]], device='cuda:0', dtype=torch.float16)\n"
     ]
    },
    {
     "data": {
      "application/vnd.jupyter.widget-view+json": {
       "model_id": "b71589cadfe7431e9cd4ba960df26fa2",
       "version_major": 2,
       "version_minor": 0
      },
      "text/plain": [
       "  0%|          | 0/45 [00:00<?, ?it/s]"
      ]
     },
     "metadata": {},
     "output_type": "display_data"
    },
    {
     "name": "stdout",
     "output_type": "stream",
     "text": [
      "tensor([[0.3435]], device='cuda:0', dtype=torch.float16)\n"
     ]
    },
    {
     "data": {
      "application/vnd.jupyter.widget-view+json": {
       "model_id": "42a11f206e6140a8959182f36be3db9a",
       "version_major": 2,
       "version_minor": 0
      },
      "text/plain": [
       "  0%|          | 0/45 [00:00<?, ?it/s]"
      ]
     },
     "metadata": {},
     "output_type": "display_data"
    },
    {
     "name": "stdout",
     "output_type": "stream",
     "text": [
      "tensor([[0.3511]], device='cuda:0', dtype=torch.float16)\n"
     ]
    },
    {
     "data": {
      "application/vnd.jupyter.widget-view+json": {
       "model_id": "f76bdec57a1242c095d9158ca0edb3eb",
       "version_major": 2,
       "version_minor": 0
      },
      "text/plain": [
       "  0%|          | 0/45 [00:00<?, ?it/s]"
      ]
     },
     "metadata": {},
     "output_type": "display_data"
    },
    {
     "name": "stdout",
     "output_type": "stream",
     "text": [
      "tensor([[0.2639]], device='cuda:0', dtype=torch.float16)\n"
     ]
    },
    {
     "data": {
      "application/vnd.jupyter.widget-view+json": {
       "model_id": "b76a2b8838f344c78316b7e482bddcda",
       "version_major": 2,
       "version_minor": 0
      },
      "text/plain": [
       "  0%|          | 0/45 [00:00<?, ?it/s]"
      ]
     },
     "metadata": {},
     "output_type": "display_data"
    },
    {
     "name": "stdout",
     "output_type": "stream",
     "text": [
      "tensor([[0.3682]], device='cuda:0', dtype=torch.float16)\n"
     ]
    },
    {
     "data": {
      "application/vnd.jupyter.widget-view+json": {
       "model_id": "e5c92000ae674cd381d64920a9e6dbe7",
       "version_major": 2,
       "version_minor": 0
      },
      "text/plain": [
       "  0%|          | 0/45 [00:00<?, ?it/s]"
      ]
     },
     "metadata": {},
     "output_type": "display_data"
    },
    {
     "name": "stdout",
     "output_type": "stream",
     "text": [
      "tensor([[0.2837]], device='cuda:0', dtype=torch.float16)\n"
     ]
    },
    {
     "data": {
      "application/vnd.jupyter.widget-view+json": {
       "model_id": "bf7c7b1ab9164f44ab90be5811544fef",
       "version_major": 2,
       "version_minor": 0
      },
      "text/plain": [
       "  0%|          | 0/45 [00:00<?, ?it/s]"
      ]
     },
     "metadata": {},
     "output_type": "display_data"
    },
    {
     "name": "stdout",
     "output_type": "stream",
     "text": [
      "tensor([[0.3213]], device='cuda:0', dtype=torch.float16)\n"
     ]
    },
    {
     "data": {
      "application/vnd.jupyter.widget-view+json": {
       "model_id": "3ecd6ed8df0a42129893864c730a3831",
       "version_major": 2,
       "version_minor": 0
      },
      "text/plain": [
       "  0%|          | 0/45 [00:00<?, ?it/s]"
      ]
     },
     "metadata": {},
     "output_type": "display_data"
    },
    {
     "name": "stdout",
     "output_type": "stream",
     "text": [
      "tensor([[0.3293]], device='cuda:0', dtype=torch.float16)\n"
     ]
    },
    {
     "data": {
      "application/vnd.jupyter.widget-view+json": {
       "model_id": "cc4bdb4ae9b14076b6707251a5ffb77a",
       "version_major": 2,
       "version_minor": 0
      },
      "text/plain": [
       "  0%|          | 0/45 [00:00<?, ?it/s]"
      ]
     },
     "metadata": {},
     "output_type": "display_data"
    },
    {
     "name": "stdout",
     "output_type": "stream",
     "text": [
      "tensor([[0.2974]], device='cuda:0', dtype=torch.float16)\n"
     ]
    },
    {
     "data": {
      "application/vnd.jupyter.widget-view+json": {
       "model_id": "2c14c0f2ddee4045bf2752bd80abb24b",
       "version_major": 2,
       "version_minor": 0
      },
      "text/plain": [
       "  0%|          | 0/45 [00:00<?, ?it/s]"
      ]
     },
     "metadata": {},
     "output_type": "display_data"
    },
    {
     "name": "stdout",
     "output_type": "stream",
     "text": [
      "tensor([[0.3135]], device='cuda:0', dtype=torch.float16)\n"
     ]
    },
    {
     "data": {
      "application/vnd.jupyter.widget-view+json": {
       "model_id": "bf720e0bdfd441d7acb86d35c8fb8b3d",
       "version_major": 2,
       "version_minor": 0
      },
      "text/plain": [
       "  0%|          | 0/45 [00:00<?, ?it/s]"
      ]
     },
     "metadata": {},
     "output_type": "display_data"
    },
    {
     "name": "stdout",
     "output_type": "stream",
     "text": [
      "tensor([[0.3218]], device='cuda:0', dtype=torch.float16)\n"
     ]
    },
    {
     "data": {
      "application/vnd.jupyter.widget-view+json": {
       "model_id": "2fc4d73a4b064940801d6d37b5af50ad",
       "version_major": 2,
       "version_minor": 0
      },
      "text/plain": [
       "  0%|          | 0/45 [00:00<?, ?it/s]"
      ]
     },
     "metadata": {},
     "output_type": "display_data"
    },
    {
     "name": "stdout",
     "output_type": "stream",
     "text": [
      "tensor([[0.2820]], device='cuda:0', dtype=torch.float16)\n"
     ]
    },
    {
     "data": {
      "application/vnd.jupyter.widget-view+json": {
       "model_id": "6245361df8a4497fa72438dfccc45672",
       "version_major": 2,
       "version_minor": 0
      },
      "text/plain": [
       "  0%|          | 0/45 [00:00<?, ?it/s]"
      ]
     },
     "metadata": {},
     "output_type": "display_data"
    },
    {
     "name": "stdout",
     "output_type": "stream",
     "text": [
      "tensor([[0.2976]], device='cuda:0', dtype=torch.float16)\n"
     ]
    },
    {
     "data": {
      "application/vnd.jupyter.widget-view+json": {
       "model_id": "a7e3073260a04a7ba959115fe7891d68",
       "version_major": 2,
       "version_minor": 0
      },
      "text/plain": [
       "  0%|          | 0/45 [00:00<?, ?it/s]"
      ]
     },
     "metadata": {},
     "output_type": "display_data"
    },
    {
     "name": "stdout",
     "output_type": "stream",
     "text": [
      "tensor([[0.2966]], device='cuda:0', dtype=torch.float16)\n"
     ]
    },
    {
     "data": {
      "application/vnd.jupyter.widget-view+json": {
       "model_id": "d9ed66aeec22441fbaaf8a644a4480c9",
       "version_major": 2,
       "version_minor": 0
      },
      "text/plain": [
       "  0%|          | 0/45 [00:00<?, ?it/s]"
      ]
     },
     "metadata": {},
     "output_type": "display_data"
    },
    {
     "name": "stdout",
     "output_type": "stream",
     "text": [
      "tensor([[0.3279]], device='cuda:0', dtype=torch.float16)\n"
     ]
    },
    {
     "data": {
      "application/vnd.jupyter.widget-view+json": {
       "model_id": "20addcb079ef424199e0762cca45e715",
       "version_major": 2,
       "version_minor": 0
      },
      "text/plain": [
       "  0%|          | 0/45 [00:00<?, ?it/s]"
      ]
     },
     "metadata": {},
     "output_type": "display_data"
    },
    {
     "name": "stdout",
     "output_type": "stream",
     "text": [
      "tensor([[0.3174]], device='cuda:0', dtype=torch.float16)\n"
     ]
    },
    {
     "data": {
      "application/vnd.jupyter.widget-view+json": {
       "model_id": "79e18256d6cd48ef812d5c0083dc8d70",
       "version_major": 2,
       "version_minor": 0
      },
      "text/plain": [
       "  0%|          | 0/45 [00:00<?, ?it/s]"
      ]
     },
     "metadata": {},
     "output_type": "display_data"
    },
    {
     "name": "stdout",
     "output_type": "stream",
     "text": [
      "tensor([[0.2505]], device='cuda:0', dtype=torch.float16)\n"
     ]
    },
    {
     "data": {
      "application/vnd.jupyter.widget-view+json": {
       "model_id": "9b1077b1ba9842e0af3b75c7b37b6a9a",
       "version_major": 2,
       "version_minor": 0
      },
      "text/plain": [
       "  0%|          | 0/45 [00:00<?, ?it/s]"
      ]
     },
     "metadata": {},
     "output_type": "display_data"
    },
    {
     "name": "stdout",
     "output_type": "stream",
     "text": [
      "tensor([[0.2922]], device='cuda:0', dtype=torch.float16)\n"
     ]
    },
    {
     "data": {
      "application/vnd.jupyter.widget-view+json": {
       "model_id": "7370df2ca0374afc8817487a1c64aef8",
       "version_major": 2,
       "version_minor": 0
      },
      "text/plain": [
       "  0%|          | 0/45 [00:00<?, ?it/s]"
      ]
     },
     "metadata": {},
     "output_type": "display_data"
    },
    {
     "name": "stdout",
     "output_type": "stream",
     "text": [
      "tensor([[0.3198]], device='cuda:0', dtype=torch.float16)\n"
     ]
    },
    {
     "data": {
      "application/vnd.jupyter.widget-view+json": {
       "model_id": "b5245f1f3db14fc9bd995a7eb87d6875",
       "version_major": 2,
       "version_minor": 0
      },
      "text/plain": [
       "  0%|          | 0/45 [00:00<?, ?it/s]"
      ]
     },
     "metadata": {},
     "output_type": "display_data"
    },
    {
     "name": "stdout",
     "output_type": "stream",
     "text": [
      "tensor([[0.2891]], device='cuda:0', dtype=torch.float16)\n"
     ]
    },
    {
     "data": {
      "application/vnd.jupyter.widget-view+json": {
       "model_id": "1d7705e45b564245847ae217c5dfc0c9",
       "version_major": 2,
       "version_minor": 0
      },
      "text/plain": [
       "  0%|          | 0/45 [00:00<?, ?it/s]"
      ]
     },
     "metadata": {},
     "output_type": "display_data"
    },
    {
     "name": "stdout",
     "output_type": "stream",
     "text": [
      "tensor([[0.2654]], device='cuda:0', dtype=torch.float16)\n"
     ]
    },
    {
     "data": {
      "application/vnd.jupyter.widget-view+json": {
       "model_id": "1fdafcb3f072464fa03294c6b5c4702c",
       "version_major": 2,
       "version_minor": 0
      },
      "text/plain": [
       "  0%|          | 0/45 [00:00<?, ?it/s]"
      ]
     },
     "metadata": {},
     "output_type": "display_data"
    },
    {
     "name": "stdout",
     "output_type": "stream",
     "text": [
      "tensor([[0.3027]], device='cuda:0', dtype=torch.float16)\n"
     ]
    },
    {
     "data": {
      "application/vnd.jupyter.widget-view+json": {
       "model_id": "363f8c46f20f4457bc019688741e5576",
       "version_major": 2,
       "version_minor": 0
      },
      "text/plain": [
       "  0%|          | 0/45 [00:00<?, ?it/s]"
      ]
     },
     "metadata": {},
     "output_type": "display_data"
    },
    {
     "name": "stdout",
     "output_type": "stream",
     "text": [
      "tensor([[0.2827]], device='cuda:0', dtype=torch.float16)\n"
     ]
    },
    {
     "data": {
      "application/vnd.jupyter.widget-view+json": {
       "model_id": "69f87b339d8345839f7085cb23219bbb",
       "version_major": 2,
       "version_minor": 0
      },
      "text/plain": [
       "  0%|          | 0/45 [00:00<?, ?it/s]"
      ]
     },
     "metadata": {},
     "output_type": "display_data"
    },
    {
     "name": "stdout",
     "output_type": "stream",
     "text": [
      "tensor([[0.3020]], device='cuda:0', dtype=torch.float16)\n"
     ]
    },
    {
     "data": {
      "application/vnd.jupyter.widget-view+json": {
       "model_id": "551952c853284ff6be2203f1b5fbe7ea",
       "version_major": 2,
       "version_minor": 0
      },
      "text/plain": [
       "  0%|          | 0/45 [00:00<?, ?it/s]"
      ]
     },
     "metadata": {},
     "output_type": "display_data"
    },
    {
     "name": "stdout",
     "output_type": "stream",
     "text": [
      "tensor([[0.2737]], device='cuda:0', dtype=torch.float16)\n"
     ]
    },
    {
     "data": {
      "application/vnd.jupyter.widget-view+json": {
       "model_id": "69999d55f92b46b6bc277f350860003c",
       "version_major": 2,
       "version_minor": 0
      },
      "text/plain": [
       "  0%|          | 0/45 [00:00<?, ?it/s]"
      ]
     },
     "metadata": {},
     "output_type": "display_data"
    },
    {
     "name": "stdout",
     "output_type": "stream",
     "text": [
      "tensor([[0.3157]], device='cuda:0', dtype=torch.float16)\n"
     ]
    },
    {
     "data": {
      "application/vnd.jupyter.widget-view+json": {
       "model_id": "172674c99bcf415fbc3610741393906a",
       "version_major": 2,
       "version_minor": 0
      },
      "text/plain": [
       "  0%|          | 0/45 [00:00<?, ?it/s]"
      ]
     },
     "metadata": {},
     "output_type": "display_data"
    },
    {
     "name": "stdout",
     "output_type": "stream",
     "text": [
      "tensor([[0.3362]], device='cuda:0', dtype=torch.float16)\n"
     ]
    },
    {
     "data": {
      "application/vnd.jupyter.widget-view+json": {
       "model_id": "f25b6bd10b184c0d90c1fe8de88f3269",
       "version_major": 2,
       "version_minor": 0
      },
      "text/plain": [
       "  0%|          | 0/45 [00:00<?, ?it/s]"
      ]
     },
     "metadata": {},
     "output_type": "display_data"
    },
    {
     "name": "stdout",
     "output_type": "stream",
     "text": [
      "tensor([[0.2937]], device='cuda:0', dtype=torch.float16)\n"
     ]
    },
    {
     "data": {
      "application/vnd.jupyter.widget-view+json": {
       "model_id": "2aa09bcdc08d493e81c889518908a13b",
       "version_major": 2,
       "version_minor": 0
      },
      "text/plain": [
       "  0%|          | 0/45 [00:00<?, ?it/s]"
      ]
     },
     "metadata": {},
     "output_type": "display_data"
    },
    {
     "name": "stdout",
     "output_type": "stream",
     "text": [
      "tensor([[0.3093]], device='cuda:0', dtype=torch.float16)\n"
     ]
    },
    {
     "data": {
      "application/vnd.jupyter.widget-view+json": {
       "model_id": "4b346d04e0014c63a54a6da4eab8feb2",
       "version_major": 2,
       "version_minor": 0
      },
      "text/plain": [
       "  0%|          | 0/45 [00:00<?, ?it/s]"
      ]
     },
     "metadata": {},
     "output_type": "display_data"
    },
    {
     "name": "stdout",
     "output_type": "stream",
     "text": [
      "tensor([[0.2949]], device='cuda:0', dtype=torch.float16)\n"
     ]
    },
    {
     "data": {
      "application/vnd.jupyter.widget-view+json": {
       "model_id": "7cf481aa51224109b85238a73d3d2c7a",
       "version_major": 2,
       "version_minor": 0
      },
      "text/plain": [
       "  0%|          | 0/45 [00:00<?, ?it/s]"
      ]
     },
     "metadata": {},
     "output_type": "display_data"
    },
    {
     "name": "stdout",
     "output_type": "stream",
     "text": [
      "tensor([[0.2900]], device='cuda:0', dtype=torch.float16)\n"
     ]
    },
    {
     "data": {
      "application/vnd.jupyter.widget-view+json": {
       "model_id": "bb859d4a96654534b4932e690fe4af42",
       "version_major": 2,
       "version_minor": 0
      },
      "text/plain": [
       "  0%|          | 0/45 [00:00<?, ?it/s]"
      ]
     },
     "metadata": {},
     "output_type": "display_data"
    },
    {
     "name": "stdout",
     "output_type": "stream",
     "text": [
      "tensor([[0.3025]], device='cuda:0', dtype=torch.float16)\n"
     ]
    },
    {
     "data": {
      "application/vnd.jupyter.widget-view+json": {
       "model_id": "f224332b624b403f896e21388ffbd58b",
       "version_major": 2,
       "version_minor": 0
      },
      "text/plain": [
       "  0%|          | 0/45 [00:00<?, ?it/s]"
      ]
     },
     "metadata": {},
     "output_type": "display_data"
    },
    {
     "name": "stdout",
     "output_type": "stream",
     "text": [
      "tensor([[0.3179]], device='cuda:0', dtype=torch.float16)\n"
     ]
    },
    {
     "data": {
      "application/vnd.jupyter.widget-view+json": {
       "model_id": "cbb4a96b22c848d0bf7f556525fc2138",
       "version_major": 2,
       "version_minor": 0
      },
      "text/plain": [
       "  0%|          | 0/45 [00:00<?, ?it/s]"
      ]
     },
     "metadata": {},
     "output_type": "display_data"
    },
    {
     "name": "stdout",
     "output_type": "stream",
     "text": [
      "tensor([[0.2964]], device='cuda:0', dtype=torch.float16)\n"
     ]
    },
    {
     "data": {
      "application/vnd.jupyter.widget-view+json": {
       "model_id": "4b5f8315fdc945d5bdb673488e3e2169",
       "version_major": 2,
       "version_minor": 0
      },
      "text/plain": [
       "  0%|          | 0/45 [00:00<?, ?it/s]"
      ]
     },
     "metadata": {},
     "output_type": "display_data"
    },
    {
     "name": "stdout",
     "output_type": "stream",
     "text": [
      "tensor([[0.2891]], device='cuda:0', dtype=torch.float16)\n"
     ]
    },
    {
     "data": {
      "application/vnd.jupyter.widget-view+json": {
       "model_id": "cb1d205e8c8c4278b336a49b3791200e",
       "version_major": 2,
       "version_minor": 0
      },
      "text/plain": [
       "  0%|          | 0/45 [00:00<?, ?it/s]"
      ]
     },
     "metadata": {},
     "output_type": "display_data"
    },
    {
     "name": "stdout",
     "output_type": "stream",
     "text": [
      "tensor([[0.2898]], device='cuda:0', dtype=torch.float16)\n"
     ]
    },
    {
     "data": {
      "application/vnd.jupyter.widget-view+json": {
       "model_id": "091f638e2d81417a939544fc0cd1088d",
       "version_major": 2,
       "version_minor": 0
      },
      "text/plain": [
       "  0%|          | 0/45 [00:00<?, ?it/s]"
      ]
     },
     "metadata": {},
     "output_type": "display_data"
    },
    {
     "name": "stdout",
     "output_type": "stream",
     "text": [
      "tensor([[0.2993]], device='cuda:0', dtype=torch.float16)\n"
     ]
    },
    {
     "data": {
      "application/vnd.jupyter.widget-view+json": {
       "model_id": "dcab9c279de941f598cef40faf6025ad",
       "version_major": 2,
       "version_minor": 0
      },
      "text/plain": [
       "  0%|          | 0/45 [00:00<?, ?it/s]"
      ]
     },
     "metadata": {},
     "output_type": "display_data"
    },
    {
     "name": "stdout",
     "output_type": "stream",
     "text": [
      "tensor([[0.2974]], device='cuda:0', dtype=torch.float16)\n"
     ]
    },
    {
     "data": {
      "application/vnd.jupyter.widget-view+json": {
       "model_id": "6b5aed757b804996af030a048c0a526b",
       "version_major": 2,
       "version_minor": 0
      },
      "text/plain": [
       "  0%|          | 0/45 [00:00<?, ?it/s]"
      ]
     },
     "metadata": {},
     "output_type": "display_data"
    },
    {
     "name": "stdout",
     "output_type": "stream",
     "text": [
      "tensor([[0.2498]], device='cuda:0', dtype=torch.float16)\n"
     ]
    },
    {
     "data": {
      "application/vnd.jupyter.widget-view+json": {
       "model_id": "dc1987f6c4f64aee93938e67309b9072",
       "version_major": 2,
       "version_minor": 0
      },
      "text/plain": [
       "  0%|          | 0/45 [00:00<?, ?it/s]"
      ]
     },
     "metadata": {},
     "output_type": "display_data"
    },
    {
     "name": "stdout",
     "output_type": "stream",
     "text": [
      "tensor([[0.2964]], device='cuda:0', dtype=torch.float16)\n"
     ]
    },
    {
     "data": {
      "application/vnd.jupyter.widget-view+json": {
       "model_id": "b8e26399156d47ebafa062e674d9a4b5",
       "version_major": 2,
       "version_minor": 0
      },
      "text/plain": [
       "  0%|          | 0/45 [00:00<?, ?it/s]"
      ]
     },
     "metadata": {},
     "output_type": "display_data"
    },
    {
     "name": "stdout",
     "output_type": "stream",
     "text": [
      "tensor([[0.3213]], device='cuda:0', dtype=torch.float16)\n"
     ]
    },
    {
     "data": {
      "application/vnd.jupyter.widget-view+json": {
       "model_id": "2ba6834dc5a445d7a2de350a67cc7889",
       "version_major": 2,
       "version_minor": 0
      },
      "text/plain": [
       "  0%|          | 0/45 [00:00<?, ?it/s]"
      ]
     },
     "metadata": {},
     "output_type": "display_data"
    },
    {
     "name": "stdout",
     "output_type": "stream",
     "text": [
      "tensor([[0.3071]], device='cuda:0', dtype=torch.float16)\n"
     ]
    },
    {
     "data": {
      "application/vnd.jupyter.widget-view+json": {
       "model_id": "6d808e1e15684406b736892352700b30",
       "version_major": 2,
       "version_minor": 0
      },
      "text/plain": [
       "  0%|          | 0/45 [00:00<?, ?it/s]"
      ]
     },
     "metadata": {},
     "output_type": "display_data"
    },
    {
     "name": "stdout",
     "output_type": "stream",
     "text": [
      "tensor([[0.3057]], device='cuda:0', dtype=torch.float16)\n"
     ]
    },
    {
     "data": {
      "application/vnd.jupyter.widget-view+json": {
       "model_id": "3a395681c81a40628d5898880c014acb",
       "version_major": 2,
       "version_minor": 0
      },
      "text/plain": [
       "  0%|          | 0/45 [00:00<?, ?it/s]"
      ]
     },
     "metadata": {},
     "output_type": "display_data"
    },
    {
     "name": "stdout",
     "output_type": "stream",
     "text": [
      "tensor([[0.3220]], device='cuda:0', dtype=torch.float16)\n"
     ]
    },
    {
     "data": {
      "application/vnd.jupyter.widget-view+json": {
       "model_id": "eeffbc6ee363429eba3f2efbc5093ba6",
       "version_major": 2,
       "version_minor": 0
      },
      "text/plain": [
       "  0%|          | 0/45 [00:00<?, ?it/s]"
      ]
     },
     "metadata": {},
     "output_type": "display_data"
    },
    {
     "name": "stdout",
     "output_type": "stream",
     "text": [
      "tensor([[0.3115]], device='cuda:0', dtype=torch.float16)\n"
     ]
    },
    {
     "data": {
      "application/vnd.jupyter.widget-view+json": {
       "model_id": "eb601b1a7be14ab0aec7c97c53a589cd",
       "version_major": 2,
       "version_minor": 0
      },
      "text/plain": [
       "  0%|          | 0/45 [00:00<?, ?it/s]"
      ]
     },
     "metadata": {},
     "output_type": "display_data"
    },
    {
     "name": "stdout",
     "output_type": "stream",
     "text": [
      "tensor([[0.2737]], device='cuda:0', dtype=torch.float16)\n"
     ]
    },
    {
     "data": {
      "application/vnd.jupyter.widget-view+json": {
       "model_id": "e0c9396a68ef408eb2f64145a0bab951",
       "version_major": 2,
       "version_minor": 0
      },
      "text/plain": [
       "  0%|          | 0/45 [00:00<?, ?it/s]"
      ]
     },
     "metadata": {},
     "output_type": "display_data"
    },
    {
     "name": "stdout",
     "output_type": "stream",
     "text": [
      "tensor([[0.2747]], device='cuda:0', dtype=torch.float16)\n"
     ]
    },
    {
     "data": {
      "application/vnd.jupyter.widget-view+json": {
       "model_id": "ed207f47aeb245e5a199760ca7c0c358",
       "version_major": 2,
       "version_minor": 0
      },
      "text/plain": [
       "  0%|          | 0/45 [00:00<?, ?it/s]"
      ]
     },
     "metadata": {},
     "output_type": "display_data"
    },
    {
     "name": "stdout",
     "output_type": "stream",
     "text": [
      "tensor([[0.2837]], device='cuda:0', dtype=torch.float16)\n"
     ]
    },
    {
     "data": {
      "application/vnd.jupyter.widget-view+json": {
       "model_id": "42170bd7e3a14646bdd11910ec30e913",
       "version_major": 2,
       "version_minor": 0
      },
      "text/plain": [
       "  0%|          | 0/45 [00:00<?, ?it/s]"
      ]
     },
     "metadata": {},
     "output_type": "display_data"
    },
    {
     "name": "stdout",
     "output_type": "stream",
     "text": [
      "tensor([[0.2954]], device='cuda:0', dtype=torch.float16)\n"
     ]
    },
    {
     "data": {
      "application/vnd.jupyter.widget-view+json": {
       "model_id": "1e3683d61f164a4e9ec1e64c77483f7b",
       "version_major": 2,
       "version_minor": 0
      },
      "text/plain": [
       "  0%|          | 0/45 [00:00<?, ?it/s]"
      ]
     },
     "metadata": {},
     "output_type": "display_data"
    },
    {
     "name": "stdout",
     "output_type": "stream",
     "text": [
      "tensor([[0.2668]], device='cuda:0', dtype=torch.float16)\n"
     ]
    },
    {
     "data": {
      "application/vnd.jupyter.widget-view+json": {
       "model_id": "802d99f6a2b14d2aa91a1893d77d0e90",
       "version_major": 2,
       "version_minor": 0
      },
      "text/plain": [
       "  0%|          | 0/45 [00:00<?, ?it/s]"
      ]
     },
     "metadata": {},
     "output_type": "display_data"
    },
    {
     "name": "stdout",
     "output_type": "stream",
     "text": [
      "tensor([[0.3516]], device='cuda:0', dtype=torch.float16)\n"
     ]
    },
    {
     "data": {
      "application/vnd.jupyter.widget-view+json": {
       "model_id": "848d6b8ee0204d1b83484c049035bb4a",
       "version_major": 2,
       "version_minor": 0
      },
      "text/plain": [
       "  0%|          | 0/45 [00:00<?, ?it/s]"
      ]
     },
     "metadata": {},
     "output_type": "display_data"
    },
    {
     "name": "stdout",
     "output_type": "stream",
     "text": [
      "tensor([[0.3198]], device='cuda:0', dtype=torch.float16)\n"
     ]
    },
    {
     "data": {
      "application/vnd.jupyter.widget-view+json": {
       "model_id": "485365064fd84b0e9a96260cbe2c32c4",
       "version_major": 2,
       "version_minor": 0
      },
      "text/plain": [
       "  0%|          | 0/45 [00:00<?, ?it/s]"
      ]
     },
     "metadata": {},
     "output_type": "display_data"
    },
    {
     "name": "stdout",
     "output_type": "stream",
     "text": [
      "tensor([[0.3052]], device='cuda:0', dtype=torch.float16)\n"
     ]
    },
    {
     "data": {
      "application/vnd.jupyter.widget-view+json": {
       "model_id": "8561eb1518cd4489952761642f15b29a",
       "version_major": 2,
       "version_minor": 0
      },
      "text/plain": [
       "  0%|          | 0/45 [00:00<?, ?it/s]"
      ]
     },
     "metadata": {},
     "output_type": "display_data"
    },
    {
     "name": "stdout",
     "output_type": "stream",
     "text": [
      "tensor([[0.2959]], device='cuda:0', dtype=torch.float16)\n"
     ]
    },
    {
     "data": {
      "application/vnd.jupyter.widget-view+json": {
       "model_id": "1e7024d01f7949b6a8424ff70750753d",
       "version_major": 2,
       "version_minor": 0
      },
      "text/plain": [
       "  0%|          | 0/45 [00:00<?, ?it/s]"
      ]
     },
     "metadata": {},
     "output_type": "display_data"
    },
    {
     "name": "stdout",
     "output_type": "stream",
     "text": [
      "tensor([[0.3108]], device='cuda:0', dtype=torch.float16)\n"
     ]
    },
    {
     "data": {
      "application/vnd.jupyter.widget-view+json": {
       "model_id": "f290682e4c10434f9dca05dd98249c39",
       "version_major": 2,
       "version_minor": 0
      },
      "text/plain": [
       "  0%|          | 0/45 [00:00<?, ?it/s]"
      ]
     },
     "metadata": {},
     "output_type": "display_data"
    },
    {
     "name": "stdout",
     "output_type": "stream",
     "text": [
      "tensor([[0.3198]], device='cuda:0', dtype=torch.float16)\n"
     ]
    },
    {
     "data": {
      "application/vnd.jupyter.widget-view+json": {
       "model_id": "b133b9d6126846fdafc27b4dff66bde2",
       "version_major": 2,
       "version_minor": 0
      },
      "text/plain": [
       "  0%|          | 0/45 [00:00<?, ?it/s]"
      ]
     },
     "metadata": {},
     "output_type": "display_data"
    },
    {
     "name": "stdout",
     "output_type": "stream",
     "text": [
      "tensor([[0.2876]], device='cuda:0', dtype=torch.float16)\n"
     ]
    },
    {
     "data": {
      "application/vnd.jupyter.widget-view+json": {
       "model_id": "c1fe617b7504494ab8725b22eb9e7b22",
       "version_major": 2,
       "version_minor": 0
      },
      "text/plain": [
       "  0%|          | 0/45 [00:00<?, ?it/s]"
      ]
     },
     "metadata": {},
     "output_type": "display_data"
    },
    {
     "name": "stdout",
     "output_type": "stream",
     "text": [
      "tensor([[0.3281]], device='cuda:0', dtype=torch.float16)\n"
     ]
    },
    {
     "data": {
      "application/vnd.jupyter.widget-view+json": {
       "model_id": "c3c68fe8c07047688ce338f511753242",
       "version_major": 2,
       "version_minor": 0
      },
      "text/plain": [
       "  0%|          | 0/45 [00:00<?, ?it/s]"
      ]
     },
     "metadata": {},
     "output_type": "display_data"
    },
    {
     "name": "stdout",
     "output_type": "stream",
     "text": [
      "tensor([[0.3181]], device='cuda:0', dtype=torch.float16)\n"
     ]
    },
    {
     "data": {
      "application/vnd.jupyter.widget-view+json": {
       "model_id": "74545ba59a554b039ecddc8f360c170b",
       "version_major": 2,
       "version_minor": 0
      },
      "text/plain": [
       "  0%|          | 0/45 [00:00<?, ?it/s]"
      ]
     },
     "metadata": {},
     "output_type": "display_data"
    },
    {
     "name": "stdout",
     "output_type": "stream",
     "text": [
      "tensor([[0.2837]], device='cuda:0', dtype=torch.float16)\n"
     ]
    },
    {
     "data": {
      "application/vnd.jupyter.widget-view+json": {
       "model_id": "62e09b045b9a4c02a2a1ce679775e6ef",
       "version_major": 2,
       "version_minor": 0
      },
      "text/plain": [
       "  0%|          | 0/45 [00:00<?, ?it/s]"
      ]
     },
     "metadata": {},
     "output_type": "display_data"
    },
    {
     "name": "stdout",
     "output_type": "stream",
     "text": [
      "tensor([[0.3274]], device='cuda:0', dtype=torch.float16)\n"
     ]
    },
    {
     "data": {
      "application/vnd.jupyter.widget-view+json": {
       "model_id": "0534d98ee2f64d1a889bff4ecab5640e",
       "version_major": 2,
       "version_minor": 0
      },
      "text/plain": [
       "  0%|          | 0/45 [00:00<?, ?it/s]"
      ]
     },
     "metadata": {},
     "output_type": "display_data"
    },
    {
     "name": "stdout",
     "output_type": "stream",
     "text": [
      "tensor([[0.2798]], device='cuda:0', dtype=torch.float16)\n"
     ]
    },
    {
     "data": {
      "application/vnd.jupyter.widget-view+json": {
       "model_id": "871df400d5024745847eff5e8f50f9a8",
       "version_major": 2,
       "version_minor": 0
      },
      "text/plain": [
       "  0%|          | 0/45 [00:00<?, ?it/s]"
      ]
     },
     "metadata": {},
     "output_type": "display_data"
    },
    {
     "name": "stdout",
     "output_type": "stream",
     "text": [
      "tensor([[0.2769]], device='cuda:0', dtype=torch.float16)\n"
     ]
    },
    {
     "data": {
      "application/vnd.jupyter.widget-view+json": {
       "model_id": "07cd8ddc9dd8494dac36921416a40b3f",
       "version_major": 2,
       "version_minor": 0
      },
      "text/plain": [
       "  0%|          | 0/45 [00:00<?, ?it/s]"
      ]
     },
     "metadata": {},
     "output_type": "display_data"
    },
    {
     "name": "stdout",
     "output_type": "stream",
     "text": [
      "tensor([[0.2937]], device='cuda:0', dtype=torch.float16)\n"
     ]
    },
    {
     "data": {
      "application/vnd.jupyter.widget-view+json": {
       "model_id": "c24d9844b6814e17a17088fa5fb79c22",
       "version_major": 2,
       "version_minor": 0
      },
      "text/plain": [
       "  0%|          | 0/45 [00:00<?, ?it/s]"
      ]
     },
     "metadata": {},
     "output_type": "display_data"
    },
    {
     "name": "stdout",
     "output_type": "stream",
     "text": [
      "tensor([[0.2944]], device='cuda:0', dtype=torch.float16)\n"
     ]
    },
    {
     "data": {
      "application/vnd.jupyter.widget-view+json": {
       "model_id": "78b5ea7cbbc0440c926e3e30cd44ac6d",
       "version_major": 2,
       "version_minor": 0
      },
      "text/plain": [
       "  0%|          | 0/45 [00:00<?, ?it/s]"
      ]
     },
     "metadata": {},
     "output_type": "display_data"
    },
    {
     "name": "stdout",
     "output_type": "stream",
     "text": [
      "tensor([[0.3472]], device='cuda:0', dtype=torch.float16)\n"
     ]
    },
    {
     "data": {
      "application/vnd.jupyter.widget-view+json": {
       "model_id": "06e31c10046645ea9da49d65e90a6ed4",
       "version_major": 2,
       "version_minor": 0
      },
      "text/plain": [
       "  0%|          | 0/45 [00:00<?, ?it/s]"
      ]
     },
     "metadata": {},
     "output_type": "display_data"
    },
    {
     "name": "stdout",
     "output_type": "stream",
     "text": [
      "tensor([[0.3479]], device='cuda:0', dtype=torch.float16)\n"
     ]
    },
    {
     "data": {
      "application/vnd.jupyter.widget-view+json": {
       "model_id": "ff2839b3e30c4617abde9fc18e2fb28d",
       "version_major": 2,
       "version_minor": 0
      },
      "text/plain": [
       "  0%|          | 0/45 [00:00<?, ?it/s]"
      ]
     },
     "metadata": {},
     "output_type": "display_data"
    },
    {
     "name": "stdout",
     "output_type": "stream",
     "text": [
      "tensor([[0.3354]], device='cuda:0', dtype=torch.float16)\n"
     ]
    },
    {
     "data": {
      "application/vnd.jupyter.widget-view+json": {
       "model_id": "45550ebc24ae41029def461d29f2d156",
       "version_major": 2,
       "version_minor": 0
      },
      "text/plain": [
       "  0%|          | 0/45 [00:00<?, ?it/s]"
      ]
     },
     "metadata": {},
     "output_type": "display_data"
    },
    {
     "name": "stdout",
     "output_type": "stream",
     "text": [
      "tensor([[0.3367]], device='cuda:0', dtype=torch.float16)\n"
     ]
    },
    {
     "data": {
      "application/vnd.jupyter.widget-view+json": {
       "model_id": "5cc944c3422a4fd6aecd2b5f2fdc5426",
       "version_major": 2,
       "version_minor": 0
      },
      "text/plain": [
       "  0%|          | 0/45 [00:00<?, ?it/s]"
      ]
     },
     "metadata": {},
     "output_type": "display_data"
    },
    {
     "name": "stdout",
     "output_type": "stream",
     "text": [
      "tensor([[0.3167]], device='cuda:0', dtype=torch.float16)\n"
     ]
    },
    {
     "data": {
      "application/vnd.jupyter.widget-view+json": {
       "model_id": "c3a4060f504c4a3e8a696f8741d0dde1",
       "version_major": 2,
       "version_minor": 0
      },
      "text/plain": [
       "  0%|          | 0/45 [00:00<?, ?it/s]"
      ]
     },
     "metadata": {},
     "output_type": "display_data"
    },
    {
     "name": "stdout",
     "output_type": "stream",
     "text": [
      "tensor([[0.3096]], device='cuda:0', dtype=torch.float16)\n"
     ]
    },
    {
     "data": {
      "application/vnd.jupyter.widget-view+json": {
       "model_id": "a7fe8ebcce494694a6b5d282bb86b3ac",
       "version_major": 2,
       "version_minor": 0
      },
      "text/plain": [
       "  0%|          | 0/45 [00:00<?, ?it/s]"
      ]
     },
     "metadata": {},
     "output_type": "display_data"
    },
    {
     "name": "stdout",
     "output_type": "stream",
     "text": [
      "tensor([[0.2856]], device='cuda:0', dtype=torch.float16)\n"
     ]
    },
    {
     "data": {
      "application/vnd.jupyter.widget-view+json": {
       "model_id": "1bfe12841a1d4239a63aefb2a00fa6ed",
       "version_major": 2,
       "version_minor": 0
      },
      "text/plain": [
       "  0%|          | 0/45 [00:00<?, ?it/s]"
      ]
     },
     "metadata": {},
     "output_type": "display_data"
    },
    {
     "name": "stdout",
     "output_type": "stream",
     "text": [
      "tensor([[0.3662]], device='cuda:0', dtype=torch.float16)\n"
     ]
    },
    {
     "data": {
      "application/vnd.jupyter.widget-view+json": {
       "model_id": "d4a3c6f767fb435695bb2b3e78ccc5c5",
       "version_major": 2,
       "version_minor": 0
      },
      "text/plain": [
       "  0%|          | 0/45 [00:00<?, ?it/s]"
      ]
     },
     "metadata": {},
     "output_type": "display_data"
    },
    {
     "name": "stdout",
     "output_type": "stream",
     "text": [
      "tensor([[0.3640]], device='cuda:0', dtype=torch.float16)\n"
     ]
    },
    {
     "data": {
      "application/vnd.jupyter.widget-view+json": {
       "model_id": "c65b8beaabfa466d8851e181508ad016",
       "version_major": 2,
       "version_minor": 0
      },
      "text/plain": [
       "  0%|          | 0/45 [00:00<?, ?it/s]"
      ]
     },
     "metadata": {},
     "output_type": "display_data"
    },
    {
     "name": "stdout",
     "output_type": "stream",
     "text": [
      "tensor([[0.3264]], device='cuda:0', dtype=torch.float16)\n"
     ]
    },
    {
     "data": {
      "application/vnd.jupyter.widget-view+json": {
       "model_id": "10f70c6e6ae64c99bdddedfef7283a53",
       "version_major": 2,
       "version_minor": 0
      },
      "text/plain": [
       "  0%|          | 0/45 [00:00<?, ?it/s]"
      ]
     },
     "metadata": {},
     "output_type": "display_data"
    },
    {
     "name": "stdout",
     "output_type": "stream",
     "text": [
      "tensor([[0.3511]], device='cuda:0', dtype=torch.float16)\n"
     ]
    },
    {
     "data": {
      "application/vnd.jupyter.widget-view+json": {
       "model_id": "e502d8e657494cfbb2568bed6a263b14",
       "version_major": 2,
       "version_minor": 0
      },
      "text/plain": [
       "  0%|          | 0/45 [00:00<?, ?it/s]"
      ]
     },
     "metadata": {},
     "output_type": "display_data"
    },
    {
     "name": "stdout",
     "output_type": "stream",
     "text": [
      "tensor([[0.3606]], device='cuda:0', dtype=torch.float16)\n"
     ]
    },
    {
     "data": {
      "application/vnd.jupyter.widget-view+json": {
       "model_id": "1ebc15fe49c247afab67722102afe307",
       "version_major": 2,
       "version_minor": 0
      },
      "text/plain": [
       "  0%|          | 0/45 [00:00<?, ?it/s]"
      ]
     },
     "metadata": {},
     "output_type": "display_data"
    },
    {
     "name": "stdout",
     "output_type": "stream",
     "text": [
      "tensor([[0.2788]], device='cuda:0', dtype=torch.float16)\n"
     ]
    },
    {
     "data": {
      "application/vnd.jupyter.widget-view+json": {
       "model_id": "84aa1c1ef11f4ae9853e29d0e9f933cb",
       "version_major": 2,
       "version_minor": 0
      },
      "text/plain": [
       "  0%|          | 0/45 [00:00<?, ?it/s]"
      ]
     },
     "metadata": {},
     "output_type": "display_data"
    },
    {
     "name": "stdout",
     "output_type": "stream",
     "text": [
      "tensor([[0.3108]], device='cuda:0', dtype=torch.float16)\n"
     ]
    },
    {
     "data": {
      "application/vnd.jupyter.widget-view+json": {
       "model_id": "3f14a79200774e0b9b0b12d169fc2b45",
       "version_major": 2,
       "version_minor": 0
      },
      "text/plain": [
       "  0%|          | 0/45 [00:00<?, ?it/s]"
      ]
     },
     "metadata": {},
     "output_type": "display_data"
    },
    {
     "name": "stdout",
     "output_type": "stream",
     "text": [
      "tensor([[0.3784]], device='cuda:0', dtype=torch.float16)\n"
     ]
    },
    {
     "data": {
      "application/vnd.jupyter.widget-view+json": {
       "model_id": "90b48a2b2e734d4aa7db7373b364cf72",
       "version_major": 2,
       "version_minor": 0
      },
      "text/plain": [
       "  0%|          | 0/45 [00:00<?, ?it/s]"
      ]
     },
     "metadata": {},
     "output_type": "display_data"
    },
    {
     "name": "stdout",
     "output_type": "stream",
     "text": [
      "tensor([[0.2856]], device='cuda:0', dtype=torch.float16)\n"
     ]
    },
    {
     "data": {
      "application/vnd.jupyter.widget-view+json": {
       "model_id": "d460de4bb8414eb2bdd77f6d0d4d5b1a",
       "version_major": 2,
       "version_minor": 0
      },
      "text/plain": [
       "  0%|          | 0/45 [00:00<?, ?it/s]"
      ]
     },
     "metadata": {},
     "output_type": "display_data"
    },
    {
     "name": "stdout",
     "output_type": "stream",
     "text": [
      "tensor([[0.3223]], device='cuda:0', dtype=torch.float16)\n"
     ]
    },
    {
     "data": {
      "application/vnd.jupyter.widget-view+json": {
       "model_id": "ae8e86868a134515b06d7c08a45aabef",
       "version_major": 2,
       "version_minor": 0
      },
      "text/plain": [
       "  0%|          | 0/45 [00:00<?, ?it/s]"
      ]
     },
     "metadata": {},
     "output_type": "display_data"
    },
    {
     "name": "stdout",
     "output_type": "stream",
     "text": [
      "tensor([[0.2681]], device='cuda:0', dtype=torch.float16)\n"
     ]
    },
    {
     "data": {
      "application/vnd.jupyter.widget-view+json": {
       "model_id": "250dd304276148af8a2387b1a8d7a22f",
       "version_major": 2,
       "version_minor": 0
      },
      "text/plain": [
       "  0%|          | 0/45 [00:00<?, ?it/s]"
      ]
     },
     "metadata": {},
     "output_type": "display_data"
    },
    {
     "name": "stdout",
     "output_type": "stream",
     "text": [
      "tensor([[0.2937]], device='cuda:0', dtype=torch.float16)\n"
     ]
    },
    {
     "data": {
      "application/vnd.jupyter.widget-view+json": {
       "model_id": "d40ada6385874dc4bcab61f5289952ea",
       "version_major": 2,
       "version_minor": 0
      },
      "text/plain": [
       "  0%|          | 0/45 [00:00<?, ?it/s]"
      ]
     },
     "metadata": {},
     "output_type": "display_data"
    },
    {
     "name": "stdout",
     "output_type": "stream",
     "text": [
      "tensor([[0.2656]], device='cuda:0', dtype=torch.float16)\n"
     ]
    },
    {
     "data": {
      "application/vnd.jupyter.widget-view+json": {
       "model_id": "65120a8d185345febbb843452dd6c086",
       "version_major": 2,
       "version_minor": 0
      },
      "text/plain": [
       "  0%|          | 0/45 [00:00<?, ?it/s]"
      ]
     },
     "metadata": {},
     "output_type": "display_data"
    },
    {
     "name": "stdout",
     "output_type": "stream",
     "text": [
      "tensor([[0.3206]], device='cuda:0', dtype=torch.float16)\n"
     ]
    },
    {
     "data": {
      "application/vnd.jupyter.widget-view+json": {
       "model_id": "35d9a487956747b1bb6b296238cdfe8f",
       "version_major": 2,
       "version_minor": 0
      },
      "text/plain": [
       "  0%|          | 0/45 [00:00<?, ?it/s]"
      ]
     },
     "metadata": {},
     "output_type": "display_data"
    },
    {
     "name": "stdout",
     "output_type": "stream",
     "text": [
      "tensor([[0.3350]], device='cuda:0', dtype=torch.float16)\n"
     ]
    },
    {
     "data": {
      "application/vnd.jupyter.widget-view+json": {
       "model_id": "0f26e9f97fb644f497b1c17535ec3149",
       "version_major": 2,
       "version_minor": 0
      },
      "text/plain": [
       "  0%|          | 0/45 [00:00<?, ?it/s]"
      ]
     },
     "metadata": {},
     "output_type": "display_data"
    },
    {
     "name": "stdout",
     "output_type": "stream",
     "text": [
      "tensor([[0.2627]], device='cuda:0', dtype=torch.float16)\n"
     ]
    },
    {
     "data": {
      "application/vnd.jupyter.widget-view+json": {
       "model_id": "0decf1b724da4387bf2a55a5afdd5885",
       "version_major": 2,
       "version_minor": 0
      },
      "text/plain": [
       "  0%|          | 0/45 [00:00<?, ?it/s]"
      ]
     },
     "metadata": {},
     "output_type": "display_data"
    },
    {
     "name": "stdout",
     "output_type": "stream",
     "text": [
      "tensor([[0.2871]], device='cuda:0', dtype=torch.float16)\n"
     ]
    },
    {
     "data": {
      "application/vnd.jupyter.widget-view+json": {
       "model_id": "756701671d5741b6a5dcba17d17a0e73",
       "version_major": 2,
       "version_minor": 0
      },
      "text/plain": [
       "  0%|          | 0/45 [00:00<?, ?it/s]"
      ]
     },
     "metadata": {},
     "output_type": "display_data"
    },
    {
     "name": "stdout",
     "output_type": "stream",
     "text": [
      "tensor([[0.2927]], device='cuda:0', dtype=torch.float16)\n",
      "tensor([[0.3096]], device='cuda:0', dtype=torch.float16)\n"
     ]
    }
   ],
   "source": [
    "import torch\n",
    "import clip\n",
    "from PIL import Image\n",
    "\n",
    "num_inference_steps = 45\n",
    "total_hps = 0\n",
    "\n",
    "for i in range(len(prompts)):\n",
    "    prompt = prompts[i]\n",
    "    \n",
    "    v14Image = pipe(prompt=prompt, num_inference_steps=num_inference_steps, guidance_scale=8.0).images[0]\n",
    "    \n",
    "    device = \"cuda\" if torch.cuda.is_available() else \"cpu\"\n",
    "    model, preprocess = clip.load(\"ViT-B/32\", device=device)\n",
    "    \n",
    "    image = preprocess(v14Image).unsqueeze(0).to(device)\n",
    "    text = clip.tokenize(prompt).to(device)\n",
    "\n",
    "    with torch.no_grad():\n",
    "        image_features = model.encode_image(image)\n",
    "        text_features = model.encode_text(text)\n",
    "    \n",
    "        image_features = image_features / image_features.norm(dim=-1, keepdim=True)\n",
    "        text_features = text_features / text_features.norm(dim=-1, keepdim=True)\n",
    "    \n",
    "        hps = image_features @ text_features.T\n",
    "        print(hps)\n",
    "    \n",
    "    total_hps += hps\n",
    "\n",
    "print(total_hps/100)"
   ]
  },
  {
   "cell_type": "code",
   "execution_count": 7,
   "metadata": {},
   "outputs": [
    {
     "data": {
      "application/vnd.jupyter.widget-view+json": {
       "model_id": "bc426f97771544549d6e3ec53613d3e6",
       "version_major": 2,
       "version_minor": 0
      },
      "text/plain": [
       "  0%|          | 0/45 [00:00<?, ?it/s]"
      ]
     },
     "metadata": {},
     "output_type": "display_data"
    },
    {
     "name": "stdout",
     "output_type": "stream",
     "text": [
      "load checkpoint from /home/research/jenzheng/.cache/ImageReward/ImageReward.pt\n",
      "checkpoint loaded\n",
      "image reward:  1.286228895187378\n",
      "aesthetic score:  tensor([[5.8616]], device='cuda:0', grad_fn=<AddmmBackward0>)\n",
      "load checkpoint from /home/research/jenzheng/.cache/ImageReward/ImageReward.pt\n",
      "checkpoint loaded\n",
      "image reward:  1.5407110452651978\n",
      "aesthetic score:  tensor([[5.6564]], device='cuda:0', grad_fn=<AddmmBackward0>)\n",
      "load checkpoint from /home/research/jenzheng/.cache/ImageReward/ImageReward.pt\n",
      "checkpoint loaded\n",
      "image reward:  1.1631336212158203\n",
      "aesthetic score:  tensor([[5.4862]], device='cuda:0', grad_fn=<AddmmBackward0>)\n",
      "load checkpoint from /home/research/jenzheng/.cache/ImageReward/ImageReward.pt\n",
      "checkpoint loaded\n",
      "image reward:  0.2987986207008362\n",
      "aesthetic score:  tensor([[6.2472]], device='cuda:0', grad_fn=<AddmmBackward0>)\n",
      "load checkpoint from /home/research/jenzheng/.cache/ImageReward/ImageReward.pt\n",
      "checkpoint loaded\n",
      "image reward:  1.787033200263977\n",
      "aesthetic score:  tensor([[5.4655]], device='cuda:0', grad_fn=<AddmmBackward0>)\n",
      "load checkpoint from /home/research/jenzheng/.cache/ImageReward/ImageReward.pt\n",
      "checkpoint loaded\n",
      "image reward:  1.610676884651184\n",
      "aesthetic score:  tensor([[5.3201]], device='cuda:0', grad_fn=<AddmmBackward0>)\n",
      "load checkpoint from /home/research/jenzheng/.cache/ImageReward/ImageReward.pt\n",
      "checkpoint loaded\n",
      "image reward:  0.715483546257019\n",
      "aesthetic score:  tensor([[5.5512]], device='cuda:0', grad_fn=<AddmmBackward0>)\n",
      "load checkpoint from /home/research/jenzheng/.cache/ImageReward/ImageReward.pt\n",
      "checkpoint loaded\n",
      "image reward:  1.776814579963684\n",
      "aesthetic score:  tensor([[5.8388]], device='cuda:0', grad_fn=<AddmmBackward0>)\n",
      "load checkpoint from /home/research/jenzheng/.cache/ImageReward/ImageReward.pt\n",
      "checkpoint loaded\n",
      "image reward:  1.9670361280441284\n",
      "aesthetic score:  tensor([[5.8991]], device='cuda:0', grad_fn=<AddmmBackward0>)\n",
      "load checkpoint from /home/research/jenzheng/.cache/ImageReward/ImageReward.pt\n",
      "checkpoint loaded\n",
      "image reward:  1.2602159976959229\n",
      "aesthetic score:  tensor([[5.3105]], device='cuda:0', grad_fn=<AddmmBackward0>)\n",
      "load checkpoint from /home/research/jenzheng/.cache/ImageReward/ImageReward.pt\n",
      "checkpoint loaded\n",
      "image reward:  1.8620587587356567\n",
      "aesthetic score:  tensor([[5.7821]], device='cuda:0', grad_fn=<AddmmBackward0>)\n",
      "load checkpoint from /home/research/jenzheng/.cache/ImageReward/ImageReward.pt\n",
      "checkpoint loaded\n",
      "image reward:  1.3784222602844238\n",
      "aesthetic score:  tensor([[5.9167]], device='cuda:0', grad_fn=<AddmmBackward0>)\n",
      "load checkpoint from /home/research/jenzheng/.cache/ImageReward/ImageReward.pt\n",
      "checkpoint loaded\n",
      "image reward:  1.8720418214797974\n",
      "aesthetic score:  tensor([[5.5345]], device='cuda:0', grad_fn=<AddmmBackward0>)\n",
      "load checkpoint from /home/research/jenzheng/.cache/ImageReward/ImageReward.pt\n",
      "checkpoint loaded\n",
      "image reward:  1.850597620010376\n",
      "aesthetic score:  tensor([[5.7254]], device='cuda:0', grad_fn=<AddmmBackward0>)\n",
      "load checkpoint from /home/research/jenzheng/.cache/ImageReward/ImageReward.pt\n",
      "checkpoint loaded\n",
      "image reward:  1.7976372241973877\n",
      "aesthetic score:  tensor([[5.5863]], device='cuda:0', grad_fn=<AddmmBackward0>)\n",
      "load checkpoint from /home/research/jenzheng/.cache/ImageReward/ImageReward.pt\n",
      "checkpoint loaded\n",
      "image reward:  0.0888727679848671\n",
      "aesthetic score:  tensor([[5.5222]], device='cuda:0', grad_fn=<AddmmBackward0>)\n",
      "load checkpoint from /home/research/jenzheng/.cache/ImageReward/ImageReward.pt\n",
      "checkpoint loaded\n",
      "image reward:  0.31543076038360596\n",
      "aesthetic score:  tensor([[5.4513]], device='cuda:0', grad_fn=<AddmmBackward0>)\n",
      "load checkpoint from /home/research/jenzheng/.cache/ImageReward/ImageReward.pt\n",
      "checkpoint loaded\n",
      "image reward:  0.4778778553009033\n",
      "aesthetic score:  tensor([[5.2715]], device='cuda:0', grad_fn=<AddmmBackward0>)\n",
      "load checkpoint from /home/research/jenzheng/.cache/ImageReward/ImageReward.pt\n",
      "checkpoint loaded\n",
      "image reward:  -0.3004395365715027\n",
      "aesthetic score:  tensor([[4.7582]], device='cuda:0', grad_fn=<AddmmBackward0>)\n",
      "load checkpoint from /home/research/jenzheng/.cache/ImageReward/ImageReward.pt\n",
      "checkpoint loaded\n",
      "image reward:  -0.36496323347091675\n",
      "aesthetic score:  tensor([[5.1746]], device='cuda:0', grad_fn=<AddmmBackward0>)\n",
      "load checkpoint from /home/research/jenzheng/.cache/ImageReward/ImageReward.pt\n",
      "checkpoint loaded\n",
      "image reward:  1.0253046751022339\n",
      "aesthetic score:  tensor([[5.4164]], device='cuda:0', grad_fn=<AddmmBackward0>)\n",
      "load checkpoint from /home/research/jenzheng/.cache/ImageReward/ImageReward.pt\n",
      "checkpoint loaded\n",
      "image reward:  -0.2313225269317627\n",
      "aesthetic score:  tensor([[5.7345]], device='cuda:0', grad_fn=<AddmmBackward0>)\n",
      "load checkpoint from /home/research/jenzheng/.cache/ImageReward/ImageReward.pt\n",
      "checkpoint loaded\n",
      "image reward:  0.16329219937324524\n",
      "aesthetic score:  tensor([[5.7645]], device='cuda:0', grad_fn=<AddmmBackward0>)\n",
      "load checkpoint from /home/research/jenzheng/.cache/ImageReward/ImageReward.pt\n",
      "checkpoint loaded\n",
      "image reward:  0.25117337703704834\n",
      "aesthetic score:  tensor([[5.5048]], device='cuda:0', grad_fn=<AddmmBackward0>)\n",
      "load checkpoint from /home/research/jenzheng/.cache/ImageReward/ImageReward.pt\n",
      "checkpoint loaded\n",
      "image reward:  1.2559280395507812\n",
      "aesthetic score:  tensor([[5.2702]], device='cuda:0', grad_fn=<AddmmBackward0>)\n",
      "load checkpoint from /home/research/jenzheng/.cache/ImageReward/ImageReward.pt\n",
      "checkpoint loaded\n",
      "image reward:  0.4295107126235962\n",
      "aesthetic score:  tensor([[5.3663]], device='cuda:0', grad_fn=<AddmmBackward0>)\n",
      "load checkpoint from /home/research/jenzheng/.cache/ImageReward/ImageReward.pt\n",
      "checkpoint loaded\n",
      "image reward:  -0.1925637274980545\n",
      "aesthetic score:  tensor([[5.8222]], device='cuda:0', grad_fn=<AddmmBackward0>)\n",
      "load checkpoint from /home/research/jenzheng/.cache/ImageReward/ImageReward.pt\n",
      "checkpoint loaded\n",
      "image reward:  -0.6729629039764404\n",
      "aesthetic score:  tensor([[5.6364]], device='cuda:0', grad_fn=<AddmmBackward0>)\n",
      "load checkpoint from /home/research/jenzheng/.cache/ImageReward/ImageReward.pt\n",
      "checkpoint loaded\n",
      "image reward:  -0.2253539264202118\n",
      "aesthetic score:  tensor([[5.6826]], device='cuda:0', grad_fn=<AddmmBackward0>)\n",
      "load checkpoint from /home/research/jenzheng/.cache/ImageReward/ImageReward.pt\n",
      "checkpoint loaded\n",
      "image reward:  1.3784202337265015\n",
      "aesthetic score:  tensor([[6.1528]], device='cuda:0', grad_fn=<AddmmBackward0>)\n",
      "load checkpoint from /home/research/jenzheng/.cache/ImageReward/ImageReward.pt\n",
      "checkpoint loaded\n",
      "image reward:  -1.4351036548614502\n",
      "aesthetic score:  tensor([[5.2644]], device='cuda:0', grad_fn=<AddmmBackward0>)\n",
      "load checkpoint from /home/research/jenzheng/.cache/ImageReward/ImageReward.pt\n",
      "checkpoint loaded\n",
      "image reward:  -0.15275083482265472\n",
      "aesthetic score:  tensor([[4.6261]], device='cuda:0', grad_fn=<AddmmBackward0>)\n",
      "load checkpoint from /home/research/jenzheng/.cache/ImageReward/ImageReward.pt\n",
      "checkpoint loaded\n",
      "image reward:  0.21513092517852783\n",
      "aesthetic score:  tensor([[5.1004]], device='cuda:0', grad_fn=<AddmmBackward0>)\n",
      "load checkpoint from /home/research/jenzheng/.cache/ImageReward/ImageReward.pt\n",
      "checkpoint loaded\n",
      "image reward:  -0.0788368284702301\n",
      "aesthetic score:  tensor([[4.9664]], device='cuda:0', grad_fn=<AddmmBackward0>)\n",
      "load checkpoint from /home/research/jenzheng/.cache/ImageReward/ImageReward.pt\n",
      "checkpoint loaded\n",
      "image reward:  -1.4981060028076172\n",
      "aesthetic score:  tensor([[5.1349]], device='cuda:0', grad_fn=<AddmmBackward0>)\n",
      "load checkpoint from /home/research/jenzheng/.cache/ImageReward/ImageReward.pt\n",
      "checkpoint loaded\n",
      "image reward:  -0.2896355092525482\n",
      "aesthetic score:  tensor([[5.2420]], device='cuda:0', grad_fn=<AddmmBackward0>)\n",
      "load checkpoint from /home/research/jenzheng/.cache/ImageReward/ImageReward.pt\n",
      "checkpoint loaded\n",
      "image reward:  0.39743664860725403\n",
      "aesthetic score:  tensor([[4.9921]], device='cuda:0', grad_fn=<AddmmBackward0>)\n",
      "load checkpoint from /home/research/jenzheng/.cache/ImageReward/ImageReward.pt\n",
      "checkpoint loaded\n",
      "image reward:  0.1370624303817749\n",
      "aesthetic score:  tensor([[5.1417]], device='cuda:0', grad_fn=<AddmmBackward0>)\n",
      "load checkpoint from /home/research/jenzheng/.cache/ImageReward/ImageReward.pt\n",
      "checkpoint loaded\n",
      "image reward:  -0.931779682636261\n",
      "aesthetic score:  tensor([[4.7339]], device='cuda:0', grad_fn=<AddmmBackward0>)\n",
      "load checkpoint from /home/research/jenzheng/.cache/ImageReward/ImageReward.pt\n",
      "checkpoint loaded\n",
      "image reward:  -0.9661300778388977\n",
      "aesthetic score:  tensor([[4.9200]], device='cuda:0', grad_fn=<AddmmBackward0>)\n",
      "load checkpoint from /home/research/jenzheng/.cache/ImageReward/ImageReward.pt\n",
      "checkpoint loaded\n",
      "image reward:  0.6591267585754395\n",
      "aesthetic score:  tensor([[5.8869]], device='cuda:0', grad_fn=<AddmmBackward0>)\n",
      "load checkpoint from /home/research/jenzheng/.cache/ImageReward/ImageReward.pt\n",
      "checkpoint loaded\n",
      "image reward:  0.8824014663696289\n",
      "aesthetic score:  tensor([[5.3419]], device='cuda:0', grad_fn=<AddmmBackward0>)\n",
      "load checkpoint from /home/research/jenzheng/.cache/ImageReward/ImageReward.pt\n",
      "checkpoint loaded\n",
      "image reward:  1.5395698547363281\n",
      "aesthetic score:  tensor([[5.4577]], device='cuda:0', grad_fn=<AddmmBackward0>)\n",
      "load checkpoint from /home/research/jenzheng/.cache/ImageReward/ImageReward.pt\n",
      "checkpoint loaded\n",
      "image reward:  1.1890276670455933\n",
      "aesthetic score:  tensor([[5.5064]], device='cuda:0', grad_fn=<AddmmBackward0>)\n",
      "load checkpoint from /home/research/jenzheng/.cache/ImageReward/ImageReward.pt\n",
      "checkpoint loaded\n",
      "image reward:  0.47047072649002075\n",
      "aesthetic score:  tensor([[5.5427]], device='cuda:0', grad_fn=<AddmmBackward0>)\n",
      "load checkpoint from /home/research/jenzheng/.cache/ImageReward/ImageReward.pt\n",
      "checkpoint loaded\n",
      "image reward:  0.3551288843154907\n",
      "aesthetic score:  tensor([[4.7720]], device='cuda:0', grad_fn=<AddmmBackward0>)\n",
      "load checkpoint from /home/research/jenzheng/.cache/ImageReward/ImageReward.pt\n",
      "checkpoint loaded\n",
      "image reward:  0.12381147593259811\n",
      "aesthetic score:  tensor([[5.0775]], device='cuda:0', grad_fn=<AddmmBackward0>)\n",
      "load checkpoint from /home/research/jenzheng/.cache/ImageReward/ImageReward.pt\n",
      "checkpoint loaded\n",
      "image reward:  -1.9940803050994873\n",
      "aesthetic score:  tensor([[5.3086]], device='cuda:0', grad_fn=<AddmmBackward0>)\n",
      "load checkpoint from /home/research/jenzheng/.cache/ImageReward/ImageReward.pt\n",
      "checkpoint loaded\n",
      "image reward:  -0.11197293549776077\n",
      "aesthetic score:  tensor([[4.9008]], device='cuda:0', grad_fn=<AddmmBackward0>)\n",
      "load checkpoint from /home/research/jenzheng/.cache/ImageReward/ImageReward.pt\n",
      "checkpoint loaded\n",
      "image reward:  0.42667531967163086\n",
      "aesthetic score:  tensor([[5.5516]], device='cuda:0', grad_fn=<AddmmBackward0>)\n",
      "load checkpoint from /home/research/jenzheng/.cache/ImageReward/ImageReward.pt\n",
      "checkpoint loaded\n",
      "image reward:  -0.04142307490110397\n",
      "aesthetic score:  tensor([[5.3185]], device='cuda:0', grad_fn=<AddmmBackward0>)\n",
      "load checkpoint from /home/research/jenzheng/.cache/ImageReward/ImageReward.pt\n",
      "checkpoint loaded\n",
      "image reward:  0.4578760862350464\n",
      "aesthetic score:  tensor([[5.5861]], device='cuda:0', grad_fn=<AddmmBackward0>)\n",
      "load checkpoint from /home/research/jenzheng/.cache/ImageReward/ImageReward.pt\n",
      "checkpoint loaded\n",
      "image reward:  -0.019903890788555145\n",
      "aesthetic score:  tensor([[5.2076]], device='cuda:0', grad_fn=<AddmmBackward0>)\n",
      "load checkpoint from /home/research/jenzheng/.cache/ImageReward/ImageReward.pt\n",
      "checkpoint loaded\n",
      "image reward:  1.5739507675170898\n",
      "aesthetic score:  tensor([[5.0782]], device='cuda:0', grad_fn=<AddmmBackward0>)\n",
      "load checkpoint from /home/research/jenzheng/.cache/ImageReward/ImageReward.pt\n",
      "checkpoint loaded\n",
      "image reward:  1.5039424896240234\n",
      "aesthetic score:  tensor([[5.2463]], device='cuda:0', grad_fn=<AddmmBackward0>)\n",
      "load checkpoint from /home/research/jenzheng/.cache/ImageReward/ImageReward.pt\n",
      "checkpoint loaded\n",
      "image reward:  0.91664057970047\n",
      "aesthetic score:  tensor([[5.9296]], device='cuda:0', grad_fn=<AddmmBackward0>)\n",
      "load checkpoint from /home/research/jenzheng/.cache/ImageReward/ImageReward.pt\n",
      "checkpoint loaded\n",
      "image reward:  -0.6045934557914734\n",
      "aesthetic score:  tensor([[5.9521]], device='cuda:0', grad_fn=<AddmmBackward0>)\n",
      "load checkpoint from /home/research/jenzheng/.cache/ImageReward/ImageReward.pt\n",
      "checkpoint loaded\n",
      "image reward:  1.8833187818527222\n",
      "aesthetic score:  tensor([[5.9332]], device='cuda:0', grad_fn=<AddmmBackward0>)\n",
      "load checkpoint from /home/research/jenzheng/.cache/ImageReward/ImageReward.pt\n",
      "checkpoint loaded\n",
      "image reward:  -0.15630121529102325\n",
      "aesthetic score:  tensor([[5.4498]], device='cuda:0', grad_fn=<AddmmBackward0>)\n",
      "load checkpoint from /home/research/jenzheng/.cache/ImageReward/ImageReward.pt\n",
      "checkpoint loaded\n",
      "image reward:  0.0574294738471508\n",
      "aesthetic score:  tensor([[6.1556]], device='cuda:0', grad_fn=<AddmmBackward0>)\n",
      "load checkpoint from /home/research/jenzheng/.cache/ImageReward/ImageReward.pt\n",
      "checkpoint loaded\n",
      "image reward:  1.3732048273086548\n",
      "aesthetic score:  tensor([[5.8134]], device='cuda:0', grad_fn=<AddmmBackward0>)\n",
      "load checkpoint from /home/research/jenzheng/.cache/ImageReward/ImageReward.pt\n",
      "checkpoint loaded\n",
      "image reward:  1.2141062021255493\n",
      "aesthetic score:  tensor([[5.8491]], device='cuda:0', grad_fn=<AddmmBackward0>)\n",
      "load checkpoint from /home/research/jenzheng/.cache/ImageReward/ImageReward.pt\n",
      "checkpoint loaded\n",
      "image reward:  0.739794135093689\n",
      "aesthetic score:  tensor([[5.7718]], device='cuda:0', grad_fn=<AddmmBackward0>)\n",
      "load checkpoint from /home/research/jenzheng/.cache/ImageReward/ImageReward.pt\n",
      "checkpoint loaded\n",
      "image reward:  0.6365530490875244\n",
      "aesthetic score:  tensor([[5.3984]], device='cuda:0', grad_fn=<AddmmBackward0>)\n",
      "load checkpoint from /home/research/jenzheng/.cache/ImageReward/ImageReward.pt\n",
      "checkpoint loaded\n",
      "image reward:  0.4118349850177765\n",
      "aesthetic score:  tensor([[5.6794]], device='cuda:0', grad_fn=<AddmmBackward0>)\n",
      "load checkpoint from /home/research/jenzheng/.cache/ImageReward/ImageReward.pt\n",
      "checkpoint loaded\n",
      "image reward:  1.459355115890503\n",
      "aesthetic score:  tensor([[5.1795]], device='cuda:0', grad_fn=<AddmmBackward0>)\n",
      "load checkpoint from /home/research/jenzheng/.cache/ImageReward/ImageReward.pt\n",
      "checkpoint loaded\n",
      "image reward:  0.5389002561569214\n",
      "aesthetic score:  tensor([[4.7885]], device='cuda:0', grad_fn=<AddmmBackward0>)\n",
      "load checkpoint from /home/research/jenzheng/.cache/ImageReward/ImageReward.pt\n",
      "checkpoint loaded\n",
      "image reward:  0.6612882018089294\n",
      "aesthetic score:  tensor([[4.8824]], device='cuda:0', grad_fn=<AddmmBackward0>)\n",
      "load checkpoint from /home/research/jenzheng/.cache/ImageReward/ImageReward.pt\n",
      "checkpoint loaded\n",
      "image reward:  1.34445321559906\n",
      "aesthetic score:  tensor([[5.8203]], device='cuda:0', grad_fn=<AddmmBackward0>)\n",
      "load checkpoint from /home/research/jenzheng/.cache/ImageReward/ImageReward.pt\n",
      "checkpoint loaded\n",
      "image reward:  0.9994041919708252\n",
      "aesthetic score:  tensor([[5.4114]], device='cuda:0', grad_fn=<AddmmBackward0>)\n",
      "load checkpoint from /home/research/jenzheng/.cache/ImageReward/ImageReward.pt\n",
      "checkpoint loaded\n",
      "image reward:  1.4912965297698975\n",
      "aesthetic score:  tensor([[5.4020]], device='cuda:0', grad_fn=<AddmmBackward0>)\n",
      "load checkpoint from /home/research/jenzheng/.cache/ImageReward/ImageReward.pt\n",
      "checkpoint loaded\n",
      "image reward:  -0.7846248149871826\n",
      "aesthetic score:  tensor([[5.7965]], device='cuda:0', grad_fn=<AddmmBackward0>)\n",
      "load checkpoint from /home/research/jenzheng/.cache/ImageReward/ImageReward.pt\n",
      "checkpoint loaded\n",
      "image reward:  0.31212902069091797\n",
      "aesthetic score:  tensor([[5.1195]], device='cuda:0', grad_fn=<AddmmBackward0>)\n",
      "load checkpoint from /home/research/jenzheng/.cache/ImageReward/ImageReward.pt\n",
      "checkpoint loaded\n",
      "image reward:  0.7405641078948975\n",
      "aesthetic score:  tensor([[5.5499]], device='cuda:0', grad_fn=<AddmmBackward0>)\n",
      "load checkpoint from /home/research/jenzheng/.cache/ImageReward/ImageReward.pt\n",
      "checkpoint loaded\n",
      "image reward:  -1.8306690454483032\n",
      "aesthetic score:  tensor([[5.1182]], device='cuda:0', grad_fn=<AddmmBackward0>)\n",
      "load checkpoint from /home/research/jenzheng/.cache/ImageReward/ImageReward.pt\n",
      "checkpoint loaded\n",
      "image reward:  -0.697872519493103\n",
      "aesthetic score:  tensor([[5.6801]], device='cuda:0', grad_fn=<AddmmBackward0>)\n",
      "load checkpoint from /home/research/jenzheng/.cache/ImageReward/ImageReward.pt\n",
      "checkpoint loaded\n",
      "image reward:  -0.8796068429946899\n",
      "aesthetic score:  tensor([[6.3601]], device='cuda:0', grad_fn=<AddmmBackward0>)\n",
      "load checkpoint from /home/research/jenzheng/.cache/ImageReward/ImageReward.pt\n",
      "checkpoint loaded\n",
      "image reward:  1.8664579391479492\n",
      "aesthetic score:  tensor([[6.1856]], device='cuda:0', grad_fn=<AddmmBackward0>)\n",
      "load checkpoint from /home/research/jenzheng/.cache/ImageReward/ImageReward.pt\n",
      "checkpoint loaded\n",
      "image reward:  0.3783245384693146\n",
      "aesthetic score:  tensor([[6.3521]], device='cuda:0', grad_fn=<AddmmBackward0>)\n",
      "load checkpoint from /home/research/jenzheng/.cache/ImageReward/ImageReward.pt\n",
      "checkpoint loaded\n",
      "image reward:  1.250981330871582\n",
      "aesthetic score:  tensor([[6.3604]], device='cuda:0', grad_fn=<AddmmBackward0>)\n",
      "load checkpoint from /home/research/jenzheng/.cache/ImageReward/ImageReward.pt\n",
      "checkpoint loaded\n",
      "image reward:  1.4496433734893799\n",
      "aesthetic score:  tensor([[6.0219]], device='cuda:0', grad_fn=<AddmmBackward0>)\n",
      "load checkpoint from /home/research/jenzheng/.cache/ImageReward/ImageReward.pt\n",
      "checkpoint loaded\n",
      "image reward:  -1.0584468841552734\n",
      "aesthetic score:  tensor([[5.2673]], device='cuda:0', grad_fn=<AddmmBackward0>)\n",
      "load checkpoint from /home/research/jenzheng/.cache/ImageReward/ImageReward.pt\n",
      "checkpoint loaded\n",
      "image reward:  1.6386206150054932\n",
      "aesthetic score:  tensor([[4.6464]], device='cuda:0', grad_fn=<AddmmBackward0>)\n",
      "load checkpoint from /home/research/jenzheng/.cache/ImageReward/ImageReward.pt\n",
      "checkpoint loaded\n",
      "image reward:  -0.2850053310394287\n",
      "aesthetic score:  tensor([[5.2215]], device='cuda:0', grad_fn=<AddmmBackward0>)\n",
      "load checkpoint from /home/research/jenzheng/.cache/ImageReward/ImageReward.pt\n",
      "checkpoint loaded\n",
      "image reward:  0.34883612394332886\n",
      "aesthetic score:  tensor([[5.1773]], device='cuda:0', grad_fn=<AddmmBackward0>)\n",
      "load checkpoint from /home/research/jenzheng/.cache/ImageReward/ImageReward.pt\n",
      "checkpoint loaded\n",
      "image reward:  1.8090507984161377\n",
      "aesthetic score:  tensor([[5.4169]], device='cuda:0', grad_fn=<AddmmBackward0>)\n",
      "load checkpoint from /home/research/jenzheng/.cache/ImageReward/ImageReward.pt\n",
      "checkpoint loaded\n",
      "image reward:  -1.6596553325653076\n",
      "aesthetic score:  tensor([[5.3364]], device='cuda:0', grad_fn=<AddmmBackward0>)\n",
      "load checkpoint from /home/research/jenzheng/.cache/ImageReward/ImageReward.pt\n",
      "checkpoint loaded\n",
      "image reward:  -0.9765733480453491\n",
      "aesthetic score:  tensor([[5.0974]], device='cuda:0', grad_fn=<AddmmBackward0>)\n",
      "load checkpoint from /home/research/jenzheng/.cache/ImageReward/ImageReward.pt\n",
      "checkpoint loaded\n",
      "image reward:  0.5362546443939209\n",
      "aesthetic score:  tensor([[5.1075]], device='cuda:0', grad_fn=<AddmmBackward0>)\n",
      "load checkpoint from /home/research/jenzheng/.cache/ImageReward/ImageReward.pt\n",
      "checkpoint loaded\n",
      "image reward:  1.5383813381195068\n",
      "aesthetic score:  tensor([[5.8883]], device='cuda:0', grad_fn=<AddmmBackward0>)\n",
      "load checkpoint from /home/research/jenzheng/.cache/ImageReward/ImageReward.pt\n",
      "checkpoint loaded\n",
      "image reward:  0.3752076029777527\n",
      "aesthetic score:  tensor([[4.7322]], device='cuda:0', grad_fn=<AddmmBackward0>)\n",
      "load checkpoint from /home/research/jenzheng/.cache/ImageReward/ImageReward.pt\n",
      "checkpoint loaded\n",
      "image reward:  -0.4718230068683624\n",
      "aesthetic score:  tensor([[5.6398]], device='cuda:0', grad_fn=<AddmmBackward0>)\n",
      "load checkpoint from /home/research/jenzheng/.cache/ImageReward/ImageReward.pt\n",
      "checkpoint loaded\n",
      "image reward:  -0.7053457498550415\n",
      "aesthetic score:  tensor([[4.7075]], device='cuda:0', grad_fn=<AddmmBackward0>)\n",
      "load checkpoint from /home/research/jenzheng/.cache/ImageReward/ImageReward.pt\n",
      "checkpoint loaded\n",
      "image reward:  -0.8138887882232666\n",
      "aesthetic score:  tensor([[5.4965]], device='cuda:0', grad_fn=<AddmmBackward0>)\n",
      "load checkpoint from /home/research/jenzheng/.cache/ImageReward/ImageReward.pt\n",
      "checkpoint loaded\n",
      "image reward:  0.9161350727081299\n",
      "aesthetic score:  tensor([[6.2305]], device='cuda:0', grad_fn=<AddmmBackward0>)\n",
      "load checkpoint from /home/research/jenzheng/.cache/ImageReward/ImageReward.pt\n",
      "checkpoint loaded\n",
      "image reward:  0.2869425117969513\n",
      "aesthetic score:  tensor([[5.1888]], device='cuda:0', grad_fn=<AddmmBackward0>)\n",
      "load checkpoint from /home/research/jenzheng/.cache/ImageReward/ImageReward.pt\n",
      "checkpoint loaded\n",
      "image reward:  1.2311537265777588\n",
      "aesthetic score:  tensor([[5.1908]], device='cuda:0', grad_fn=<AddmmBackward0>)\n",
      "load checkpoint from /home/research/jenzheng/.cache/ImageReward/ImageReward.pt\n",
      "checkpoint loaded\n",
      "image reward:  0.9016966819763184\n",
      "aesthetic score:  tensor([[5.6899]], device='cuda:0', grad_fn=<AddmmBackward0>)\n",
      "load checkpoint from /home/research/jenzheng/.cache/ImageReward/ImageReward.pt\n",
      "checkpoint loaded\n",
      "image reward:  -0.5317636728286743\n",
      "aesthetic score:  tensor([[4.9508]], device='cuda:0', grad_fn=<AddmmBackward0>)\n",
      "load checkpoint from /home/research/jenzheng/.cache/ImageReward/ImageReward.pt\n",
      "checkpoint loaded\n",
      "image reward:  -1.1080055236816406\n",
      "aesthetic score:  tensor([[5.3017]], device='cuda:0', grad_fn=<AddmmBackward0>)\n",
      "==================total=================\n",
      "average image reward: \n",
      "0.44720767114311455\n",
      "average aesthetic score: \n",
      "tensor([[5.4586]], device='cuda:0', grad_fn=<DivBackward0>)\n"
     ]
    }
   ],
   "source": [
    "\n",
    "num_inference_steps = 45\n",
    "total_image_reward = 0\n",
    "total_aesthetic_score = 0\n",
    "\n",
    "\n",
    "import torch\n",
    "import ImageReward as reward\n",
    "\n",
    "pipe.safety_checker = None\n",
    "\n",
    "for i in range(len(prompts)):\n",
    "    prompt = prompts[i]\n",
    "    \n",
    "    \n",
    "    v14Image = pipe(disable_tqdm = True,prompt=prompt,num_images_per_prompt=1, num_inference_steps=num_inference_steps, guidance_scale=8.0).images[0]\n",
    "    pipe.set_progress_bar_config(disable=True)\n",
    "    \n",
    "    image = preprocess(v14Image).unsqueeze(0).to(device)\n",
    "    imageReward = reward.load(\"ImageReward-v1.0\")\n",
    "    with torch.no_grad():\n",
    "        v14_image_reward = imageReward.score(prompt, v14Image)\n",
    "        image_features = model2.encode_image(image)\n",
    "    \n",
    "    total_image_reward += v14_image_reward\n",
    "    print(\"image reward: \", v14_image_reward)\n",
    "    im_emb_arr = normalized(image_features.cpu().detach().numpy() )\n",
    "    v14_aesthetic_score = aestheticPredictorModel(torch.from_numpy(im_emb_arr).to(device).type(torch.cuda.FloatTensor))\n",
    "    total_aesthetic_score += v14_aesthetic_score\n",
    "    print(\"aesthetic score: \", v14_aesthetic_score)\n",
    "\n",
    "\n",
    "print(\"==================total=================\")\n",
    "print(\"average image reward: \")\n",
    "print(total_image_reward/100)\n",
    "print(\"average aesthetic score: \")\n",
    "print(total_aesthetic_score/100)\n",
    "\n"
   ]
  },
  {
   "cell_type": "markdown",
   "metadata": {
    "id": "SCQ9073ZIZc9"
   },
   "source": [
    "## LCM - LORA"
   ]
  },
  {
   "cell_type": "markdown",
   "metadata": {
    "id": "1IBtcTJeIoSy"
   },
   "source": [
    "https://huggingface.co/latent-consistency/lcm-lora-sdv1-5"
   ]
  },
  {
   "cell_type": "code",
   "execution_count": 6,
   "metadata": {},
   "outputs": [
    {
     "name": "stderr",
     "output_type": "stream",
     "text": [
      "/home/research/jenzheng/.conda/envs/cs229/lib/python3.9/site-packages/diffusers/utils/outputs.py:63: UserWarning: torch.utils._pytree._register_pytree_node is deprecated. Please use torch.utils._pytree.register_pytree_node instead.\n",
      "  torch.utils._pytree._register_pytree_node(\n",
      "/home/research/jenzheng/.conda/envs/cs229/lib/python3.9/site-packages/diffusers/utils/outputs.py:63: UserWarning: torch.utils._pytree._register_pytree_node is deprecated. Please use torch.utils._pytree.register_pytree_node instead.\n",
      "  torch.utils._pytree._register_pytree_node(\n",
      "/home/research/jenzheng/.conda/envs/cs229/lib/python3.9/site-packages/diffusers/utils/outputs.py:63: UserWarning: torch.utils._pytree._register_pytree_node is deprecated. Please use torch.utils._pytree.register_pytree_node instead.\n",
      "  torch.utils._pytree._register_pytree_node(\n",
      "The config attributes {'skip_prk_steps': True} were passed to LCMScheduler, but are not expected and will be ignored. Please verify your scheduler_config.json configuration file.\n",
      "/home/research/jenzheng/.conda/envs/cs229/lib/python3.9/site-packages/diffusers/loaders/lora.py:1078: FutureWarning: `fuse_text_encoder_lora` is deprecated and will be removed in version 0.27. You are using an old version of LoRA backend. This will be deprecated in the next releases in favor of PEFT make sure to install the latest PEFT and transformers packages in the future.\n",
      "  deprecate(\"fuse_text_encoder_lora\", \"0.27\", LORA_DEPRECATION_MESSAGE)\n"
     ]
    }
   ],
   "source": [
    "# https://huggingface.co/latent-consistency/lcm-lora-sdxl\n",
    "\n",
    "import torch\n",
    "from diffusers import LCMScheduler, AutoPipelineForText2Image\n",
    "\n",
    "model_id = \"stabilityai/stable-diffusion-xl-base-1.0\"\n",
    "adapter_id = \"latent-consistency/lcm-lora-sdxl\"\n",
    "\n",
    "sdxlpipe = AutoPipelineForText2Image.from_pretrained(model_id, torch_dtype=torch.float16, variant=\"fp16\")\n",
    "sdxlpipe.scheduler = LCMScheduler.from_config(sdxlpipe.scheduler.config)\n",
    "sdxlpipe.to(\"cuda\")\n",
    "\n",
    "# load and fuse lcm lora\n",
    "sdxlpipe.load_lora_weights(adapter_id)\n",
    "sdxlpipe.fuse_lora()"
   ]
  },
  {
   "cell_type": "code",
   "execution_count": 5,
   "metadata": {
    "scrolled": true
   },
   "outputs": [
    {
     "data": {
      "application/vnd.jupyter.widget-view+json": {
       "model_id": "5c72b8e1df8847d1a5de02e5473b8878",
       "version_major": 2,
       "version_minor": 0
      },
      "text/plain": [
       "  0%|          | 0/45 [00:00<?, ?it/s]"
      ]
     },
     "metadata": {},
     "output_type": "display_data"
    },
    {
     "name": "stdout",
     "output_type": "stream",
     "text": [
      "tensor([[0.2822]], device='cuda:0', dtype=torch.float16)\n"
     ]
    },
    {
     "data": {
      "application/vnd.jupyter.widget-view+json": {
       "model_id": "fd100cb60c4c4fc3807e47f39c5a36f0",
       "version_major": 2,
       "version_minor": 0
      },
      "text/plain": [
       "  0%|          | 0/45 [00:00<?, ?it/s]"
      ]
     },
     "metadata": {},
     "output_type": "display_data"
    },
    {
     "name": "stdout",
     "output_type": "stream",
     "text": [
      "tensor([[0.2300]], device='cuda:0', dtype=torch.float16)\n"
     ]
    },
    {
     "data": {
      "application/vnd.jupyter.widget-view+json": {
       "model_id": "0dfb83a504f74e3ab11cd86d84d8e3f7",
       "version_major": 2,
       "version_minor": 0
      },
      "text/plain": [
       "  0%|          | 0/45 [00:00<?, ?it/s]"
      ]
     },
     "metadata": {},
     "output_type": "display_data"
    },
    {
     "name": "stdout",
     "output_type": "stream",
     "text": [
      "tensor([[0.2817]], device='cuda:0', dtype=torch.float16)\n"
     ]
    },
    {
     "data": {
      "application/vnd.jupyter.widget-view+json": {
       "model_id": "b964c2ef140642889662b109c1dfef21",
       "version_major": 2,
       "version_minor": 0
      },
      "text/plain": [
       "  0%|          | 0/45 [00:00<?, ?it/s]"
      ]
     },
     "metadata": {},
     "output_type": "display_data"
    },
    {
     "name": "stdout",
     "output_type": "stream",
     "text": [
      "tensor([[0.3564]], device='cuda:0', dtype=torch.float16)\n"
     ]
    },
    {
     "data": {
      "application/vnd.jupyter.widget-view+json": {
       "model_id": "6b8547ef750a45a2bee4a712c5933ab4",
       "version_major": 2,
       "version_minor": 0
      },
      "text/plain": [
       "  0%|          | 0/45 [00:00<?, ?it/s]"
      ]
     },
     "metadata": {},
     "output_type": "display_data"
    },
    {
     "name": "stdout",
     "output_type": "stream",
     "text": [
      "tensor([[0.3550]], device='cuda:0', dtype=torch.float16)\n"
     ]
    },
    {
     "data": {
      "application/vnd.jupyter.widget-view+json": {
       "model_id": "e55671eff130452497ab6698993d06a9",
       "version_major": 2,
       "version_minor": 0
      },
      "text/plain": [
       "  0%|          | 0/45 [00:00<?, ?it/s]"
      ]
     },
     "metadata": {},
     "output_type": "display_data"
    },
    {
     "name": "stdout",
     "output_type": "stream",
     "text": [
      "tensor([[0.2576]], device='cuda:0', dtype=torch.float16)\n"
     ]
    },
    {
     "data": {
      "application/vnd.jupyter.widget-view+json": {
       "model_id": "ee57be4237c54c3a85022ff5efe65702",
       "version_major": 2,
       "version_minor": 0
      },
      "text/plain": [
       "  0%|          | 0/45 [00:00<?, ?it/s]"
      ]
     },
     "metadata": {},
     "output_type": "display_data"
    },
    {
     "name": "stdout",
     "output_type": "stream",
     "text": [
      "tensor([[0.2756]], device='cuda:0', dtype=torch.float16)\n"
     ]
    },
    {
     "data": {
      "application/vnd.jupyter.widget-view+json": {
       "model_id": "179ead30285845aeb3f309e203a6238d",
       "version_major": 2,
       "version_minor": 0
      },
      "text/plain": [
       "  0%|          | 0/45 [00:00<?, ?it/s]"
      ]
     },
     "metadata": {},
     "output_type": "display_data"
    },
    {
     "name": "stdout",
     "output_type": "stream",
     "text": [
      "tensor([[0.2446]], device='cuda:0', dtype=torch.float16)\n"
     ]
    },
    {
     "data": {
      "application/vnd.jupyter.widget-view+json": {
       "model_id": "ddefe433bc02406d9ec8844cec8d3fad",
       "version_major": 2,
       "version_minor": 0
      },
      "text/plain": [
       "  0%|          | 0/45 [00:00<?, ?it/s]"
      ]
     },
     "metadata": {},
     "output_type": "display_data"
    },
    {
     "name": "stdout",
     "output_type": "stream",
     "text": [
      "tensor([[0.3179]], device='cuda:0', dtype=torch.float16)\n"
     ]
    },
    {
     "data": {
      "application/vnd.jupyter.widget-view+json": {
       "model_id": "1770d6d287144687a80ac4de699df29a",
       "version_major": 2,
       "version_minor": 0
      },
      "text/plain": [
       "  0%|          | 0/45 [00:00<?, ?it/s]"
      ]
     },
     "metadata": {},
     "output_type": "display_data"
    },
    {
     "name": "stdout",
     "output_type": "stream",
     "text": [
      "tensor([[0.2773]], device='cuda:0', dtype=torch.float16)\n"
     ]
    },
    {
     "data": {
      "application/vnd.jupyter.widget-view+json": {
       "model_id": "07b2cd136e0d40e7bba9ee43c2ba9b9a",
       "version_major": 2,
       "version_minor": 0
      },
      "text/plain": [
       "  0%|          | 0/45 [00:00<?, ?it/s]"
      ]
     },
     "metadata": {},
     "output_type": "display_data"
    },
    {
     "name": "stdout",
     "output_type": "stream",
     "text": [
      "tensor([[0.3188]], device='cuda:0', dtype=torch.float16)\n"
     ]
    },
    {
     "data": {
      "application/vnd.jupyter.widget-view+json": {
       "model_id": "1dd5b1af1aa74662829228739f40aa70",
       "version_major": 2,
       "version_minor": 0
      },
      "text/plain": [
       "  0%|          | 0/45 [00:00<?, ?it/s]"
      ]
     },
     "metadata": {},
     "output_type": "display_data"
    },
    {
     "name": "stdout",
     "output_type": "stream",
     "text": [
      "tensor([[0.3250]], device='cuda:0', dtype=torch.float16)\n"
     ]
    },
    {
     "data": {
      "application/vnd.jupyter.widget-view+json": {
       "model_id": "660a32a2e9834c669c2d7efe07f7c38a",
       "version_major": 2,
       "version_minor": 0
      },
      "text/plain": [
       "  0%|          | 0/45 [00:00<?, ?it/s]"
      ]
     },
     "metadata": {},
     "output_type": "display_data"
    },
    {
     "name": "stdout",
     "output_type": "stream",
     "text": [
      "tensor([[0.3054]], device='cuda:0', dtype=torch.float16)\n"
     ]
    },
    {
     "data": {
      "application/vnd.jupyter.widget-view+json": {
       "model_id": "c05652bfa9ff4fd9b1cef8668c8fca52",
       "version_major": 2,
       "version_minor": 0
      },
      "text/plain": [
       "  0%|          | 0/45 [00:00<?, ?it/s]"
      ]
     },
     "metadata": {},
     "output_type": "display_data"
    },
    {
     "name": "stdout",
     "output_type": "stream",
     "text": [
      "tensor([[0.2910]], device='cuda:0', dtype=torch.float16)\n"
     ]
    },
    {
     "data": {
      "application/vnd.jupyter.widget-view+json": {
       "model_id": "3a33147e52ee4436918f0b09ca0944a1",
       "version_major": 2,
       "version_minor": 0
      },
      "text/plain": [
       "  0%|          | 0/45 [00:00<?, ?it/s]"
      ]
     },
     "metadata": {},
     "output_type": "display_data"
    },
    {
     "name": "stdout",
     "output_type": "stream",
     "text": [
      "tensor([[0.2903]], device='cuda:0', dtype=torch.float16)\n"
     ]
    },
    {
     "data": {
      "application/vnd.jupyter.widget-view+json": {
       "model_id": "82087d9742a8425aa053abb9503a1b81",
       "version_major": 2,
       "version_minor": 0
      },
      "text/plain": [
       "  0%|          | 0/45 [00:00<?, ?it/s]"
      ]
     },
     "metadata": {},
     "output_type": "display_data"
    },
    {
     "name": "stdout",
     "output_type": "stream",
     "text": [
      "tensor([[0.2832]], device='cuda:0', dtype=torch.float16)\n"
     ]
    },
    {
     "data": {
      "application/vnd.jupyter.widget-view+json": {
       "model_id": "a6e70fd005d1480db23febd757a603b6",
       "version_major": 2,
       "version_minor": 0
      },
      "text/plain": [
       "  0%|          | 0/45 [00:00<?, ?it/s]"
      ]
     },
     "metadata": {},
     "output_type": "display_data"
    },
    {
     "name": "stdout",
     "output_type": "stream",
     "text": [
      "tensor([[0.2444]], device='cuda:0', dtype=torch.float16)\n"
     ]
    },
    {
     "data": {
      "application/vnd.jupyter.widget-view+json": {
       "model_id": "71d321e08a6f48e2b2e17d7e4da9c91a",
       "version_major": 2,
       "version_minor": 0
      },
      "text/plain": [
       "  0%|          | 0/45 [00:00<?, ?it/s]"
      ]
     },
     "metadata": {},
     "output_type": "display_data"
    },
    {
     "name": "stdout",
     "output_type": "stream",
     "text": [
      "tensor([[0.2454]], device='cuda:0', dtype=torch.float16)\n"
     ]
    },
    {
     "data": {
      "application/vnd.jupyter.widget-view+json": {
       "model_id": "356d3dd6b5754cdfb833c06e281321d9",
       "version_major": 2,
       "version_minor": 0
      },
      "text/plain": [
       "  0%|          | 0/45 [00:00<?, ?it/s]"
      ]
     },
     "metadata": {},
     "output_type": "display_data"
    },
    {
     "name": "stdout",
     "output_type": "stream",
     "text": [
      "tensor([[0.2678]], device='cuda:0', dtype=torch.float16)\n"
     ]
    },
    {
     "data": {
      "application/vnd.jupyter.widget-view+json": {
       "model_id": "e2877b0def7d4c3cb9e736c8bc1d0094",
       "version_major": 2,
       "version_minor": 0
      },
      "text/plain": [
       "  0%|          | 0/45 [00:00<?, ?it/s]"
      ]
     },
     "metadata": {},
     "output_type": "display_data"
    },
    {
     "name": "stdout",
     "output_type": "stream",
     "text": [
      "tensor([[0.3123]], device='cuda:0', dtype=torch.float16)\n"
     ]
    },
    {
     "data": {
      "application/vnd.jupyter.widget-view+json": {
       "model_id": "e78c78645aca409f97cf29e199ce17ce",
       "version_major": 2,
       "version_minor": 0
      },
      "text/plain": [
       "  0%|          | 0/45 [00:00<?, ?it/s]"
      ]
     },
     "metadata": {},
     "output_type": "display_data"
    },
    {
     "name": "stdout",
     "output_type": "stream",
     "text": [
      "tensor([[0.2720]], device='cuda:0', dtype=torch.float16)\n"
     ]
    },
    {
     "data": {
      "application/vnd.jupyter.widget-view+json": {
       "model_id": "9f7670a078844c6280fc56272c58931d",
       "version_major": 2,
       "version_minor": 0
      },
      "text/plain": [
       "  0%|          | 0/45 [00:00<?, ?it/s]"
      ]
     },
     "metadata": {},
     "output_type": "display_data"
    },
    {
     "name": "stdout",
     "output_type": "stream",
     "text": [
      "tensor([[0.3115]], device='cuda:0', dtype=torch.float16)\n"
     ]
    },
    {
     "data": {
      "application/vnd.jupyter.widget-view+json": {
       "model_id": "f689882a08494767aff4732c13c8ad89",
       "version_major": 2,
       "version_minor": 0
      },
      "text/plain": [
       "  0%|          | 0/45 [00:00<?, ?it/s]"
      ]
     },
     "metadata": {},
     "output_type": "display_data"
    },
    {
     "name": "stdout",
     "output_type": "stream",
     "text": [
      "tensor([[0.2793]], device='cuda:0', dtype=torch.float16)\n"
     ]
    },
    {
     "data": {
      "application/vnd.jupyter.widget-view+json": {
       "model_id": "f0b17046baa9470db63e1f27bb785a58",
       "version_major": 2,
       "version_minor": 0
      },
      "text/plain": [
       "  0%|          | 0/45 [00:00<?, ?it/s]"
      ]
     },
     "metadata": {},
     "output_type": "display_data"
    },
    {
     "name": "stdout",
     "output_type": "stream",
     "text": [
      "tensor([[0.2993]], device='cuda:0', dtype=torch.float16)\n"
     ]
    },
    {
     "data": {
      "application/vnd.jupyter.widget-view+json": {
       "model_id": "e0c5b99c02be41089b3cd44fedc5a104",
       "version_major": 2,
       "version_minor": 0
      },
      "text/plain": [
       "  0%|          | 0/45 [00:00<?, ?it/s]"
      ]
     },
     "metadata": {},
     "output_type": "display_data"
    },
    {
     "name": "stdout",
     "output_type": "stream",
     "text": [
      "tensor([[0.2957]], device='cuda:0', dtype=torch.float16)\n"
     ]
    },
    {
     "data": {
      "application/vnd.jupyter.widget-view+json": {
       "model_id": "d9bdfa444caa40b08c6dfc56da7f503a",
       "version_major": 2,
       "version_minor": 0
      },
      "text/plain": [
       "  0%|          | 0/45 [00:00<?, ?it/s]"
      ]
     },
     "metadata": {},
     "output_type": "display_data"
    },
    {
     "name": "stdout",
     "output_type": "stream",
     "text": [
      "tensor([[0.2776]], device='cuda:0', dtype=torch.float16)\n"
     ]
    },
    {
     "data": {
      "application/vnd.jupyter.widget-view+json": {
       "model_id": "fd0686c6349b4d2db17d98b0d60e7c30",
       "version_major": 2,
       "version_minor": 0
      },
      "text/plain": [
       "  0%|          | 0/45 [00:00<?, ?it/s]"
      ]
     },
     "metadata": {},
     "output_type": "display_data"
    },
    {
     "name": "stdout",
     "output_type": "stream",
     "text": [
      "tensor([[0.3083]], device='cuda:0', dtype=torch.float16)\n"
     ]
    },
    {
     "data": {
      "application/vnd.jupyter.widget-view+json": {
       "model_id": "bb07507853cc4178af9b97957ef280b0",
       "version_major": 2,
       "version_minor": 0
      },
      "text/plain": [
       "  0%|          | 0/45 [00:00<?, ?it/s]"
      ]
     },
     "metadata": {},
     "output_type": "display_data"
    },
    {
     "name": "stdout",
     "output_type": "stream",
     "text": [
      "tensor([[0.2776]], device='cuda:0', dtype=torch.float16)\n"
     ]
    },
    {
     "data": {
      "application/vnd.jupyter.widget-view+json": {
       "model_id": "d9f95af2c46b484cae9c332c913299c3",
       "version_major": 2,
       "version_minor": 0
      },
      "text/plain": [
       "  0%|          | 0/45 [00:00<?, ?it/s]"
      ]
     },
     "metadata": {},
     "output_type": "display_data"
    },
    {
     "name": "stdout",
     "output_type": "stream",
     "text": [
      "tensor([[0.2922]], device='cuda:0', dtype=torch.float16)\n"
     ]
    },
    {
     "data": {
      "application/vnd.jupyter.widget-view+json": {
       "model_id": "2bb5929586f44ba5986fcf09b5890917",
       "version_major": 2,
       "version_minor": 0
      },
      "text/plain": [
       "  0%|          | 0/45 [00:00<?, ?it/s]"
      ]
     },
     "metadata": {},
     "output_type": "display_data"
    },
    {
     "name": "stdout",
     "output_type": "stream",
     "text": [
      "tensor([[0.3057]], device='cuda:0', dtype=torch.float16)\n"
     ]
    },
    {
     "data": {
      "application/vnd.jupyter.widget-view+json": {
       "model_id": "345dde3e94604baf945d7286a8df668e",
       "version_major": 2,
       "version_minor": 0
      },
      "text/plain": [
       "  0%|          | 0/45 [00:00<?, ?it/s]"
      ]
     },
     "metadata": {},
     "output_type": "display_data"
    },
    {
     "name": "stdout",
     "output_type": "stream",
     "text": [
      "tensor([[0.2048]], device='cuda:0', dtype=torch.float16)\n"
     ]
    },
    {
     "data": {
      "application/vnd.jupyter.widget-view+json": {
       "model_id": "e6cffd1e065c4a888a7dbef751c05ef6",
       "version_major": 2,
       "version_minor": 0
      },
      "text/plain": [
       "  0%|          | 0/45 [00:00<?, ?it/s]"
      ]
     },
     "metadata": {},
     "output_type": "display_data"
    },
    {
     "name": "stdout",
     "output_type": "stream",
     "text": [
      "tensor([[0.2424]], device='cuda:0', dtype=torch.float16)\n"
     ]
    },
    {
     "data": {
      "application/vnd.jupyter.widget-view+json": {
       "model_id": "5bc6a847f7b447139789975b22789c3e",
       "version_major": 2,
       "version_minor": 0
      },
      "text/plain": [
       "  0%|          | 0/45 [00:00<?, ?it/s]"
      ]
     },
     "metadata": {},
     "output_type": "display_data"
    },
    {
     "name": "stdout",
     "output_type": "stream",
     "text": [
      "tensor([[0.2625]], device='cuda:0', dtype=torch.float16)\n"
     ]
    },
    {
     "data": {
      "application/vnd.jupyter.widget-view+json": {
       "model_id": "eb476797910a4ba69443153afd1b308e",
       "version_major": 2,
       "version_minor": 0
      },
      "text/plain": [
       "  0%|          | 0/45 [00:00<?, ?it/s]"
      ]
     },
     "metadata": {},
     "output_type": "display_data"
    },
    {
     "name": "stdout",
     "output_type": "stream",
     "text": [
      "tensor([[0.2432]], device='cuda:0', dtype=torch.float16)\n"
     ]
    },
    {
     "data": {
      "application/vnd.jupyter.widget-view+json": {
       "model_id": "44f6b4da4315438fb5b23a1ee8a993b5",
       "version_major": 2,
       "version_minor": 0
      },
      "text/plain": [
       "  0%|          | 0/45 [00:00<?, ?it/s]"
      ]
     },
     "metadata": {},
     "output_type": "display_data"
    },
    {
     "name": "stdout",
     "output_type": "stream",
     "text": [
      "tensor([[0.2524]], device='cuda:0', dtype=torch.float16)\n"
     ]
    },
    {
     "data": {
      "application/vnd.jupyter.widget-view+json": {
       "model_id": "89b5ee4795ed47f99efa0f6d3b557c9d",
       "version_major": 2,
       "version_minor": 0
      },
      "text/plain": [
       "  0%|          | 0/45 [00:00<?, ?it/s]"
      ]
     },
     "metadata": {},
     "output_type": "display_data"
    },
    {
     "name": "stdout",
     "output_type": "stream",
     "text": [
      "tensor([[0.2323]], device='cuda:0', dtype=torch.float16)\n"
     ]
    },
    {
     "data": {
      "application/vnd.jupyter.widget-view+json": {
       "model_id": "274b176531294b209b0d03cb1681d0d3",
       "version_major": 2,
       "version_minor": 0
      },
      "text/plain": [
       "  0%|          | 0/45 [00:00<?, ?it/s]"
      ]
     },
     "metadata": {},
     "output_type": "display_data"
    },
    {
     "name": "stdout",
     "output_type": "stream",
     "text": [
      "tensor([[0.2712]], device='cuda:0', dtype=torch.float16)\n"
     ]
    },
    {
     "data": {
      "application/vnd.jupyter.widget-view+json": {
       "model_id": "be861b6886a8424aa0ce7168eebadfd3",
       "version_major": 2,
       "version_minor": 0
      },
      "text/plain": [
       "  0%|          | 0/45 [00:00<?, ?it/s]"
      ]
     },
     "metadata": {},
     "output_type": "display_data"
    },
    {
     "name": "stdout",
     "output_type": "stream",
     "text": [
      "tensor([[0.2622]], device='cuda:0', dtype=torch.float16)\n"
     ]
    },
    {
     "data": {
      "application/vnd.jupyter.widget-view+json": {
       "model_id": "30717f5aa9e34bc4a17fb78bc8c88906",
       "version_major": 2,
       "version_minor": 0
      },
      "text/plain": [
       "  0%|          | 0/45 [00:00<?, ?it/s]"
      ]
     },
     "metadata": {},
     "output_type": "display_data"
    },
    {
     "name": "stdout",
     "output_type": "stream",
     "text": [
      "tensor([[0.2423]], device='cuda:0', dtype=torch.float16)\n"
     ]
    },
    {
     "data": {
      "application/vnd.jupyter.widget-view+json": {
       "model_id": "b254066c722e4fb9809e6cfbf10c1884",
       "version_major": 2,
       "version_minor": 0
      },
      "text/plain": [
       "  0%|          | 0/45 [00:00<?, ?it/s]"
      ]
     },
     "metadata": {},
     "output_type": "display_data"
    },
    {
     "name": "stdout",
     "output_type": "stream",
     "text": [
      "tensor([[0.1917]], device='cuda:0', dtype=torch.float16)\n"
     ]
    },
    {
     "data": {
      "application/vnd.jupyter.widget-view+json": {
       "model_id": "75d1ebe546df4b9e9923c727a725dae0",
       "version_major": 2,
       "version_minor": 0
      },
      "text/plain": [
       "  0%|          | 0/45 [00:00<?, ?it/s]"
      ]
     },
     "metadata": {},
     "output_type": "display_data"
    },
    {
     "name": "stdout",
     "output_type": "stream",
     "text": [
      "tensor([[0.2964]], device='cuda:0', dtype=torch.float16)\n"
     ]
    },
    {
     "data": {
      "application/vnd.jupyter.widget-view+json": {
       "model_id": "ed7e1a5d658a4384ad6ab7347c2bf79f",
       "version_major": 2,
       "version_minor": 0
      },
      "text/plain": [
       "  0%|          | 0/45 [00:00<?, ?it/s]"
      ]
     },
     "metadata": {},
     "output_type": "display_data"
    },
    {
     "name": "stdout",
     "output_type": "stream",
     "text": [
      "tensor([[0.2751]], device='cuda:0', dtype=torch.float16)\n"
     ]
    },
    {
     "data": {
      "application/vnd.jupyter.widget-view+json": {
       "model_id": "10d18f0bf3be4c7dab187a948b5f28e5",
       "version_major": 2,
       "version_minor": 0
      },
      "text/plain": [
       "  0%|          | 0/45 [00:00<?, ?it/s]"
      ]
     },
     "metadata": {},
     "output_type": "display_data"
    },
    {
     "name": "stdout",
     "output_type": "stream",
     "text": [
      "tensor([[0.3323]], device='cuda:0', dtype=torch.float16)\n"
     ]
    },
    {
     "data": {
      "application/vnd.jupyter.widget-view+json": {
       "model_id": "af8384b4feca42509ce8e32164fdf24e",
       "version_major": 2,
       "version_minor": 0
      },
      "text/plain": [
       "  0%|          | 0/45 [00:00<?, ?it/s]"
      ]
     },
     "metadata": {},
     "output_type": "display_data"
    },
    {
     "name": "stdout",
     "output_type": "stream",
     "text": [
      "tensor([[0.2494]], device='cuda:0', dtype=torch.float16)\n"
     ]
    },
    {
     "data": {
      "application/vnd.jupyter.widget-view+json": {
       "model_id": "8a0c5007bdde4d06b437bc711116d81b",
       "version_major": 2,
       "version_minor": 0
      },
      "text/plain": [
       "  0%|          | 0/45 [00:00<?, ?it/s]"
      ]
     },
     "metadata": {},
     "output_type": "display_data"
    },
    {
     "name": "stdout",
     "output_type": "stream",
     "text": [
      "tensor([[0.2832]], device='cuda:0', dtype=torch.float16)\n"
     ]
    },
    {
     "data": {
      "application/vnd.jupyter.widget-view+json": {
       "model_id": "a5898ba846174e5ba1160afa13317c80",
       "version_major": 2,
       "version_minor": 0
      },
      "text/plain": [
       "  0%|          | 0/45 [00:00<?, ?it/s]"
      ]
     },
     "metadata": {},
     "output_type": "display_data"
    },
    {
     "name": "stdout",
     "output_type": "stream",
     "text": [
      "tensor([[0.1996]], device='cuda:0', dtype=torch.float16)\n"
     ]
    },
    {
     "data": {
      "application/vnd.jupyter.widget-view+json": {
       "model_id": "e5fdd8dafd67425b90813636ae631416",
       "version_major": 2,
       "version_minor": 0
      },
      "text/plain": [
       "  0%|          | 0/45 [00:00<?, ?it/s]"
      ]
     },
     "metadata": {},
     "output_type": "display_data"
    },
    {
     "name": "stdout",
     "output_type": "stream",
     "text": [
      "tensor([[0.2451]], device='cuda:0', dtype=torch.float16)\n"
     ]
    },
    {
     "data": {
      "application/vnd.jupyter.widget-view+json": {
       "model_id": "62a253ae628643a6870dc8e59ed4b052",
       "version_major": 2,
       "version_minor": 0
      },
      "text/plain": [
       "  0%|          | 0/45 [00:00<?, ?it/s]"
      ]
     },
     "metadata": {},
     "output_type": "display_data"
    },
    {
     "name": "stdout",
     "output_type": "stream",
     "text": [
      "tensor([[0.2717]], device='cuda:0', dtype=torch.float16)\n"
     ]
    },
    {
     "data": {
      "application/vnd.jupyter.widget-view+json": {
       "model_id": "c1a8e7cadb7c4377b26d973a909aaae3",
       "version_major": 2,
       "version_minor": 0
      },
      "text/plain": [
       "  0%|          | 0/45 [00:00<?, ?it/s]"
      ]
     },
     "metadata": {},
     "output_type": "display_data"
    },
    {
     "name": "stdout",
     "output_type": "stream",
     "text": [
      "tensor([[0.3000]], device='cuda:0', dtype=torch.float16)\n"
     ]
    },
    {
     "data": {
      "application/vnd.jupyter.widget-view+json": {
       "model_id": "bc99209bde3d40d29afd1079d980bd16",
       "version_major": 2,
       "version_minor": 0
      },
      "text/plain": [
       "  0%|          | 0/45 [00:00<?, ?it/s]"
      ]
     },
     "metadata": {},
     "output_type": "display_data"
    },
    {
     "name": "stdout",
     "output_type": "stream",
     "text": [
      "tensor([[0.2781]], device='cuda:0', dtype=torch.float16)\n"
     ]
    },
    {
     "data": {
      "application/vnd.jupyter.widget-view+json": {
       "model_id": "5f001af9a2fe4c048fbc40eff5b32477",
       "version_major": 2,
       "version_minor": 0
      },
      "text/plain": [
       "  0%|          | 0/45 [00:00<?, ?it/s]"
      ]
     },
     "metadata": {},
     "output_type": "display_data"
    },
    {
     "name": "stdout",
     "output_type": "stream",
     "text": [
      "tensor([[0.2529]], device='cuda:0', dtype=torch.float16)\n"
     ]
    },
    {
     "data": {
      "application/vnd.jupyter.widget-view+json": {
       "model_id": "040e01a844a64e26b943fabe72693713",
       "version_major": 2,
       "version_minor": 0
      },
      "text/plain": [
       "  0%|          | 0/45 [00:00<?, ?it/s]"
      ]
     },
     "metadata": {},
     "output_type": "display_data"
    },
    {
     "name": "stdout",
     "output_type": "stream",
     "text": [
      "tensor([[0.2979]], device='cuda:0', dtype=torch.float16)\n"
     ]
    },
    {
     "data": {
      "application/vnd.jupyter.widget-view+json": {
       "model_id": "4716d29bf8a64b5197c45f417a1d2003",
       "version_major": 2,
       "version_minor": 0
      },
      "text/plain": [
       "  0%|          | 0/45 [00:00<?, ?it/s]"
      ]
     },
     "metadata": {},
     "output_type": "display_data"
    },
    {
     "name": "stdout",
     "output_type": "stream",
     "text": [
      "tensor([[0.2654]], device='cuda:0', dtype=torch.float16)\n"
     ]
    },
    {
     "data": {
      "application/vnd.jupyter.widget-view+json": {
       "model_id": "0e84fb93ac3f45f8a8cdd2124e62f53b",
       "version_major": 2,
       "version_minor": 0
      },
      "text/plain": [
       "  0%|          | 0/45 [00:00<?, ?it/s]"
      ]
     },
     "metadata": {},
     "output_type": "display_data"
    },
    {
     "name": "stdout",
     "output_type": "stream",
     "text": [
      "tensor([[0.2976]], device='cuda:0', dtype=torch.float16)\n"
     ]
    },
    {
     "data": {
      "application/vnd.jupyter.widget-view+json": {
       "model_id": "bbe35178e5b84297b76b354c12802b49",
       "version_major": 2,
       "version_minor": 0
      },
      "text/plain": [
       "  0%|          | 0/45 [00:00<?, ?it/s]"
      ]
     },
     "metadata": {},
     "output_type": "display_data"
    },
    {
     "name": "stdout",
     "output_type": "stream",
     "text": [
      "tensor([[0.2727]], device='cuda:0', dtype=torch.float16)\n"
     ]
    },
    {
     "data": {
      "application/vnd.jupyter.widget-view+json": {
       "model_id": "e10e00a4a34c4ecea11e861abc23dc14",
       "version_major": 2,
       "version_minor": 0
      },
      "text/plain": [
       "  0%|          | 0/45 [00:00<?, ?it/s]"
      ]
     },
     "metadata": {},
     "output_type": "display_data"
    },
    {
     "name": "stdout",
     "output_type": "stream",
     "text": [
      "tensor([[0.2524]], device='cuda:0', dtype=torch.float16)\n"
     ]
    },
    {
     "data": {
      "application/vnd.jupyter.widget-view+json": {
       "model_id": "4502b52b754d4d25b14aa28177c34041",
       "version_major": 2,
       "version_minor": 0
      },
      "text/plain": [
       "  0%|          | 0/45 [00:00<?, ?it/s]"
      ]
     },
     "metadata": {},
     "output_type": "display_data"
    },
    {
     "name": "stdout",
     "output_type": "stream",
     "text": [
      "tensor([[0.2498]], device='cuda:0', dtype=torch.float16)\n"
     ]
    },
    {
     "data": {
      "application/vnd.jupyter.widget-view+json": {
       "model_id": "47f5057ffbb8472f9b14959c3e5e9198",
       "version_major": 2,
       "version_minor": 0
      },
      "text/plain": [
       "  0%|          | 0/45 [00:00<?, ?it/s]"
      ]
     },
     "metadata": {},
     "output_type": "display_data"
    },
    {
     "name": "stdout",
     "output_type": "stream",
     "text": [
      "tensor([[0.2930]], device='cuda:0', dtype=torch.float16)\n"
     ]
    },
    {
     "data": {
      "application/vnd.jupyter.widget-view+json": {
       "model_id": "4009f89c11264867815040387fcaf345",
       "version_major": 2,
       "version_minor": 0
      },
      "text/plain": [
       "  0%|          | 0/45 [00:00<?, ?it/s]"
      ]
     },
     "metadata": {},
     "output_type": "display_data"
    },
    {
     "name": "stdout",
     "output_type": "stream",
     "text": [
      "tensor([[0.2991]], device='cuda:0', dtype=torch.float16)\n"
     ]
    },
    {
     "data": {
      "application/vnd.jupyter.widget-view+json": {
       "model_id": "01dc4f83530947dc8d064135845aeead",
       "version_major": 2,
       "version_minor": 0
      },
      "text/plain": [
       "  0%|          | 0/45 [00:00<?, ?it/s]"
      ]
     },
     "metadata": {},
     "output_type": "display_data"
    },
    {
     "name": "stdout",
     "output_type": "stream",
     "text": [
      "tensor([[0.2419]], device='cuda:0', dtype=torch.float16)\n"
     ]
    },
    {
     "data": {
      "application/vnd.jupyter.widget-view+json": {
       "model_id": "1c152f765ee84dc68570e64a64e61ddf",
       "version_major": 2,
       "version_minor": 0
      },
      "text/plain": [
       "  0%|          | 0/45 [00:00<?, ?it/s]"
      ]
     },
     "metadata": {},
     "output_type": "display_data"
    },
    {
     "name": "stdout",
     "output_type": "stream",
     "text": [
      "tensor([[0.2581]], device='cuda:0', dtype=torch.float16)\n"
     ]
    },
    {
     "data": {
      "application/vnd.jupyter.widget-view+json": {
       "model_id": "1769a4b9f3fd491da3ae1d39af38d954",
       "version_major": 2,
       "version_minor": 0
      },
      "text/plain": [
       "  0%|          | 0/45 [00:00<?, ?it/s]"
      ]
     },
     "metadata": {},
     "output_type": "display_data"
    },
    {
     "name": "stdout",
     "output_type": "stream",
     "text": [
      "tensor([[0.3184]], device='cuda:0', dtype=torch.float16)\n"
     ]
    },
    {
     "data": {
      "application/vnd.jupyter.widget-view+json": {
       "model_id": "99464208e36b4cd497b93a15a3040700",
       "version_major": 2,
       "version_minor": 0
      },
      "text/plain": [
       "  0%|          | 0/45 [00:00<?, ?it/s]"
      ]
     },
     "metadata": {},
     "output_type": "display_data"
    },
    {
     "name": "stdout",
     "output_type": "stream",
     "text": [
      "tensor([[0.2883]], device='cuda:0', dtype=torch.float16)\n"
     ]
    },
    {
     "data": {
      "application/vnd.jupyter.widget-view+json": {
       "model_id": "99a4ed5f8f994c85b98eaf5c6aaba8f0",
       "version_major": 2,
       "version_minor": 0
      },
      "text/plain": [
       "  0%|          | 0/45 [00:00<?, ?it/s]"
      ]
     },
     "metadata": {},
     "output_type": "display_data"
    },
    {
     "name": "stdout",
     "output_type": "stream",
     "text": [
      "tensor([[0.2708]], device='cuda:0', dtype=torch.float16)\n"
     ]
    },
    {
     "data": {
      "application/vnd.jupyter.widget-view+json": {
       "model_id": "3c73adbbcb7b4fd2b71cc76d41d363de",
       "version_major": 2,
       "version_minor": 0
      },
      "text/plain": [
       "  0%|          | 0/45 [00:00<?, ?it/s]"
      ]
     },
     "metadata": {},
     "output_type": "display_data"
    },
    {
     "name": "stdout",
     "output_type": "stream",
     "text": [
      "tensor([[0.2361]], device='cuda:0', dtype=torch.float16)\n"
     ]
    },
    {
     "data": {
      "application/vnd.jupyter.widget-view+json": {
       "model_id": "cf92efe98b4247ea83f5eb62b9738b87",
       "version_major": 2,
       "version_minor": 0
      },
      "text/plain": [
       "  0%|          | 0/45 [00:00<?, ?it/s]"
      ]
     },
     "metadata": {},
     "output_type": "display_data"
    },
    {
     "name": "stdout",
     "output_type": "stream",
     "text": [
      "tensor([[0.2430]], device='cuda:0', dtype=torch.float16)\n"
     ]
    },
    {
     "data": {
      "application/vnd.jupyter.widget-view+json": {
       "model_id": "02929efcda9e4e4dba12a57fd3822726",
       "version_major": 2,
       "version_minor": 0
      },
      "text/plain": [
       "  0%|          | 0/45 [00:00<?, ?it/s]"
      ]
     },
     "metadata": {},
     "output_type": "display_data"
    },
    {
     "name": "stdout",
     "output_type": "stream",
     "text": [
      "tensor([[0.2664]], device='cuda:0', dtype=torch.float16)\n"
     ]
    },
    {
     "data": {
      "application/vnd.jupyter.widget-view+json": {
       "model_id": "56f0df57ab70416a937c8f7d206a0f99",
       "version_major": 2,
       "version_minor": 0
      },
      "text/plain": [
       "  0%|          | 0/45 [00:00<?, ?it/s]"
      ]
     },
     "metadata": {},
     "output_type": "display_data"
    },
    {
     "name": "stdout",
     "output_type": "stream",
     "text": [
      "tensor([[0.2795]], device='cuda:0', dtype=torch.float16)\n"
     ]
    },
    {
     "data": {
      "application/vnd.jupyter.widget-view+json": {
       "model_id": "f93f0af1a32b4ec699656823275828cd",
       "version_major": 2,
       "version_minor": 0
      },
      "text/plain": [
       "  0%|          | 0/45 [00:00<?, ?it/s]"
      ]
     },
     "metadata": {},
     "output_type": "display_data"
    },
    {
     "name": "stdout",
     "output_type": "stream",
     "text": [
      "tensor([[0.2460]], device='cuda:0', dtype=torch.float16)\n"
     ]
    },
    {
     "data": {
      "application/vnd.jupyter.widget-view+json": {
       "model_id": "e51853e169a740ee8501f3b8c8f55695",
       "version_major": 2,
       "version_minor": 0
      },
      "text/plain": [
       "  0%|          | 0/45 [00:00<?, ?it/s]"
      ]
     },
     "metadata": {},
     "output_type": "display_data"
    },
    {
     "name": "stdout",
     "output_type": "stream",
     "text": [
      "tensor([[0.2476]], device='cuda:0', dtype=torch.float16)\n"
     ]
    },
    {
     "data": {
      "application/vnd.jupyter.widget-view+json": {
       "model_id": "c7250e5ee6724b7c82cca5412af8e977",
       "version_major": 2,
       "version_minor": 0
      },
      "text/plain": [
       "  0%|          | 0/45 [00:00<?, ?it/s]"
      ]
     },
     "metadata": {},
     "output_type": "display_data"
    },
    {
     "name": "stdout",
     "output_type": "stream",
     "text": [
      "tensor([[0.3088]], device='cuda:0', dtype=torch.float16)\n"
     ]
    },
    {
     "data": {
      "application/vnd.jupyter.widget-view+json": {
       "model_id": "50dc3b346f904476be724f139467ca50",
       "version_major": 2,
       "version_minor": 0
      },
      "text/plain": [
       "  0%|          | 0/45 [00:00<?, ?it/s]"
      ]
     },
     "metadata": {},
     "output_type": "display_data"
    },
    {
     "name": "stdout",
     "output_type": "stream",
     "text": [
      "tensor([[0.2766]], device='cuda:0', dtype=torch.float16)\n"
     ]
    },
    {
     "data": {
      "application/vnd.jupyter.widget-view+json": {
       "model_id": "e83949aa290748d39be9a8132085148d",
       "version_major": 2,
       "version_minor": 0
      },
      "text/plain": [
       "  0%|          | 0/45 [00:00<?, ?it/s]"
      ]
     },
     "metadata": {},
     "output_type": "display_data"
    },
    {
     "name": "stdout",
     "output_type": "stream",
     "text": [
      "tensor([[0.2598]], device='cuda:0', dtype=torch.float16)\n"
     ]
    },
    {
     "data": {
      "application/vnd.jupyter.widget-view+json": {
       "model_id": "4d95760a22c84ca1a60cf703479e6d47",
       "version_major": 2,
       "version_minor": 0
      },
      "text/plain": [
       "  0%|          | 0/45 [00:00<?, ?it/s]"
      ]
     },
     "metadata": {},
     "output_type": "display_data"
    },
    {
     "name": "stdout",
     "output_type": "stream",
     "text": [
      "tensor([[0.2822]], device='cuda:0', dtype=torch.float16)\n"
     ]
    },
    {
     "data": {
      "application/vnd.jupyter.widget-view+json": {
       "model_id": "03c15d7d6a52453bb0e078cae9572d39",
       "version_major": 2,
       "version_minor": 0
      },
      "text/plain": [
       "  0%|          | 0/45 [00:00<?, ?it/s]"
      ]
     },
     "metadata": {},
     "output_type": "display_data"
    },
    {
     "name": "stdout",
     "output_type": "stream",
     "text": [
      "tensor([[0.3037]], device='cuda:0', dtype=torch.float16)\n"
     ]
    },
    {
     "data": {
      "application/vnd.jupyter.widget-view+json": {
       "model_id": "2630ba9ed8584ffc87427d59121b647a",
       "version_major": 2,
       "version_minor": 0
      },
      "text/plain": [
       "  0%|          | 0/45 [00:00<?, ?it/s]"
      ]
     },
     "metadata": {},
     "output_type": "display_data"
    },
    {
     "name": "stdout",
     "output_type": "stream",
     "text": [
      "tensor([[0.2598]], device='cuda:0', dtype=torch.float16)\n"
     ]
    },
    {
     "data": {
      "application/vnd.jupyter.widget-view+json": {
       "model_id": "5e9ba72378c44cf3a9373877cf2f0006",
       "version_major": 2,
       "version_minor": 0
      },
      "text/plain": [
       "  0%|          | 0/45 [00:00<?, ?it/s]"
      ]
     },
     "metadata": {},
     "output_type": "display_data"
    },
    {
     "name": "stdout",
     "output_type": "stream",
     "text": [
      "tensor([[0.3232]], device='cuda:0', dtype=torch.float16)\n"
     ]
    },
    {
     "data": {
      "application/vnd.jupyter.widget-view+json": {
       "model_id": "01e9ffa0510e4c72a9e34eebdfb11461",
       "version_major": 2,
       "version_minor": 0
      },
      "text/plain": [
       "  0%|          | 0/45 [00:00<?, ?it/s]"
      ]
     },
     "metadata": {},
     "output_type": "display_data"
    },
    {
     "name": "stdout",
     "output_type": "stream",
     "text": [
      "tensor([[0.2788]], device='cuda:0', dtype=torch.float16)\n"
     ]
    },
    {
     "data": {
      "application/vnd.jupyter.widget-view+json": {
       "model_id": "7030b3334f534168bb238c615f075536",
       "version_major": 2,
       "version_minor": 0
      },
      "text/plain": [
       "  0%|          | 0/45 [00:00<?, ?it/s]"
      ]
     },
     "metadata": {},
     "output_type": "display_data"
    },
    {
     "name": "stdout",
     "output_type": "stream",
     "text": [
      "tensor([[0.3606]], device='cuda:0', dtype=torch.float16)\n"
     ]
    },
    {
     "data": {
      "application/vnd.jupyter.widget-view+json": {
       "model_id": "ceaca9460ffc45f4b61ab521bbcb685a",
       "version_major": 2,
       "version_minor": 0
      },
      "text/plain": [
       "  0%|          | 0/45 [00:00<?, ?it/s]"
      ]
     },
     "metadata": {},
     "output_type": "display_data"
    },
    {
     "name": "stdout",
     "output_type": "stream",
     "text": [
      "tensor([[0.2852]], device='cuda:0', dtype=torch.float16)\n"
     ]
    },
    {
     "data": {
      "application/vnd.jupyter.widget-view+json": {
       "model_id": "cc90685569754bd3b5207969b6db91b2",
       "version_major": 2,
       "version_minor": 0
      },
      "text/plain": [
       "  0%|          | 0/45 [00:00<?, ?it/s]"
      ]
     },
     "metadata": {},
     "output_type": "display_data"
    },
    {
     "name": "stdout",
     "output_type": "stream",
     "text": [
      "tensor([[0.2729]], device='cuda:0', dtype=torch.float16)\n"
     ]
    },
    {
     "data": {
      "application/vnd.jupyter.widget-view+json": {
       "model_id": "dc17323e22194d4d8502338c86783e31",
       "version_major": 2,
       "version_minor": 0
      },
      "text/plain": [
       "  0%|          | 0/45 [00:00<?, ?it/s]"
      ]
     },
     "metadata": {},
     "output_type": "display_data"
    },
    {
     "name": "stdout",
     "output_type": "stream",
     "text": [
      "tensor([[0.1804]], device='cuda:0', dtype=torch.float16)\n"
     ]
    },
    {
     "data": {
      "application/vnd.jupyter.widget-view+json": {
       "model_id": "60b73de57c07450981e63e1ea04af7ed",
       "version_major": 2,
       "version_minor": 0
      },
      "text/plain": [
       "  0%|          | 0/45 [00:00<?, ?it/s]"
      ]
     },
     "metadata": {},
     "output_type": "display_data"
    },
    {
     "name": "stdout",
     "output_type": "stream",
     "text": [
      "tensor([[0.2686]], device='cuda:0', dtype=torch.float16)\n"
     ]
    },
    {
     "data": {
      "application/vnd.jupyter.widget-view+json": {
       "model_id": "64ec2319c4844f6da3c3a130fe7ddee0",
       "version_major": 2,
       "version_minor": 0
      },
      "text/plain": [
       "  0%|          | 0/45 [00:00<?, ?it/s]"
      ]
     },
     "metadata": {},
     "output_type": "display_data"
    },
    {
     "name": "stdout",
     "output_type": "stream",
     "text": [
      "tensor([[0.1812]], device='cuda:0', dtype=torch.float16)\n"
     ]
    },
    {
     "data": {
      "application/vnd.jupyter.widget-view+json": {
       "model_id": "44126ac9b7164f878e42f00287d47b07",
       "version_major": 2,
       "version_minor": 0
      },
      "text/plain": [
       "  0%|          | 0/45 [00:00<?, ?it/s]"
      ]
     },
     "metadata": {},
     "output_type": "display_data"
    },
    {
     "name": "stdout",
     "output_type": "stream",
     "text": [
      "tensor([[0.2749]], device='cuda:0', dtype=torch.float16)\n"
     ]
    },
    {
     "data": {
      "application/vnd.jupyter.widget-view+json": {
       "model_id": "11f672ad041146038a91dc9ed4931a17",
       "version_major": 2,
       "version_minor": 0
      },
      "text/plain": [
       "  0%|          | 0/45 [00:00<?, ?it/s]"
      ]
     },
     "metadata": {},
     "output_type": "display_data"
    },
    {
     "name": "stdout",
     "output_type": "stream",
     "text": [
      "tensor([[0.3403]], device='cuda:0', dtype=torch.float16)\n"
     ]
    },
    {
     "data": {
      "application/vnd.jupyter.widget-view+json": {
       "model_id": "8d70d2e33e604535bd61281a4df774bc",
       "version_major": 2,
       "version_minor": 0
      },
      "text/plain": [
       "  0%|          | 0/45 [00:00<?, ?it/s]"
      ]
     },
     "metadata": {},
     "output_type": "display_data"
    },
    {
     "name": "stdout",
     "output_type": "stream",
     "text": [
      "tensor([[0.3105]], device='cuda:0', dtype=torch.float16)\n"
     ]
    },
    {
     "data": {
      "application/vnd.jupyter.widget-view+json": {
       "model_id": "e677a7119aff44e1837fbe4997941270",
       "version_major": 2,
       "version_minor": 0
      },
      "text/plain": [
       "  0%|          | 0/45 [00:00<?, ?it/s]"
      ]
     },
     "metadata": {},
     "output_type": "display_data"
    },
    {
     "name": "stdout",
     "output_type": "stream",
     "text": [
      "tensor([[0.3047]], device='cuda:0', dtype=torch.float16)\n"
     ]
    },
    {
     "data": {
      "application/vnd.jupyter.widget-view+json": {
       "model_id": "cec7ee215b2c466bb117ac9febed62e9",
       "version_major": 2,
       "version_minor": 0
      },
      "text/plain": [
       "  0%|          | 0/45 [00:00<?, ?it/s]"
      ]
     },
     "metadata": {},
     "output_type": "display_data"
    },
    {
     "name": "stdout",
     "output_type": "stream",
     "text": [
      "tensor([[0.2303]], device='cuda:0', dtype=torch.float16)\n"
     ]
    },
    {
     "data": {
      "application/vnd.jupyter.widget-view+json": {
       "model_id": "449b71b7dc5542ed9d1de94fe8edb87e",
       "version_major": 2,
       "version_minor": 0
      },
      "text/plain": [
       "  0%|          | 0/45 [00:00<?, ?it/s]"
      ]
     },
     "metadata": {},
     "output_type": "display_data"
    },
    {
     "name": "stdout",
     "output_type": "stream",
     "text": [
      "tensor([[0.3362]], device='cuda:0', dtype=torch.float16)\n"
     ]
    },
    {
     "data": {
      "application/vnd.jupyter.widget-view+json": {
       "model_id": "725afe6d482c4d408d4895df5efc1ea3",
       "version_major": 2,
       "version_minor": 0
      },
      "text/plain": [
       "  0%|          | 0/45 [00:00<?, ?it/s]"
      ]
     },
     "metadata": {},
     "output_type": "display_data"
    },
    {
     "name": "stdout",
     "output_type": "stream",
     "text": [
      "tensor([[0.2517]], device='cuda:0', dtype=torch.float16)\n"
     ]
    },
    {
     "data": {
      "application/vnd.jupyter.widget-view+json": {
       "model_id": "058326f1fe3a40b18cb53ba0287ff958",
       "version_major": 2,
       "version_minor": 0
      },
      "text/plain": [
       "  0%|          | 0/45 [00:00<?, ?it/s]"
      ]
     },
     "metadata": {},
     "output_type": "display_data"
    },
    {
     "name": "stdout",
     "output_type": "stream",
     "text": [
      "tensor([[0.2932]], device='cuda:0', dtype=torch.float16)\n"
     ]
    },
    {
     "data": {
      "application/vnd.jupyter.widget-view+json": {
       "model_id": "a128d7f378b3496c9709d9f68393ad14",
       "version_major": 2,
       "version_minor": 0
      },
      "text/plain": [
       "  0%|          | 0/45 [00:00<?, ?it/s]"
      ]
     },
     "metadata": {},
     "output_type": "display_data"
    },
    {
     "name": "stdout",
     "output_type": "stream",
     "text": [
      "tensor([[0.2646]], device='cuda:0', dtype=torch.float16)\n"
     ]
    },
    {
     "data": {
      "application/vnd.jupyter.widget-view+json": {
       "model_id": "35cb9f3020b541cb9ae54916e5ae1acc",
       "version_major": 2,
       "version_minor": 0
      },
      "text/plain": [
       "  0%|          | 0/45 [00:00<?, ?it/s]"
      ]
     },
     "metadata": {},
     "output_type": "display_data"
    },
    {
     "name": "stdout",
     "output_type": "stream",
     "text": [
      "tensor([[0.2255]], device='cuda:0', dtype=torch.float16)\n"
     ]
    },
    {
     "data": {
      "application/vnd.jupyter.widget-view+json": {
       "model_id": "690fe516e7dd481b91444e34186f7ca8",
       "version_major": 2,
       "version_minor": 0
      },
      "text/plain": [
       "  0%|          | 0/45 [00:00<?, ?it/s]"
      ]
     },
     "metadata": {},
     "output_type": "display_data"
    },
    {
     "name": "stdout",
     "output_type": "stream",
     "text": [
      "tensor([[0.2795]], device='cuda:0', dtype=torch.float16)\n"
     ]
    },
    {
     "data": {
      "application/vnd.jupyter.widget-view+json": {
       "model_id": "581b44a4af5e47309041ab7b4b12654a",
       "version_major": 2,
       "version_minor": 0
      },
      "text/plain": [
       "  0%|          | 0/45 [00:00<?, ?it/s]"
      ]
     },
     "metadata": {},
     "output_type": "display_data"
    },
    {
     "name": "stdout",
     "output_type": "stream",
     "text": [
      "tensor([[0.2683]], device='cuda:0', dtype=torch.float16)\n"
     ]
    },
    {
     "data": {
      "application/vnd.jupyter.widget-view+json": {
       "model_id": "f825ea4e713c473ba283c86f8d2ad0cd",
       "version_major": 2,
       "version_minor": 0
      },
      "text/plain": [
       "  0%|          | 0/45 [00:00<?, ?it/s]"
      ]
     },
     "metadata": {},
     "output_type": "display_data"
    },
    {
     "name": "stdout",
     "output_type": "stream",
     "text": [
      "tensor([[0.2644]], device='cuda:0', dtype=torch.float16)\n"
     ]
    },
    {
     "data": {
      "application/vnd.jupyter.widget-view+json": {
       "model_id": "2d8c4730a33d47e29d1950de8ef931ae",
       "version_major": 2,
       "version_minor": 0
      },
      "text/plain": [
       "  0%|          | 0/45 [00:00<?, ?it/s]"
      ]
     },
     "metadata": {},
     "output_type": "display_data"
    },
    {
     "name": "stdout",
     "output_type": "stream",
     "text": [
      "tensor([[0.2113]], device='cuda:0', dtype=torch.float16)\n"
     ]
    },
    {
     "data": {
      "application/vnd.jupyter.widget-view+json": {
       "model_id": "bbe6387639af4dada835777d0bce6dce",
       "version_major": 2,
       "version_minor": 0
      },
      "text/plain": [
       "  0%|          | 0/45 [00:00<?, ?it/s]"
      ]
     },
     "metadata": {},
     "output_type": "display_data"
    },
    {
     "name": "stdout",
     "output_type": "stream",
     "text": [
      "tensor([[0.2374]], device='cuda:0', dtype=torch.float16)\n"
     ]
    },
    {
     "data": {
      "application/vnd.jupyter.widget-view+json": {
       "model_id": "b7d85244b7364205857646bf691863bd",
       "version_major": 2,
       "version_minor": 0
      },
      "text/plain": [
       "  0%|          | 0/45 [00:00<?, ?it/s]"
      ]
     },
     "metadata": {},
     "output_type": "display_data"
    },
    {
     "name": "stdout",
     "output_type": "stream",
     "text": [
      "tensor([[0.2473]], device='cuda:0', dtype=torch.float16)\n",
      "tensor([[0.2742]], device='cuda:0', dtype=torch.float16)\n"
     ]
    }
   ],
   "source": [
    "import torch\n",
    "import clip\n",
    "from PIL import Image\n",
    "\n",
    "num_inference_steps = 45\n",
    "total_hps = 0\n",
    "\n",
    "for i in range(len(prompts)):\n",
    "    prompt = prompts[i]\n",
    "    \n",
    "    v14Image = sdxlpipe(prompt=prompt, num_inference_steps=num_inference_steps, guidance_scale=8.0).images[0]\n",
    "    \n",
    "    device = \"cuda\" if torch.cuda.is_available() else \"cpu\"\n",
    "    model, preprocess = clip.load(\"ViT-B/32\", device=device)\n",
    "    \n",
    "    image = preprocess(v14Image).unsqueeze(0).to(device)\n",
    "    text = clip.tokenize(prompt).to(device)\n",
    "\n",
    "    with torch.no_grad():\n",
    "        image_features = model.encode_image(image)\n",
    "        text_features = model.encode_text(text)\n",
    "    \n",
    "        image_features = image_features / image_features.norm(dim=-1, keepdim=True)\n",
    "        text_features = text_features / text_features.norm(dim=-1, keepdim=True)\n",
    "    \n",
    "        hps = image_features @ text_features.T\n",
    "        print(hps)\n",
    "    \n",
    "    total_hps += hps\n",
    "\n",
    "print(total_hps/100)"
   ]
  },
  {
   "cell_type": "code",
   "execution_count": 8,
   "metadata": {},
   "outputs": [
    {
     "data": {
      "application/vnd.jupyter.widget-view+json": {
       "model_id": "18bab38227e74554bb6b8ac19496c975",
       "version_major": 2,
       "version_minor": 0
      },
      "text/plain": [
       "  0%|          | 0/45 [00:00<?, ?it/s]"
      ]
     },
     "metadata": {},
     "output_type": "display_data"
    },
    {
     "name": "stdout",
     "output_type": "stream",
     "text": [
      "load checkpoint from /home/research/jenzheng/.cache/ImageReward/ImageReward.pt\n",
      "checkpoint loaded\n",
      "image reward:  -1.1388907432556152\n",
      "aesthetic score:  tensor([[5.1207]], device='cuda:0', grad_fn=<AddmmBackward0>)\n",
      "load checkpoint from /home/research/jenzheng/.cache/ImageReward/ImageReward.pt\n",
      "checkpoint loaded\n",
      "image reward:  0.2732652425765991\n",
      "aesthetic score:  tensor([[5.3916]], device='cuda:0', grad_fn=<AddmmBackward0>)\n",
      "load checkpoint from /home/research/jenzheng/.cache/ImageReward/ImageReward.pt\n",
      "checkpoint loaded\n",
      "image reward:  0.21898427605628967\n",
      "aesthetic score:  tensor([[5.0814]], device='cuda:0', grad_fn=<AddmmBackward0>)\n",
      "load checkpoint from /home/research/jenzheng/.cache/ImageReward/ImageReward.pt\n",
      "checkpoint loaded\n",
      "image reward:  -1.1769771575927734\n",
      "aesthetic score:  tensor([[5.4639]], device='cuda:0', grad_fn=<AddmmBackward0>)\n",
      "load checkpoint from /home/research/jenzheng/.cache/ImageReward/ImageReward.pt\n",
      "checkpoint loaded\n",
      "image reward:  0.8105146884918213\n",
      "aesthetic score:  tensor([[5.3696]], device='cuda:0', grad_fn=<AddmmBackward0>)\n",
      "load checkpoint from /home/research/jenzheng/.cache/ImageReward/ImageReward.pt\n",
      "checkpoint loaded\n",
      "image reward:  -0.3363211154937744\n",
      "aesthetic score:  tensor([[4.5907]], device='cuda:0', grad_fn=<AddmmBackward0>)\n",
      "load checkpoint from /home/research/jenzheng/.cache/ImageReward/ImageReward.pt\n",
      "checkpoint loaded\n",
      "image reward:  1.1739307641983032\n",
      "aesthetic score:  tensor([[4.7544]], device='cuda:0', grad_fn=<AddmmBackward0>)\n",
      "load checkpoint from /home/research/jenzheng/.cache/ImageReward/ImageReward.pt\n",
      "checkpoint loaded\n",
      "image reward:  0.11072364449501038\n",
      "aesthetic score:  tensor([[4.8685]], device='cuda:0', grad_fn=<AddmmBackward0>)\n",
      "load checkpoint from /home/research/jenzheng/.cache/ImageReward/ImageReward.pt\n",
      "checkpoint loaded\n",
      "image reward:  -1.2937812805175781\n",
      "aesthetic score:  tensor([[4.4390]], device='cuda:0', grad_fn=<AddmmBackward0>)\n",
      "load checkpoint from /home/research/jenzheng/.cache/ImageReward/ImageReward.pt\n",
      "checkpoint loaded\n",
      "image reward:  0.4401164948940277\n",
      "aesthetic score:  tensor([[4.6614]], device='cuda:0', grad_fn=<AddmmBackward0>)\n",
      "load checkpoint from /home/research/jenzheng/.cache/ImageReward/ImageReward.pt\n",
      "checkpoint loaded\n",
      "image reward:  0.9640282988548279\n",
      "aesthetic score:  tensor([[4.7078]], device='cuda:0', grad_fn=<AddmmBackward0>)\n",
      "load checkpoint from /home/research/jenzheng/.cache/ImageReward/ImageReward.pt\n",
      "checkpoint loaded\n",
      "image reward:  1.1314414739608765\n",
      "aesthetic score:  tensor([[5.2104]], device='cuda:0', grad_fn=<AddmmBackward0>)\n",
      "load checkpoint from /home/research/jenzheng/.cache/ImageReward/ImageReward.pt\n",
      "checkpoint loaded\n",
      "image reward:  0.31125959753990173\n",
      "aesthetic score:  tensor([[5.4957]], device='cuda:0', grad_fn=<AddmmBackward0>)\n",
      "load checkpoint from /home/research/jenzheng/.cache/ImageReward/ImageReward.pt\n",
      "checkpoint loaded\n",
      "image reward:  -1.2835934162139893\n",
      "aesthetic score:  tensor([[5.3309]], device='cuda:0', grad_fn=<AddmmBackward0>)\n",
      "load checkpoint from /home/research/jenzheng/.cache/ImageReward/ImageReward.pt\n",
      "checkpoint loaded\n",
      "image reward:  -0.18297846615314484\n",
      "aesthetic score:  tensor([[5.4983]], device='cuda:0', grad_fn=<AddmmBackward0>)\n",
      "load checkpoint from /home/research/jenzheng/.cache/ImageReward/ImageReward.pt\n",
      "checkpoint loaded\n",
      "image reward:  -2.073643922805786\n",
      "aesthetic score:  tensor([[5.4191]], device='cuda:0', grad_fn=<AddmmBackward0>)\n",
      "load checkpoint from /home/research/jenzheng/.cache/ImageReward/ImageReward.pt\n",
      "checkpoint loaded\n",
      "image reward:  -1.52647864818573\n",
      "aesthetic score:  tensor([[5.5805]], device='cuda:0', grad_fn=<AddmmBackward0>)\n",
      "load checkpoint from /home/research/jenzheng/.cache/ImageReward/ImageReward.pt\n",
      "checkpoint loaded\n",
      "image reward:  -0.556236207485199\n",
      "aesthetic score:  tensor([[5.4217]], device='cuda:0', grad_fn=<AddmmBackward0>)\n",
      "load checkpoint from /home/research/jenzheng/.cache/ImageReward/ImageReward.pt\n",
      "checkpoint loaded\n",
      "image reward:  -2.2809622287750244\n",
      "aesthetic score:  tensor([[5.1532]], device='cuda:0', grad_fn=<AddmmBackward0>)\n",
      "load checkpoint from /home/research/jenzheng/.cache/ImageReward/ImageReward.pt\n",
      "checkpoint loaded\n",
      "image reward:  -2.2192773818969727\n",
      "aesthetic score:  tensor([[4.8061]], device='cuda:0', grad_fn=<AddmmBackward0>)\n",
      "load checkpoint from /home/research/jenzheng/.cache/ImageReward/ImageReward.pt\n",
      "checkpoint loaded\n",
      "image reward:  0.03836105763912201\n",
      "aesthetic score:  tensor([[5.0110]], device='cuda:0', grad_fn=<AddmmBackward0>)\n",
      "load checkpoint from /home/research/jenzheng/.cache/ImageReward/ImageReward.pt\n",
      "checkpoint loaded\n",
      "image reward:  -1.7784359455108643\n",
      "aesthetic score:  tensor([[5.0749]], device='cuda:0', grad_fn=<AddmmBackward0>)\n",
      "load checkpoint from /home/research/jenzheng/.cache/ImageReward/ImageReward.pt\n",
      "checkpoint loaded\n",
      "image reward:  -1.301560640335083\n",
      "aesthetic score:  tensor([[5.2992]], device='cuda:0', grad_fn=<AddmmBackward0>)\n",
      "load checkpoint from /home/research/jenzheng/.cache/ImageReward/ImageReward.pt\n",
      "checkpoint loaded\n",
      "image reward:  -2.0920515060424805\n",
      "aesthetic score:  tensor([[5.5486]], device='cuda:0', grad_fn=<AddmmBackward0>)\n",
      "load checkpoint from /home/research/jenzheng/.cache/ImageReward/ImageReward.pt\n",
      "checkpoint loaded\n",
      "image reward:  0.3279533088207245\n",
      "aesthetic score:  tensor([[5.7536]], device='cuda:0', grad_fn=<AddmmBackward0>)\n",
      "load checkpoint from /home/research/jenzheng/.cache/ImageReward/ImageReward.pt\n",
      "checkpoint loaded\n",
      "image reward:  -0.2572374641895294\n",
      "aesthetic score:  tensor([[5.1167]], device='cuda:0', grad_fn=<AddmmBackward0>)\n",
      "load checkpoint from /home/research/jenzheng/.cache/ImageReward/ImageReward.pt\n",
      "checkpoint loaded\n",
      "image reward:  -2.1787781715393066\n",
      "aesthetic score:  tensor([[5.3999]], device='cuda:0', grad_fn=<AddmmBackward0>)\n",
      "load checkpoint from /home/research/jenzheng/.cache/ImageReward/ImageReward.pt\n",
      "checkpoint loaded\n",
      "image reward:  -1.3066593408584595\n",
      "aesthetic score:  tensor([[5.3828]], device='cuda:0', grad_fn=<AddmmBackward0>)\n",
      "load checkpoint from /home/research/jenzheng/.cache/ImageReward/ImageReward.pt\n",
      "checkpoint loaded\n",
      "image reward:  -1.9838565587997437\n",
      "aesthetic score:  tensor([[6.0327]], device='cuda:0', grad_fn=<AddmmBackward0>)\n",
      "load checkpoint from /home/research/jenzheng/.cache/ImageReward/ImageReward.pt\n",
      "checkpoint loaded\n",
      "image reward:  -2.094968795776367\n",
      "aesthetic score:  tensor([[5.6384]], device='cuda:0', grad_fn=<AddmmBackward0>)\n",
      "load checkpoint from /home/research/jenzheng/.cache/ImageReward/ImageReward.pt\n",
      "checkpoint loaded\n",
      "image reward:  -2.016500234603882\n",
      "aesthetic score:  tensor([[4.9308]], device='cuda:0', grad_fn=<AddmmBackward0>)\n",
      "load checkpoint from /home/research/jenzheng/.cache/ImageReward/ImageReward.pt\n",
      "checkpoint loaded\n",
      "image reward:  -2.268073320388794\n",
      "aesthetic score:  tensor([[5.0453]], device='cuda:0', grad_fn=<AddmmBackward0>)\n",
      "load checkpoint from /home/research/jenzheng/.cache/ImageReward/ImageReward.pt\n",
      "checkpoint loaded\n",
      "image reward:  -2.247589111328125\n",
      "aesthetic score:  tensor([[3.9421]], device='cuda:0', grad_fn=<AddmmBackward0>)\n",
      "load checkpoint from /home/research/jenzheng/.cache/ImageReward/ImageReward.pt\n",
      "checkpoint loaded\n",
      "image reward:  -2.0332138538360596\n",
      "aesthetic score:  tensor([[4.9414]], device='cuda:0', grad_fn=<AddmmBackward0>)\n",
      "load checkpoint from /home/research/jenzheng/.cache/ImageReward/ImageReward.pt\n",
      "checkpoint loaded\n",
      "image reward:  -0.847142219543457\n",
      "aesthetic score:  tensor([[5.2017]], device='cuda:0', grad_fn=<AddmmBackward0>)\n",
      "load checkpoint from /home/research/jenzheng/.cache/ImageReward/ImageReward.pt\n",
      "checkpoint loaded\n",
      "image reward:  -1.9202457666397095\n",
      "aesthetic score:  tensor([[4.8845]], device='cuda:0', grad_fn=<AddmmBackward0>)\n",
      "load checkpoint from /home/research/jenzheng/.cache/ImageReward/ImageReward.pt\n",
      "checkpoint loaded\n",
      "image reward:  -2.2690560817718506\n",
      "aesthetic score:  tensor([[4.9922]], device='cuda:0', grad_fn=<AddmmBackward0>)\n",
      "load checkpoint from /home/research/jenzheng/.cache/ImageReward/ImageReward.pt\n",
      "checkpoint loaded\n",
      "image reward:  -1.4757627248764038\n",
      "aesthetic score:  tensor([[5.0690]], device='cuda:0', grad_fn=<AddmmBackward0>)\n",
      "load checkpoint from /home/research/jenzheng/.cache/ImageReward/ImageReward.pt\n",
      "checkpoint loaded\n",
      "image reward:  -1.6421167850494385\n",
      "aesthetic score:  tensor([[5.3134]], device='cuda:0', grad_fn=<AddmmBackward0>)\n",
      "load checkpoint from /home/research/jenzheng/.cache/ImageReward/ImageReward.pt\n",
      "checkpoint loaded\n",
      "image reward:  -0.7655718922615051\n",
      "aesthetic score:  tensor([[5.2832]], device='cuda:0', grad_fn=<AddmmBackward0>)\n",
      "load checkpoint from /home/research/jenzheng/.cache/ImageReward/ImageReward.pt\n",
      "checkpoint loaded\n",
      "image reward:  -1.990242600440979\n",
      "aesthetic score:  tensor([[5.0428]], device='cuda:0', grad_fn=<AddmmBackward0>)\n",
      "load checkpoint from /home/research/jenzheng/.cache/ImageReward/ImageReward.pt\n",
      "checkpoint loaded\n",
      "image reward:  -2.2401185035705566\n",
      "aesthetic score:  tensor([[5.1282]], device='cuda:0', grad_fn=<AddmmBackward0>)\n",
      "load checkpoint from /home/research/jenzheng/.cache/ImageReward/ImageReward.pt\n",
      "checkpoint loaded\n",
      "image reward:  0.002258925698697567\n",
      "aesthetic score:  tensor([[5.1256]], device='cuda:0', grad_fn=<AddmmBackward0>)\n",
      "load checkpoint from /home/research/jenzheng/.cache/ImageReward/ImageReward.pt\n",
      "checkpoint loaded\n",
      "image reward:  -0.46404269337654114\n",
      "aesthetic score:  tensor([[4.8569]], device='cuda:0', grad_fn=<AddmmBackward0>)\n",
      "load checkpoint from /home/research/jenzheng/.cache/ImageReward/ImageReward.pt\n",
      "checkpoint loaded\n",
      "image reward:  0.14095470309257507\n",
      "aesthetic score:  tensor([[5.4440]], device='cuda:0', grad_fn=<AddmmBackward0>)\n",
      "load checkpoint from /home/research/jenzheng/.cache/ImageReward/ImageReward.pt\n",
      "checkpoint loaded\n",
      "image reward:  -1.4801450967788696\n",
      "aesthetic score:  tensor([[4.8165]], device='cuda:0', grad_fn=<AddmmBackward0>)\n",
      "load checkpoint from /home/research/jenzheng/.cache/ImageReward/ImageReward.pt\n",
      "checkpoint loaded\n",
      "image reward:  -0.12377084046602249\n",
      "aesthetic score:  tensor([[5.4349]], device='cuda:0', grad_fn=<AddmmBackward0>)\n",
      "load checkpoint from /home/research/jenzheng/.cache/ImageReward/ImageReward.pt\n",
      "checkpoint loaded\n",
      "image reward:  -1.1662644147872925\n",
      "aesthetic score:  tensor([[5.2437]], device='cuda:0', grad_fn=<AddmmBackward0>)\n",
      "load checkpoint from /home/research/jenzheng/.cache/ImageReward/ImageReward.pt\n",
      "checkpoint loaded\n",
      "image reward:  -1.933005690574646\n",
      "aesthetic score:  tensor([[4.6812]], device='cuda:0', grad_fn=<AddmmBackward0>)\n",
      "load checkpoint from /home/research/jenzheng/.cache/ImageReward/ImageReward.pt\n",
      "checkpoint loaded\n",
      "image reward:  -1.9593013525009155\n",
      "aesthetic score:  tensor([[4.7388]], device='cuda:0', grad_fn=<AddmmBackward0>)\n",
      "load checkpoint from /home/research/jenzheng/.cache/ImageReward/ImageReward.pt\n",
      "checkpoint loaded\n",
      "image reward:  -1.7794685363769531\n",
      "aesthetic score:  tensor([[5.0190]], device='cuda:0', grad_fn=<AddmmBackward0>)\n",
      "load checkpoint from /home/research/jenzheng/.cache/ImageReward/ImageReward.pt\n",
      "checkpoint loaded\n",
      "image reward:  -0.15968750417232513\n",
      "aesthetic score:  tensor([[5.1862]], device='cuda:0', grad_fn=<AddmmBackward0>)\n",
      "load checkpoint from /home/research/jenzheng/.cache/ImageReward/ImageReward.pt\n",
      "checkpoint loaded\n",
      "image reward:  0.8340983390808105\n",
      "aesthetic score:  tensor([[5.2557]], device='cuda:0', grad_fn=<AddmmBackward0>)\n",
      "load checkpoint from /home/research/jenzheng/.cache/ImageReward/ImageReward.pt\n",
      "checkpoint loaded\n",
      "image reward:  -2.082754135131836\n",
      "aesthetic score:  tensor([[5.0725]], device='cuda:0', grad_fn=<AddmmBackward0>)\n",
      "load checkpoint from /home/research/jenzheng/.cache/ImageReward/ImageReward.pt\n",
      "checkpoint loaded\n",
      "image reward:  0.8765569925308228\n",
      "aesthetic score:  tensor([[5.1624]], device='cuda:0', grad_fn=<AddmmBackward0>)\n",
      "load checkpoint from /home/research/jenzheng/.cache/ImageReward/ImageReward.pt\n",
      "checkpoint loaded\n",
      "image reward:  -0.5685076117515564\n",
      "aesthetic score:  tensor([[5.1110]], device='cuda:0', grad_fn=<AddmmBackward0>)\n",
      "load checkpoint from /home/research/jenzheng/.cache/ImageReward/ImageReward.pt\n",
      "checkpoint loaded\n",
      "image reward:  -1.0256341695785522\n",
      "aesthetic score:  tensor([[5.2387]], device='cuda:0', grad_fn=<AddmmBackward0>)\n",
      "load checkpoint from /home/research/jenzheng/.cache/ImageReward/ImageReward.pt\n",
      "checkpoint loaded\n",
      "image reward:  0.04445759579539299\n",
      "aesthetic score:  tensor([[4.9958]], device='cuda:0', grad_fn=<AddmmBackward0>)\n",
      "load checkpoint from /home/research/jenzheng/.cache/ImageReward/ImageReward.pt\n",
      "checkpoint loaded\n",
      "image reward:  -2.1872153282165527\n",
      "aesthetic score:  tensor([[5.3091]], device='cuda:0', grad_fn=<AddmmBackward0>)\n",
      "load checkpoint from /home/research/jenzheng/.cache/ImageReward/ImageReward.pt\n",
      "checkpoint loaded\n",
      "image reward:  0.5310400128364563\n",
      "aesthetic score:  tensor([[5.2709]], device='cuda:0', grad_fn=<AddmmBackward0>)\n",
      "load checkpoint from /home/research/jenzheng/.cache/ImageReward/ImageReward.pt\n",
      "checkpoint loaded\n",
      "image reward:  -1.264803171157837\n",
      "aesthetic score:  tensor([[4.9908]], device='cuda:0', grad_fn=<AddmmBackward0>)\n",
      "load checkpoint from /home/research/jenzheng/.cache/ImageReward/ImageReward.pt\n",
      "checkpoint loaded\n",
      "image reward:  -0.7039155960083008\n",
      "aesthetic score:  tensor([[5.2325]], device='cuda:0', grad_fn=<AddmmBackward0>)\n",
      "load checkpoint from /home/research/jenzheng/.cache/ImageReward/ImageReward.pt\n",
      "checkpoint loaded\n",
      "image reward:  -0.692895233631134\n",
      "aesthetic score:  tensor([[4.2555]], device='cuda:0', grad_fn=<AddmmBackward0>)\n",
      "load checkpoint from /home/research/jenzheng/.cache/ImageReward/ImageReward.pt\n",
      "checkpoint loaded\n",
      "image reward:  -0.7607637643814087\n",
      "aesthetic score:  tensor([[4.3149]], device='cuda:0', grad_fn=<AddmmBackward0>)\n",
      "load checkpoint from /home/research/jenzheng/.cache/ImageReward/ImageReward.pt\n",
      "checkpoint loaded\n",
      "image reward:  1.0318114757537842\n",
      "aesthetic score:  tensor([[5.0525]], device='cuda:0', grad_fn=<AddmmBackward0>)\n",
      "load checkpoint from /home/research/jenzheng/.cache/ImageReward/ImageReward.pt\n",
      "checkpoint loaded\n",
      "image reward:  -1.3985867500305176\n",
      "aesthetic score:  tensor([[5.0132]], device='cuda:0', grad_fn=<AddmmBackward0>)\n",
      "load checkpoint from /home/research/jenzheng/.cache/ImageReward/ImageReward.pt\n",
      "checkpoint loaded\n",
      "image reward:  -2.2169227600097656\n",
      "aesthetic score:  tensor([[4.0951]], device='cuda:0', grad_fn=<AddmmBackward0>)\n",
      "load checkpoint from /home/research/jenzheng/.cache/ImageReward/ImageReward.pt\n",
      "checkpoint loaded\n",
      "image reward:  -0.9693895578384399\n",
      "aesthetic score:  tensor([[5.4789]], device='cuda:0', grad_fn=<AddmmBackward0>)\n",
      "load checkpoint from /home/research/jenzheng/.cache/ImageReward/ImageReward.pt\n",
      "checkpoint loaded\n",
      "image reward:  -0.6025291681289673\n",
      "aesthetic score:  tensor([[5.2307]], device='cuda:0', grad_fn=<AddmmBackward0>)\n",
      "load checkpoint from /home/research/jenzheng/.cache/ImageReward/ImageReward.pt\n",
      "checkpoint loaded\n",
      "image reward:  -1.711897611618042\n",
      "aesthetic score:  tensor([[4.3972]], device='cuda:0', grad_fn=<AddmmBackward0>)\n",
      "load checkpoint from /home/research/jenzheng/.cache/ImageReward/ImageReward.pt\n",
      "checkpoint loaded\n",
      "image reward:  -0.8486570715904236\n",
      "aesthetic score:  tensor([[5.2311]], device='cuda:0', grad_fn=<AddmmBackward0>)\n",
      "load checkpoint from /home/research/jenzheng/.cache/ImageReward/ImageReward.pt\n",
      "checkpoint loaded\n",
      "image reward:  -1.902253270149231\n",
      "aesthetic score:  tensor([[5.3770]], device='cuda:0', grad_fn=<AddmmBackward0>)\n",
      "load checkpoint from /home/research/jenzheng/.cache/ImageReward/ImageReward.pt\n",
      "checkpoint loaded\n",
      "image reward:  -1.1611803770065308\n",
      "aesthetic score:  tensor([[4.9120]], device='cuda:0', grad_fn=<AddmmBackward0>)\n",
      "load checkpoint from /home/research/jenzheng/.cache/ImageReward/ImageReward.pt\n",
      "checkpoint loaded\n",
      "image reward:  -1.3498817682266235\n",
      "aesthetic score:  tensor([[4.9941]], device='cuda:0', grad_fn=<AddmmBackward0>)\n",
      "load checkpoint from /home/research/jenzheng/.cache/ImageReward/ImageReward.pt\n",
      "checkpoint loaded\n",
      "image reward:  -0.2506294548511505\n",
      "aesthetic score:  tensor([[5.2397]], device='cuda:0', grad_fn=<AddmmBackward0>)\n",
      "load checkpoint from /home/research/jenzheng/.cache/ImageReward/ImageReward.pt\n",
      "checkpoint loaded\n",
      "image reward:  -0.4787154495716095\n",
      "aesthetic score:  tensor([[5.3288]], device='cuda:0', grad_fn=<AddmmBackward0>)\n",
      "load checkpoint from /home/research/jenzheng/.cache/ImageReward/ImageReward.pt\n",
      "checkpoint loaded\n",
      "image reward:  -0.9599515795707703\n",
      "aesthetic score:  tensor([[4.9515]], device='cuda:0', grad_fn=<AddmmBackward0>)\n",
      "load checkpoint from /home/research/jenzheng/.cache/ImageReward/ImageReward.pt\n",
      "checkpoint loaded\n",
      "image reward:  -0.6328403949737549\n",
      "aesthetic score:  tensor([[5.4819]], device='cuda:0', grad_fn=<AddmmBackward0>)\n",
      "load checkpoint from /home/research/jenzheng/.cache/ImageReward/ImageReward.pt\n",
      "checkpoint loaded\n",
      "image reward:  -0.8539018630981445\n",
      "aesthetic score:  tensor([[5.3733]], device='cuda:0', grad_fn=<AddmmBackward0>)\n",
      "load checkpoint from /home/research/jenzheng/.cache/ImageReward/ImageReward.pt\n",
      "checkpoint loaded\n",
      "image reward:  -1.686245083808899\n",
      "aesthetic score:  tensor([[5.0629]], device='cuda:0', grad_fn=<AddmmBackward0>)\n",
      "load checkpoint from /home/research/jenzheng/.cache/ImageReward/ImageReward.pt\n",
      "checkpoint loaded\n",
      "image reward:  -1.0189603567123413\n",
      "aesthetic score:  tensor([[5.6585]], device='cuda:0', grad_fn=<AddmmBackward0>)\n",
      "load checkpoint from /home/research/jenzheng/.cache/ImageReward/ImageReward.pt\n",
      "checkpoint loaded\n",
      "image reward:  -2.2712981700897217\n",
      "aesthetic score:  tensor([[4.5425]], device='cuda:0', grad_fn=<AddmmBackward0>)\n",
      "load checkpoint from /home/research/jenzheng/.cache/ImageReward/ImageReward.pt\n",
      "checkpoint loaded\n",
      "image reward:  -1.880831003189087\n",
      "aesthetic score:  tensor([[4.5754]], device='cuda:0', grad_fn=<AddmmBackward0>)\n",
      "load checkpoint from /home/research/jenzheng/.cache/ImageReward/ImageReward.pt\n",
      "checkpoint loaded\n",
      "image reward:  -2.142566442489624\n",
      "aesthetic score:  tensor([[4.8828]], device='cuda:0', grad_fn=<AddmmBackward0>)\n",
      "load checkpoint from /home/research/jenzheng/.cache/ImageReward/ImageReward.pt\n",
      "checkpoint loaded\n",
      "image reward:  -1.6858588457107544\n",
      "aesthetic score:  tensor([[5.2896]], device='cuda:0', grad_fn=<AddmmBackward0>)\n",
      "load checkpoint from /home/research/jenzheng/.cache/ImageReward/ImageReward.pt\n",
      "checkpoint loaded\n",
      "image reward:  -0.09347443282604218\n",
      "aesthetic score:  tensor([[4.7213]], device='cuda:0', grad_fn=<AddmmBackward0>)\n",
      "load checkpoint from /home/research/jenzheng/.cache/ImageReward/ImageReward.pt\n",
      "checkpoint loaded\n",
      "image reward:  -0.3649660646915436\n",
      "aesthetic score:  tensor([[4.5705]], device='cuda:0', grad_fn=<AddmmBackward0>)\n",
      "load checkpoint from /home/research/jenzheng/.cache/ImageReward/ImageReward.pt\n",
      "checkpoint loaded\n",
      "image reward:  -1.7850630283355713\n",
      "aesthetic score:  tensor([[4.3455]], device='cuda:0', grad_fn=<AddmmBackward0>)\n",
      "load checkpoint from /home/research/jenzheng/.cache/ImageReward/ImageReward.pt\n",
      "checkpoint loaded\n",
      "image reward:  0.8929594159126282\n",
      "aesthetic score:  tensor([[4.8791]], device='cuda:0', grad_fn=<AddmmBackward0>)\n",
      "load checkpoint from /home/research/jenzheng/.cache/ImageReward/ImageReward.pt\n",
      "checkpoint loaded\n",
      "image reward:  -0.10342783480882645\n",
      "aesthetic score:  tensor([[4.9680]], device='cuda:0', grad_fn=<AddmmBackward0>)\n",
      "load checkpoint from /home/research/jenzheng/.cache/ImageReward/ImageReward.pt\n",
      "checkpoint loaded\n",
      "image reward:  -1.3406524658203125\n",
      "aesthetic score:  tensor([[4.8690]], device='cuda:0', grad_fn=<AddmmBackward0>)\n",
      "load checkpoint from /home/research/jenzheng/.cache/ImageReward/ImageReward.pt\n",
      "checkpoint loaded\n",
      "image reward:  -0.8650422096252441\n",
      "aesthetic score:  tensor([[5.5787]], device='cuda:0', grad_fn=<AddmmBackward0>)\n",
      "load checkpoint from /home/research/jenzheng/.cache/ImageReward/ImageReward.pt\n",
      "checkpoint loaded\n",
      "image reward:  -0.9757713675498962\n",
      "aesthetic score:  tensor([[5.5132]], device='cuda:0', grad_fn=<AddmmBackward0>)\n",
      "load checkpoint from /home/research/jenzheng/.cache/ImageReward/ImageReward.pt\n",
      "checkpoint loaded\n",
      "image reward:  -0.950337827205658\n",
      "aesthetic score:  tensor([[4.7697]], device='cuda:0', grad_fn=<AddmmBackward0>)\n",
      "load checkpoint from /home/research/jenzheng/.cache/ImageReward/ImageReward.pt\n",
      "checkpoint loaded\n",
      "image reward:  -1.1956185102462769\n",
      "aesthetic score:  tensor([[5.0135]], device='cuda:0', grad_fn=<AddmmBackward0>)\n",
      "load checkpoint from /home/research/jenzheng/.cache/ImageReward/ImageReward.pt\n",
      "checkpoint loaded\n",
      "image reward:  -1.7759432792663574\n",
      "aesthetic score:  tensor([[4.9445]], device='cuda:0', grad_fn=<AddmmBackward0>)\n",
      "load checkpoint from /home/research/jenzheng/.cache/ImageReward/ImageReward.pt\n",
      "checkpoint loaded\n",
      "image reward:  0.2753772735595703\n",
      "aesthetic score:  tensor([[5.8118]], device='cuda:0', grad_fn=<AddmmBackward0>)\n",
      "load checkpoint from /home/research/jenzheng/.cache/ImageReward/ImageReward.pt\n",
      "checkpoint loaded\n",
      "image reward:  0.24665488302707672\n",
      "aesthetic score:  tensor([[4.6725]], device='cuda:0', grad_fn=<AddmmBackward0>)\n",
      "load checkpoint from /home/research/jenzheng/.cache/ImageReward/ImageReward.pt\n",
      "checkpoint loaded\n",
      "image reward:  -2.1991677284240723\n",
      "aesthetic score:  tensor([[4.6431]], device='cuda:0', grad_fn=<AddmmBackward0>)\n",
      "load checkpoint from /home/research/jenzheng/.cache/ImageReward/ImageReward.pt\n",
      "checkpoint loaded\n",
      "image reward:  -0.9728521704673767\n",
      "aesthetic score:  tensor([[5.9175]], device='cuda:0', grad_fn=<AddmmBackward0>)\n",
      "==================total=================\n",
      "average image reward: \n",
      "-0.9509916265774518\n",
      "average aesthetic score: \n",
      "tensor([[5.0854]], device='cuda:0', grad_fn=<DivBackward0>)\n"
     ]
    }
   ],
   "source": [
    "\n",
    "num_inference_steps = 45\n",
    "total_image_reward = 0\n",
    "total_aesthetic_score = 0\n",
    "\n",
    "\n",
    "import torch\n",
    "import ImageReward as reward\n",
    "\n",
    "sdxlpipe.safety_checker = None\n",
    "\n",
    "for i in range(len(prompts)):\n",
    "    prompt = prompts[i]\n",
    "    \n",
    "    \n",
    "    v14Image = sdxlpipe(disable_tqdm = True,prompt=prompt,num_images_per_prompt=1, num_inference_steps=num_inference_steps, guidance_scale=8.0).images[0]\n",
    "    sdxlpipe.set_progress_bar_config(disable=True)\n",
    "    \n",
    "    image = preprocess(v14Image).unsqueeze(0).to(device)\n",
    "    imageReward = reward.load(\"ImageReward-v1.0\")\n",
    "    with torch.no_grad():\n",
    "        v14_image_reward = imageReward.score(prompt, v14Image)\n",
    "        image_features = model2.encode_image(image)\n",
    "    \n",
    "    total_image_reward += v14_image_reward\n",
    "    print(\"image reward: \", v14_image_reward)\n",
    "    im_emb_arr = normalized(image_features.cpu().detach().numpy() )\n",
    "    v14_aesthetic_score = aestheticPredictorModel(torch.from_numpy(im_emb_arr).to(device).type(torch.cuda.FloatTensor))\n",
    "    total_aesthetic_score += v14_aesthetic_score\n",
    "    print(\"aesthetic score: \", v14_aesthetic_score)\n",
    "\n",
    "\n",
    "print(\"==================total=================\")\n",
    "print(\"average image reward: \")\n",
    "print(total_image_reward/100)\n",
    "print(\"average aesthetic score: \")\n",
    "print(total_aesthetic_score/100)\n",
    "\n"
   ]
  },
  {
   "cell_type": "markdown",
   "metadata": {},
   "source": [
    "## Image Reward"
   ]
  },
  {
   "cell_type": "code",
   "execution_count": 8,
   "metadata": {},
   "outputs": [
    {
     "name": "stderr",
     "output_type": "stream",
     "text": [
      "huggingface/tokenizers: The current process just got forked, after parallelism has already been used. Disabling parallelism to avoid deadlocks...\n",
      "To disable this warning, you can either:\n",
      "\t- Avoid using `tokenizers` before the fork if possible\n",
      "\t- Explicitly set the environment variable TOKENIZERS_PARALLELISM=(true | false)\n"
     ]
    },
    {
     "name": "stdout",
     "output_type": "stream",
     "text": [
      "Collecting image-reward\n",
      "  Downloading image_reward-1.5-py3-none-any.whl.metadata (12 kB)\n",
      "Collecting timm==0.6.13 (from image-reward)\n",
      "  Downloading timm-0.6.13-py3-none-any.whl.metadata (38 kB)\n",
      "Requirement already satisfied: transformers>=4.27.4 in /home/research/jenzheng/.conda/envs/cs229/lib/python3.9/site-packages (from image-reward) (4.39.0.dev0)\n",
      "Collecting fairscale==0.4.13 (from image-reward)\n",
      "  Downloading fairscale-0.4.13.tar.gz (266 kB)\n",
      "\u001b[2K     \u001b[90m━━━━━━━━━━━━━━━━━━━━━━━━━━━━━━━━━━━━━━━\u001b[0m \u001b[32m266.3/266.3 kB\u001b[0m \u001b[31m5.4 MB/s\u001b[0m eta \u001b[36m0:00:00\u001b[0m00:01\u001b[0m\n",
      "\u001b[?25h  Installing build dependencies ... \u001b[?25ldone\n",
      "\u001b[?25h  Getting requirements to build wheel ... \u001b[?25ldone\n",
      "\u001b[?25h  Installing backend dependencies ... \u001b[?25ldone\n",
      "\u001b[?25h  Preparing metadata (pyproject.toml) ... \u001b[?25ldone\n",
      "\u001b[?25hRequirement already satisfied: huggingface-hub>=0.13.4 in /home/research/jenzheng/.conda/envs/cs229/lib/python3.9/site-packages (from image-reward) (0.21.4)\n",
      "Requirement already satisfied: diffusers>=0.16.0 in /home/research/jenzheng/.conda/envs/cs229/lib/python3.9/site-packages (from image-reward) (0.26.3)\n",
      "Requirement already satisfied: accelerate>=0.16.0 in /home/research/jenzheng/.conda/envs/cs229/lib/python3.9/site-packages (from image-reward) (0.28.0)\n",
      "Requirement already satisfied: datasets>=2.11.0 in /home/research/jenzheng/.conda/envs/cs229/lib/python3.9/site-packages (from image-reward) (2.18.0)\n",
      "Requirement already satisfied: torch>=1.8.0 in /home/research/jenzheng/.conda/envs/cs229/lib/python3.9/site-packages (from fairscale==0.4.13->image-reward) (2.2.1)\n",
      "Requirement already satisfied: numpy>=1.22.0 in /home/research/jenzheng/.conda/envs/cs229/lib/python3.9/site-packages (from fairscale==0.4.13->image-reward) (1.26.4)\n",
      "Requirement already satisfied: torchvision in /home/research/jenzheng/.conda/envs/cs229/lib/python3.9/site-packages (from timm==0.6.13->image-reward) (0.17.1)\n",
      "Requirement already satisfied: pyyaml in /home/research/jenzheng/.conda/envs/cs229/lib/python3.9/site-packages (from timm==0.6.13->image-reward) (6.0.1)\n",
      "Requirement already satisfied: packaging>=20.0 in /home/research/jenzheng/.conda/envs/cs229/lib/python3.9/site-packages (from accelerate>=0.16.0->image-reward) (24.0)\n",
      "Requirement already satisfied: psutil in /home/research/jenzheng/.conda/envs/cs229/lib/python3.9/site-packages (from accelerate>=0.16.0->image-reward) (5.9.8)\n",
      "Requirement already satisfied: safetensors>=0.3.1 in /home/research/jenzheng/.conda/envs/cs229/lib/python3.9/site-packages (from accelerate>=0.16.0->image-reward) (0.4.2)\n",
      "Requirement already satisfied: filelock in /home/research/jenzheng/.conda/envs/cs229/lib/python3.9/site-packages (from datasets>=2.11.0->image-reward) (3.13.1)\n",
      "Requirement already satisfied: pyarrow>=12.0.0 in /home/research/jenzheng/.conda/envs/cs229/lib/python3.9/site-packages (from datasets>=2.11.0->image-reward) (15.0.1)\n",
      "Requirement already satisfied: pyarrow-hotfix in /home/research/jenzheng/.conda/envs/cs229/lib/python3.9/site-packages (from datasets>=2.11.0->image-reward) (0.6)\n",
      "Requirement already satisfied: dill<0.3.9,>=0.3.0 in /home/research/jenzheng/.conda/envs/cs229/lib/python3.9/site-packages (from datasets>=2.11.0->image-reward) (0.3.8)\n",
      "Requirement already satisfied: pandas in /home/research/jenzheng/.conda/envs/cs229/lib/python3.9/site-packages (from datasets>=2.11.0->image-reward) (2.2.1)\n",
      "Requirement already satisfied: requests>=2.19.0 in /home/research/jenzheng/.conda/envs/cs229/lib/python3.9/site-packages (from datasets>=2.11.0->image-reward) (2.31.0)\n",
      "Requirement already satisfied: tqdm>=4.62.1 in /home/research/jenzheng/.conda/envs/cs229/lib/python3.9/site-packages (from datasets>=2.11.0->image-reward) (4.66.2)\n",
      "Requirement already satisfied: xxhash in /home/research/jenzheng/.conda/envs/cs229/lib/python3.9/site-packages (from datasets>=2.11.0->image-reward) (3.4.1)\n",
      "Requirement already satisfied: multiprocess in /home/research/jenzheng/.conda/envs/cs229/lib/python3.9/site-packages (from datasets>=2.11.0->image-reward) (0.70.16)\n",
      "Requirement already satisfied: fsspec<=2024.2.0,>=2023.1.0 in /home/research/jenzheng/.conda/envs/cs229/lib/python3.9/site-packages (from fsspec[http]<=2024.2.0,>=2023.1.0->datasets>=2.11.0->image-reward) (2024.2.0)\n",
      "Requirement already satisfied: aiohttp in /home/research/jenzheng/.conda/envs/cs229/lib/python3.9/site-packages (from datasets>=2.11.0->image-reward) (3.9.3)\n",
      "Requirement already satisfied: importlib-metadata in /home/research/jenzheng/.conda/envs/cs229/lib/python3.9/site-packages (from diffusers>=0.16.0->image-reward) (7.0.2)\n",
      "Requirement already satisfied: regex!=2019.12.17 in /home/research/jenzheng/.conda/envs/cs229/lib/python3.9/site-packages (from diffusers>=0.16.0->image-reward) (2023.12.25)\n",
      "Requirement already satisfied: Pillow in /home/research/jenzheng/.conda/envs/cs229/lib/python3.9/site-packages (from diffusers>=0.16.0->image-reward) (10.2.0)\n",
      "Requirement already satisfied: typing-extensions>=3.7.4.3 in /home/research/jenzheng/.conda/envs/cs229/lib/python3.9/site-packages (from huggingface-hub>=0.13.4->image-reward) (4.10.0)\n",
      "Requirement already satisfied: tokenizers<0.19,>=0.14 in /home/research/jenzheng/.conda/envs/cs229/lib/python3.9/site-packages (from transformers>=4.27.4->image-reward) (0.15.2)\n",
      "Requirement already satisfied: aiosignal>=1.1.2 in /home/research/jenzheng/.conda/envs/cs229/lib/python3.9/site-packages (from aiohttp->datasets>=2.11.0->image-reward) (1.3.1)\n",
      "Requirement already satisfied: attrs>=17.3.0 in /home/research/jenzheng/.conda/envs/cs229/lib/python3.9/site-packages (from aiohttp->datasets>=2.11.0->image-reward) (23.2.0)\n",
      "Requirement already satisfied: frozenlist>=1.1.1 in /home/research/jenzheng/.conda/envs/cs229/lib/python3.9/site-packages (from aiohttp->datasets>=2.11.0->image-reward) (1.4.1)\n",
      "Requirement already satisfied: multidict<7.0,>=4.5 in /home/research/jenzheng/.conda/envs/cs229/lib/python3.9/site-packages (from aiohttp->datasets>=2.11.0->image-reward) (6.0.5)\n",
      "Requirement already satisfied: yarl<2.0,>=1.0 in /home/research/jenzheng/.conda/envs/cs229/lib/python3.9/site-packages (from aiohttp->datasets>=2.11.0->image-reward) (1.9.4)\n",
      "Requirement already satisfied: async-timeout<5.0,>=4.0 in /home/research/jenzheng/.conda/envs/cs229/lib/python3.9/site-packages (from aiohttp->datasets>=2.11.0->image-reward) (4.0.3)\n",
      "Requirement already satisfied: charset-normalizer<4,>=2 in /home/research/jenzheng/.conda/envs/cs229/lib/python3.9/site-packages (from requests>=2.19.0->datasets>=2.11.0->image-reward) (3.3.2)\n",
      "Requirement already satisfied: idna<4,>=2.5 in /home/research/jenzheng/.conda/envs/cs229/lib/python3.9/site-packages (from requests>=2.19.0->datasets>=2.11.0->image-reward) (3.6)\n",
      "Requirement already satisfied: urllib3<3,>=1.21.1 in /home/research/jenzheng/.conda/envs/cs229/lib/python3.9/site-packages (from requests>=2.19.0->datasets>=2.11.0->image-reward) (2.2.1)\n",
      "Requirement already satisfied: certifi>=2017.4.17 in /home/research/jenzheng/.conda/envs/cs229/lib/python3.9/site-packages (from requests>=2.19.0->datasets>=2.11.0->image-reward) (2024.2.2)\n",
      "Requirement already satisfied: sympy in /home/research/jenzheng/.conda/envs/cs229/lib/python3.9/site-packages (from torch>=1.8.0->fairscale==0.4.13->image-reward) (1.12)\n",
      "Requirement already satisfied: networkx in /home/research/jenzheng/.conda/envs/cs229/lib/python3.9/site-packages (from torch>=1.8.0->fairscale==0.4.13->image-reward) (3.2.1)\n",
      "Requirement already satisfied: jinja2 in /home/research/jenzheng/.conda/envs/cs229/lib/python3.9/site-packages (from torch>=1.8.0->fairscale==0.4.13->image-reward) (3.1.3)\n",
      "Requirement already satisfied: nvidia-cuda-nvrtc-cu12==12.1.105 in /home/research/jenzheng/.conda/envs/cs229/lib/python3.9/site-packages (from torch>=1.8.0->fairscale==0.4.13->image-reward) (12.1.105)\n",
      "Requirement already satisfied: nvidia-cuda-runtime-cu12==12.1.105 in /home/research/jenzheng/.conda/envs/cs229/lib/python3.9/site-packages (from torch>=1.8.0->fairscale==0.4.13->image-reward) (12.1.105)\n",
      "Requirement already satisfied: nvidia-cuda-cupti-cu12==12.1.105 in /home/research/jenzheng/.conda/envs/cs229/lib/python3.9/site-packages (from torch>=1.8.0->fairscale==0.4.13->image-reward) (12.1.105)\n",
      "Requirement already satisfied: nvidia-cudnn-cu12==8.9.2.26 in /home/research/jenzheng/.conda/envs/cs229/lib/python3.9/site-packages (from torch>=1.8.0->fairscale==0.4.13->image-reward) (8.9.2.26)\n",
      "Requirement already satisfied: nvidia-cublas-cu12==12.1.3.1 in /home/research/jenzheng/.conda/envs/cs229/lib/python3.9/site-packages (from torch>=1.8.0->fairscale==0.4.13->image-reward) (12.1.3.1)\n",
      "Requirement already satisfied: nvidia-cufft-cu12==11.0.2.54 in /home/research/jenzheng/.conda/envs/cs229/lib/python3.9/site-packages (from torch>=1.8.0->fairscale==0.4.13->image-reward) (11.0.2.54)\n",
      "Requirement already satisfied: nvidia-curand-cu12==10.3.2.106 in /home/research/jenzheng/.conda/envs/cs229/lib/python3.9/site-packages (from torch>=1.8.0->fairscale==0.4.13->image-reward) (10.3.2.106)\n",
      "Requirement already satisfied: nvidia-cusolver-cu12==11.4.5.107 in /home/research/jenzheng/.conda/envs/cs229/lib/python3.9/site-packages (from torch>=1.8.0->fairscale==0.4.13->image-reward) (11.4.5.107)\n",
      "Requirement already satisfied: nvidia-cusparse-cu12==12.1.0.106 in /home/research/jenzheng/.conda/envs/cs229/lib/python3.9/site-packages (from torch>=1.8.0->fairscale==0.4.13->image-reward) (12.1.0.106)\n",
      "Requirement already satisfied: nvidia-nccl-cu12==2.19.3 in /home/research/jenzheng/.conda/envs/cs229/lib/python3.9/site-packages (from torch>=1.8.0->fairscale==0.4.13->image-reward) (2.19.3)\n",
      "Requirement already satisfied: nvidia-nvtx-cu12==12.1.105 in /home/research/jenzheng/.conda/envs/cs229/lib/python3.9/site-packages (from torch>=1.8.0->fairscale==0.4.13->image-reward) (12.1.105)\n",
      "Requirement already satisfied: triton==2.2.0 in /home/research/jenzheng/.conda/envs/cs229/lib/python3.9/site-packages (from torch>=1.8.0->fairscale==0.4.13->image-reward) (2.2.0)\n",
      "Requirement already satisfied: nvidia-nvjitlink-cu12 in /home/research/jenzheng/.conda/envs/cs229/lib/python3.9/site-packages (from nvidia-cusolver-cu12==11.4.5.107->torch>=1.8.0->fairscale==0.4.13->image-reward) (12.4.99)\n",
      "Requirement already satisfied: zipp>=0.5 in /home/research/jenzheng/.conda/envs/cs229/lib/python3.9/site-packages (from importlib-metadata->diffusers>=0.16.0->image-reward) (3.17.0)\n",
      "Requirement already satisfied: python-dateutil>=2.8.2 in /home/research/jenzheng/.conda/envs/cs229/lib/python3.9/site-packages (from pandas->datasets>=2.11.0->image-reward) (2.9.0.post0)\n",
      "Requirement already satisfied: pytz>=2020.1 in /home/research/jenzheng/.conda/envs/cs229/lib/python3.9/site-packages (from pandas->datasets>=2.11.0->image-reward) (2024.1)\n",
      "Requirement already satisfied: tzdata>=2022.7 in /home/research/jenzheng/.conda/envs/cs229/lib/python3.9/site-packages (from pandas->datasets>=2.11.0->image-reward) (2024.1)\n",
      "Requirement already satisfied: six>=1.5 in /home/research/jenzheng/.conda/envs/cs229/lib/python3.9/site-packages (from python-dateutil>=2.8.2->pandas->datasets>=2.11.0->image-reward) (1.16.0)\n",
      "Requirement already satisfied: MarkupSafe>=2.0 in /home/research/jenzheng/.conda/envs/cs229/lib/python3.9/site-packages (from jinja2->torch>=1.8.0->fairscale==0.4.13->image-reward) (2.1.5)\n",
      "Requirement already satisfied: mpmath>=0.19 in /home/research/jenzheng/.conda/envs/cs229/lib/python3.9/site-packages (from sympy->torch>=1.8.0->fairscale==0.4.13->image-reward) (1.3.0)\n",
      "Downloading image_reward-1.5-py3-none-any.whl (42 kB)\n",
      "\u001b[2K   \u001b[90m━━━━━━━━━━━━━━━━━━━━━━━━━━━━━━━━━━━━━━━━\u001b[0m \u001b[32m42.3/42.3 kB\u001b[0m \u001b[31m1.2 MB/s\u001b[0m eta \u001b[36m0:00:00\u001b[0m\n",
      "\u001b[?25hDownloading timm-0.6.13-py3-none-any.whl (549 kB)\n",
      "\u001b[2K   \u001b[90m━━━━━━━━━━━━━━━━━━━━━━━━━━━━━━━━━━━━━━━━\u001b[0m \u001b[32m549.1/549.1 kB\u001b[0m \u001b[31m12.4 MB/s\u001b[0m eta \u001b[36m0:00:00\u001b[0m00:01\u001b[0m\n",
      "\u001b[?25hBuilding wheels for collected packages: fairscale\n",
      "  Building wheel for fairscale (pyproject.toml) ... \u001b[?25ldone\n",
      "\u001b[?25h  Created wheel for fairscale: filename=fairscale-0.4.13-py3-none-any.whl size=332108 sha256=02c3c9ac3d600f5291fda21ec08f9bb1c546d53bd075dfaf34d9ae74910460db\n",
      "  Stored in directory: /home/research/jenzheng/.cache/pip/wheels/10/ea/7f/8f35af83599829bb4790bdc16949dd99aeeb62e9a1faf47d47\n",
      "Successfully built fairscale\n",
      "Installing collected packages: fairscale, timm, image-reward\n",
      "Successfully installed fairscale-0.4.13 image-reward-1.5 timm-0.6.13\n"
     ]
    }
   ],
   "source": [
    "!pip install image-reward"
   ]
  },
  {
   "cell_type": "code",
   "execution_count": 10,
   "metadata": {},
   "outputs": [
    {
     "ename": "NameError",
     "evalue": "name 'pipe' is not defined",
     "output_type": "error",
     "traceback": [
      "\u001b[0;31m---------------------------------------------------------------------------\u001b[0m",
      "\u001b[0;31mNameError\u001b[0m                                 Traceback (most recent call last)",
      "Cell \u001b[0;32mIn[10], line 16\u001b[0m\n\u001b[1;32m     12\u001b[0m \u001b[38;5;28;01mfor\u001b[39;00m i \u001b[38;5;129;01min\u001b[39;00m \u001b[38;5;28mrange\u001b[39m(\u001b[38;5;28mlen\u001b[39m(prompts)):\n\u001b[1;32m     13\u001b[0m   prompt \u001b[38;5;241m=\u001b[39m prompts[i]\n\u001b[0;32m---> 16\u001b[0m   v14Image \u001b[38;5;241m=\u001b[39m \u001b[43mpipe\u001b[49m(disable_tqdm \u001b[38;5;241m=\u001b[39m \u001b[38;5;28;01mTrue\u001b[39;00m,prompt\u001b[38;5;241m=\u001b[39mprompt,num_images_per_prompt\u001b[38;5;241m=\u001b[39m\u001b[38;5;241m1\u001b[39m, num_inference_steps\u001b[38;5;241m=\u001b[39mnum_inference_steps, guidance_scale\u001b[38;5;241m=\u001b[39m\u001b[38;5;241m8.0\u001b[39m)\u001b[38;5;241m.\u001b[39mimages[\u001b[38;5;241m0\u001b[39m]\n\u001b[1;32m     17\u001b[0m   sd_pipeline\u001b[38;5;241m.\u001b[39mset_progress_bar_config(disable\u001b[38;5;241m=\u001b[39m\u001b[38;5;28;01mTrue\u001b[39;00m)\n\u001b[1;32m     19\u001b[0m   imageReward \u001b[38;5;241m=\u001b[39m reward\u001b[38;5;241m.\u001b[39mload(\u001b[38;5;124m\"\u001b[39m\u001b[38;5;124mImageReward-v1.0\u001b[39m\u001b[38;5;124m\"\u001b[39m)\n",
      "\u001b[0;31mNameError\u001b[0m: name 'pipe' is not defined"
     ]
    }
   ],
   "source": [
    "\n",
    "num_inference_steps = 1\n",
    "# higher inf step == higher clip score?\n",
    "\n",
    "\n",
    "v14Image_total_image_reward = 0\n",
    "\n",
    "import os\n",
    "import torch\n",
    "import ImageReward as reward\n",
    "\n",
    "\n",
    "for i in range(len(prompts)):\n",
    "  prompt = prompts[i]\n",
    "\n",
    "\n",
    "  v14Image = pipe(disable_tqdm = True,prompt=prompt,num_images_per_prompt=1, num_inference_steps=num_inference_steps, guidance_scale=8.0).images[0]\n",
    "  sd_pipeline.set_progress_bar_config(disable=True)\n",
    "\n",
    "  imageReward = reward.load(\"ImageReward-v1.0\")\n",
    "  with torch.no_grad():\n",
    "    v14_image_reward = imageReward.score(prompt, v14Image)\n",
    "\n",
    "  v14Image_total_image_reward += v14_image_reward\n",
    "  if i % 100 == 0:\n",
    "    print(\"-------iteration \", i)\n",
    "    print('image reward for V1-4:', v14_image_reward)\n",
    "    print('avg image reward for V1-4:', v14Image_total_image_reward/(i+1))"
   ]
  },
  {
   "cell_type": "markdown",
   "metadata": {},
   "source": [
    "## Aesthetic Predictor"
   ]
  },
  {
   "cell_type": "code",
   "execution_count": 16,
   "metadata": {
    "collapsed": true,
    "jupyter": {
     "outputs_hidden": true
    }
   },
   "outputs": [
    {
     "name": "stderr",
     "output_type": "stream",
     "text": [
      "huggingface/tokenizers: The current process just got forked, after parallelism has already been used. Disabling parallelism to avoid deadlocks...\n",
      "To disable this warning, you can either:\n",
      "\t- Avoid using `tokenizers` before the fork if possible\n",
      "\t- Explicitly set the environment variable TOKENIZERS_PARALLELISM=(true | false)\n"
     ]
    },
    {
     "name": "stdout",
     "output_type": "stream",
     "text": [
      "Collecting pytorch_lightning\n",
      "  Downloading pytorch_lightning-2.2.1-py3-none-any.whl.metadata (21 kB)\n",
      "Requirement already satisfied: numpy>=1.17.2 in /home/research/jenzheng/.conda/envs/cs229/lib/python3.9/site-packages (from pytorch_lightning) (1.26.4)\n",
      "Requirement already satisfied: torch>=1.13.0 in /home/research/jenzheng/.conda/envs/cs229/lib/python3.9/site-packages (from pytorch_lightning) (2.2.1)\n",
      "Requirement already satisfied: tqdm>=4.57.0 in /home/research/jenzheng/.conda/envs/cs229/lib/python3.9/site-packages (from pytorch_lightning) (4.66.2)\n",
      "Requirement already satisfied: PyYAML>=5.4 in /home/research/jenzheng/.conda/envs/cs229/lib/python3.9/site-packages (from pytorch_lightning) (6.0.1)\n",
      "Requirement already satisfied: fsspec>=2022.5.0 in /home/research/jenzheng/.conda/envs/cs229/lib/python3.9/site-packages (from fsspec[http]>=2022.5.0->pytorch_lightning) (2024.2.0)\n",
      "Requirement already satisfied: torchmetrics>=0.7.0 in /home/research/jenzheng/.conda/envs/cs229/lib/python3.9/site-packages (from pytorch_lightning) (1.3.1)\n",
      "Requirement already satisfied: packaging>=20.0 in /home/research/jenzheng/.conda/envs/cs229/lib/python3.9/site-packages (from pytorch_lightning) (24.0)\n",
      "Requirement already satisfied: typing-extensions>=4.4.0 in /home/research/jenzheng/.conda/envs/cs229/lib/python3.9/site-packages (from pytorch_lightning) (4.10.0)\n",
      "Requirement already satisfied: lightning-utilities>=0.8.0 in /home/research/jenzheng/.conda/envs/cs229/lib/python3.9/site-packages (from pytorch_lightning) (0.10.1)\n",
      "Requirement already satisfied: aiohttp!=4.0.0a0,!=4.0.0a1 in /home/research/jenzheng/.conda/envs/cs229/lib/python3.9/site-packages (from fsspec[http]>=2022.5.0->pytorch_lightning) (3.9.3)\n",
      "Requirement already satisfied: setuptools in /home/research/jenzheng/.conda/envs/cs229/lib/python3.9/site-packages (from lightning-utilities>=0.8.0->pytorch_lightning) (68.2.2)\n",
      "Requirement already satisfied: filelock in /home/research/jenzheng/.conda/envs/cs229/lib/python3.9/site-packages (from torch>=1.13.0->pytorch_lightning) (3.13.1)\n",
      "Requirement already satisfied: sympy in /home/research/jenzheng/.conda/envs/cs229/lib/python3.9/site-packages (from torch>=1.13.0->pytorch_lightning) (1.12)\n",
      "Requirement already satisfied: networkx in /home/research/jenzheng/.conda/envs/cs229/lib/python3.9/site-packages (from torch>=1.13.0->pytorch_lightning) (3.2.1)\n",
      "Requirement already satisfied: jinja2 in /home/research/jenzheng/.conda/envs/cs229/lib/python3.9/site-packages (from torch>=1.13.0->pytorch_lightning) (3.1.3)\n",
      "Requirement already satisfied: nvidia-cuda-nvrtc-cu12==12.1.105 in /home/research/jenzheng/.conda/envs/cs229/lib/python3.9/site-packages (from torch>=1.13.0->pytorch_lightning) (12.1.105)\n",
      "Requirement already satisfied: nvidia-cuda-runtime-cu12==12.1.105 in /home/research/jenzheng/.conda/envs/cs229/lib/python3.9/site-packages (from torch>=1.13.0->pytorch_lightning) (12.1.105)\n",
      "Requirement already satisfied: nvidia-cuda-cupti-cu12==12.1.105 in /home/research/jenzheng/.conda/envs/cs229/lib/python3.9/site-packages (from torch>=1.13.0->pytorch_lightning) (12.1.105)\n",
      "Requirement already satisfied: nvidia-cudnn-cu12==8.9.2.26 in /home/research/jenzheng/.conda/envs/cs229/lib/python3.9/site-packages (from torch>=1.13.0->pytorch_lightning) (8.9.2.26)\n",
      "Requirement already satisfied: nvidia-cublas-cu12==12.1.3.1 in /home/research/jenzheng/.conda/envs/cs229/lib/python3.9/site-packages (from torch>=1.13.0->pytorch_lightning) (12.1.3.1)\n",
      "Requirement already satisfied: nvidia-cufft-cu12==11.0.2.54 in /home/research/jenzheng/.conda/envs/cs229/lib/python3.9/site-packages (from torch>=1.13.0->pytorch_lightning) (11.0.2.54)\n",
      "Requirement already satisfied: nvidia-curand-cu12==10.3.2.106 in /home/research/jenzheng/.conda/envs/cs229/lib/python3.9/site-packages (from torch>=1.13.0->pytorch_lightning) (10.3.2.106)\n",
      "Requirement already satisfied: nvidia-cusolver-cu12==11.4.5.107 in /home/research/jenzheng/.conda/envs/cs229/lib/python3.9/site-packages (from torch>=1.13.0->pytorch_lightning) (11.4.5.107)\n",
      "Requirement already satisfied: nvidia-cusparse-cu12==12.1.0.106 in /home/research/jenzheng/.conda/envs/cs229/lib/python3.9/site-packages (from torch>=1.13.0->pytorch_lightning) (12.1.0.106)\n",
      "Requirement already satisfied: nvidia-nccl-cu12==2.19.3 in /home/research/jenzheng/.conda/envs/cs229/lib/python3.9/site-packages (from torch>=1.13.0->pytorch_lightning) (2.19.3)\n",
      "Requirement already satisfied: nvidia-nvtx-cu12==12.1.105 in /home/research/jenzheng/.conda/envs/cs229/lib/python3.9/site-packages (from torch>=1.13.0->pytorch_lightning) (12.1.105)\n",
      "Requirement already satisfied: triton==2.2.0 in /home/research/jenzheng/.conda/envs/cs229/lib/python3.9/site-packages (from torch>=1.13.0->pytorch_lightning) (2.2.0)\n",
      "Requirement already satisfied: nvidia-nvjitlink-cu12 in /home/research/jenzheng/.conda/envs/cs229/lib/python3.9/site-packages (from nvidia-cusolver-cu12==11.4.5.107->torch>=1.13.0->pytorch_lightning) (12.4.99)\n",
      "Requirement already satisfied: aiosignal>=1.1.2 in /home/research/jenzheng/.conda/envs/cs229/lib/python3.9/site-packages (from aiohttp!=4.0.0a0,!=4.0.0a1->fsspec[http]>=2022.5.0->pytorch_lightning) (1.3.1)\n",
      "Requirement already satisfied: attrs>=17.3.0 in /home/research/jenzheng/.conda/envs/cs229/lib/python3.9/site-packages (from aiohttp!=4.0.0a0,!=4.0.0a1->fsspec[http]>=2022.5.0->pytorch_lightning) (23.2.0)\n",
      "Requirement already satisfied: frozenlist>=1.1.1 in /home/research/jenzheng/.conda/envs/cs229/lib/python3.9/site-packages (from aiohttp!=4.0.0a0,!=4.0.0a1->fsspec[http]>=2022.5.0->pytorch_lightning) (1.4.1)\n",
      "Requirement already satisfied: multidict<7.0,>=4.5 in /home/research/jenzheng/.conda/envs/cs229/lib/python3.9/site-packages (from aiohttp!=4.0.0a0,!=4.0.0a1->fsspec[http]>=2022.5.0->pytorch_lightning) (6.0.5)\n",
      "Requirement already satisfied: yarl<2.0,>=1.0 in /home/research/jenzheng/.conda/envs/cs229/lib/python3.9/site-packages (from aiohttp!=4.0.0a0,!=4.0.0a1->fsspec[http]>=2022.5.0->pytorch_lightning) (1.9.4)\n",
      "Requirement already satisfied: async-timeout<5.0,>=4.0 in /home/research/jenzheng/.conda/envs/cs229/lib/python3.9/site-packages (from aiohttp!=4.0.0a0,!=4.0.0a1->fsspec[http]>=2022.5.0->pytorch_lightning) (4.0.3)\n",
      "Requirement already satisfied: MarkupSafe>=2.0 in /home/research/jenzheng/.conda/envs/cs229/lib/python3.9/site-packages (from jinja2->torch>=1.13.0->pytorch_lightning) (2.1.5)\n",
      "Requirement already satisfied: mpmath>=0.19 in /home/research/jenzheng/.conda/envs/cs229/lib/python3.9/site-packages (from sympy->torch>=1.13.0->pytorch_lightning) (1.3.0)\n",
      "Requirement already satisfied: idna>=2.0 in /home/research/jenzheng/.conda/envs/cs229/lib/python3.9/site-packages (from yarl<2.0,>=1.0->aiohttp!=4.0.0a0,!=4.0.0a1->fsspec[http]>=2022.5.0->pytorch_lightning) (3.6)\n",
      "Downloading pytorch_lightning-2.2.1-py3-none-any.whl (801 kB)\n",
      "\u001b[2K   \u001b[90m━━━━━━━━━━━━━━━━━━━━━━━━━━━━━━━━━━━━━━━━\u001b[0m \u001b[32m801.6/801.6 kB\u001b[0m \u001b[31m10.6 MB/s\u001b[0m eta \u001b[36m0:00:00\u001b[0m00:01\u001b[0m00:01\u001b[0m\n",
      "\u001b[?25hInstalling collected packages: pytorch_lightning\n",
      "Successfully installed pytorch_lightning-2.2.1\n"
     ]
    }
   ],
   "source": [
    "!pip install pytorch_lightning"
   ]
  },
  {
   "cell_type": "code",
   "execution_count": 4,
   "metadata": {},
   "outputs": [],
   "source": [
    "from PIL import Image\n",
    "import io\n",
    "import os\n",
    "import json\n",
    "\n",
    "from warnings import filterwarnings\n",
    "\n",
    "\n",
    "# os.environ[\"CUDA_VISIBLE_DEVICES\"] = \"0\"    # choose GPU if you are on a multi GPU server\n",
    "import numpy as np\n",
    "import torch\n",
    "import pytorch_lightning as pl\n",
    "import torch.nn as nn\n",
    "from torchvision import datasets, transforms\n",
    "import tqdm\n",
    "\n",
    "from os.path import join\n",
    "from datasets import load_dataset\n",
    "import pandas as pd\n",
    "from torch.utils.data import Dataset, DataLoader\n",
    "import json\n",
    "\n",
    "import clip\n",
    "\n",
    "\n",
    "from PIL import Image, ImageFile\n",
    "\n",
    "\n",
    "#####  This script will predict the aesthetic score for this image file:\n",
    "\n",
    "img_path = \"test.jpg\"\n",
    "\n",
    "\n",
    "\n",
    "\n",
    "\n",
    "# if you changed the MLP architecture during training, change it also here:\n",
    "class MLP(pl.LightningModule):\n",
    "    def __init__(self, input_size, xcol='emb', ycol='avg_rating'):\n",
    "        super().__init__()\n",
    "        self.input_size = input_size\n",
    "        self.xcol = xcol\n",
    "        self.ycol = ycol\n",
    "        self.layers = nn.Sequential(\n",
    "            nn.Linear(self.input_size, 1024),\n",
    "            #nn.ReLU(),\n",
    "            nn.Dropout(0.2),\n",
    "            nn.Linear(1024, 128),\n",
    "            #nn.ReLU(),\n",
    "            nn.Dropout(0.2),\n",
    "            nn.Linear(128, 64),\n",
    "            #nn.ReLU(),\n",
    "            nn.Dropout(0.1),\n",
    "\n",
    "            nn.Linear(64, 16),\n",
    "            #nn.ReLU(),\n",
    "\n",
    "            nn.Linear(16, 1)\n",
    "        )\n",
    "\n",
    "    def forward(self, x):\n",
    "        return self.layers(x)\n",
    "\n",
    "    def training_step(self, batch, batch_idx):\n",
    "            x = batch[self.xcol]\n",
    "            y = batch[self.ycol].reshape(-1, 1)\n",
    "            x_hat = self.layers(x)\n",
    "            loss = F.mse_loss(x_hat, y)\n",
    "            return loss\n",
    "\n",
    "    def validation_step(self, batch, batch_idx):\n",
    "        x = batch[self.xcol]\n",
    "        y = batch[self.ycol].reshape(-1, 1)\n",
    "        x_hat = self.layers(x)\n",
    "        loss = F.mse_loss(x_hat, y)\n",
    "        return loss\n",
    "\n",
    "    def configure_optimizers(self):\n",
    "        optimizer = torch.optim.Adam(self.parameters(), lr=1e-3)\n",
    "        return optimizer\n",
    "\n",
    "def normalized(a, axis=-1, order=2):\n",
    "    import numpy as np  # pylint: disable=import-outside-toplevel\n",
    "\n",
    "    l2 = np.atleast_1d(np.linalg.norm(a, order, axis))\n",
    "    l2[l2 == 0] = 1\n",
    "    return a / np.expand_dims(l2, axis)\n"
   ]
  },
  {
   "cell_type": "code",
   "execution_count": 5,
   "metadata": {},
   "outputs": [],
   "source": [
    "aestheticPredictorModel = MLP(768)  # CLIP embedding dim is 768 for CLIP ViT L 14\n",
    "\n",
    "s = torch.load(\"sac+logos+ava1-l14-linearMSE.pth\")   # load the model you trained previously or the model available in this repo\n",
    "\n",
    "aestheticPredictorModel.load_state_dict(s)\n",
    "\n",
    "aestheticPredictorModel.to(\"cuda\")\n",
    "aestheticPredictorModel.eval()\n",
    "\n",
    "device = \"cuda\" if torch.cuda.is_available() else \"cpu\"\n",
    "model2, preprocess = clip.load(\"ViT-L/14\", device=device)  #RN50x64"
   ]
  },
  {
   "cell_type": "code",
   "execution_count": null,
   "metadata": {},
   "outputs": [],
   "source": [
    "\n",
    "sd_pipeline.safety_checker = None\n",
    "\n",
    "num_inference_steps = 70\n",
    "# higher inf step == higher clip score?\n",
    "\n",
    "\n",
    "v14Image_total_aesthetic_score = 0\n",
    "\n",
    "import os\n",
    "import torch\n",
    "\n",
    "\n",
    "\n",
    "for i in range(len(prompts)):\n",
    "  prompt = prompts[i]\n",
    "\n",
    "  v14Image = sd_pipeline(disable_tqdm = True,prompt=prompt,num_images_per_prompt=1, num_inference_steps=num_inference_steps, guidance_scale=8.0).images[0]\n",
    "  sd_pipeline.set_progress_bar_config(disable=True)\n",
    "  image = preprocess(v14Image).unsqueeze(0).to(device)\n",
    "\n",
    "  with torch.no_grad():\n",
    "    image_features = model2.encode_image(image)\n",
    "\n",
    "\n",
    "  im_emb_arr = normalized(image_features.cpu().detach().numpy() )\n",
    "\n",
    "  v14_aesthetic_score = aestheticPredictorModel(torch.from_numpy(im_emb_arr).to(device).type(torch.cuda.FloatTensor))\n",
    "\n",
    "\n",
    "  v14Image_total_aesthetic_score += v14_aesthetic_score\n",
    "  if i % 100 == 0:\n",
    "    print(\"-------iteration \", i)\n",
    "    print('aesthetic score for V1-4:', v14_aesthetic_score)\n",
    "    print('avg aesthetic score for V1-4:', v14Image_total_aesthetic_score/(i+1))\n"
   ]
  },
  {
   "cell_type": "code",
   "execution_count": null,
   "metadata": {},
   "outputs": [],
   "source": []
  },
  {
   "cell_type": "markdown",
   "metadata": {},
   "source": [
    "## Human Preference"
   ]
  },
  {
   "cell_type": "code",
   "execution_count": 6,
   "metadata": {
    "collapsed": true,
    "jupyter": {
     "outputs_hidden": true
    }
   },
   "outputs": [
    {
     "name": "stdout",
     "output_type": "stream",
     "text": [
      "Collecting ftfy\n",
      "  Using cached ftfy-6.1.3-py3-none-any.whl.metadata (6.2 kB)\n",
      "Requirement already satisfied: regex in /home/research/jenzheng/.conda/envs/cs229/lib/python3.9/site-packages (2023.12.25)\n",
      "Requirement already satisfied: tqdm in /home/research/jenzheng/.conda/envs/cs229/lib/python3.9/site-packages (4.66.2)\n",
      "Requirement already satisfied: wcwidth<0.3.0,>=0.2.12 in /home/research/jenzheng/.conda/envs/cs229/lib/python3.9/site-packages (from ftfy) (0.2.13)\n",
      "Using cached ftfy-6.1.3-py3-none-any.whl (53 kB)\n",
      "Installing collected packages: ftfy\n",
      "Successfully installed ftfy-6.1.3\n",
      "Collecting git+https://github.com/openai/CLIP.git\n",
      "  Cloning https://github.com/openai/CLIP.git to /tmp/pip-req-build-uz37rfiw\n",
      "  Running command git clone --filter=blob:none --quiet https://github.com/openai/CLIP.git /tmp/pip-req-build-uz37rfiw\n",
      "  Resolved https://github.com/openai/CLIP.git to commit a1d071733d7111c9c014f024669f959182114e33\n",
      "  Preparing metadata (setup.py) ... \u001b[?25ldone\n",
      "\u001b[?25hRequirement already satisfied: ftfy in /home/research/jenzheng/.conda/envs/cs229/lib/python3.9/site-packages (from clip==1.0) (6.1.3)\n",
      "Requirement already satisfied: regex in /home/research/jenzheng/.conda/envs/cs229/lib/python3.9/site-packages (from clip==1.0) (2023.12.25)\n",
      "Requirement already satisfied: tqdm in /home/research/jenzheng/.conda/envs/cs229/lib/python3.9/site-packages (from clip==1.0) (4.66.2)\n",
      "Requirement already satisfied: torch in /home/research/jenzheng/.conda/envs/cs229/lib/python3.9/site-packages (from clip==1.0) (2.2.1)\n",
      "Collecting torchvision (from clip==1.0)\n",
      "  Using cached torchvision-0.17.1-cp39-cp39-manylinux1_x86_64.whl.metadata (6.6 kB)\n",
      "Requirement already satisfied: wcwidth<0.3.0,>=0.2.12 in /home/research/jenzheng/.conda/envs/cs229/lib/python3.9/site-packages (from ftfy->clip==1.0) (0.2.13)\n",
      "Requirement already satisfied: filelock in /home/research/jenzheng/.conda/envs/cs229/lib/python3.9/site-packages (from torch->clip==1.0) (3.13.1)\n",
      "Requirement already satisfied: typing-extensions>=4.8.0 in /home/research/jenzheng/.conda/envs/cs229/lib/python3.9/site-packages (from torch->clip==1.0) (4.10.0)\n",
      "Requirement already satisfied: sympy in /home/research/jenzheng/.conda/envs/cs229/lib/python3.9/site-packages (from torch->clip==1.0) (1.12)\n",
      "Requirement already satisfied: networkx in /home/research/jenzheng/.conda/envs/cs229/lib/python3.9/site-packages (from torch->clip==1.0) (3.2.1)\n",
      "Requirement already satisfied: jinja2 in /home/research/jenzheng/.conda/envs/cs229/lib/python3.9/site-packages (from torch->clip==1.0) (3.1.3)\n",
      "Requirement already satisfied: fsspec in /home/research/jenzheng/.conda/envs/cs229/lib/python3.9/site-packages (from torch->clip==1.0) (2024.2.0)\n",
      "Requirement already satisfied: nvidia-cuda-nvrtc-cu12==12.1.105 in /home/research/jenzheng/.conda/envs/cs229/lib/python3.9/site-packages (from torch->clip==1.0) (12.1.105)\n",
      "Requirement already satisfied: nvidia-cuda-runtime-cu12==12.1.105 in /home/research/jenzheng/.conda/envs/cs229/lib/python3.9/site-packages (from torch->clip==1.0) (12.1.105)\n",
      "Requirement already satisfied: nvidia-cuda-cupti-cu12==12.1.105 in /home/research/jenzheng/.conda/envs/cs229/lib/python3.9/site-packages (from torch->clip==1.0) (12.1.105)\n",
      "Requirement already satisfied: nvidia-cudnn-cu12==8.9.2.26 in /home/research/jenzheng/.conda/envs/cs229/lib/python3.9/site-packages (from torch->clip==1.0) (8.9.2.26)\n",
      "Requirement already satisfied: nvidia-cublas-cu12==12.1.3.1 in /home/research/jenzheng/.conda/envs/cs229/lib/python3.9/site-packages (from torch->clip==1.0) (12.1.3.1)\n",
      "Requirement already satisfied: nvidia-cufft-cu12==11.0.2.54 in /home/research/jenzheng/.conda/envs/cs229/lib/python3.9/site-packages (from torch->clip==1.0) (11.0.2.54)\n",
      "Requirement already satisfied: nvidia-curand-cu12==10.3.2.106 in /home/research/jenzheng/.conda/envs/cs229/lib/python3.9/site-packages (from torch->clip==1.0) (10.3.2.106)\n",
      "Requirement already satisfied: nvidia-cusolver-cu12==11.4.5.107 in /home/research/jenzheng/.conda/envs/cs229/lib/python3.9/site-packages (from torch->clip==1.0) (11.4.5.107)\n",
      "Requirement already satisfied: nvidia-cusparse-cu12==12.1.0.106 in /home/research/jenzheng/.conda/envs/cs229/lib/python3.9/site-packages (from torch->clip==1.0) (12.1.0.106)\n",
      "Requirement already satisfied: nvidia-nccl-cu12==2.19.3 in /home/research/jenzheng/.conda/envs/cs229/lib/python3.9/site-packages (from torch->clip==1.0) (2.19.3)\n",
      "Requirement already satisfied: nvidia-nvtx-cu12==12.1.105 in /home/research/jenzheng/.conda/envs/cs229/lib/python3.9/site-packages (from torch->clip==1.0) (12.1.105)\n",
      "Requirement already satisfied: triton==2.2.0 in /home/research/jenzheng/.conda/envs/cs229/lib/python3.9/site-packages (from torch->clip==1.0) (2.2.0)\n",
      "Requirement already satisfied: nvidia-nvjitlink-cu12 in /home/research/jenzheng/.conda/envs/cs229/lib/python3.9/site-packages (from nvidia-cusolver-cu12==11.4.5.107->torch->clip==1.0) (12.4.99)\n",
      "Requirement already satisfied: numpy in /home/research/jenzheng/.conda/envs/cs229/lib/python3.9/site-packages (from torchvision->clip==1.0) (1.26.4)\n",
      "Requirement already satisfied: pillow!=8.3.*,>=5.3.0 in /home/research/jenzheng/.conda/envs/cs229/lib/python3.9/site-packages (from torchvision->clip==1.0) (10.2.0)\n",
      "Requirement already satisfied: MarkupSafe>=2.0 in /home/research/jenzheng/.conda/envs/cs229/lib/python3.9/site-packages (from jinja2->torch->clip==1.0) (2.1.5)\n",
      "Requirement already satisfied: mpmath>=0.19 in /home/research/jenzheng/.conda/envs/cs229/lib/python3.9/site-packages (from sympy->torch->clip==1.0) (1.3.0)\n",
      "Using cached torchvision-0.17.1-cp39-cp39-manylinux1_x86_64.whl (6.9 MB)\n",
      "Building wheels for collected packages: clip\n",
      "  Building wheel for clip (setup.py) ... \u001b[?25ldone\n",
      "\u001b[?25h  Created wheel for clip: filename=clip-1.0-py3-none-any.whl size=1369497 sha256=db61f746ba5dae8eae2c998ebc528a714a4ebad2fae7a06a0998849c735c30cc\n",
      "  Stored in directory: /tmp/pip-ephem-wheel-cache-5yliroo1/wheels/c8/e4/e1/11374c111387672fc2068dfbe0d4b424cb9cdd1b2e184a71b5\n",
      "Successfully built clip\n",
      "Installing collected packages: torchvision, clip\n",
      "Successfully installed clip-1.0 torchvision-0.17.1\n"
     ]
    }
   ],
   "source": [
    "# !pip install ftfy regex tqdm\n",
    "# !pip install git+https://github.com/openai/CLIP.git"
   ]
  },
  {
   "cell_type": "code",
   "execution_count": 65,
   "metadata": {},
   "outputs": [],
   "source": [
    "import torch\n",
    "import clip\n",
    "from PIL import Image\n",
    "\n",
    "num_inference_steps = 45\n",
    "total_hps = 0\n",
    "\n",
    "for i in range(len(prompts)):\n",
    "    prompt = prompts[i]\n",
    "    \n",
    "    v14Image = pipe(prompt=prompt, num_inference_steps=num_inference_steps, guidance_scale=8.0).images[0]\n",
    "    \n",
    "    device = \"cuda\" if torch.cuda.is_available() else \"cpu\"\n",
    "    model, preprocess = clip.load(\"ViT-B/32\", device=device)\n",
    "    \n",
    "    image = preprocess(v14Image).unsqueeze(0).to(device)\n",
    "    text = clip.tokenize(prompt).to(device)\n",
    "\n",
    "    with torch.no_grad():\n",
    "        image_features = model.encode_image(image)\n",
    "        text_features = model.encode_text(text)\n",
    "    \n",
    "        image_features = image_features / image_features.norm(dim=-1, keepdim=True)\n",
    "        text_features = text_features / text_features.norm(dim=-1, keepdim=True)\n",
    "    \n",
    "        hps = image_features @ text_features.T\n",
    "        print(hps)\n",
    "    \n",
    "    total_hps += hps\n",
    "\n",
    "print(total_hps/100)"
   ]
  },
  {
   "cell_type": "code",
   "execution_count": null,
   "metadata": {},
   "outputs": [],
   "source": []
  },
  {
   "cell_type": "markdown",
   "metadata": {
    "id": "DSOJ5XwrNf8O"
   },
   "source": [
    "## Clipscore evaluation"
   ]
  },
  {
   "cell_type": "code",
   "execution_count": null,
   "metadata": {},
   "outputs": [],
   "source": [
    "total_clip_score = 0\n",
    "for prompt in prompts:\n",
    "  num_inference_steps = 75\n",
    "\n",
    "  image = pipe(prompt=prompt, num_inference_steps=num_inference_steps, guidance_scale=8.0, output_type='np' ).images\n",
    "\n",
    "  img_clip_score = calculate_clip_score(image, prompt)\n",
    "  total_clip_score += img_clip_score\n",
    "  print(img_clip_score)\n",
    "\n",
    "# clip score:\n",
    "total_clip_score = total_clip_score/100\n",
    "print(total_clip_score)"
   ]
  },
  {
   "cell_type": "markdown",
   "metadata": {},
   "source": [
    "## DPO"
   ]
  },
  {
   "cell_type": "code",
   "execution_count": 9,
   "metadata": {},
   "outputs": [
    {
     "name": "stderr",
     "output_type": "stream",
     "text": [
      "You are using `unload_lora_weights` to disable and unload lora weights. If you want to iteratively enable and disable adapter weights,you can use `pipe.enable_lora()` or `pipe.disable_lora()`. After installing the latest version of PEFT.\n"
     ]
    }
   ],
   "source": [
    "import torch\n",
    "from diffusers import AutoPipelineForText2Image, DPMSolverMultistepScheduler\n",
    "from diffusers.utils import make_image_grid\n",
    "\n",
    "sdxl_dpo_lora_pipe = AutoPipelineForText2Image.from_pretrained(\n",
    "    \"stabilityai/stable-diffusion-xl-base-1.0\",\n",
    "    torch_dtype=torch.float16,\n",
    "    use_safetensors=True,\n",
    "    variant=\"fp16\",\n",
    ")\n",
    "\n",
    "sdxl_dpo_lora_pipe.safety_checker = None\n",
    "sdxl_dpo_lora_pipe.set_progress_bar_config(disable=True)\n",
    "\n",
    "\n",
    "sdxl_dpo_lora_pipe.scheduler = DPMSolverMultistepScheduler.from_config(\n",
    "    sdxl_dpo_lora_pipe.scheduler.config,\n",
    "    use_karras_sigmas=True,\n",
    "    algorithm_type=\"sde-dpmsolver++\"\n",
    ")\n",
    "\n",
    "sdxl_dpo_lora_pipe.to(\"cuda\");\n",
    "\n",
    "seed = 12341234123\n",
    "prompt = \"professional portrait photo of a girl, photograph, highly detailed face, depth of field, moody light, golden hour, style by Dan Winters, Russell James, Steve McCurry, centered, extremely detailed, Nikon D850, award winning photography\"\n",
    "negative_prompt = \"3d render, cartoon, drawing, art, low light, blur, pixelated, low resolution, black and white\"\n",
    "num_inference_steps = 40 # Keep\n",
    "height = 1024\n",
    "width = height\n",
    "guidance_scale = 7.5\n",
    "\n",
    "sdxl_dpo_lora_pipe.unload_lora_weights()\n",
    "sdxl_dpo_lora_pipe.load_lora_weights(\n",
    "    \"radames/sdxl-DPO-LoRA\",\n",
    "    adapter_name=\"sdxl-dpo-lora\",\n",
    ")\n",
    "# sdxl_dpo_lora_pipe.set_adapters([\"sdxl-dpo-lora\"], adapter_weights=[0.9])\n",
    "generator = torch.Generator().manual_seed(seed)"
   ]
  },
  {
   "cell_type": "code",
   "execution_count": 5,
   "metadata": {
    "colab": {
     "base_uri": "https://localhost:8080/",
     "height": 529
    },
    "executionInfo": {
     "elapsed": 529,
     "status": "ok",
     "timestamp": 1708317319919,
     "user": {
      "displayName": "Jennifer Zheng",
      "userId": "14661279943548343722"
     },
     "user_tz": 300
    },
    "id": "cUtrXibQpXOU",
    "outputId": "3dea7b82-8d45-4654-fada-dbab0a260ddb",
    "scrolled": true
   },
   "outputs": [
    {
     "name": "stderr",
     "output_type": "stream",
     "text": [
      "Unused or unrecognized kwargs: padding.\n"
     ]
    },
    {
     "name": "stdout",
     "output_type": "stream",
     "text": [
      "32.5879\n"
     ]
    },
    {
     "name": "stderr",
     "output_type": "stream",
     "text": [
      "Unused or unrecognized kwargs: padding.\n"
     ]
    },
    {
     "name": "stdout",
     "output_type": "stream",
     "text": [
      "31.784\n"
     ]
    },
    {
     "name": "stderr",
     "output_type": "stream",
     "text": [
      "Unused or unrecognized kwargs: padding.\n"
     ]
    },
    {
     "name": "stdout",
     "output_type": "stream",
     "text": [
      "30.3304\n"
     ]
    },
    {
     "name": "stderr",
     "output_type": "stream",
     "text": [
      "Unused or unrecognized kwargs: padding.\n"
     ]
    },
    {
     "name": "stdout",
     "output_type": "stream",
     "text": [
      "31.8873\n"
     ]
    },
    {
     "name": "stderr",
     "output_type": "stream",
     "text": [
      "Unused or unrecognized kwargs: padding.\n"
     ]
    },
    {
     "name": "stdout",
     "output_type": "stream",
     "text": [
      "36.3989\n"
     ]
    },
    {
     "name": "stderr",
     "output_type": "stream",
     "text": [
      "Unused or unrecognized kwargs: padding.\n"
     ]
    },
    {
     "name": "stdout",
     "output_type": "stream",
     "text": [
      "31.0711\n"
     ]
    },
    {
     "name": "stderr",
     "output_type": "stream",
     "text": [
      "Unused or unrecognized kwargs: padding.\n"
     ]
    },
    {
     "name": "stdout",
     "output_type": "stream",
     "text": [
      "32.718\n"
     ]
    },
    {
     "name": "stderr",
     "output_type": "stream",
     "text": [
      "Unused or unrecognized kwargs: padding.\n"
     ]
    },
    {
     "name": "stdout",
     "output_type": "stream",
     "text": [
      "31.9578\n"
     ]
    },
    {
     "name": "stderr",
     "output_type": "stream",
     "text": [
      "Unused or unrecognized kwargs: padding.\n"
     ]
    },
    {
     "name": "stdout",
     "output_type": "stream",
     "text": [
      "31.8031\n"
     ]
    },
    {
     "name": "stderr",
     "output_type": "stream",
     "text": [
      "Unused or unrecognized kwargs: padding.\n"
     ]
    },
    {
     "name": "stdout",
     "output_type": "stream",
     "text": [
      "32.5143\n"
     ]
    },
    {
     "name": "stderr",
     "output_type": "stream",
     "text": [
      "Unused or unrecognized kwargs: padding.\n"
     ]
    },
    {
     "name": "stdout",
     "output_type": "stream",
     "text": [
      "32.7143\n"
     ]
    },
    {
     "name": "stderr",
     "output_type": "stream",
     "text": [
      "Unused or unrecognized kwargs: padding.\n"
     ]
    },
    {
     "name": "stdout",
     "output_type": "stream",
     "text": [
      "32.3364\n"
     ]
    },
    {
     "name": "stderr",
     "output_type": "stream",
     "text": [
      "Unused or unrecognized kwargs: padding.\n"
     ]
    },
    {
     "name": "stdout",
     "output_type": "stream",
     "text": [
      "34.1734\n"
     ]
    },
    {
     "name": "stderr",
     "output_type": "stream",
     "text": [
      "Unused or unrecognized kwargs: padding.\n"
     ]
    },
    {
     "name": "stdout",
     "output_type": "stream",
     "text": [
      "30.2036\n"
     ]
    },
    {
     "name": "stderr",
     "output_type": "stream",
     "text": [
      "Unused or unrecognized kwargs: padding.\n"
     ]
    },
    {
     "name": "stdout",
     "output_type": "stream",
     "text": [
      "35.4061\n"
     ]
    },
    {
     "name": "stderr",
     "output_type": "stream",
     "text": [
      "Unused or unrecognized kwargs: padding.\n"
     ]
    },
    {
     "name": "stdout",
     "output_type": "stream",
     "text": [
      "29.208\n"
     ]
    },
    {
     "name": "stderr",
     "output_type": "stream",
     "text": [
      "Unused or unrecognized kwargs: padding.\n"
     ]
    },
    {
     "name": "stdout",
     "output_type": "stream",
     "text": [
      "34.4529\n"
     ]
    },
    {
     "name": "stderr",
     "output_type": "stream",
     "text": [
      "Unused or unrecognized kwargs: padding.\n"
     ]
    },
    {
     "name": "stdout",
     "output_type": "stream",
     "text": [
      "31.1332\n"
     ]
    },
    {
     "name": "stderr",
     "output_type": "stream",
     "text": [
      "Unused or unrecognized kwargs: padding.\n"
     ]
    },
    {
     "name": "stdout",
     "output_type": "stream",
     "text": [
      "31.4616\n"
     ]
    },
    {
     "name": "stderr",
     "output_type": "stream",
     "text": [
      "Unused or unrecognized kwargs: padding.\n"
     ]
    },
    {
     "name": "stdout",
     "output_type": "stream",
     "text": [
      "34.0074\n"
     ]
    },
    {
     "name": "stderr",
     "output_type": "stream",
     "text": [
      "Unused or unrecognized kwargs: padding.\n"
     ]
    },
    {
     "name": "stdout",
     "output_type": "stream",
     "text": [
      "36.3081\n"
     ]
    },
    {
     "name": "stderr",
     "output_type": "stream",
     "text": [
      "Unused or unrecognized kwargs: padding.\n"
     ]
    },
    {
     "name": "stdout",
     "output_type": "stream",
     "text": [
      "33.5866\n"
     ]
    },
    {
     "name": "stderr",
     "output_type": "stream",
     "text": [
      "Unused or unrecognized kwargs: padding.\n"
     ]
    },
    {
     "name": "stdout",
     "output_type": "stream",
     "text": [
      "32.5685\n"
     ]
    },
    {
     "name": "stderr",
     "output_type": "stream",
     "text": [
      "Unused or unrecognized kwargs: padding.\n"
     ]
    },
    {
     "name": "stdout",
     "output_type": "stream",
     "text": [
      "33.4973\n"
     ]
    },
    {
     "name": "stderr",
     "output_type": "stream",
     "text": [
      "Unused or unrecognized kwargs: padding.\n"
     ]
    },
    {
     "name": "stdout",
     "output_type": "stream",
     "text": [
      "33.9481\n"
     ]
    },
    {
     "name": "stderr",
     "output_type": "stream",
     "text": [
      "Unused or unrecognized kwargs: padding.\n"
     ]
    },
    {
     "name": "stdout",
     "output_type": "stream",
     "text": [
      "32.4823\n"
     ]
    },
    {
     "name": "stderr",
     "output_type": "stream",
     "text": [
      "Unused or unrecognized kwargs: padding.\n"
     ]
    },
    {
     "name": "stdout",
     "output_type": "stream",
     "text": [
      "29.6001\n"
     ]
    },
    {
     "name": "stderr",
     "output_type": "stream",
     "text": [
      "Unused or unrecognized kwargs: padding.\n"
     ]
    },
    {
     "name": "stdout",
     "output_type": "stream",
     "text": [
      "33.2653\n"
     ]
    },
    {
     "name": "stderr",
     "output_type": "stream",
     "text": [
      "Unused or unrecognized kwargs: padding.\n"
     ]
    },
    {
     "name": "stdout",
     "output_type": "stream",
     "text": [
      "31.7234\n"
     ]
    },
    {
     "name": "stderr",
     "output_type": "stream",
     "text": [
      "Unused or unrecognized kwargs: padding.\n"
     ]
    },
    {
     "name": "stdout",
     "output_type": "stream",
     "text": [
      "32.969\n"
     ]
    },
    {
     "name": "stderr",
     "output_type": "stream",
     "text": [
      "Unused or unrecognized kwargs: padding.\n"
     ]
    },
    {
     "name": "stdout",
     "output_type": "stream",
     "text": [
      "32.0861\n"
     ]
    },
    {
     "name": "stderr",
     "output_type": "stream",
     "text": [
      "Unused or unrecognized kwargs: padding.\n"
     ]
    },
    {
     "name": "stdout",
     "output_type": "stream",
     "text": [
      "31.1955\n"
     ]
    },
    {
     "name": "stderr",
     "output_type": "stream",
     "text": [
      "Unused or unrecognized kwargs: padding.\n"
     ]
    },
    {
     "name": "stdout",
     "output_type": "stream",
     "text": [
      "29.8531\n"
     ]
    },
    {
     "name": "stderr",
     "output_type": "stream",
     "text": [
      "Unused or unrecognized kwargs: padding.\n"
     ]
    },
    {
     "name": "stdout",
     "output_type": "stream",
     "text": [
      "29.7644\n"
     ]
    },
    {
     "name": "stderr",
     "output_type": "stream",
     "text": [
      "Unused or unrecognized kwargs: padding.\n"
     ]
    },
    {
     "name": "stdout",
     "output_type": "stream",
     "text": [
      "29.0871\n"
     ]
    },
    {
     "name": "stderr",
     "output_type": "stream",
     "text": [
      "Unused or unrecognized kwargs: padding.\n"
     ]
    },
    {
     "name": "stdout",
     "output_type": "stream",
     "text": [
      "29.5865\n"
     ]
    },
    {
     "name": "stderr",
     "output_type": "stream",
     "text": [
      "Unused or unrecognized kwargs: padding.\n"
     ]
    },
    {
     "name": "stdout",
     "output_type": "stream",
     "text": [
      "32.9337\n"
     ]
    },
    {
     "name": "stderr",
     "output_type": "stream",
     "text": [
      "Unused or unrecognized kwargs: padding.\n"
     ]
    },
    {
     "name": "stdout",
     "output_type": "stream",
     "text": [
      "29.6747\n"
     ]
    },
    {
     "name": "stderr",
     "output_type": "stream",
     "text": [
      "Unused or unrecognized kwargs: padding.\n"
     ]
    },
    {
     "name": "stdout",
     "output_type": "stream",
     "text": [
      "29.1009\n"
     ]
    },
    {
     "name": "stderr",
     "output_type": "stream",
     "text": [
      "Unused or unrecognized kwargs: padding.\n"
     ]
    },
    {
     "name": "stdout",
     "output_type": "stream",
     "text": [
      "29.8807\n"
     ]
    },
    {
     "name": "stderr",
     "output_type": "stream",
     "text": [
      "Unused or unrecognized kwargs: padding.\n"
     ]
    },
    {
     "name": "stdout",
     "output_type": "stream",
     "text": [
      "31.6919\n"
     ]
    },
    {
     "name": "stderr",
     "output_type": "stream",
     "text": [
      "Unused or unrecognized kwargs: padding.\n"
     ]
    },
    {
     "name": "stdout",
     "output_type": "stream",
     "text": [
      "30.1104\n"
     ]
    },
    {
     "name": "stderr",
     "output_type": "stream",
     "text": [
      "Unused or unrecognized kwargs: padding.\n"
     ]
    },
    {
     "name": "stdout",
     "output_type": "stream",
     "text": [
      "36.3283\n"
     ]
    },
    {
     "name": "stderr",
     "output_type": "stream",
     "text": [
      "Unused or unrecognized kwargs: padding.\n"
     ]
    },
    {
     "name": "stdout",
     "output_type": "stream",
     "text": [
      "29.4805\n"
     ]
    },
    {
     "name": "stderr",
     "output_type": "stream",
     "text": [
      "Unused or unrecognized kwargs: padding.\n"
     ]
    },
    {
     "name": "stdout",
     "output_type": "stream",
     "text": [
      "30.5469\n"
     ]
    },
    {
     "name": "stderr",
     "output_type": "stream",
     "text": [
      "Unused or unrecognized kwargs: padding.\n"
     ]
    },
    {
     "name": "stdout",
     "output_type": "stream",
     "text": [
      "27.2548\n"
     ]
    },
    {
     "name": "stderr",
     "output_type": "stream",
     "text": [
      "Unused or unrecognized kwargs: padding.\n"
     ]
    },
    {
     "name": "stdout",
     "output_type": "stream",
     "text": [
      "30.2223\n"
     ]
    },
    {
     "name": "stderr",
     "output_type": "stream",
     "text": [
      "Unused or unrecognized kwargs: padding.\n"
     ]
    },
    {
     "name": "stdout",
     "output_type": "stream",
     "text": [
      "28.3078\n"
     ]
    },
    {
     "name": "stderr",
     "output_type": "stream",
     "text": [
      "Unused or unrecognized kwargs: padding.\n"
     ]
    },
    {
     "name": "stdout",
     "output_type": "stream",
     "text": [
      "28.4038\n"
     ]
    },
    {
     "name": "stderr",
     "output_type": "stream",
     "text": [
      "Unused or unrecognized kwargs: padding.\n"
     ]
    },
    {
     "name": "stdout",
     "output_type": "stream",
     "text": [
      "28.8244\n"
     ]
    },
    {
     "name": "stderr",
     "output_type": "stream",
     "text": [
      "Unused or unrecognized kwargs: padding.\n"
     ]
    },
    {
     "name": "stdout",
     "output_type": "stream",
     "text": [
      "29.9853\n"
     ]
    },
    {
     "name": "stderr",
     "output_type": "stream",
     "text": [
      "Unused or unrecognized kwargs: padding.\n"
     ]
    },
    {
     "name": "stdout",
     "output_type": "stream",
     "text": [
      "31.0451\n"
     ]
    },
    {
     "name": "stderr",
     "output_type": "stream",
     "text": [
      "Unused or unrecognized kwargs: padding.\n"
     ]
    },
    {
     "name": "stdout",
     "output_type": "stream",
     "text": [
      "28.0435\n"
     ]
    },
    {
     "name": "stderr",
     "output_type": "stream",
     "text": [
      "Unused or unrecognized kwargs: padding.\n"
     ]
    },
    {
     "name": "stdout",
     "output_type": "stream",
     "text": [
      "32.0884\n"
     ]
    },
    {
     "name": "stderr",
     "output_type": "stream",
     "text": [
      "Unused or unrecognized kwargs: padding.\n"
     ]
    },
    {
     "name": "stdout",
     "output_type": "stream",
     "text": [
      "31.4324\n"
     ]
    },
    {
     "name": "stderr",
     "output_type": "stream",
     "text": [
      "Unused or unrecognized kwargs: padding.\n"
     ]
    },
    {
     "name": "stdout",
     "output_type": "stream",
     "text": [
      "30.8285\n"
     ]
    },
    {
     "name": "stderr",
     "output_type": "stream",
     "text": [
      "Unused or unrecognized kwargs: padding.\n"
     ]
    },
    {
     "name": "stdout",
     "output_type": "stream",
     "text": [
      "30.2037\n"
     ]
    },
    {
     "name": "stderr",
     "output_type": "stream",
     "text": [
      "Unused or unrecognized kwargs: padding.\n"
     ]
    },
    {
     "name": "stdout",
     "output_type": "stream",
     "text": [
      "29.5009\n"
     ]
    },
    {
     "name": "stderr",
     "output_type": "stream",
     "text": [
      "Unused or unrecognized kwargs: padding.\n"
     ]
    },
    {
     "name": "stdout",
     "output_type": "stream",
     "text": [
      "29.3453\n"
     ]
    },
    {
     "name": "stderr",
     "output_type": "stream",
     "text": [
      "Unused or unrecognized kwargs: padding.\n"
     ]
    },
    {
     "name": "stdout",
     "output_type": "stream",
     "text": [
      "27.8252\n"
     ]
    },
    {
     "name": "stderr",
     "output_type": "stream",
     "text": [
      "Unused or unrecognized kwargs: padding.\n"
     ]
    },
    {
     "name": "stdout",
     "output_type": "stream",
     "text": [
      "34.5365\n"
     ]
    },
    {
     "name": "stderr",
     "output_type": "stream",
     "text": [
      "Unused or unrecognized kwargs: padding.\n"
     ]
    },
    {
     "name": "stdout",
     "output_type": "stream",
     "text": [
      "33.4632\n"
     ]
    },
    {
     "name": "stderr",
     "output_type": "stream",
     "text": [
      "Unused or unrecognized kwargs: padding.\n"
     ]
    },
    {
     "name": "stdout",
     "output_type": "stream",
     "text": [
      "30.5633\n"
     ]
    },
    {
     "name": "stderr",
     "output_type": "stream",
     "text": [
      "Unused or unrecognized kwargs: padding.\n"
     ]
    },
    {
     "name": "stdout",
     "output_type": "stream",
     "text": [
      "28.1788\n"
     ]
    },
    {
     "name": "stderr",
     "output_type": "stream",
     "text": [
      "Unused or unrecognized kwargs: padding.\n"
     ]
    },
    {
     "name": "stdout",
     "output_type": "stream",
     "text": [
      "34.7838\n"
     ]
    },
    {
     "name": "stderr",
     "output_type": "stream",
     "text": [
      "Unused or unrecognized kwargs: padding.\n"
     ]
    },
    {
     "name": "stdout",
     "output_type": "stream",
     "text": [
      "32.5201\n"
     ]
    },
    {
     "name": "stderr",
     "output_type": "stream",
     "text": [
      "Unused or unrecognized kwargs: padding.\n"
     ]
    },
    {
     "name": "stdout",
     "output_type": "stream",
     "text": [
      "29.8042\n"
     ]
    },
    {
     "name": "stderr",
     "output_type": "stream",
     "text": [
      "Unused or unrecognized kwargs: padding.\n"
     ]
    },
    {
     "name": "stdout",
     "output_type": "stream",
     "text": [
      "32.3167\n"
     ]
    },
    {
     "name": "stderr",
     "output_type": "stream",
     "text": [
      "Unused or unrecognized kwargs: padding.\n"
     ]
    },
    {
     "name": "stdout",
     "output_type": "stream",
     "text": [
      "34.9963\n"
     ]
    },
    {
     "name": "stderr",
     "output_type": "stream",
     "text": [
      "Unused or unrecognized kwargs: padding.\n"
     ]
    },
    {
     "name": "stdout",
     "output_type": "stream",
     "text": [
      "32.1244\n"
     ]
    },
    {
     "name": "stderr",
     "output_type": "stream",
     "text": [
      "Unused or unrecognized kwargs: padding.\n"
     ]
    },
    {
     "name": "stdout",
     "output_type": "stream",
     "text": [
      "35.6452\n"
     ]
    },
    {
     "name": "stderr",
     "output_type": "stream",
     "text": [
      "Unused or unrecognized kwargs: padding.\n"
     ]
    },
    {
     "name": "stdout",
     "output_type": "stream",
     "text": [
      "29.5545\n"
     ]
    },
    {
     "name": "stderr",
     "output_type": "stream",
     "text": [
      "Unused or unrecognized kwargs: padding.\n"
     ]
    },
    {
     "name": "stdout",
     "output_type": "stream",
     "text": [
      "27.8833\n"
     ]
    },
    {
     "name": "stderr",
     "output_type": "stream",
     "text": [
      "Unused or unrecognized kwargs: padding.\n"
     ]
    },
    {
     "name": "stdout",
     "output_type": "stream",
     "text": [
      "31.6157\n"
     ]
    },
    {
     "name": "stderr",
     "output_type": "stream",
     "text": [
      "Unused or unrecognized kwargs: padding.\n"
     ]
    },
    {
     "name": "stdout",
     "output_type": "stream",
     "text": [
      "31.8277\n"
     ]
    },
    {
     "name": "stderr",
     "output_type": "stream",
     "text": [
      "Unused or unrecognized kwargs: padding.\n"
     ]
    },
    {
     "name": "stdout",
     "output_type": "stream",
     "text": [
      "35.4374\n"
     ]
    },
    {
     "name": "stderr",
     "output_type": "stream",
     "text": [
      "Unused or unrecognized kwargs: padding.\n"
     ]
    },
    {
     "name": "stdout",
     "output_type": "stream",
     "text": [
      "34.1643\n"
     ]
    },
    {
     "name": "stderr",
     "output_type": "stream",
     "text": [
      "Unused or unrecognized kwargs: padding.\n"
     ]
    },
    {
     "name": "stdout",
     "output_type": "stream",
     "text": [
      "35.1847\n"
     ]
    },
    {
     "name": "stderr",
     "output_type": "stream",
     "text": [
      "Unused or unrecognized kwargs: padding.\n"
     ]
    },
    {
     "name": "stdout",
     "output_type": "stream",
     "text": [
      "35.5846\n"
     ]
    },
    {
     "name": "stderr",
     "output_type": "stream",
     "text": [
      "Unused or unrecognized kwargs: padding.\n"
     ]
    },
    {
     "name": "stdout",
     "output_type": "stream",
     "text": [
      "32.0361\n"
     ]
    },
    {
     "name": "stderr",
     "output_type": "stream",
     "text": [
      "Unused or unrecognized kwargs: padding.\n"
     ]
    },
    {
     "name": "stdout",
     "output_type": "stream",
     "text": [
      "38.3483\n"
     ]
    },
    {
     "name": "stderr",
     "output_type": "stream",
     "text": [
      "Unused or unrecognized kwargs: padding.\n"
     ]
    },
    {
     "name": "stdout",
     "output_type": "stream",
     "text": [
      "29.3821\n"
     ]
    },
    {
     "name": "stderr",
     "output_type": "stream",
     "text": [
      "Unused or unrecognized kwargs: padding.\n"
     ]
    },
    {
     "name": "stdout",
     "output_type": "stream",
     "text": [
      "34.8622\n"
     ]
    },
    {
     "name": "stderr",
     "output_type": "stream",
     "text": [
      "Unused or unrecognized kwargs: padding.\n"
     ]
    },
    {
     "name": "stdout",
     "output_type": "stream",
     "text": [
      "34.8952\n"
     ]
    },
    {
     "name": "stderr",
     "output_type": "stream",
     "text": [
      "Unused or unrecognized kwargs: padding.\n"
     ]
    },
    {
     "name": "stdout",
     "output_type": "stream",
     "text": [
      "34.7881\n"
     ]
    },
    {
     "name": "stderr",
     "output_type": "stream",
     "text": [
      "Unused or unrecognized kwargs: padding.\n"
     ]
    },
    {
     "name": "stdout",
     "output_type": "stream",
     "text": [
      "37.5516\n"
     ]
    },
    {
     "name": "stderr",
     "output_type": "stream",
     "text": [
      "Unused or unrecognized kwargs: padding.\n"
     ]
    },
    {
     "name": "stdout",
     "output_type": "stream",
     "text": [
      "35.5106\n"
     ]
    },
    {
     "name": "stderr",
     "output_type": "stream",
     "text": [
      "Unused or unrecognized kwargs: padding.\n"
     ]
    },
    {
     "name": "stdout",
     "output_type": "stream",
     "text": [
      "36.7698\n"
     ]
    },
    {
     "name": "stderr",
     "output_type": "stream",
     "text": [
      "Unused or unrecognized kwargs: padding.\n"
     ]
    },
    {
     "name": "stdout",
     "output_type": "stream",
     "text": [
      "35.2862\n"
     ]
    },
    {
     "name": "stderr",
     "output_type": "stream",
     "text": [
      "Unused or unrecognized kwargs: padding.\n"
     ]
    },
    {
     "name": "stdout",
     "output_type": "stream",
     "text": [
      "35.576\n"
     ]
    },
    {
     "name": "stderr",
     "output_type": "stream",
     "text": [
      "Unused or unrecognized kwargs: padding.\n"
     ]
    },
    {
     "name": "stdout",
     "output_type": "stream",
     "text": [
      "27.1213\n"
     ]
    },
    {
     "name": "stderr",
     "output_type": "stream",
     "text": [
      "Unused or unrecognized kwargs: padding.\n"
     ]
    },
    {
     "name": "stdout",
     "output_type": "stream",
     "text": [
      "29.1381\n"
     ]
    },
    {
     "name": "stderr",
     "output_type": "stream",
     "text": [
      "Unused or unrecognized kwargs: padding.\n"
     ]
    },
    {
     "name": "stdout",
     "output_type": "stream",
     "text": [
      "26.3949\n"
     ]
    },
    {
     "name": "stderr",
     "output_type": "stream",
     "text": [
      "Unused or unrecognized kwargs: padding.\n"
     ]
    },
    {
     "name": "stdout",
     "output_type": "stream",
     "text": [
      "30.3773\n"
     ]
    },
    {
     "name": "stderr",
     "output_type": "stream",
     "text": [
      "Unused or unrecognized kwargs: padding.\n"
     ]
    },
    {
     "name": "stdout",
     "output_type": "stream",
     "text": [
      "27.8902\n"
     ]
    },
    {
     "name": "stderr",
     "output_type": "stream",
     "text": [
      "Unused or unrecognized kwargs: padding.\n"
     ]
    },
    {
     "name": "stdout",
     "output_type": "stream",
     "text": [
      "30.6305\n"
     ]
    },
    {
     "name": "stderr",
     "output_type": "stream",
     "text": [
      "Unused or unrecognized kwargs: padding.\n"
     ]
    },
    {
     "name": "stdout",
     "output_type": "stream",
     "text": [
      "27.1002\n"
     ]
    },
    {
     "name": "stderr",
     "output_type": "stream",
     "text": [
      "Unused or unrecognized kwargs: padding.\n"
     ]
    },
    {
     "name": "stdout",
     "output_type": "stream",
     "text": [
      "30.185\n"
     ]
    },
    {
     "name": "stderr",
     "output_type": "stream",
     "text": [
      "Unused or unrecognized kwargs: padding.\n"
     ]
    },
    {
     "name": "stdout",
     "output_type": "stream",
     "text": [
      "31.4924\n"
     ]
    },
    {
     "name": "stderr",
     "output_type": "stream",
     "text": [
      "Unused or unrecognized kwargs: padding.\n"
     ]
    },
    {
     "name": "stdout",
     "output_type": "stream",
     "text": [
      "26.5593\n",
      "31.74810599999998\n"
     ]
    }
   ],
   "source": [
    "total_clip_score = 0\n",
    "for prompt in prompts:\n",
    "  num_inference_steps = 75\n",
    "\n",
    "  image = sdxl_dpo_lora_pipe(prompt=prompt, num_inference_steps=num_inference_steps, guidance_scale=8.0, output_type='np' ).images\n",
    "\n",
    "  img_clip_score = calculate_clip_score(image, prompt)\n",
    "  total_clip_score += img_clip_score\n",
    "  print(img_clip_score)\n",
    "\n",
    "# clip score:\n",
    "total_clip_score = total_clip_score/100\n",
    "print(total_clip_score)"
   ]
  },
  {
   "cell_type": "code",
   "execution_count": null,
   "metadata": {},
   "outputs": [],
   "source": [
    "total_clip_score"
   ]
  },
  {
   "cell_type": "code",
   "execution_count": 6,
   "metadata": {
    "scrolled": true
   },
   "outputs": [
    {
     "name": "stdout",
     "output_type": "stream",
     "text": [
      "tensor([[0.3726]], device='cuda:0', dtype=torch.float16)\n",
      "tensor([[0.3303]], device='cuda:0', dtype=torch.float16)\n",
      "tensor([[0.2935]], device='cuda:0', dtype=torch.float16)\n",
      "tensor([[0.3633]], device='cuda:0', dtype=torch.float16)\n",
      "tensor([[0.3550]], device='cuda:0', dtype=torch.float16)\n",
      "tensor([[0.3364]], device='cuda:0', dtype=torch.float16)\n",
      "tensor([[0.3403]], device='cuda:0', dtype=torch.float16)\n",
      "tensor([[0.3345]], device='cuda:0', dtype=torch.float16)\n",
      "tensor([[0.3462]], device='cuda:0', dtype=torch.float16)\n",
      "tensor([[0.3086]], device='cuda:0', dtype=torch.float16)\n",
      "tensor([[0.3486]], device='cuda:0', dtype=torch.float16)\n",
      "tensor([[0.3364]], device='cuda:0', dtype=torch.float16)\n",
      "tensor([[0.3374]], device='cuda:0', dtype=torch.float16)\n",
      "tensor([[0.3047]], device='cuda:0', dtype=torch.float16)\n",
      "tensor([[0.3477]], device='cuda:0', dtype=torch.float16)\n",
      "tensor([[0.2510]], device='cuda:0', dtype=torch.float16)\n",
      "tensor([[0.3022]], device='cuda:0', dtype=torch.float16)\n",
      "tensor([[0.3059]], device='cuda:0', dtype=torch.float16)\n",
      "tensor([[0.3306]], device='cuda:0', dtype=torch.float16)\n",
      "tensor([[0.3394]], device='cuda:0', dtype=torch.float16)\n",
      "tensor([[0.3550]], device='cuda:0', dtype=torch.float16)\n",
      "tensor([[0.3110]], device='cuda:0', dtype=torch.float16)\n",
      "tensor([[0.2935]], device='cuda:0', dtype=torch.float16)\n",
      "tensor([[0.3000]], device='cuda:0', dtype=torch.float16)\n",
      "tensor([[0.3418]], device='cuda:0', dtype=torch.float16)\n",
      "tensor([[0.2964]], device='cuda:0', dtype=torch.float16)\n",
      "tensor([[0.2883]], device='cuda:0', dtype=torch.float16)\n",
      "tensor([[0.3259]], device='cuda:0', dtype=torch.float16)\n",
      "tensor([[0.3127]], device='cuda:0', dtype=torch.float16)\n",
      "tensor([[0.3201]], device='cuda:0', dtype=torch.float16)\n",
      "tensor([[0.2915]], device='cuda:0', dtype=torch.float16)\n",
      "tensor([[0.2974]], device='cuda:0', dtype=torch.float16)\n",
      "tensor([[0.3357]], device='cuda:0', dtype=torch.float16)\n",
      "tensor([[0.3032]], device='cuda:0', dtype=torch.float16)\n",
      "tensor([[0.3020]], device='cuda:0', dtype=torch.float16)\n",
      "tensor([[0.3030]], device='cuda:0', dtype=torch.float16)\n",
      "tensor([[0.3252]], device='cuda:0', dtype=torch.float16)\n",
      "tensor([[0.2937]], device='cuda:0', dtype=torch.float16)\n",
      "tensor([[0.2959]], device='cuda:0', dtype=torch.float16)\n",
      "tensor([[0.2974]], device='cuda:0', dtype=torch.float16)\n",
      "tensor([[0.3035]], device='cuda:0', dtype=torch.float16)\n",
      "tensor([[0.3049]], device='cuda:0', dtype=torch.float16)\n",
      "tensor([[0.3572]], device='cuda:0', dtype=torch.float16)\n",
      "tensor([[0.2996]], device='cuda:0', dtype=torch.float16)\n",
      "tensor([[0.2920]], device='cuda:0', dtype=torch.float16)\n",
      "tensor([[0.2639]], device='cuda:0', dtype=torch.float16)\n",
      "tensor([[0.2778]], device='cuda:0', dtype=torch.float16)\n",
      "tensor([[0.2898]], device='cuda:0', dtype=torch.float16)\n",
      "tensor([[0.2888]], device='cuda:0', dtype=torch.float16)\n",
      "tensor([[0.3091]], device='cuda:0', dtype=torch.float16)\n",
      "tensor([[0.2937]], device='cuda:0', dtype=torch.float16)\n",
      "tensor([[0.3042]], device='cuda:0', dtype=torch.float16)\n",
      "tensor([[0.3052]], device='cuda:0', dtype=torch.float16)\n",
      "tensor([[0.3184]], device='cuda:0', dtype=torch.float16)\n",
      "tensor([[0.3125]], device='cuda:0', dtype=torch.float16)\n",
      "tensor([[0.2764]], device='cuda:0', dtype=torch.float16)\n",
      "tensor([[0.2810]], device='cuda:0', dtype=torch.float16)\n",
      "tensor([[0.3164]], device='cuda:0', dtype=torch.float16)\n",
      "tensor([[0.3120]], device='cuda:0', dtype=torch.float16)\n",
      "tensor([[0.2805]], device='cuda:0', dtype=torch.float16)\n",
      "tensor([[0.3594]], device='cuda:0', dtype=torch.float16)\n",
      "tensor([[0.3066]], device='cuda:0', dtype=torch.float16)\n",
      "tensor([[0.3086]], device='cuda:0', dtype=torch.float16)\n",
      "tensor([[0.2834]], device='cuda:0', dtype=torch.float16)\n",
      "tensor([[0.2917]], device='cuda:0', dtype=torch.float16)\n",
      "tensor([[0.3315]], device='cuda:0', dtype=torch.float16)\n",
      "tensor([[0.2996]], device='cuda:0', dtype=torch.float16)\n",
      "tensor([[0.3271]], device='cuda:0', dtype=torch.float16)\n",
      "tensor([[0.3596]], device='cuda:0', dtype=torch.float16)\n",
      "tensor([[0.3279]], device='cuda:0', dtype=torch.float16)\n",
      "tensor([[0.3501]], device='cuda:0', dtype=torch.float16)\n",
      "tensor([[0.3096]], device='cuda:0', dtype=torch.float16)\n",
      "tensor([[0.2642]], device='cuda:0', dtype=torch.float16)\n",
      "tensor([[0.3210]], device='cuda:0', dtype=torch.float16)\n",
      "tensor([[0.3325]], device='cuda:0', dtype=torch.float16)\n",
      "tensor([[0.3621]], device='cuda:0', dtype=torch.float16)\n",
      "tensor([[0.3467]], device='cuda:0', dtype=torch.float16)\n",
      "tensor([[0.3494]], device='cuda:0', dtype=torch.float16)\n",
      "tensor([[0.3557]], device='cuda:0', dtype=torch.float16)\n",
      "tensor([[0.3110]], device='cuda:0', dtype=torch.float16)\n",
      "tensor([[0.3389]], device='cuda:0', dtype=torch.float16)\n",
      "tensor([[0.2708]], device='cuda:0', dtype=torch.float16)\n",
      "tensor([[0.3633]], device='cuda:0', dtype=torch.float16)\n",
      "tensor([[0.3396]], device='cuda:0', dtype=torch.float16)\n",
      "tensor([[0.3467]], device='cuda:0', dtype=torch.float16)\n",
      "tensor([[0.3718]], device='cuda:0', dtype=torch.float16)\n",
      "tensor([[0.3181]], device='cuda:0', dtype=torch.float16)\n",
      "tensor([[0.3630]], device='cuda:0', dtype=torch.float16)\n",
      "tensor([[0.3318]], device='cuda:0', dtype=torch.float16)\n",
      "tensor([[0.3647]], device='cuda:0', dtype=torch.float16)\n",
      "tensor([[0.2817]], device='cuda:0', dtype=torch.float16)\n",
      "tensor([[0.3059]], device='cuda:0', dtype=torch.float16)\n",
      "tensor([[0.2507]], device='cuda:0', dtype=torch.float16)\n",
      "tensor([[0.2698]], device='cuda:0', dtype=torch.float16)\n",
      "tensor([[0.2793]], device='cuda:0', dtype=torch.float16)\n",
      "tensor([[0.3140]], device='cuda:0', dtype=torch.float16)\n",
      "tensor([[0.2893]], device='cuda:0', dtype=torch.float16)\n",
      "tensor([[0.3066]], device='cuda:0', dtype=torch.float16)\n",
      "tensor([[0.3169]], device='cuda:0', dtype=torch.float16)\n",
      "tensor([[0.2817]], device='cuda:0', dtype=torch.float16)\n",
      "tensor([[0.3157]], device='cuda:0', dtype=torch.float16)\n"
     ]
    }
   ],
   "source": [
    "import torch\n",
    "import clip\n",
    "from PIL import Image\n",
    "\n",
    "num_inference_steps = 75\n",
    "total_hps = 0\n",
    "\n",
    "for i in range(len(prompts)):\n",
    "    prompt = prompts[i]\n",
    "    \n",
    "    v14Image = sdxl_dpo_lora_pipe(prompt=prompt, num_inference_steps=num_inference_steps, guidance_scale=8.0).images[0]\n",
    "    \n",
    "    device = \"cuda\" if torch.cuda.is_available() else \"cpu\"\n",
    "    model, preprocess = clip.load(\"ViT-B/32\", device=device)\n",
    "    \n",
    "    image = preprocess(v14Image).unsqueeze(0).to(device)\n",
    "    text = clip.tokenize(prompt).to(device)\n",
    "\n",
    "    with torch.no_grad():\n",
    "        image_features = model.encode_image(image)\n",
    "        text_features = model.encode_text(text)\n",
    "    \n",
    "        image_features = image_features / image_features.norm(dim=-1, keepdim=True)\n",
    "        text_features = text_features / text_features.norm(dim=-1, keepdim=True)\n",
    "    \n",
    "        hps = image_features @ text_features.T\n",
    "        print(hps)\n",
    "    \n",
    "    total_hps += hps\n",
    "\n",
    "print(total_hps/100)"
   ]
  },
  {
   "cell_type": "code",
   "execution_count": 10,
   "metadata": {},
   "outputs": [
    {
     "name": "stdout",
     "output_type": "stream",
     "text": [
      "load checkpoint from /home/research/jenzheng/.cache/ImageReward/ImageReward.pt\n",
      "checkpoint loaded\n",
      "image reward:  1.7381075620651245\n",
      "aesthetic score:  tensor([[5.7677]], device='cuda:0', grad_fn=<AddmmBackward0>)\n",
      "load checkpoint from /home/research/jenzheng/.cache/ImageReward/ImageReward.pt\n",
      "checkpoint loaded\n",
      "image reward:  1.7845016717910767\n",
      "aesthetic score:  tensor([[6.2547]], device='cuda:0', grad_fn=<AddmmBackward0>)\n",
      "load checkpoint from /home/research/jenzheng/.cache/ImageReward/ImageReward.pt\n",
      "checkpoint loaded\n",
      "image reward:  0.3458864390850067\n",
      "aesthetic score:  tensor([[5.4840]], device='cuda:0', grad_fn=<AddmmBackward0>)\n",
      "load checkpoint from /home/research/jenzheng/.cache/ImageReward/ImageReward.pt\n",
      "checkpoint loaded\n",
      "image reward:  1.4757494926452637\n",
      "aesthetic score:  tensor([[6.1185]], device='cuda:0', grad_fn=<AddmmBackward0>)\n",
      "load checkpoint from /home/research/jenzheng/.cache/ImageReward/ImageReward.pt\n",
      "checkpoint loaded\n",
      "image reward:  1.876319169998169\n",
      "aesthetic score:  tensor([[6.1442]], device='cuda:0', grad_fn=<AddmmBackward0>)\n",
      "load checkpoint from /home/research/jenzheng/.cache/ImageReward/ImageReward.pt\n",
      "checkpoint loaded\n",
      "image reward:  1.5606002807617188\n",
      "aesthetic score:  tensor([[5.2946]], device='cuda:0', grad_fn=<AddmmBackward0>)\n",
      "load checkpoint from /home/research/jenzheng/.cache/ImageReward/ImageReward.pt\n",
      "checkpoint loaded\n",
      "image reward:  1.8093128204345703\n",
      "aesthetic score:  tensor([[5.6426]], device='cuda:0', grad_fn=<AddmmBackward0>)\n",
      "load checkpoint from /home/research/jenzheng/.cache/ImageReward/ImageReward.pt\n",
      "checkpoint loaded\n",
      "image reward:  1.7308311462402344\n",
      "aesthetic score:  tensor([[6.0798]], device='cuda:0', grad_fn=<AddmmBackward0>)\n",
      "load checkpoint from /home/research/jenzheng/.cache/ImageReward/ImageReward.pt\n",
      "checkpoint loaded\n",
      "image reward:  1.9901957511901855\n",
      "aesthetic score:  tensor([[5.6681]], device='cuda:0', grad_fn=<AddmmBackward0>)\n",
      "load checkpoint from /home/research/jenzheng/.cache/ImageReward/ImageReward.pt\n",
      "checkpoint loaded\n",
      "image reward:  1.493850588798523\n",
      "aesthetic score:  tensor([[5.6813]], device='cuda:0', grad_fn=<AddmmBackward0>)\n",
      "load checkpoint from /home/research/jenzheng/.cache/ImageReward/ImageReward.pt\n",
      "checkpoint loaded\n",
      "image reward:  1.7419103384017944\n",
      "aesthetic score:  tensor([[5.9995]], device='cuda:0', grad_fn=<AddmmBackward0>)\n",
      "load checkpoint from /home/research/jenzheng/.cache/ImageReward/ImageReward.pt\n",
      "checkpoint loaded\n",
      "image reward:  1.9434515237808228\n",
      "aesthetic score:  tensor([[5.7528]], device='cuda:0', grad_fn=<AddmmBackward0>)\n",
      "load checkpoint from /home/research/jenzheng/.cache/ImageReward/ImageReward.pt\n",
      "checkpoint loaded\n",
      "image reward:  1.9512665271759033\n",
      "aesthetic score:  tensor([[5.7437]], device='cuda:0', grad_fn=<AddmmBackward0>)\n",
      "load checkpoint from /home/research/jenzheng/.cache/ImageReward/ImageReward.pt\n",
      "checkpoint loaded\n",
      "image reward:  1.7927305698394775\n",
      "aesthetic score:  tensor([[5.6582]], device='cuda:0', grad_fn=<AddmmBackward0>)\n",
      "load checkpoint from /home/research/jenzheng/.cache/ImageReward/ImageReward.pt\n",
      "checkpoint loaded\n",
      "image reward:  1.265413761138916\n",
      "aesthetic score:  tensor([[5.8978]], device='cuda:0', grad_fn=<AddmmBackward0>)\n",
      "load checkpoint from /home/research/jenzheng/.cache/ImageReward/ImageReward.pt\n",
      "checkpoint loaded\n",
      "image reward:  0.538702666759491\n",
      "aesthetic score:  tensor([[5.8734]], device='cuda:0', grad_fn=<AddmmBackward0>)\n",
      "load checkpoint from /home/research/jenzheng/.cache/ImageReward/ImageReward.pt\n",
      "checkpoint loaded\n",
      "image reward:  1.5666117668151855\n",
      "aesthetic score:  tensor([[5.3981]], device='cuda:0', grad_fn=<AddmmBackward0>)\n",
      "load checkpoint from /home/research/jenzheng/.cache/ImageReward/ImageReward.pt\n",
      "checkpoint loaded\n",
      "image reward:  0.43942317366600037\n",
      "aesthetic score:  tensor([[5.8808]], device='cuda:0', grad_fn=<AddmmBackward0>)\n",
      "load checkpoint from /home/research/jenzheng/.cache/ImageReward/ImageReward.pt\n",
      "checkpoint loaded\n",
      "image reward:  0.8334776163101196\n",
      "aesthetic score:  tensor([[5.0813]], device='cuda:0', grad_fn=<AddmmBackward0>)\n",
      "load checkpoint from /home/research/jenzheng/.cache/ImageReward/ImageReward.pt\n",
      "checkpoint loaded\n",
      "image reward:  0.25248897075653076\n",
      "aesthetic score:  tensor([[5.2657]], device='cuda:0', grad_fn=<AddmmBackward0>)\n",
      "load checkpoint from /home/research/jenzheng/.cache/ImageReward/ImageReward.pt\n",
      "checkpoint loaded\n",
      "image reward:  0.8592551350593567\n",
      "aesthetic score:  tensor([[5.6520]], device='cuda:0', grad_fn=<AddmmBackward0>)\n",
      "load checkpoint from /home/research/jenzheng/.cache/ImageReward/ImageReward.pt\n",
      "checkpoint loaded\n",
      "image reward:  0.49839749932289124\n",
      "aesthetic score:  tensor([[6.0029]], device='cuda:0', grad_fn=<AddmmBackward0>)\n",
      "load checkpoint from /home/research/jenzheng/.cache/ImageReward/ImageReward.pt\n",
      "checkpoint loaded\n",
      "image reward:  1.0266146659851074\n",
      "aesthetic score:  tensor([[5.9901]], device='cuda:0', grad_fn=<AddmmBackward0>)\n",
      "load checkpoint from /home/research/jenzheng/.cache/ImageReward/ImageReward.pt\n",
      "checkpoint loaded\n",
      "image reward:  0.8498297333717346\n",
      "aesthetic score:  tensor([[5.8873]], device='cuda:0', grad_fn=<AddmmBackward0>)\n",
      "load checkpoint from /home/research/jenzheng/.cache/ImageReward/ImageReward.pt\n",
      "checkpoint loaded\n",
      "image reward:  1.4221103191375732\n",
      "aesthetic score:  tensor([[6.2245]], device='cuda:0', grad_fn=<AddmmBackward0>)\n",
      "load checkpoint from /home/research/jenzheng/.cache/ImageReward/ImageReward.pt\n",
      "checkpoint loaded\n",
      "image reward:  0.6337878704071045\n",
      "aesthetic score:  tensor([[5.8926]], device='cuda:0', grad_fn=<AddmmBackward0>)\n",
      "load checkpoint from /home/research/jenzheng/.cache/ImageReward/ImageReward.pt\n",
      "checkpoint loaded\n",
      "image reward:  1.3453007936477661\n",
      "aesthetic score:  tensor([[5.8636]], device='cuda:0', grad_fn=<AddmmBackward0>)\n",
      "load checkpoint from /home/research/jenzheng/.cache/ImageReward/ImageReward.pt\n",
      "checkpoint loaded\n",
      "image reward:  -0.30322879552841187\n",
      "aesthetic score:  tensor([[5.7932]], device='cuda:0', grad_fn=<AddmmBackward0>)\n",
      "load checkpoint from /home/research/jenzheng/.cache/ImageReward/ImageReward.pt\n",
      "checkpoint loaded\n",
      "image reward:  0.39527374505996704\n",
      "aesthetic score:  tensor([[5.7049]], device='cuda:0', grad_fn=<AddmmBackward0>)\n",
      "load checkpoint from /home/research/jenzheng/.cache/ImageReward/ImageReward.pt\n",
      "checkpoint loaded\n",
      "image reward:  1.3805842399597168\n",
      "aesthetic score:  tensor([[5.8948]], device='cuda:0', grad_fn=<AddmmBackward0>)\n",
      "load checkpoint from /home/research/jenzheng/.cache/ImageReward/ImageReward.pt\n",
      "checkpoint loaded\n",
      "image reward:  0.38426169753074646\n",
      "aesthetic score:  tensor([[5.2295]], device='cuda:0', grad_fn=<AddmmBackward0>)\n",
      "load checkpoint from /home/research/jenzheng/.cache/ImageReward/ImageReward.pt\n",
      "checkpoint loaded\n",
      "image reward:  -0.2551433742046356\n",
      "aesthetic score:  tensor([[5.0578]], device='cuda:0', grad_fn=<AddmmBackward0>)\n",
      "load checkpoint from /home/research/jenzheng/.cache/ImageReward/ImageReward.pt\n",
      "checkpoint loaded\n",
      "image reward:  0.5266072750091553\n",
      "aesthetic score:  tensor([[5.3183]], device='cuda:0', grad_fn=<AddmmBackward0>)\n",
      "load checkpoint from /home/research/jenzheng/.cache/ImageReward/ImageReward.pt\n",
      "checkpoint loaded\n",
      "image reward:  0.33824795484542847\n",
      "aesthetic score:  tensor([[5.1285]], device='cuda:0', grad_fn=<AddmmBackward0>)\n",
      "load checkpoint from /home/research/jenzheng/.cache/ImageReward/ImageReward.pt\n",
      "checkpoint loaded\n",
      "image reward:  -0.41492760181427\n",
      "aesthetic score:  tensor([[5.7791]], device='cuda:0', grad_fn=<AddmmBackward0>)\n",
      "load checkpoint from /home/research/jenzheng/.cache/ImageReward/ImageReward.pt\n",
      "checkpoint loaded\n",
      "image reward:  0.851235568523407\n",
      "aesthetic score:  tensor([[4.9646]], device='cuda:0', grad_fn=<AddmmBackward0>)\n",
      "load checkpoint from /home/research/jenzheng/.cache/ImageReward/ImageReward.pt\n",
      "checkpoint loaded\n",
      "image reward:  0.1919367015361786\n",
      "aesthetic score:  tensor([[5.5187]], device='cuda:0', grad_fn=<AddmmBackward0>)\n",
      "load checkpoint from /home/research/jenzheng/.cache/ImageReward/ImageReward.pt\n",
      "checkpoint loaded\n",
      "image reward:  -0.033630259335041046\n",
      "aesthetic score:  tensor([[4.7199]], device='cuda:0', grad_fn=<AddmmBackward0>)\n",
      "load checkpoint from /home/research/jenzheng/.cache/ImageReward/ImageReward.pt\n",
      "checkpoint loaded\n",
      "image reward:  0.3058500289916992\n",
      "aesthetic score:  tensor([[5.4088]], device='cuda:0', grad_fn=<AddmmBackward0>)\n",
      "load checkpoint from /home/research/jenzheng/.cache/ImageReward/ImageReward.pt\n",
      "checkpoint loaded\n",
      "image reward:  0.7937334775924683\n",
      "aesthetic score:  tensor([[4.8603]], device='cuda:0', grad_fn=<AddmmBackward0>)\n",
      "load checkpoint from /home/research/jenzheng/.cache/ImageReward/ImageReward.pt\n",
      "checkpoint loaded\n",
      "image reward:  1.4221857786178589\n",
      "aesthetic score:  tensor([[6.0696]], device='cuda:0', grad_fn=<AddmmBackward0>)\n",
      "load checkpoint from /home/research/jenzheng/.cache/ImageReward/ImageReward.pt\n",
      "checkpoint loaded\n",
      "image reward:  1.667176604270935\n",
      "aesthetic score:  tensor([[5.4901]], device='cuda:0', grad_fn=<AddmmBackward0>)\n",
      "load checkpoint from /home/research/jenzheng/.cache/ImageReward/ImageReward.pt\n",
      "checkpoint loaded\n",
      "image reward:  1.920390009880066\n",
      "aesthetic score:  tensor([[5.7505]], device='cuda:0', grad_fn=<AddmmBackward0>)\n",
      "load checkpoint from /home/research/jenzheng/.cache/ImageReward/ImageReward.pt\n",
      "checkpoint loaded\n",
      "image reward:  1.6824685335159302\n",
      "aesthetic score:  tensor([[5.4778]], device='cuda:0', grad_fn=<AddmmBackward0>)\n",
      "load checkpoint from /home/research/jenzheng/.cache/ImageReward/ImageReward.pt\n",
      "checkpoint loaded\n",
      "image reward:  1.5071693658828735\n",
      "aesthetic score:  tensor([[5.8614]], device='cuda:0', grad_fn=<AddmmBackward0>)\n",
      "load checkpoint from /home/research/jenzheng/.cache/ImageReward/ImageReward.pt\n",
      "checkpoint loaded\n",
      "image reward:  0.09102849662303925\n",
      "aesthetic score:  tensor([[5.4891]], device='cuda:0', grad_fn=<AddmmBackward0>)\n",
      "load checkpoint from /home/research/jenzheng/.cache/ImageReward/ImageReward.pt\n",
      "checkpoint loaded\n",
      "image reward:  0.3935415744781494\n",
      "aesthetic score:  tensor([[4.9011]], device='cuda:0', grad_fn=<AddmmBackward0>)\n",
      "load checkpoint from /home/research/jenzheng/.cache/ImageReward/ImageReward.pt\n",
      "checkpoint loaded\n",
      "image reward:  0.4613567590713501\n",
      "aesthetic score:  tensor([[5.3323]], device='cuda:0', grad_fn=<AddmmBackward0>)\n",
      "load checkpoint from /home/research/jenzheng/.cache/ImageReward/ImageReward.pt\n",
      "checkpoint loaded\n",
      "image reward:  0.6248037815093994\n",
      "aesthetic score:  tensor([[5.4810]], device='cuda:0', grad_fn=<AddmmBackward0>)\n",
      "load checkpoint from /home/research/jenzheng/.cache/ImageReward/ImageReward.pt\n",
      "checkpoint loaded\n",
      "image reward:  -0.40034446120262146\n",
      "aesthetic score:  tensor([[4.7550]], device='cuda:0', grad_fn=<AddmmBackward0>)\n",
      "load checkpoint from /home/research/jenzheng/.cache/ImageReward/ImageReward.pt\n",
      "checkpoint loaded\n",
      "image reward:  -0.32546868920326233\n",
      "aesthetic score:  tensor([[5.6196]], device='cuda:0', grad_fn=<AddmmBackward0>)\n",
      "load checkpoint from /home/research/jenzheng/.cache/ImageReward/ImageReward.pt\n",
      "checkpoint loaded\n",
      "image reward:  0.7825961709022522\n",
      "aesthetic score:  tensor([[5.1370]], device='cuda:0', grad_fn=<AddmmBackward0>)\n",
      "load checkpoint from /home/research/jenzheng/.cache/ImageReward/ImageReward.pt\n",
      "checkpoint loaded\n",
      "image reward:  1.294446349143982\n",
      "aesthetic score:  tensor([[5.3902]], device='cuda:0', grad_fn=<AddmmBackward0>)\n",
      "load checkpoint from /home/research/jenzheng/.cache/ImageReward/ImageReward.pt\n",
      "checkpoint loaded\n",
      "image reward:  1.3917723894119263\n",
      "aesthetic score:  tensor([[5.6137]], device='cuda:0', grad_fn=<AddmmBackward0>)\n",
      "load checkpoint from /home/research/jenzheng/.cache/ImageReward/ImageReward.pt\n",
      "checkpoint loaded\n",
      "image reward:  1.3335100412368774\n",
      "aesthetic score:  tensor([[5.4995]], device='cuda:0', grad_fn=<AddmmBackward0>)\n",
      "load checkpoint from /home/research/jenzheng/.cache/ImageReward/ImageReward.pt\n",
      "checkpoint loaded\n",
      "image reward:  1.9047915935516357\n",
      "aesthetic score:  tensor([[5.6644]], device='cuda:0', grad_fn=<AddmmBackward0>)\n",
      "load checkpoint from /home/research/jenzheng/.cache/ImageReward/ImageReward.pt\n",
      "checkpoint loaded\n",
      "image reward:  1.6930992603302002\n",
      "aesthetic score:  tensor([[5.6865]], device='cuda:0', grad_fn=<AddmmBackward0>)\n",
      "load checkpoint from /home/research/jenzheng/.cache/ImageReward/ImageReward.pt\n",
      "checkpoint loaded\n",
      "image reward:  1.9156959056854248\n",
      "aesthetic score:  tensor([[6.2583]], device='cuda:0', grad_fn=<AddmmBackward0>)\n",
      "load checkpoint from /home/research/jenzheng/.cache/ImageReward/ImageReward.pt\n",
      "checkpoint loaded\n",
      "image reward:  0.35061824321746826\n",
      "aesthetic score:  tensor([[5.7016]], device='cuda:0', grad_fn=<AddmmBackward0>)\n",
      "load checkpoint from /home/research/jenzheng/.cache/ImageReward/ImageReward.pt\n",
      "checkpoint loaded\n",
      "image reward:  1.0867563486099243\n",
      "aesthetic score:  tensor([[6.2057]], device='cuda:0', grad_fn=<AddmmBackward0>)\n",
      "load checkpoint from /home/research/jenzheng/.cache/ImageReward/ImageReward.pt\n",
      "checkpoint loaded\n",
      "image reward:  1.474662184715271\n",
      "aesthetic score:  tensor([[6.1001]], device='cuda:0', grad_fn=<AddmmBackward0>)\n",
      "load checkpoint from /home/research/jenzheng/.cache/ImageReward/ImageReward.pt\n",
      "checkpoint loaded\n",
      "image reward:  1.4525535106658936\n",
      "aesthetic score:  tensor([[5.9504]], device='cuda:0', grad_fn=<AddmmBackward0>)\n",
      "load checkpoint from /home/research/jenzheng/.cache/ImageReward/ImageReward.pt\n",
      "checkpoint loaded\n",
      "image reward:  0.5692214965820312\n",
      "aesthetic score:  tensor([[5.4938]], device='cuda:0', grad_fn=<AddmmBackward0>)\n",
      "load checkpoint from /home/research/jenzheng/.cache/ImageReward/ImageReward.pt\n",
      "checkpoint loaded\n",
      "image reward:  0.7715595364570618\n",
      "aesthetic score:  tensor([[5.5729]], device='cuda:0', grad_fn=<AddmmBackward0>)\n",
      "load checkpoint from /home/research/jenzheng/.cache/ImageReward/ImageReward.pt\n",
      "checkpoint loaded\n",
      "image reward:  1.1684982776641846\n",
      "aesthetic score:  tensor([[5.7863]], device='cuda:0', grad_fn=<AddmmBackward0>)\n",
      "load checkpoint from /home/research/jenzheng/.cache/ImageReward/ImageReward.pt\n",
      "checkpoint loaded\n",
      "image reward:  1.6149282455444336\n",
      "aesthetic score:  tensor([[5.3850]], device='cuda:0', grad_fn=<AddmmBackward0>)\n",
      "load checkpoint from /home/research/jenzheng/.cache/ImageReward/ImageReward.pt\n",
      "checkpoint loaded\n",
      "image reward:  1.1662646532058716\n",
      "aesthetic score:  tensor([[5.2134]], device='cuda:0', grad_fn=<AddmmBackward0>)\n",
      "load checkpoint from /home/research/jenzheng/.cache/ImageReward/ImageReward.pt\n",
      "checkpoint loaded\n",
      "image reward:  1.449340581893921\n",
      "aesthetic score:  tensor([[5.2814]], device='cuda:0', grad_fn=<AddmmBackward0>)\n",
      "load checkpoint from /home/research/jenzheng/.cache/ImageReward/ImageReward.pt\n",
      "checkpoint loaded\n",
      "image reward:  1.6839975118637085\n",
      "aesthetic score:  tensor([[5.5843]], device='cuda:0', grad_fn=<AddmmBackward0>)\n",
      "load checkpoint from /home/research/jenzheng/.cache/ImageReward/ImageReward.pt\n",
      "checkpoint loaded\n",
      "image reward:  1.4428099393844604\n",
      "aesthetic score:  tensor([[5.3424]], device='cuda:0', grad_fn=<AddmmBackward0>)\n",
      "load checkpoint from /home/research/jenzheng/.cache/ImageReward/ImageReward.pt\n",
      "checkpoint loaded\n",
      "image reward:  1.592551827430725\n",
      "aesthetic score:  tensor([[5.1920]], device='cuda:0', grad_fn=<AddmmBackward0>)\n",
      "load checkpoint from /home/research/jenzheng/.cache/ImageReward/ImageReward.pt\n",
      "checkpoint loaded\n",
      "image reward:  0.22481340169906616\n",
      "aesthetic score:  tensor([[5.5017]], device='cuda:0', grad_fn=<AddmmBackward0>)\n",
      "load checkpoint from /home/research/jenzheng/.cache/ImageReward/ImageReward.pt\n",
      "checkpoint loaded\n",
      "image reward:  0.31213653087615967\n",
      "aesthetic score:  tensor([[5.4046]], device='cuda:0', grad_fn=<AddmmBackward0>)\n",
      "load checkpoint from /home/research/jenzheng/.cache/ImageReward/ImageReward.pt\n",
      "checkpoint loaded\n",
      "image reward:  -1.072413682937622\n",
      "aesthetic score:  tensor([[5.7484]], device='cuda:0', grad_fn=<AddmmBackward0>)\n",
      "load checkpoint from /home/research/jenzheng/.cache/ImageReward/ImageReward.pt\n",
      "checkpoint loaded\n",
      "image reward:  1.8845406770706177\n",
      "aesthetic score:  tensor([[5.3642]], device='cuda:0', grad_fn=<AddmmBackward0>)\n",
      "load checkpoint from /home/research/jenzheng/.cache/ImageReward/ImageReward.pt\n",
      "checkpoint loaded\n",
      "image reward:  1.2530115842819214\n",
      "aesthetic score:  tensor([[6.0757]], device='cuda:0', grad_fn=<AddmmBackward0>)\n",
      "load checkpoint from /home/research/jenzheng/.cache/ImageReward/ImageReward.pt\n",
      "checkpoint loaded\n",
      "image reward:  1.0666452646255493\n",
      "aesthetic score:  tensor([[6.5152]], device='cuda:0', grad_fn=<AddmmBackward0>)\n",
      "load checkpoint from /home/research/jenzheng/.cache/ImageReward/ImageReward.pt\n",
      "checkpoint loaded\n",
      "image reward:  1.922556757926941\n",
      "aesthetic score:  tensor([[6.3389]], device='cuda:0', grad_fn=<AddmmBackward0>)\n",
      "load checkpoint from /home/research/jenzheng/.cache/ImageReward/ImageReward.pt\n",
      "checkpoint loaded\n",
      "image reward:  1.6349248886108398\n",
      "aesthetic score:  tensor([[6.3691]], device='cuda:0', grad_fn=<AddmmBackward0>)\n",
      "load checkpoint from /home/research/jenzheng/.cache/ImageReward/ImageReward.pt\n",
      "checkpoint loaded\n",
      "image reward:  1.3993916511535645\n",
      "aesthetic score:  tensor([[6.2470]], device='cuda:0', grad_fn=<AddmmBackward0>)\n",
      "load checkpoint from /home/research/jenzheng/.cache/ImageReward/ImageReward.pt\n",
      "checkpoint loaded\n",
      "image reward:  1.6435734033584595\n",
      "aesthetic score:  tensor([[5.6937]], device='cuda:0', grad_fn=<AddmmBackward0>)\n",
      "load checkpoint from /home/research/jenzheng/.cache/ImageReward/ImageReward.pt\n",
      "checkpoint loaded\n",
      "image reward:  -1.427507996559143\n",
      "aesthetic score:  tensor([[5.0415]], device='cuda:0', grad_fn=<AddmmBackward0>)\n",
      "load checkpoint from /home/research/jenzheng/.cache/ImageReward/ImageReward.pt\n",
      "checkpoint loaded\n",
      "image reward:  1.3651068210601807\n",
      "aesthetic score:  tensor([[5.0322]], device='cuda:0', grad_fn=<AddmmBackward0>)\n",
      "load checkpoint from /home/research/jenzheng/.cache/ImageReward/ImageReward.pt\n",
      "checkpoint loaded\n",
      "image reward:  -0.6499048471450806\n",
      "aesthetic score:  tensor([[5.4266]], device='cuda:0', grad_fn=<AddmmBackward0>)\n",
      "load checkpoint from /home/research/jenzheng/.cache/ImageReward/ImageReward.pt\n",
      "checkpoint loaded\n",
      "image reward:  0.38567519187927246\n",
      "aesthetic score:  tensor([[5.5310]], device='cuda:0', grad_fn=<AddmmBackward0>)\n",
      "load checkpoint from /home/research/jenzheng/.cache/ImageReward/ImageReward.pt\n",
      "checkpoint loaded\n",
      "image reward:  1.911569356918335\n",
      "aesthetic score:  tensor([[5.8057]], device='cuda:0', grad_fn=<AddmmBackward0>)\n",
      "load checkpoint from /home/research/jenzheng/.cache/ImageReward/ImageReward.pt\n",
      "checkpoint loaded\n",
      "image reward:  1.5453656911849976\n",
      "aesthetic score:  tensor([[6.5378]], device='cuda:0', grad_fn=<AddmmBackward0>)\n",
      "load checkpoint from /home/research/jenzheng/.cache/ImageReward/ImageReward.pt\n",
      "checkpoint loaded\n",
      "image reward:  1.7362780570983887\n",
      "aesthetic score:  tensor([[5.6452]], device='cuda:0', grad_fn=<AddmmBackward0>)\n",
      "load checkpoint from /home/research/jenzheng/.cache/ImageReward/ImageReward.pt\n",
      "checkpoint loaded\n",
      "image reward:  1.8198034763336182\n",
      "aesthetic score:  tensor([[5.9651]], device='cuda:0', grad_fn=<AddmmBackward0>)\n",
      "load checkpoint from /home/research/jenzheng/.cache/ImageReward/ImageReward.pt\n",
      "checkpoint loaded\n",
      "image reward:  1.7250843048095703\n",
      "aesthetic score:  tensor([[5.7416]], device='cuda:0', grad_fn=<AddmmBackward0>)\n",
      "load checkpoint from /home/research/jenzheng/.cache/ImageReward/ImageReward.pt\n",
      "checkpoint loaded\n",
      "image reward:  0.36084437370300293\n",
      "aesthetic score:  tensor([[5.6072]], device='cuda:0', grad_fn=<AddmmBackward0>)\n",
      "load checkpoint from /home/research/jenzheng/.cache/ImageReward/ImageReward.pt\n",
      "checkpoint loaded\n",
      "image reward:  -0.27820783853530884\n",
      "aesthetic score:  tensor([[5.9400]], device='cuda:0', grad_fn=<AddmmBackward0>)\n",
      "load checkpoint from /home/research/jenzheng/.cache/ImageReward/ImageReward.pt\n",
      "checkpoint loaded\n",
      "image reward:  -0.4139893054962158\n",
      "aesthetic score:  tensor([[5.4042]], device='cuda:0', grad_fn=<AddmmBackward0>)\n",
      "load checkpoint from /home/research/jenzheng/.cache/ImageReward/ImageReward.pt\n",
      "checkpoint loaded\n",
      "image reward:  0.8580669164657593\n",
      "aesthetic score:  tensor([[5.9304]], device='cuda:0', grad_fn=<AddmmBackward0>)\n",
      "load checkpoint from /home/research/jenzheng/.cache/ImageReward/ImageReward.pt\n",
      "checkpoint loaded\n",
      "image reward:  0.7082016468048096\n",
      "aesthetic score:  tensor([[5.4924]], device='cuda:0', grad_fn=<AddmmBackward0>)\n",
      "load checkpoint from /home/research/jenzheng/.cache/ImageReward/ImageReward.pt\n",
      "checkpoint loaded\n",
      "image reward:  1.0609196424484253\n",
      "aesthetic score:  tensor([[5.5287]], device='cuda:0', grad_fn=<AddmmBackward0>)\n",
      "load checkpoint from /home/research/jenzheng/.cache/ImageReward/ImageReward.pt\n",
      "checkpoint loaded\n",
      "image reward:  1.3322968482971191\n",
      "aesthetic score:  tensor([[5.6463]], device='cuda:0', grad_fn=<AddmmBackward0>)\n",
      "load checkpoint from /home/research/jenzheng/.cache/ImageReward/ImageReward.pt\n",
      "checkpoint loaded\n",
      "image reward:  0.09061849862337112\n",
      "aesthetic score:  tensor([[5.8118]], device='cuda:0', grad_fn=<AddmmBackward0>)\n",
      "load checkpoint from /home/research/jenzheng/.cache/ImageReward/ImageReward.pt\n",
      "checkpoint loaded\n",
      "image reward:  1.6413530111312866\n",
      "aesthetic score:  tensor([[5.3521]], device='cuda:0', grad_fn=<AddmmBackward0>)\n",
      "load checkpoint from /home/research/jenzheng/.cache/ImageReward/ImageReward.pt\n",
      "checkpoint loaded\n",
      "image reward:  0.6557767391204834\n",
      "aesthetic score:  tensor([[5.5242]], device='cuda:0', grad_fn=<AddmmBackward0>)\n",
      "==================total=================\n",
      "average image reward: \n",
      "0.9880744139850139\n",
      "average aesthetic score: \n",
      "tensor([[5.6409]], device='cuda:0', grad_fn=<DivBackward0>)\n"
     ]
    }
   ],
   "source": [
    "\n",
    "num_inference_steps = 75\n",
    "total_image_reward = 0\n",
    "total_aesthetic_score = 0\n",
    "\n",
    "\n",
    "import torch\n",
    "import ImageReward as reward\n",
    "\n",
    "sdxl_dpo_lora_pipe.safety_checker = None\n",
    "\n",
    "for i in range(len(prompts)):\n",
    "    prompt = prompts[i]\n",
    "    \n",
    "    \n",
    "    v14Image = sdxl_dpo_lora_pipe(disable_tqdm = True,prompt=prompt,num_images_per_prompt=1, num_inference_steps=num_inference_steps, guidance_scale=8.0).images[0]\n",
    "    sdxl_dpo_lora_pipe.set_progress_bar_config(disable=True)\n",
    "    \n",
    "    image = preprocess(v14Image).unsqueeze(0).to(device)\n",
    "    imageReward = reward.load(\"ImageReward-v1.0\")\n",
    "    with torch.no_grad():\n",
    "        v14_image_reward = imageReward.score(prompt, v14Image)\n",
    "        image_features = model2.encode_image(image)\n",
    "    \n",
    "    total_image_reward += v14_image_reward\n",
    "    print(\"image reward: \", v14_image_reward)\n",
    "    im_emb_arr = normalized(image_features.cpu().detach().numpy() )\n",
    "    v14_aesthetic_score = aestheticPredictorModel(torch.from_numpy(im_emb_arr).to(device).type(torch.cuda.FloatTensor))\n",
    "    total_aesthetic_score += v14_aesthetic_score\n",
    "    print(\"aesthetic score: \", v14_aesthetic_score)\n",
    "\n",
    "\n",
    "print(\"==================total=================\")\n",
    "print(\"average image reward: \")\n",
    "print(total_image_reward/100)\n",
    "print(\"average aesthetic score: \")\n",
    "print(total_aesthetic_score/100)\n",
    "\n"
   ]
  }
 ],
 "metadata": {
  "accelerator": "GPU",
  "colab": {
   "authorship_tag": "ABX9TyNR5avj+9gFzToAEvy4fhXo",
   "gpuType": "T4",
   "provenance": []
  },
  "kernelspec": {
   "display_name": "Python 3 (ipykernel)",
   "language": "python",
   "name": "python3"
  },
  "language_info": {
   "codemirror_mode": {
    "name": "ipython",
    "version": 3
   },
   "file_extension": ".py",
   "mimetype": "text/x-python",
   "name": "python",
   "nbconvert_exporter": "python",
   "pygments_lexer": "ipython3",
   "version": "3.9.18"
  },
  "widgets": {
   "application/vnd.jupyter.widget-state+json": {
    "00e7088646734146b808724c7e7cf04a": {
     "model_module": "@jupyter-widgets/controls",
     "model_module_version": "1.5.0",
     "model_name": "HTMLModel",
     "state": {
      "_dom_classes": [],
      "_model_module": "@jupyter-widgets/controls",
      "_model_module_version": "1.5.0",
      "_model_name": "HTMLModel",
      "_view_count": null,
      "_view_module": "@jupyter-widgets/controls",
      "_view_module_version": "1.5.0",
      "_view_name": "HTMLView",
      "description": "",
      "description_tooltip": null,
      "layout": "IPY_MODEL_8bdc3605b4434f69a3b5a72af3eaff73",
      "placeholder": "​",
      "style": "IPY_MODEL_18234c1bc8a0444daa37fc0f0ca32cca",
      "value": " 1.83k/1.83k [00:00&lt;00:00, 30.3kB/s]"
     }
    },
    "084ecb928326480ba1200f349b055c4d": {
     "model_module": "@jupyter-widgets/controls",
     "model_module_version": "1.5.0",
     "model_name": "HTMLModel",
     "state": {
      "_dom_classes": [],
      "_model_module": "@jupyter-widgets/controls",
      "_model_module_version": "1.5.0",
      "_model_name": "HTMLModel",
      "_view_count": null,
      "_view_module": "@jupyter-widgets/controls",
      "_view_module_version": "1.5.0",
      "_view_name": "HTMLView",
      "description": "",
      "description_tooltip": null,
      "layout": "IPY_MODEL_58d9a62b34b2434bba2956e1a8355c63",
      "placeholder": "​",
      "style": "IPY_MODEL_92a5b01f7bb946e7b8294d1407219817",
      "value": " 1.00k/1.00k [00:00&lt;00:00, 19.8kB/s]"
     }
    },
    "0a3a687188294b2c8420bc071b085302": {
     "model_module": "@jupyter-widgets/controls",
     "model_module_version": "1.5.0",
     "model_name": "DescriptionStyleModel",
     "state": {
      "_model_module": "@jupyter-widgets/controls",
      "_model_module_version": "1.5.0",
      "_model_name": "DescriptionStyleModel",
      "_view_count": null,
      "_view_module": "@jupyter-widgets/base",
      "_view_module_version": "1.2.0",
      "_view_name": "StyleView",
      "description_width": ""
     }
    },
    "0a81fe267f62434791435b440f8f5265": {
     "model_module": "@jupyter-widgets/base",
     "model_module_version": "1.2.0",
     "model_name": "LayoutModel",
     "state": {
      "_model_module": "@jupyter-widgets/base",
      "_model_module_version": "1.2.0",
      "_model_name": "LayoutModel",
      "_view_count": null,
      "_view_module": "@jupyter-widgets/base",
      "_view_module_version": "1.2.0",
      "_view_name": "LayoutView",
      "align_content": null,
      "align_items": null,
      "align_self": null,
      "border": null,
      "bottom": null,
      "display": null,
      "flex": null,
      "flex_flow": null,
      "grid_area": null,
      "grid_auto_columns": null,
      "grid_auto_flow": null,
      "grid_auto_rows": null,
      "grid_column": null,
      "grid_gap": null,
      "grid_row": null,
      "grid_template_areas": null,
      "grid_template_columns": null,
      "grid_template_rows": null,
      "height": null,
      "justify_content": null,
      "justify_items": null,
      "left": null,
      "margin": null,
      "max_height": null,
      "max_width": null,
      "min_height": null,
      "min_width": null,
      "object_fit": null,
      "object_position": null,
      "order": null,
      "overflow": null,
      "overflow_x": null,
      "overflow_y": null,
      "padding": null,
      "right": null,
      "top": null,
      "visibility": null,
      "width": null
     }
    },
    "0c4417399bda47549d29525a82c7617a": {
     "model_module": "@jupyter-widgets/base",
     "model_module_version": "1.2.0",
     "model_name": "LayoutModel",
     "state": {
      "_model_module": "@jupyter-widgets/base",
      "_model_module_version": "1.2.0",
      "_model_name": "LayoutModel",
      "_view_count": null,
      "_view_module": "@jupyter-widgets/base",
      "_view_module_version": "1.2.0",
      "_view_name": "LayoutView",
      "align_content": null,
      "align_items": null,
      "align_self": null,
      "border": null,
      "bottom": null,
      "display": null,
      "flex": null,
      "flex_flow": null,
      "grid_area": null,
      "grid_auto_columns": null,
      "grid_auto_flow": null,
      "grid_auto_rows": null,
      "grid_column": null,
      "grid_gap": null,
      "grid_row": null,
      "grid_template_areas": null,
      "grid_template_columns": null,
      "grid_template_rows": null,
      "height": null,
      "justify_content": null,
      "justify_items": null,
      "left": null,
      "margin": null,
      "max_height": null,
      "max_width": null,
      "min_height": null,
      "min_width": null,
      "object_fit": null,
      "object_position": null,
      "order": null,
      "overflow": null,
      "overflow_x": null,
      "overflow_y": null,
      "padding": null,
      "right": null,
      "top": null,
      "visibility": null,
      "width": null
     }
    },
    "0c4c6593f0f1438e8ece6c6285dc2ae7": {
     "model_module": "@jupyter-widgets/controls",
     "model_module_version": "1.5.0",
     "model_name": "HTMLModel",
     "state": {
      "_dom_classes": [],
      "_model_module": "@jupyter-widgets/controls",
      "_model_module_version": "1.5.0",
      "_model_name": "HTMLModel",
      "_view_count": null,
      "_view_module": "@jupyter-widgets/controls",
      "_view_module_version": "1.5.0",
      "_view_name": "HTMLView",
      "description": "",
      "description_tooltip": null,
      "layout": "IPY_MODEL_902eb6c8d8104d918a63e3653bec0892",
      "placeholder": "​",
      "style": "IPY_MODEL_e45f8d8b1161425db3a03cebf0c4dc4e",
      "value": " 5.14G/5.14G [02:03&lt;00:00, 35.3MB/s]"
     }
    },
    "0c6c618dfcbc418aabb8271ea01ae292": {
     "model_module": "@jupyter-widgets/controls",
     "model_module_version": "1.5.0",
     "model_name": "HTMLModel",
     "state": {
      "_dom_classes": [],
      "_model_module": "@jupyter-widgets/controls",
      "_model_module_version": "1.5.0",
      "_model_name": "HTMLModel",
      "_view_count": null,
      "_view_module": "@jupyter-widgets/controls",
      "_view_module_version": "1.5.0",
      "_view_name": "HTMLView",
      "description": "",
      "description_tooltip": null,
      "layout": "IPY_MODEL_6048f04d9ef6426688d7906758bb3a0d",
      "placeholder": "​",
      "style": "IPY_MODEL_bfc0bf6c02a6496089f38407addd7caf",
      "value": "Loading pipeline components...: 100%"
     }
    },
    "0d4351c63e9a4e33996ab69ac2e3c2f1": {
     "model_module": "@jupyter-widgets/controls",
     "model_module_version": "1.5.0",
     "model_name": "ProgressStyleModel",
     "state": {
      "_model_module": "@jupyter-widgets/controls",
      "_model_module_version": "1.5.0",
      "_model_name": "ProgressStyleModel",
      "_view_count": null,
      "_view_module": "@jupyter-widgets/base",
      "_view_module_version": "1.2.0",
      "_view_name": "StyleView",
      "bar_color": null,
      "description_width": ""
     }
    },
    "0e17054ac69d4ceab8ad21bf750abc42": {
     "model_module": "@jupyter-widgets/controls",
     "model_module_version": "1.5.0",
     "model_name": "FloatProgressModel",
     "state": {
      "_dom_classes": [],
      "_model_module": "@jupyter-widgets/controls",
      "_model_module_version": "1.5.0",
      "_model_name": "FloatProgressModel",
      "_view_count": null,
      "_view_module": "@jupyter-widgets/controls",
      "_view_module_version": "1.5.0",
      "_view_name": "ProgressView",
      "bar_style": "success",
      "description": "",
      "description_tooltip": null,
      "layout": "IPY_MODEL_2eaaad1d258b49fd90706a7b724078b0",
      "max": 243,
      "min": 0,
      "orientation": "horizontal",
      "style": "IPY_MODEL_62732c0c696448638f44d6899690daa9",
      "value": 243
     }
    },
    "0e2af0d279344422958ae375cfab0934": {
     "model_module": "@jupyter-widgets/base",
     "model_module_version": "1.2.0",
     "model_name": "LayoutModel",
     "state": {
      "_model_module": "@jupyter-widgets/base",
      "_model_module_version": "1.2.0",
      "_model_name": "LayoutModel",
      "_view_count": null,
      "_view_module": "@jupyter-widgets/base",
      "_view_module_version": "1.2.0",
      "_view_name": "LayoutView",
      "align_content": null,
      "align_items": null,
      "align_self": null,
      "border": null,
      "bottom": null,
      "display": null,
      "flex": null,
      "flex_flow": null,
      "grid_area": null,
      "grid_auto_columns": null,
      "grid_auto_flow": null,
      "grid_auto_rows": null,
      "grid_column": null,
      "grid_gap": null,
      "grid_row": null,
      "grid_template_areas": null,
      "grid_template_columns": null,
      "grid_template_rows": null,
      "height": null,
      "justify_content": null,
      "justify_items": null,
      "left": null,
      "margin": null,
      "max_height": null,
      "max_width": null,
      "min_height": null,
      "min_width": null,
      "object_fit": null,
      "object_position": null,
      "order": null,
      "overflow": null,
      "overflow_x": null,
      "overflow_y": null,
      "padding": null,
      "right": null,
      "top": null,
      "visibility": null,
      "width": null
     }
    },
    "11513858627549caaf56ac2e1b36bc54": {
     "model_module": "@jupyter-widgets/controls",
     "model_module_version": "1.5.0",
     "model_name": "HTMLModel",
     "state": {
      "_dom_classes": [],
      "_model_module": "@jupyter-widgets/controls",
      "_model_module_version": "1.5.0",
      "_model_name": "HTMLModel",
      "_view_count": null,
      "_view_module": "@jupyter-widgets/controls",
      "_view_module_version": "1.5.0",
      "_view_name": "HTMLView",
      "description": "",
      "description_tooltip": null,
      "layout": "IPY_MODEL_1bbf5d3b09e54e9c80a814a0b29594db",
      "placeholder": "​",
      "style": "IPY_MODEL_cc4b09747fb5488098176897328d12ae",
      "value": " 4/4 [00:30&lt;00:00,  9.04s/it]"
     }
    },
    "1177ec43638742e695d66c3aacbebccf": {
     "model_module": "@jupyter-widgets/controls",
     "model_module_version": "1.5.0",
     "model_name": "HTMLModel",
     "state": {
      "_dom_classes": [],
      "_model_module": "@jupyter-widgets/controls",
      "_model_module_version": "1.5.0",
      "_model_name": "HTMLModel",
      "_view_count": null,
      "_view_module": "@jupyter-widgets/controls",
      "_view_module_version": "1.5.0",
      "_view_name": "HTMLView",
      "description": "",
      "description_tooltip": null,
      "layout": "IPY_MODEL_b06547186130428e94902933e8e7bac1",
      "placeholder": "​",
      "style": "IPY_MODEL_356e871a8d104738811b30602fa7b2e7",
      "value": " 254/254 [00:00&lt;00:00, 12.7kB/s]"
     }
    },
    "122912cf07014297b5e3b93af8659430": {
     "model_module": "@jupyter-widgets/controls",
     "model_module_version": "1.5.0",
     "model_name": "HTMLModel",
     "state": {
      "_dom_classes": [],
      "_model_module": "@jupyter-widgets/controls",
      "_model_module_version": "1.5.0",
      "_model_name": "HTMLModel",
      "_view_count": null,
      "_view_module": "@jupyter-widgets/controls",
      "_view_module_version": "1.5.0",
      "_view_name": "HTMLView",
      "description": "",
      "description_tooltip": null,
      "layout": "IPY_MODEL_fad461acf2744b0785377d6c4c3abeee",
      "placeholder": "​",
      "style": "IPY_MODEL_61642eefdb5d4430b0944c45599c728e",
      "value": " 1.18G/1.18G [00:29&lt;00:00, 60.0MB/s]"
     }
    },
    "158bb04128f34a2895d64f4d9381064d": {
     "model_module": "@jupyter-widgets/controls",
     "model_module_version": "1.5.0",
     "model_name": "HTMLModel",
     "state": {
      "_dom_classes": [],
      "_model_module": "@jupyter-widgets/controls",
      "_model_module_version": "1.5.0",
      "_model_name": "HTMLModel",
      "_view_count": null,
      "_view_module": "@jupyter-widgets/controls",
      "_view_module_version": "1.5.0",
      "_view_name": "HTMLView",
      "description": "",
      "description_tooltip": null,
      "layout": "IPY_MODEL_2c206ded35dc4a48afb5121d9043c15e",
      "placeholder": "​",
      "style": "IPY_MODEL_d997f94aea1043bfbbbd1720452a7555",
      "value": "model_index.json: 100%"
     }
    },
    "17d0e7b094084e54893120c30ad8449a": {
     "model_module": "@jupyter-widgets/controls",
     "model_module_version": "1.5.0",
     "model_name": "FloatProgressModel",
     "state": {
      "_dom_classes": [],
      "_model_module": "@jupyter-widgets/controls",
      "_model_module_version": "1.5.0",
      "_model_name": "FloatProgressModel",
      "_view_count": null,
      "_view_module": "@jupyter-widgets/controls",
      "_view_module_version": "1.5.0",
      "_view_name": "ProgressView",
      "bar_style": "success",
      "description": "",
      "description_tooltip": null,
      "layout": "IPY_MODEL_82ecc6406c2b44d98f52d4157e464bc9",
      "max": 5135313712,
      "min": 0,
      "orientation": "horizontal",
      "style": "IPY_MODEL_3d43b5a04194495b9c338ba3f5d5ba18",
      "value": 5135313712
     }
    },
    "18234c1bc8a0444daa37fc0f0ca32cca": {
     "model_module": "@jupyter-widgets/controls",
     "model_module_version": "1.5.0",
     "model_name": "DescriptionStyleModel",
     "state": {
      "_model_module": "@jupyter-widgets/controls",
      "_model_module_version": "1.5.0",
      "_model_name": "DescriptionStyleModel",
      "_view_count": null,
      "_view_module": "@jupyter-widgets/base",
      "_view_module_version": "1.2.0",
      "_view_name": "StyleView",
      "description_width": ""
     }
    },
    "1953dc5122e24c21a940c7f523e746ff": {
     "model_module": "@jupyter-widgets/controls",
     "model_module_version": "1.5.0",
     "model_name": "DescriptionStyleModel",
     "state": {
      "_model_module": "@jupyter-widgets/controls",
      "_model_module_version": "1.5.0",
      "_model_name": "DescriptionStyleModel",
      "_view_count": null,
      "_view_module": "@jupyter-widgets/base",
      "_view_module_version": "1.2.0",
      "_view_name": "StyleView",
      "description_width": ""
     }
    },
    "1bbf5d3b09e54e9c80a814a0b29594db": {
     "model_module": "@jupyter-widgets/base",
     "model_module_version": "1.2.0",
     "model_name": "LayoutModel",
     "state": {
      "_model_module": "@jupyter-widgets/base",
      "_model_module_version": "1.2.0",
      "_model_name": "LayoutModel",
      "_view_count": null,
      "_view_module": "@jupyter-widgets/base",
      "_view_module_version": "1.2.0",
      "_view_name": "LayoutView",
      "align_content": null,
      "align_items": null,
      "align_self": null,
      "border": null,
      "bottom": null,
      "display": null,
      "flex": null,
      "flex_flow": null,
      "grid_area": null,
      "grid_auto_columns": null,
      "grid_auto_flow": null,
      "grid_auto_rows": null,
      "grid_column": null,
      "grid_gap": null,
      "grid_row": null,
      "grid_template_areas": null,
      "grid_template_columns": null,
      "grid_template_rows": null,
      "height": null,
      "justify_content": null,
      "justify_items": null,
      "left": null,
      "margin": null,
      "max_height": null,
      "max_width": null,
      "min_height": null,
      "min_width": null,
      "object_fit": null,
      "object_position": null,
      "order": null,
      "overflow": null,
      "overflow_x": null,
      "overflow_y": null,
      "padding": null,
      "right": null,
      "top": null,
      "visibility": null,
      "width": null
     }
    },
    "21b526de1ab8403ab94425cb9f538505": {
     "model_module": "@jupyter-widgets/controls",
     "model_module_version": "1.5.0",
     "model_name": "HTMLModel",
     "state": {
      "_dom_classes": [],
      "_model_module": "@jupyter-widgets/controls",
      "_model_module_version": "1.5.0",
      "_model_name": "HTMLModel",
      "_view_count": null,
      "_view_module": "@jupyter-widgets/controls",
      "_view_module_version": "1.5.0",
      "_view_name": "HTMLView",
      "description": "",
      "description_tooltip": null,
      "layout": "IPY_MODEL_d1114a4dcf5a4d69afc322876373cb9f",
      "placeholder": "​",
      "style": "IPY_MODEL_60423d12710942019e3357f89ac7f7bc",
      "value": "100%"
     }
    },
    "25aba69a1b774a6687716b1135fb1e20": {
     "model_module": "@jupyter-widgets/base",
     "model_module_version": "1.2.0",
     "model_name": "LayoutModel",
     "state": {
      "_model_module": "@jupyter-widgets/base",
      "_model_module_version": "1.2.0",
      "_model_name": "LayoutModel",
      "_view_count": null,
      "_view_module": "@jupyter-widgets/base",
      "_view_module_version": "1.2.0",
      "_view_name": "LayoutView",
      "align_content": null,
      "align_items": null,
      "align_self": null,
      "border": null,
      "bottom": null,
      "display": null,
      "flex": null,
      "flex_flow": null,
      "grid_area": null,
      "grid_auto_columns": null,
      "grid_auto_flow": null,
      "grid_auto_rows": null,
      "grid_column": null,
      "grid_gap": null,
      "grid_row": null,
      "grid_template_areas": null,
      "grid_template_columns": null,
      "grid_template_rows": null,
      "height": null,
      "justify_content": null,
      "justify_items": null,
      "left": null,
      "margin": null,
      "max_height": null,
      "max_width": null,
      "min_height": null,
      "min_width": null,
      "object_fit": null,
      "object_position": null,
      "order": null,
      "overflow": null,
      "overflow_x": null,
      "overflow_y": null,
      "padding": null,
      "right": null,
      "top": null,
      "visibility": null,
      "width": null
     }
    },
    "26744eace84e42a391e81ba28aa8dfdc": {
     "model_module": "@jupyter-widgets/base",
     "model_module_version": "1.2.0",
     "model_name": "LayoutModel",
     "state": {
      "_model_module": "@jupyter-widgets/base",
      "_model_module_version": "1.2.0",
      "_model_name": "LayoutModel",
      "_view_count": null,
      "_view_module": "@jupyter-widgets/base",
      "_view_module_version": "1.2.0",
      "_view_name": "LayoutView",
      "align_content": null,
      "align_items": null,
      "align_self": null,
      "border": null,
      "bottom": null,
      "display": null,
      "flex": null,
      "flex_flow": null,
      "grid_area": null,
      "grid_auto_columns": null,
      "grid_auto_flow": null,
      "grid_auto_rows": null,
      "grid_column": null,
      "grid_gap": null,
      "grid_row": null,
      "grid_template_areas": null,
      "grid_template_columns": null,
      "grid_template_rows": null,
      "height": null,
      "justify_content": null,
      "justify_items": null,
      "left": null,
      "margin": null,
      "max_height": null,
      "max_width": null,
      "min_height": null,
      "min_width": null,
      "object_fit": null,
      "object_position": null,
      "order": null,
      "overflow": null,
      "overflow_x": null,
      "overflow_y": null,
      "padding": null,
      "right": null,
      "top": null,
      "visibility": null,
      "width": null
     }
    },
    "299377f0df9443d6b5625ddcfc7c0f5d": {
     "model_module": "@jupyter-widgets/base",
     "model_module_version": "1.2.0",
     "model_name": "LayoutModel",
     "state": {
      "_model_module": "@jupyter-widgets/base",
      "_model_module_version": "1.2.0",
      "_model_name": "LayoutModel",
      "_view_count": null,
      "_view_module": "@jupyter-widgets/base",
      "_view_module_version": "1.2.0",
      "_view_name": "LayoutView",
      "align_content": null,
      "align_items": null,
      "align_self": null,
      "border": null,
      "bottom": null,
      "display": null,
      "flex": null,
      "flex_flow": null,
      "grid_area": null,
      "grid_auto_columns": null,
      "grid_auto_flow": null,
      "grid_auto_rows": null,
      "grid_column": null,
      "grid_gap": null,
      "grid_row": null,
      "grid_template_areas": null,
      "grid_template_columns": null,
      "grid_template_rows": null,
      "height": null,
      "justify_content": null,
      "justify_items": null,
      "left": null,
      "margin": null,
      "max_height": null,
      "max_width": null,
      "min_height": null,
      "min_width": null,
      "object_fit": null,
      "object_position": null,
      "order": null,
      "overflow": null,
      "overflow_x": null,
      "overflow_y": null,
      "padding": null,
      "right": null,
      "top": null,
      "visibility": null,
      "width": null
     }
    },
    "2a4ad9344c9f4e67bb9344d8be9daa9c": {
     "model_module": "@jupyter-widgets/controls",
     "model_module_version": "1.5.0",
     "model_name": "HBoxModel",
     "state": {
      "_dom_classes": [],
      "_model_module": "@jupyter-widgets/controls",
      "_model_module_version": "1.5.0",
      "_model_name": "HBoxModel",
      "_view_count": null,
      "_view_module": "@jupyter-widgets/controls",
      "_view_module_version": "1.5.0",
      "_view_name": "HBoxView",
      "box_style": "",
      "children": [
       "IPY_MODEL_158bb04128f34a2895d64f4d9381064d",
       "IPY_MODEL_630192fcfef140a59d4a84c661e42a8c",
       "IPY_MODEL_1177ec43638742e695d66c3aacbebccf"
      ],
      "layout": "IPY_MODEL_af0d88d26ef94b03b5b66a502c69978a"
     }
    },
    "2b99a57c65b34028af1f3b85d438867f": {
     "model_module": "@jupyter-widgets/controls",
     "model_module_version": "1.5.0",
     "model_name": "DescriptionStyleModel",
     "state": {
      "_model_module": "@jupyter-widgets/controls",
      "_model_module_version": "1.5.0",
      "_model_name": "DescriptionStyleModel",
      "_view_count": null,
      "_view_module": "@jupyter-widgets/base",
      "_view_module_version": "1.2.0",
      "_view_name": "StyleView",
      "description_width": ""
     }
    },
    "2c206ded35dc4a48afb5121d9043c15e": {
     "model_module": "@jupyter-widgets/base",
     "model_module_version": "1.2.0",
     "model_name": "LayoutModel",
     "state": {
      "_model_module": "@jupyter-widgets/base",
      "_model_module_version": "1.2.0",
      "_model_name": "LayoutModel",
      "_view_count": null,
      "_view_module": "@jupyter-widgets/base",
      "_view_module_version": "1.2.0",
      "_view_name": "LayoutView",
      "align_content": null,
      "align_items": null,
      "align_self": null,
      "border": null,
      "bottom": null,
      "display": null,
      "flex": null,
      "flex_flow": null,
      "grid_area": null,
      "grid_auto_columns": null,
      "grid_auto_flow": null,
      "grid_auto_rows": null,
      "grid_column": null,
      "grid_gap": null,
      "grid_row": null,
      "grid_template_areas": null,
      "grid_template_columns": null,
      "grid_template_rows": null,
      "height": null,
      "justify_content": null,
      "justify_items": null,
      "left": null,
      "margin": null,
      "max_height": null,
      "max_width": null,
      "min_height": null,
      "min_width": null,
      "object_fit": null,
      "object_position": null,
      "order": null,
      "overflow": null,
      "overflow_x": null,
      "overflow_y": null,
      "padding": null,
      "right": null,
      "top": null,
      "visibility": null,
      "width": null
     }
    },
    "2eaaad1d258b49fd90706a7b724078b0": {
     "model_module": "@jupyter-widgets/base",
     "model_module_version": "1.2.0",
     "model_name": "LayoutModel",
     "state": {
      "_model_module": "@jupyter-widgets/base",
      "_model_module_version": "1.2.0",
      "_model_name": "LayoutModel",
      "_view_count": null,
      "_view_module": "@jupyter-widgets/base",
      "_view_module_version": "1.2.0",
      "_view_name": "LayoutView",
      "align_content": null,
      "align_items": null,
      "align_self": null,
      "border": null,
      "bottom": null,
      "display": null,
      "flex": null,
      "flex_flow": null,
      "grid_area": null,
      "grid_auto_columns": null,
      "grid_auto_flow": null,
      "grid_auto_rows": null,
      "grid_column": null,
      "grid_gap": null,
      "grid_row": null,
      "grid_template_areas": null,
      "grid_template_columns": null,
      "grid_template_rows": null,
      "height": null,
      "justify_content": null,
      "justify_items": null,
      "left": null,
      "margin": null,
      "max_height": null,
      "max_width": null,
      "min_height": null,
      "min_width": null,
      "object_fit": null,
      "object_position": null,
      "order": null,
      "overflow": null,
      "overflow_x": null,
      "overflow_y": null,
      "padding": null,
      "right": null,
      "top": null,
      "visibility": null,
      "width": null
     }
    },
    "300dc104db0542df81a0d98235e0cdc8": {
     "model_module": "@jupyter-widgets/base",
     "model_module_version": "1.2.0",
     "model_name": "LayoutModel",
     "state": {
      "_model_module": "@jupyter-widgets/base",
      "_model_module_version": "1.2.0",
      "_model_name": "LayoutModel",
      "_view_count": null,
      "_view_module": "@jupyter-widgets/base",
      "_view_module_version": "1.2.0",
      "_view_name": "LayoutView",
      "align_content": null,
      "align_items": null,
      "align_self": null,
      "border": null,
      "bottom": null,
      "display": null,
      "flex": null,
      "flex_flow": null,
      "grid_area": null,
      "grid_auto_columns": null,
      "grid_auto_flow": null,
      "grid_auto_rows": null,
      "grid_column": null,
      "grid_gap": null,
      "grid_row": null,
      "grid_template_areas": null,
      "grid_template_columns": null,
      "grid_template_rows": null,
      "height": null,
      "justify_content": null,
      "justify_items": null,
      "left": null,
      "margin": null,
      "max_height": null,
      "max_width": null,
      "min_height": null,
      "min_width": null,
      "object_fit": null,
      "object_position": null,
      "order": null,
      "overflow": null,
      "overflow_x": null,
      "overflow_y": null,
      "padding": null,
      "right": null,
      "top": null,
      "visibility": null,
      "width": null
     }
    },
    "3381b28767a44b83a5431f875c0eb227": {
     "model_module": "@jupyter-widgets/controls",
     "model_module_version": "1.5.0",
     "model_name": "FloatProgressModel",
     "state": {
      "_dom_classes": [],
      "_model_module": "@jupyter-widgets/controls",
      "_model_module_version": "1.5.0",
      "_model_name": "FloatProgressModel",
      "_view_count": null,
      "_view_module": "@jupyter-widgets/controls",
      "_view_module_version": "1.5.0",
      "_view_name": "ProgressView",
      "bar_style": "success",
      "description": "",
      "description_tooltip": null,
      "layout": "IPY_MODEL_ca232c774a3441cb8a3cab1d4c66352b",
      "max": 4,
      "min": 0,
      "orientation": "horizontal",
      "style": "IPY_MODEL_0d4351c63e9a4e33996ab69ac2e3c2f1",
      "value": 4
     }
    },
    "33df725f64a644b9ab51df7fdcdf05eb": {
     "model_module": "@jupyter-widgets/controls",
     "model_module_version": "1.5.0",
     "model_name": "ProgressStyleModel",
     "state": {
      "_model_module": "@jupyter-widgets/controls",
      "_model_module_version": "1.5.0",
      "_model_name": "ProgressStyleModel",
      "_view_count": null,
      "_view_module": "@jupyter-widgets/base",
      "_view_module_version": "1.2.0",
      "_view_name": "StyleView",
      "bar_color": null,
      "description_width": ""
     }
    },
    "356e871a8d104738811b30602fa7b2e7": {
     "model_module": "@jupyter-widgets/controls",
     "model_module_version": "1.5.0",
     "model_name": "DescriptionStyleModel",
     "state": {
      "_model_module": "@jupyter-widgets/controls",
      "_model_module_version": "1.5.0",
      "_model_name": "DescriptionStyleModel",
      "_view_count": null,
      "_view_module": "@jupyter-widgets/base",
      "_view_module_version": "1.2.0",
      "_view_name": "StyleView",
      "description_width": ""
     }
    },
    "393586315ffe4517892438475a4515fe": {
     "model_module": "@jupyter-widgets/controls",
     "model_module_version": "1.5.0",
     "model_name": "HTMLModel",
     "state": {
      "_dom_classes": [],
      "_model_module": "@jupyter-widgets/controls",
      "_model_module_version": "1.5.0",
      "_model_name": "HTMLModel",
      "_view_count": null,
      "_view_module": "@jupyter-widgets/controls",
      "_view_module_version": "1.5.0",
      "_view_name": "HTMLView",
      "description": "",
      "description_tooltip": null,
      "layout": "IPY_MODEL_f89679319faa49728b8c9e981a911ce1",
      "placeholder": "​",
      "style": "IPY_MODEL_67c51a314b474a9d8cdf0c75ed5fda52",
      "value": "Fetching 4 files: 100%"
     }
    },
    "3b4da930211b44a29a386116baea5094": {
     "model_module": "@jupyter-widgets/controls",
     "model_module_version": "1.5.0",
     "model_name": "FloatProgressModel",
     "state": {
      "_dom_classes": [],
      "_model_module": "@jupyter-widgets/controls",
      "_model_module_version": "1.5.0",
      "_model_name": "FloatProgressModel",
      "_view_count": null,
      "_view_module": "@jupyter-widgets/controls",
      "_view_module_version": "1.5.0",
      "_view_name": "ProgressView",
      "bar_style": "success",
      "description": "",
      "description_tooltip": null,
      "layout": "IPY_MODEL_862b40336fca4a7eb6558cebf3341453",
      "max": 1183665484,
      "min": 0,
      "orientation": "horizontal",
      "style": "IPY_MODEL_65781bb44ca4407fa3350058823411fb",
      "value": 1183665484
     }
    },
    "3ba7ba3a082e4279a98d383a422dcfc9": {
     "model_module": "@jupyter-widgets/controls",
     "model_module_version": "1.5.0",
     "model_name": "ProgressStyleModel",
     "state": {
      "_model_module": "@jupyter-widgets/controls",
      "_model_module_version": "1.5.0",
      "_model_name": "ProgressStyleModel",
      "_view_count": null,
      "_view_module": "@jupyter-widgets/base",
      "_view_module_version": "1.2.0",
      "_view_name": "StyleView",
      "bar_color": null,
      "description_width": ""
     }
    },
    "3d43b5a04194495b9c338ba3f5d5ba18": {
     "model_module": "@jupyter-widgets/controls",
     "model_module_version": "1.5.0",
     "model_name": "ProgressStyleModel",
     "state": {
      "_model_module": "@jupyter-widgets/controls",
      "_model_module_version": "1.5.0",
      "_model_name": "ProgressStyleModel",
      "_view_count": null,
      "_view_module": "@jupyter-widgets/base",
      "_view_module_version": "1.2.0",
      "_view_name": "StyleView",
      "bar_color": null,
      "description_width": ""
     }
    },
    "3e1bf1b04faf455bb90eb46f3a430197": {
     "model_module": "@jupyter-widgets/base",
     "model_module_version": "1.2.0",
     "model_name": "LayoutModel",
     "state": {
      "_model_module": "@jupyter-widgets/base",
      "_model_module_version": "1.2.0",
      "_model_name": "LayoutModel",
      "_view_count": null,
      "_view_module": "@jupyter-widgets/base",
      "_view_module_version": "1.2.0",
      "_view_name": "LayoutView",
      "align_content": null,
      "align_items": null,
      "align_self": null,
      "border": null,
      "bottom": null,
      "display": null,
      "flex": null,
      "flex_flow": null,
      "grid_area": null,
      "grid_auto_columns": null,
      "grid_auto_flow": null,
      "grid_auto_rows": null,
      "grid_column": null,
      "grid_gap": null,
      "grid_row": null,
      "grid_template_areas": null,
      "grid_template_columns": null,
      "grid_template_rows": null,
      "height": null,
      "justify_content": null,
      "justify_items": null,
      "left": null,
      "margin": null,
      "max_height": null,
      "max_width": null,
      "min_height": null,
      "min_width": null,
      "object_fit": null,
      "object_position": null,
      "order": null,
      "overflow": null,
      "overflow_x": null,
      "overflow_y": null,
      "padding": null,
      "right": null,
      "top": null,
      "visibility": null,
      "width": null
     }
    },
    "407f8bed081f4aaa97ede2f9604b6492": {
     "model_module": "@jupyter-widgets/controls",
     "model_module_version": "1.5.0",
     "model_name": "FloatProgressModel",
     "state": {
      "_dom_classes": [],
      "_model_module": "@jupyter-widgets/controls",
      "_model_module_version": "1.5.0",
      "_model_name": "FloatProgressModel",
      "_view_count": null,
      "_view_module": "@jupyter-widgets/controls",
      "_view_module_version": "1.5.0",
      "_view_name": "ProgressView",
      "bar_style": "success",
      "description": "",
      "description_tooltip": null,
      "layout": "IPY_MODEL_0c4417399bda47549d29525a82c7617a",
      "max": 5,
      "min": 0,
      "orientation": "horizontal",
      "style": "IPY_MODEL_ecd096bf38b14c2cbf5b03264b2a8ecd",
      "value": 5
     }
    },
    "40fa1c2c1fdb40cb8a339bb4f3ba83e9": {
     "model_module": "@jupyter-widgets/base",
     "model_module_version": "1.2.0",
     "model_name": "LayoutModel",
     "state": {
      "_model_module": "@jupyter-widgets/base",
      "_model_module_version": "1.2.0",
      "_model_name": "LayoutModel",
      "_view_count": null,
      "_view_module": "@jupyter-widgets/base",
      "_view_module_version": "1.2.0",
      "_view_name": "LayoutView",
      "align_content": null,
      "align_items": null,
      "align_self": null,
      "border": null,
      "bottom": null,
      "display": null,
      "flex": null,
      "flex_flow": null,
      "grid_area": null,
      "grid_auto_columns": null,
      "grid_auto_flow": null,
      "grid_auto_rows": null,
      "grid_column": null,
      "grid_gap": null,
      "grid_row": null,
      "grid_template_areas": null,
      "grid_template_columns": null,
      "grid_template_rows": null,
      "height": null,
      "justify_content": null,
      "justify_items": null,
      "left": null,
      "margin": null,
      "max_height": null,
      "max_width": null,
      "min_height": null,
      "min_width": null,
      "object_fit": null,
      "object_position": null,
      "order": null,
      "overflow": null,
      "overflow_x": null,
      "overflow_y": null,
      "padding": null,
      "right": null,
      "top": null,
      "visibility": null,
      "width": null
     }
    },
    "43714ab73ceb4e68b26ba9fa6388ffe1": {
     "model_module": "@jupyter-widgets/controls",
     "model_module_version": "1.5.0",
     "model_name": "FloatProgressModel",
     "state": {
      "_dom_classes": [],
      "_model_module": "@jupyter-widgets/controls",
      "_model_module_version": "1.5.0",
      "_model_name": "FloatProgressModel",
      "_view_count": null,
      "_view_module": "@jupyter-widgets/controls",
      "_view_module_version": "1.5.0",
      "_view_name": "ProgressView",
      "bar_style": "success",
      "description": "",
      "description_tooltip": null,
      "layout": "IPY_MODEL_0e2af0d279344422958ae375cfab0934",
      "max": 50,
      "min": 0,
      "orientation": "horizontal",
      "style": "IPY_MODEL_cbdf3bff447143a694d6f51247505fd3",
      "value": 50
     }
    },
    "467cdc71a1d445e8b533ea63989c93d0": {
     "model_module": "@jupyter-widgets/base",
     "model_module_version": "1.2.0",
     "model_name": "LayoutModel",
     "state": {
      "_model_module": "@jupyter-widgets/base",
      "_model_module_version": "1.2.0",
      "_model_name": "LayoutModel",
      "_view_count": null,
      "_view_module": "@jupyter-widgets/base",
      "_view_module_version": "1.2.0",
      "_view_name": "LayoutView",
      "align_content": null,
      "align_items": null,
      "align_self": null,
      "border": null,
      "bottom": null,
      "display": null,
      "flex": null,
      "flex_flow": null,
      "grid_area": null,
      "grid_auto_columns": null,
      "grid_auto_flow": null,
      "grid_auto_rows": null,
      "grid_column": null,
      "grid_gap": null,
      "grid_row": null,
      "grid_template_areas": null,
      "grid_template_columns": null,
      "grid_template_rows": null,
      "height": null,
      "justify_content": null,
      "justify_items": null,
      "left": null,
      "margin": null,
      "max_height": null,
      "max_width": null,
      "min_height": null,
      "min_width": null,
      "object_fit": null,
      "object_position": null,
      "order": null,
      "overflow": null,
      "overflow_x": null,
      "overflow_y": null,
      "padding": null,
      "right": null,
      "top": null,
      "visibility": null,
      "width": null
     }
    },
    "48433cec2434499bbb2c43b3df004e22": {
     "model_module": "@jupyter-widgets/base",
     "model_module_version": "1.2.0",
     "model_name": "LayoutModel",
     "state": {
      "_model_module": "@jupyter-widgets/base",
      "_model_module_version": "1.2.0",
      "_model_name": "LayoutModel",
      "_view_count": null,
      "_view_module": "@jupyter-widgets/base",
      "_view_module_version": "1.2.0",
      "_view_name": "LayoutView",
      "align_content": null,
      "align_items": null,
      "align_self": null,
      "border": null,
      "bottom": null,
      "display": null,
      "flex": null,
      "flex_flow": null,
      "grid_area": null,
      "grid_auto_columns": null,
      "grid_auto_flow": null,
      "grid_auto_rows": null,
      "grid_column": null,
      "grid_gap": null,
      "grid_row": null,
      "grid_template_areas": null,
      "grid_template_columns": null,
      "grid_template_rows": null,
      "height": null,
      "justify_content": null,
      "justify_items": null,
      "left": null,
      "margin": null,
      "max_height": null,
      "max_width": null,
      "min_height": null,
      "min_width": null,
      "object_fit": null,
      "object_position": null,
      "order": null,
      "overflow": null,
      "overflow_x": null,
      "overflow_y": null,
      "padding": null,
      "right": null,
      "top": null,
      "visibility": null,
      "width": null
     }
    },
    "4da83507e156461482bc3b08c3670a55": {
     "model_module": "@jupyter-widgets/controls",
     "model_module_version": "1.5.0",
     "model_name": "HTMLModel",
     "state": {
      "_dom_classes": [],
      "_model_module": "@jupyter-widgets/controls",
      "_model_module_version": "1.5.0",
      "_model_name": "HTMLModel",
      "_view_count": null,
      "_view_module": "@jupyter-widgets/controls",
      "_view_module_version": "1.5.0",
      "_view_name": "HTMLView",
      "description": "",
      "description_tooltip": null,
      "layout": "IPY_MODEL_ef97f34b88d2414c8fd995452fda3459",
      "placeholder": "​",
      "style": "IPY_MODEL_940061667e494a8ca6cf2f7fe269d59f",
      "value": " 50/50 [05:45&lt;00:00,  6.83s/it]"
     }
    },
    "4e9ac322d6bf4428bb4f47d4dda2e65f": {
     "model_module": "@jupyter-widgets/controls",
     "model_module_version": "1.5.0",
     "model_name": "DescriptionStyleModel",
     "state": {
      "_model_module": "@jupyter-widgets/controls",
      "_model_module_version": "1.5.0",
      "_model_name": "DescriptionStyleModel",
      "_view_count": null,
      "_view_module": "@jupyter-widgets/base",
      "_view_module_version": "1.2.0",
      "_view_name": "StyleView",
      "description_width": ""
     }
    },
    "50ee75c4ed6d4fbf99838d946455df56": {
     "model_module": "@jupyter-widgets/controls",
     "model_module_version": "1.5.0",
     "model_name": "HTMLModel",
     "state": {
      "_dom_classes": [],
      "_model_module": "@jupyter-widgets/controls",
      "_model_module_version": "1.5.0",
      "_model_name": "HTMLModel",
      "_view_count": null,
      "_view_module": "@jupyter-widgets/controls",
      "_view_module_version": "1.5.0",
      "_view_name": "HTMLView",
      "description": "",
      "description_tooltip": null,
      "layout": "IPY_MODEL_48433cec2434499bbb2c43b3df004e22",
      "placeholder": "​",
      "style": "IPY_MODEL_bf637ee3501d4a39b852fc38ef46e7e4",
      "value": "scheduler/scheduler_config.json: 100%"
     }
    },
    "5521fa04bfbf400c865118d35fe697bf": {
     "model_module": "@jupyter-widgets/controls",
     "model_module_version": "1.5.0",
     "model_name": "DescriptionStyleModel",
     "state": {
      "_model_module": "@jupyter-widgets/controls",
      "_model_module_version": "1.5.0",
      "_model_name": "DescriptionStyleModel",
      "_view_count": null,
      "_view_module": "@jupyter-widgets/base",
      "_view_module_version": "1.2.0",
      "_view_name": "StyleView",
      "description_width": ""
     }
    },
    "55c9b7b497644d8c960b81ae801d160f": {
     "model_module": "@jupyter-widgets/controls",
     "model_module_version": "1.5.0",
     "model_name": "FloatProgressModel",
     "state": {
      "_dom_classes": [],
      "_model_module": "@jupyter-widgets/controls",
      "_model_module_version": "1.5.0",
      "_model_name": "FloatProgressModel",
      "_view_count": null,
      "_view_module": "@jupyter-widgets/controls",
      "_view_module_version": "1.5.0",
      "_view_name": "ProgressView",
      "bar_style": "success",
      "description": "",
      "description_tooltip": null,
      "layout": "IPY_MODEL_b4be22e633614cd38d8c4bf9c032e147",
      "max": 4,
      "min": 0,
      "orientation": "horizontal",
      "style": "IPY_MODEL_cb94d8122af047b097b50eb5e3d472bd",
      "value": 4
     }
    },
    "5623be3b045e4afb865463263bec1286": {
     "model_module": "@jupyter-widgets/controls",
     "model_module_version": "1.5.0",
     "model_name": "FloatProgressModel",
     "state": {
      "_dom_classes": [],
      "_model_module": "@jupyter-widgets/controls",
      "_model_module_version": "1.5.0",
      "_model_name": "FloatProgressModel",
      "_view_count": null,
      "_view_module": "@jupyter-widgets/controls",
      "_view_module_version": "1.5.0",
      "_view_name": "ProgressView",
      "bar_style": "success",
      "description": "",
      "description_tooltip": null,
      "layout": "IPY_MODEL_79eb9670820148cc9b94247d0b5620ce",
      "max": 7,
      "min": 0,
      "orientation": "horizontal",
      "style": "IPY_MODEL_5cbd022d2bc546828512016fc5efcb47",
      "value": 7
     }
    },
    "568353acde19493cbd09d2d34cc87adf": {
     "model_module": "@jupyter-widgets/controls",
     "model_module_version": "1.5.0",
     "model_name": "HTMLModel",
     "state": {
      "_dom_classes": [],
      "_model_module": "@jupyter-widgets/controls",
      "_model_module_version": "1.5.0",
      "_model_name": "HTMLModel",
      "_view_count": null,
      "_view_module": "@jupyter-widgets/controls",
      "_view_module_version": "1.5.0",
      "_view_name": "HTMLView",
      "description": "",
      "description_tooltip": null,
      "layout": "IPY_MODEL_e88cb545828a4aeb8c600f52a7fe9e20",
      "placeholder": "​",
      "style": "IPY_MODEL_e1f76eb0534e4b499d6ca5d740cf94ff",
      "value": "Loading pipeline components...: 100%"
     }
    },
    "58d9a62b34b2434bba2956e1a8355c63": {
     "model_module": "@jupyter-widgets/base",
     "model_module_version": "1.2.0",
     "model_name": "LayoutModel",
     "state": {
      "_model_module": "@jupyter-widgets/base",
      "_model_module_version": "1.2.0",
      "_model_name": "LayoutModel",
      "_view_count": null,
      "_view_module": "@jupyter-widgets/base",
      "_view_module_version": "1.2.0",
      "_view_name": "LayoutView",
      "align_content": null,
      "align_items": null,
      "align_self": null,
      "border": null,
      "bottom": null,
      "display": null,
      "flex": null,
      "flex_flow": null,
      "grid_area": null,
      "grid_auto_columns": null,
      "grid_auto_flow": null,
      "grid_auto_rows": null,
      "grid_column": null,
      "grid_gap": null,
      "grid_row": null,
      "grid_template_areas": null,
      "grid_template_columns": null,
      "grid_template_rows": null,
      "height": null,
      "justify_content": null,
      "justify_items": null,
      "left": null,
      "margin": null,
      "max_height": null,
      "max_width": null,
      "min_height": null,
      "min_width": null,
      "object_fit": null,
      "object_position": null,
      "order": null,
      "overflow": null,
      "overflow_x": null,
      "overflow_y": null,
      "padding": null,
      "right": null,
      "top": null,
      "visibility": null,
      "width": null
     }
    },
    "59052209a73746469dadb588324ee3c1": {
     "model_module": "@jupyter-widgets/controls",
     "model_module_version": "1.5.0",
     "model_name": "DescriptionStyleModel",
     "state": {
      "_model_module": "@jupyter-widgets/controls",
      "_model_module_version": "1.5.0",
      "_model_name": "DescriptionStyleModel",
      "_view_count": null,
      "_view_module": "@jupyter-widgets/base",
      "_view_module_version": "1.2.0",
      "_view_name": "StyleView",
      "description_width": ""
     }
    },
    "5bc3e51821dc4124999924a61c610694": {
     "model_module": "@jupyter-widgets/controls",
     "model_module_version": "1.5.0",
     "model_name": "HTMLModel",
     "state": {
      "_dom_classes": [],
      "_model_module": "@jupyter-widgets/controls",
      "_model_module_version": "1.5.0",
      "_model_name": "HTMLModel",
      "_view_count": null,
      "_view_module": "@jupyter-widgets/controls",
      "_view_module_version": "1.5.0",
      "_view_name": "HTMLView",
      "description": "",
      "description_tooltip": null,
      "layout": "IPY_MODEL_91d5d74d92d64cbdb87c9eaa12dd856f",
      "placeholder": "​",
      "style": "IPY_MODEL_7cb930575f8647a2bcf73d24231bef5e",
      "value": "diffusion_pytorch_model.fp16.safetensors: 100%"
     }
    },
    "5cbd022d2bc546828512016fc5efcb47": {
     "model_module": "@jupyter-widgets/controls",
     "model_module_version": "1.5.0",
     "model_name": "ProgressStyleModel",
     "state": {
      "_model_module": "@jupyter-widgets/controls",
      "_model_module_version": "1.5.0",
      "_model_name": "ProgressStyleModel",
      "_view_count": null,
      "_view_module": "@jupyter-widgets/base",
      "_view_module_version": "1.2.0",
      "_view_name": "StyleView",
      "bar_color": null,
      "description_width": ""
     }
    },
    "5d87e6e7d3b6457bae3f721a27f0ba5e": {
     "model_module": "@jupyter-widgets/controls",
     "model_module_version": "1.5.0",
     "model_name": "HBoxModel",
     "state": {
      "_dom_classes": [],
      "_model_module": "@jupyter-widgets/controls",
      "_model_module_version": "1.5.0",
      "_model_name": "HBoxModel",
      "_view_count": null,
      "_view_module": "@jupyter-widgets/controls",
      "_view_module_version": "1.5.0",
      "_view_name": "HBoxView",
      "box_style": "",
      "children": [
       "IPY_MODEL_393586315ffe4517892438475a4515fe",
       "IPY_MODEL_55c9b7b497644d8c960b81ae801d160f",
       "IPY_MODEL_11513858627549caaf56ac2e1b36bc54"
      ],
      "layout": "IPY_MODEL_26744eace84e42a391e81ba28aa8dfdc"
     }
    },
    "600c88529b2c4f59b6b782ab6edd2dc8": {
     "model_module": "@jupyter-widgets/base",
     "model_module_version": "1.2.0",
     "model_name": "LayoutModel",
     "state": {
      "_model_module": "@jupyter-widgets/base",
      "_model_module_version": "1.2.0",
      "_model_name": "LayoutModel",
      "_view_count": null,
      "_view_module": "@jupyter-widgets/base",
      "_view_module_version": "1.2.0",
      "_view_name": "LayoutView",
      "align_content": null,
      "align_items": null,
      "align_self": null,
      "border": null,
      "bottom": null,
      "display": null,
      "flex": null,
      "flex_flow": null,
      "grid_area": null,
      "grid_auto_columns": null,
      "grid_auto_flow": null,
      "grid_auto_rows": null,
      "grid_column": null,
      "grid_gap": null,
      "grid_row": null,
      "grid_template_areas": null,
      "grid_template_columns": null,
      "grid_template_rows": null,
      "height": null,
      "justify_content": null,
      "justify_items": null,
      "left": null,
      "margin": null,
      "max_height": null,
      "max_width": null,
      "min_height": null,
      "min_width": null,
      "object_fit": null,
      "object_position": null,
      "order": null,
      "overflow": null,
      "overflow_x": null,
      "overflow_y": null,
      "padding": null,
      "right": null,
      "top": null,
      "visibility": null,
      "width": null
     }
    },
    "60423d12710942019e3357f89ac7f7bc": {
     "model_module": "@jupyter-widgets/controls",
     "model_module_version": "1.5.0",
     "model_name": "DescriptionStyleModel",
     "state": {
      "_model_module": "@jupyter-widgets/controls",
      "_model_module_version": "1.5.0",
      "_model_name": "DescriptionStyleModel",
      "_view_count": null,
      "_view_module": "@jupyter-widgets/base",
      "_view_module_version": "1.2.0",
      "_view_name": "StyleView",
      "description_width": ""
     }
    },
    "6048f04d9ef6426688d7906758bb3a0d": {
     "model_module": "@jupyter-widgets/base",
     "model_module_version": "1.2.0",
     "model_name": "LayoutModel",
     "state": {
      "_model_module": "@jupyter-widgets/base",
      "_model_module_version": "1.2.0",
      "_model_name": "LayoutModel",
      "_view_count": null,
      "_view_module": "@jupyter-widgets/base",
      "_view_module_version": "1.2.0",
      "_view_name": "LayoutView",
      "align_content": null,
      "align_items": null,
      "align_self": null,
      "border": null,
      "bottom": null,
      "display": null,
      "flex": null,
      "flex_flow": null,
      "grid_area": null,
      "grid_auto_columns": null,
      "grid_auto_flow": null,
      "grid_auto_rows": null,
      "grid_column": null,
      "grid_gap": null,
      "grid_row": null,
      "grid_template_areas": null,
      "grid_template_columns": null,
      "grid_template_rows": null,
      "height": null,
      "justify_content": null,
      "justify_items": null,
      "left": null,
      "margin": null,
      "max_height": null,
      "max_width": null,
      "min_height": null,
      "min_width": null,
      "object_fit": null,
      "object_position": null,
      "order": null,
      "overflow": null,
      "overflow_x": null,
      "overflow_y": null,
      "padding": null,
      "right": null,
      "top": null,
      "visibility": null,
      "width": null
     }
    },
    "615d4181ddb44df39f6778b901aa8919": {
     "model_module": "@jupyter-widgets/controls",
     "model_module_version": "1.5.0",
     "model_name": "HBoxModel",
     "state": {
      "_dom_classes": [],
      "_model_module": "@jupyter-widgets/controls",
      "_model_module_version": "1.5.0",
      "_model_name": "HBoxModel",
      "_view_count": null,
      "_view_module": "@jupyter-widgets/controls",
      "_view_module_version": "1.5.0",
      "_view_name": "HBoxView",
      "box_style": "",
      "children": [
       "IPY_MODEL_0c6c618dfcbc418aabb8271ea01ae292",
       "IPY_MODEL_9c23dd6d5a7b4adea1beac3ff2711368",
       "IPY_MODEL_6a31c5bf72bf47e8a92d4908b1565df1"
      ],
      "layout": "IPY_MODEL_9902e3e893924b2fac641d314ba13ec2"
     }
    },
    "61642eefdb5d4430b0944c45599c728e": {
     "model_module": "@jupyter-widgets/controls",
     "model_module_version": "1.5.0",
     "model_name": "DescriptionStyleModel",
     "state": {
      "_model_module": "@jupyter-widgets/controls",
      "_model_module_version": "1.5.0",
      "_model_name": "DescriptionStyleModel",
      "_view_count": null,
      "_view_module": "@jupyter-widgets/base",
      "_view_module_version": "1.2.0",
      "_view_name": "StyleView",
      "description_width": ""
     }
    },
    "62732c0c696448638f44d6899690daa9": {
     "model_module": "@jupyter-widgets/controls",
     "model_module_version": "1.5.0",
     "model_name": "ProgressStyleModel",
     "state": {
      "_model_module": "@jupyter-widgets/controls",
      "_model_module_version": "1.5.0",
      "_model_name": "ProgressStyleModel",
      "_view_count": null,
      "_view_module": "@jupyter-widgets/base",
      "_view_module_version": "1.2.0",
      "_view_name": "StyleView",
      "bar_color": null,
      "description_width": ""
     }
    },
    "630192fcfef140a59d4a84c661e42a8c": {
     "model_module": "@jupyter-widgets/controls",
     "model_module_version": "1.5.0",
     "model_name": "FloatProgressModel",
     "state": {
      "_dom_classes": [],
      "_model_module": "@jupyter-widgets/controls",
      "_model_module_version": "1.5.0",
      "_model_name": "FloatProgressModel",
      "_view_count": null,
      "_view_module": "@jupyter-widgets/controls",
      "_view_module_version": "1.5.0",
      "_view_name": "ProgressView",
      "bar_style": "success",
      "description": "",
      "description_tooltip": null,
      "layout": "IPY_MODEL_c787838ac033415b89bdf76185ac1d95",
      "max": 254,
      "min": 0,
      "orientation": "horizontal",
      "style": "IPY_MODEL_dc123354b4fa4f7f8b076ef0c33a44e4",
      "value": 254
     }
    },
    "6315699925034ce29a02e27a547cfad4": {
     "model_module": "@jupyter-widgets/controls",
     "model_module_version": "1.5.0",
     "model_name": "HBoxModel",
     "state": {
      "_dom_classes": [],
      "_model_module": "@jupyter-widgets/controls",
      "_model_module_version": "1.5.0",
      "_model_name": "HBoxModel",
      "_view_count": null,
      "_view_module": "@jupyter-widgets/controls",
      "_view_module_version": "1.5.0",
      "_view_name": "HBoxView",
      "box_style": "",
      "children": [
       "IPY_MODEL_d3c24aa8fadb416482d725a018e276ff",
       "IPY_MODEL_43714ab73ceb4e68b26ba9fa6388ffe1",
       "IPY_MODEL_4da83507e156461482bc3b08c3670a55"
      ],
      "layout": "IPY_MODEL_300dc104db0542df81a0d98235e0cdc8"
     }
    },
    "635940fa48814424806ea6d9e359818b": {
     "model_module": "@jupyter-widgets/base",
     "model_module_version": "1.2.0",
     "model_name": "LayoutModel",
     "state": {
      "_model_module": "@jupyter-widgets/base",
      "_model_module_version": "1.2.0",
      "_model_name": "LayoutModel",
      "_view_count": null,
      "_view_module": "@jupyter-widgets/base",
      "_view_module_version": "1.2.0",
      "_view_name": "LayoutView",
      "align_content": null,
      "align_items": null,
      "align_self": null,
      "border": null,
      "bottom": null,
      "display": null,
      "flex": null,
      "flex_flow": null,
      "grid_area": null,
      "grid_auto_columns": null,
      "grid_auto_flow": null,
      "grid_auto_rows": null,
      "grid_column": null,
      "grid_gap": null,
      "grid_row": null,
      "grid_template_areas": null,
      "grid_template_columns": null,
      "grid_template_rows": null,
      "height": null,
      "justify_content": null,
      "justify_items": null,
      "left": null,
      "margin": null,
      "max_height": null,
      "max_width": null,
      "min_height": null,
      "min_width": null,
      "object_fit": null,
      "object_position": null,
      "order": null,
      "overflow": null,
      "overflow_x": null,
      "overflow_y": null,
      "padding": null,
      "right": null,
      "top": null,
      "visibility": null,
      "width": null
     }
    },
    "652fd30801944aeb8bf01d7fccbb61a9": {
     "model_module": "@jupyter-widgets/base",
     "model_module_version": "1.2.0",
     "model_name": "LayoutModel",
     "state": {
      "_model_module": "@jupyter-widgets/base",
      "_model_module_version": "1.2.0",
      "_model_name": "LayoutModel",
      "_view_count": null,
      "_view_module": "@jupyter-widgets/base",
      "_view_module_version": "1.2.0",
      "_view_name": "LayoutView",
      "align_content": null,
      "align_items": null,
      "align_self": null,
      "border": null,
      "bottom": null,
      "display": null,
      "flex": null,
      "flex_flow": null,
      "grid_area": null,
      "grid_auto_columns": null,
      "grid_auto_flow": null,
      "grid_auto_rows": null,
      "grid_column": null,
      "grid_gap": null,
      "grid_row": null,
      "grid_template_areas": null,
      "grid_template_columns": null,
      "grid_template_rows": null,
      "height": null,
      "justify_content": null,
      "justify_items": null,
      "left": null,
      "margin": null,
      "max_height": null,
      "max_width": null,
      "min_height": null,
      "min_width": null,
      "object_fit": null,
      "object_position": null,
      "order": null,
      "overflow": null,
      "overflow_x": null,
      "overflow_y": null,
      "padding": null,
      "right": null,
      "top": null,
      "visibility": null,
      "width": null
     }
    },
    "65781bb44ca4407fa3350058823411fb": {
     "model_module": "@jupyter-widgets/controls",
     "model_module_version": "1.5.0",
     "model_name": "ProgressStyleModel",
     "state": {
      "_model_module": "@jupyter-widgets/controls",
      "_model_module_version": "1.5.0",
      "_model_name": "ProgressStyleModel",
      "_view_count": null,
      "_view_module": "@jupyter-widgets/base",
      "_view_module_version": "1.2.0",
      "_view_name": "StyleView",
      "bar_color": null,
      "description_width": ""
     }
    },
    "67c51a314b474a9d8cdf0c75ed5fda52": {
     "model_module": "@jupyter-widgets/controls",
     "model_module_version": "1.5.0",
     "model_name": "DescriptionStyleModel",
     "state": {
      "_model_module": "@jupyter-widgets/controls",
      "_model_module_version": "1.5.0",
      "_model_name": "DescriptionStyleModel",
      "_view_count": null,
      "_view_module": "@jupyter-widgets/base",
      "_view_module_version": "1.2.0",
      "_view_name": "StyleView",
      "description_width": ""
     }
    },
    "68fe506cb3e146d38f1307e824b1c4c2": {
     "model_module": "@jupyter-widgets/controls",
     "model_module_version": "1.5.0",
     "model_name": "FloatProgressModel",
     "state": {
      "_dom_classes": [],
      "_model_module": "@jupyter-widgets/controls",
      "_model_module_version": "1.5.0",
      "_model_name": "FloatProgressModel",
      "_view_count": null,
      "_view_module": "@jupyter-widgets/controls",
      "_view_module_version": "1.5.0",
      "_view_name": "ProgressView",
      "bar_style": "success",
      "description": "",
      "description_tooltip": null,
      "layout": "IPY_MODEL_d29519d34c034cba84f776e64367c061",
      "max": 1001,
      "min": 0,
      "orientation": "horizontal",
      "style": "IPY_MODEL_f88ca2e8e72548c4a26f037e77677324",
      "value": 1001
     }
    },
    "69b07faef030446f9e81f116d61a33f2": {
     "model_module": "@jupyter-widgets/controls",
     "model_module_version": "1.5.0",
     "model_name": "FloatProgressModel",
     "state": {
      "_dom_classes": [],
      "_model_module": "@jupyter-widgets/controls",
      "_model_module_version": "1.5.0",
      "_model_name": "FloatProgressModel",
      "_view_count": null,
      "_view_module": "@jupyter-widgets/controls",
      "_view_module_version": "1.5.0",
      "_view_name": "ProgressView",
      "bar_style": "success",
      "description": "",
      "description_tooltip": null,
      "layout": "IPY_MODEL_999ad5e4a6b1466a9b24fbaf876069fb",
      "max": 1830,
      "min": 0,
      "orientation": "horizontal",
      "style": "IPY_MODEL_7b491099f44c43f4bb5d80a7bf183c70",
      "value": 1830
     }
    },
    "6a31c5bf72bf47e8a92d4908b1565df1": {
     "model_module": "@jupyter-widgets/controls",
     "model_module_version": "1.5.0",
     "model_name": "HTMLModel",
     "state": {
      "_dom_classes": [],
      "_model_module": "@jupyter-widgets/controls",
      "_model_module_version": "1.5.0",
      "_model_name": "HTMLModel",
      "_view_count": null,
      "_view_module": "@jupyter-widgets/controls",
      "_view_module_version": "1.5.0",
      "_view_name": "HTMLView",
      "description": "",
      "description_tooltip": null,
      "layout": "IPY_MODEL_600c88529b2c4f59b6b782ab6edd2dc8",
      "placeholder": "​",
      "style": "IPY_MODEL_59052209a73746469dadb588324ee3c1",
      "value": " 2/2 [00:02&lt;00:00,  2.75s/it]"
     }
    },
    "6ac2c844d56f4ff59bf1d5156fc17da0": {
     "model_module": "@jupyter-widgets/base",
     "model_module_version": "1.2.0",
     "model_name": "LayoutModel",
     "state": {
      "_model_module": "@jupyter-widgets/base",
      "_model_module_version": "1.2.0",
      "_model_name": "LayoutModel",
      "_view_count": null,
      "_view_module": "@jupyter-widgets/base",
      "_view_module_version": "1.2.0",
      "_view_name": "LayoutView",
      "align_content": null,
      "align_items": null,
      "align_self": null,
      "border": null,
      "bottom": null,
      "display": null,
      "flex": null,
      "flex_flow": null,
      "grid_area": null,
      "grid_auto_columns": null,
      "grid_auto_flow": null,
      "grid_auto_rows": null,
      "grid_column": null,
      "grid_gap": null,
      "grid_row": null,
      "grid_template_areas": null,
      "grid_template_columns": null,
      "grid_template_rows": null,
      "height": null,
      "justify_content": null,
      "justify_items": null,
      "left": null,
      "margin": null,
      "max_height": null,
      "max_width": null,
      "min_height": null,
      "min_width": null,
      "object_fit": null,
      "object_position": null,
      "order": null,
      "overflow": null,
      "overflow_x": null,
      "overflow_y": null,
      "padding": null,
      "right": null,
      "top": null,
      "visibility": null,
      "width": null
     }
    },
    "6ad169809e2943b9ad9d6db90c8fd132": {
     "model_module": "@jupyter-widgets/base",
     "model_module_version": "1.2.0",
     "model_name": "LayoutModel",
     "state": {
      "_model_module": "@jupyter-widgets/base",
      "_model_module_version": "1.2.0",
      "_model_name": "LayoutModel",
      "_view_count": null,
      "_view_module": "@jupyter-widgets/base",
      "_view_module_version": "1.2.0",
      "_view_name": "LayoutView",
      "align_content": null,
      "align_items": null,
      "align_self": null,
      "border": null,
      "bottom": null,
      "display": null,
      "flex": null,
      "flex_flow": null,
      "grid_area": null,
      "grid_auto_columns": null,
      "grid_auto_flow": null,
      "grid_auto_rows": null,
      "grid_column": null,
      "grid_gap": null,
      "grid_row": null,
      "grid_template_areas": null,
      "grid_template_columns": null,
      "grid_template_rows": null,
      "height": null,
      "justify_content": null,
      "justify_items": null,
      "left": null,
      "margin": null,
      "max_height": null,
      "max_width": null,
      "min_height": null,
      "min_width": null,
      "object_fit": null,
      "object_position": null,
      "order": null,
      "overflow": null,
      "overflow_x": null,
      "overflow_y": null,
      "padding": null,
      "right": null,
      "top": null,
      "visibility": null,
      "width": null
     }
    },
    "6b86b03816b24801925b2bc52e1437fb": {
     "model_module": "@jupyter-widgets/base",
     "model_module_version": "1.2.0",
     "model_name": "LayoutModel",
     "state": {
      "_model_module": "@jupyter-widgets/base",
      "_model_module_version": "1.2.0",
      "_model_name": "LayoutModel",
      "_view_count": null,
      "_view_module": "@jupyter-widgets/base",
      "_view_module_version": "1.2.0",
      "_view_name": "LayoutView",
      "align_content": null,
      "align_items": null,
      "align_self": null,
      "border": null,
      "bottom": null,
      "display": null,
      "flex": null,
      "flex_flow": null,
      "grid_area": null,
      "grid_auto_columns": null,
      "grid_auto_flow": null,
      "grid_auto_rows": null,
      "grid_column": null,
      "grid_gap": null,
      "grid_row": null,
      "grid_template_areas": null,
      "grid_template_columns": null,
      "grid_template_rows": null,
      "height": null,
      "justify_content": null,
      "justify_items": null,
      "left": null,
      "margin": null,
      "max_height": null,
      "max_width": null,
      "min_height": null,
      "min_width": null,
      "object_fit": null,
      "object_position": null,
      "order": null,
      "overflow": null,
      "overflow_x": null,
      "overflow_y": null,
      "padding": null,
      "right": null,
      "top": null,
      "visibility": null,
      "width": null
     }
    },
    "735598d4c2ef4716b2e5c46dc17e83a6": {
     "model_module": "@jupyter-widgets/base",
     "model_module_version": "1.2.0",
     "model_name": "LayoutModel",
     "state": {
      "_model_module": "@jupyter-widgets/base",
      "_model_module_version": "1.2.0",
      "_model_name": "LayoutModel",
      "_view_count": null,
      "_view_module": "@jupyter-widgets/base",
      "_view_module_version": "1.2.0",
      "_view_name": "LayoutView",
      "align_content": null,
      "align_items": null,
      "align_self": null,
      "border": null,
      "bottom": null,
      "display": null,
      "flex": null,
      "flex_flow": null,
      "grid_area": null,
      "grid_auto_columns": null,
      "grid_auto_flow": null,
      "grid_auto_rows": null,
      "grid_column": null,
      "grid_gap": null,
      "grid_row": null,
      "grid_template_areas": null,
      "grid_template_columns": null,
      "grid_template_rows": null,
      "height": null,
      "justify_content": null,
      "justify_items": null,
      "left": null,
      "margin": null,
      "max_height": null,
      "max_width": null,
      "min_height": null,
      "min_width": null,
      "object_fit": null,
      "object_position": null,
      "order": null,
      "overflow": null,
      "overflow_x": null,
      "overflow_y": null,
      "padding": null,
      "right": null,
      "top": null,
      "visibility": null,
      "width": null
     }
    },
    "737dc4a804e94dcf8a8fd9f25996e301": {
     "model_module": "@jupyter-widgets/controls",
     "model_module_version": "1.5.0",
     "model_name": "DescriptionStyleModel",
     "state": {
      "_model_module": "@jupyter-widgets/controls",
      "_model_module_version": "1.5.0",
      "_model_name": "DescriptionStyleModel",
      "_view_count": null,
      "_view_module": "@jupyter-widgets/base",
      "_view_module_version": "1.2.0",
      "_view_name": "StyleView",
      "description_width": ""
     }
    },
    "75558c1d04d0433282403959d990747f": {
     "model_module": "@jupyter-widgets/base",
     "model_module_version": "1.2.0",
     "model_name": "LayoutModel",
     "state": {
      "_model_module": "@jupyter-widgets/base",
      "_model_module_version": "1.2.0",
      "_model_name": "LayoutModel",
      "_view_count": null,
      "_view_module": "@jupyter-widgets/base",
      "_view_module_version": "1.2.0",
      "_view_name": "LayoutView",
      "align_content": null,
      "align_items": null,
      "align_self": null,
      "border": null,
      "bottom": null,
      "display": null,
      "flex": null,
      "flex_flow": null,
      "grid_area": null,
      "grid_auto_columns": null,
      "grid_auto_flow": null,
      "grid_auto_rows": null,
      "grid_column": null,
      "grid_gap": null,
      "grid_row": null,
      "grid_template_areas": null,
      "grid_template_columns": null,
      "grid_template_rows": null,
      "height": null,
      "justify_content": null,
      "justify_items": null,
      "left": null,
      "margin": null,
      "max_height": null,
      "max_width": null,
      "min_height": null,
      "min_width": null,
      "object_fit": null,
      "object_position": null,
      "order": null,
      "overflow": null,
      "overflow_x": null,
      "overflow_y": null,
      "padding": null,
      "right": null,
      "top": null,
      "visibility": null,
      "width": null
     }
    },
    "763385e7672944f4a4746f241cc3dcf6": {
     "model_module": "@jupyter-widgets/base",
     "model_module_version": "1.2.0",
     "model_name": "LayoutModel",
     "state": {
      "_model_module": "@jupyter-widgets/base",
      "_model_module_version": "1.2.0",
      "_model_name": "LayoutModel",
      "_view_count": null,
      "_view_module": "@jupyter-widgets/base",
      "_view_module_version": "1.2.0",
      "_view_name": "LayoutView",
      "align_content": null,
      "align_items": null,
      "align_self": null,
      "border": null,
      "bottom": null,
      "display": null,
      "flex": null,
      "flex_flow": null,
      "grid_area": null,
      "grid_auto_columns": null,
      "grid_auto_flow": null,
      "grid_auto_rows": null,
      "grid_column": null,
      "grid_gap": null,
      "grid_row": null,
      "grid_template_areas": null,
      "grid_template_columns": null,
      "grid_template_rows": null,
      "height": null,
      "justify_content": null,
      "justify_items": null,
      "left": null,
      "margin": null,
      "max_height": null,
      "max_width": null,
      "min_height": null,
      "min_width": null,
      "object_fit": null,
      "object_position": null,
      "order": null,
      "overflow": null,
      "overflow_x": null,
      "overflow_y": null,
      "padding": null,
      "right": null,
      "top": null,
      "visibility": null,
      "width": null
     }
    },
    "767ea391439c40e987833b31d0628aea": {
     "model_module": "@jupyter-widgets/controls",
     "model_module_version": "1.5.0",
     "model_name": "HTMLModel",
     "state": {
      "_dom_classes": [],
      "_model_module": "@jupyter-widgets/controls",
      "_model_module_version": "1.5.0",
      "_model_name": "HTMLModel",
      "_view_count": null,
      "_view_module": "@jupyter-widgets/controls",
      "_view_module_version": "1.5.0",
      "_view_name": "HTMLView",
      "description": "",
      "description_tooltip": null,
      "layout": "IPY_MODEL_bebe6696f9264c8f941729535a8e14fe",
      "placeholder": "​",
      "style": "IPY_MODEL_1953dc5122e24c21a940c7f523e746ff",
      "value": "Loading pipeline components...: 100%"
     }
    },
    "76b9f084e81d4bd1b41dcef68fb7df78": {
     "model_module": "@jupyter-widgets/controls",
     "model_module_version": "1.5.0",
     "model_name": "HBoxModel",
     "state": {
      "_dom_classes": [],
      "_model_module": "@jupyter-widgets/controls",
      "_model_module_version": "1.5.0",
      "_model_name": "HBoxModel",
      "_view_count": null,
      "_view_module": "@jupyter-widgets/controls",
      "_view_module_version": "1.5.0",
      "_view_name": "HBoxView",
      "box_style": "",
      "children": [
       "IPY_MODEL_cbd7ad12a2854a029f10c39bda0e90f7",
       "IPY_MODEL_68fe506cb3e146d38f1307e824b1c4c2",
       "IPY_MODEL_084ecb928326480ba1200f349b055c4d"
      ],
      "layout": "IPY_MODEL_9b4652270e2447658812715af54ae040"
     }
    },
    "79eb9670820148cc9b94247d0b5620ce": {
     "model_module": "@jupyter-widgets/base",
     "model_module_version": "1.2.0",
     "model_name": "LayoutModel",
     "state": {
      "_model_module": "@jupyter-widgets/base",
      "_model_module_version": "1.2.0",
      "_model_name": "LayoutModel",
      "_view_count": null,
      "_view_module": "@jupyter-widgets/base",
      "_view_module_version": "1.2.0",
      "_view_name": "LayoutView",
      "align_content": null,
      "align_items": null,
      "align_self": null,
      "border": null,
      "bottom": null,
      "display": null,
      "flex": null,
      "flex_flow": null,
      "grid_area": null,
      "grid_auto_columns": null,
      "grid_auto_flow": null,
      "grid_auto_rows": null,
      "grid_column": null,
      "grid_gap": null,
      "grid_row": null,
      "grid_template_areas": null,
      "grid_template_columns": null,
      "grid_template_rows": null,
      "height": null,
      "justify_content": null,
      "justify_items": null,
      "left": null,
      "margin": null,
      "max_height": null,
      "max_width": null,
      "min_height": null,
      "min_width": null,
      "object_fit": null,
      "object_position": null,
      "order": null,
      "overflow": null,
      "overflow_x": null,
      "overflow_y": null,
      "padding": null,
      "right": null,
      "top": null,
      "visibility": null,
      "width": null
     }
    },
    "7b2bcae5c7c4491abec0d5da37aa17a6": {
     "model_module": "@jupyter-widgets/controls",
     "model_module_version": "1.5.0",
     "model_name": "HBoxModel",
     "state": {
      "_dom_classes": [],
      "_model_module": "@jupyter-widgets/controls",
      "_model_module_version": "1.5.0",
      "_model_name": "HBoxModel",
      "_view_count": null,
      "_view_module": "@jupyter-widgets/controls",
      "_view_module_version": "1.5.0",
      "_view_name": "HBoxView",
      "box_style": "",
      "children": [
       "IPY_MODEL_5bc3e51821dc4124999924a61c610694",
       "IPY_MODEL_17d0e7b094084e54893120c30ad8449a",
       "IPY_MODEL_0c4c6593f0f1438e8ece6c6285dc2ae7"
      ],
      "layout": "IPY_MODEL_40fa1c2c1fdb40cb8a339bb4f3ba83e9"
     }
    },
    "7b491099f44c43f4bb5d80a7bf183c70": {
     "model_module": "@jupyter-widgets/controls",
     "model_module_version": "1.5.0",
     "model_name": "ProgressStyleModel",
     "state": {
      "_model_module": "@jupyter-widgets/controls",
      "_model_module_version": "1.5.0",
      "_model_name": "ProgressStyleModel",
      "_view_count": null,
      "_view_module": "@jupyter-widgets/base",
      "_view_module_version": "1.2.0",
      "_view_name": "StyleView",
      "bar_color": null,
      "description_width": ""
     }
    },
    "7b55d3a222fd42b48021431333c8e74e": {
     "model_module": "@jupyter-widgets/base",
     "model_module_version": "1.2.0",
     "model_name": "LayoutModel",
     "state": {
      "_model_module": "@jupyter-widgets/base",
      "_model_module_version": "1.2.0",
      "_model_name": "LayoutModel",
      "_view_count": null,
      "_view_module": "@jupyter-widgets/base",
      "_view_module_version": "1.2.0",
      "_view_name": "LayoutView",
      "align_content": null,
      "align_items": null,
      "align_self": null,
      "border": null,
      "bottom": null,
      "display": null,
      "flex": null,
      "flex_flow": null,
      "grid_area": null,
      "grid_auto_columns": null,
      "grid_auto_flow": null,
      "grid_auto_rows": null,
      "grid_column": null,
      "grid_gap": null,
      "grid_row": null,
      "grid_template_areas": null,
      "grid_template_columns": null,
      "grid_template_rows": null,
      "height": null,
      "justify_content": null,
      "justify_items": null,
      "left": null,
      "margin": null,
      "max_height": null,
      "max_width": null,
      "min_height": null,
      "min_width": null,
      "object_fit": null,
      "object_position": null,
      "order": null,
      "overflow": null,
      "overflow_x": null,
      "overflow_y": null,
      "padding": null,
      "right": null,
      "top": null,
      "visibility": null,
      "width": null
     }
    },
    "7cb930575f8647a2bcf73d24231bef5e": {
     "model_module": "@jupyter-widgets/controls",
     "model_module_version": "1.5.0",
     "model_name": "DescriptionStyleModel",
     "state": {
      "_model_module": "@jupyter-widgets/controls",
      "_model_module_version": "1.5.0",
      "_model_name": "DescriptionStyleModel",
      "_view_count": null,
      "_view_module": "@jupyter-widgets/base",
      "_view_module_version": "1.2.0",
      "_view_name": "StyleView",
      "description_width": ""
     }
    },
    "7fb24d08cb0a4ce5b617ccaad31858fe": {
     "model_module": "@jupyter-widgets/base",
     "model_module_version": "1.2.0",
     "model_name": "LayoutModel",
     "state": {
      "_model_module": "@jupyter-widgets/base",
      "_model_module_version": "1.2.0",
      "_model_name": "LayoutModel",
      "_view_count": null,
      "_view_module": "@jupyter-widgets/base",
      "_view_module_version": "1.2.0",
      "_view_name": "LayoutView",
      "align_content": null,
      "align_items": null,
      "align_self": null,
      "border": null,
      "bottom": null,
      "display": null,
      "flex": null,
      "flex_flow": null,
      "grid_area": null,
      "grid_auto_columns": null,
      "grid_auto_flow": null,
      "grid_auto_rows": null,
      "grid_column": null,
      "grid_gap": null,
      "grid_row": null,
      "grid_template_areas": null,
      "grid_template_columns": null,
      "grid_template_rows": null,
      "height": null,
      "justify_content": null,
      "justify_items": null,
      "left": null,
      "margin": null,
      "max_height": null,
      "max_width": null,
      "min_height": null,
      "min_width": null,
      "object_fit": null,
      "object_position": null,
      "order": null,
      "overflow": null,
      "overflow_x": null,
      "overflow_y": null,
      "padding": null,
      "right": null,
      "top": null,
      "visibility": null,
      "width": null
     }
    },
    "817f560889e447a7821f88d342af6489": {
     "model_module": "@jupyter-widgets/controls",
     "model_module_version": "1.5.0",
     "model_name": "HBoxModel",
     "state": {
      "_dom_classes": [],
      "_model_module": "@jupyter-widgets/controls",
      "_model_module_version": "1.5.0",
      "_model_name": "HBoxModel",
      "_view_count": null,
      "_view_module": "@jupyter-widgets/controls",
      "_view_module_version": "1.5.0",
      "_view_name": "HBoxView",
      "box_style": "",
      "children": [
       "IPY_MODEL_cf0dcabf87b941c0ac5fd267f47c4dfa",
       "IPY_MODEL_3381b28767a44b83a5431f875c0eb227",
       "IPY_MODEL_f2631e7ab4a84ef7b45627ca7655bd84"
      ],
      "layout": "IPY_MODEL_b4c1788eefe241ae977063d21cf457e4"
     }
    },
    "8294326fcb884d6390148cf641112639": {
     "model_module": "@jupyter-widgets/controls",
     "model_module_version": "1.5.0",
     "model_name": "DescriptionStyleModel",
     "state": {
      "_model_module": "@jupyter-widgets/controls",
      "_model_module_version": "1.5.0",
      "_model_name": "DescriptionStyleModel",
      "_view_count": null,
      "_view_module": "@jupyter-widgets/base",
      "_view_module_version": "1.2.0",
      "_view_name": "StyleView",
      "description_width": ""
     }
    },
    "82b36337f6084500861a1ea78212e0a8": {
     "model_module": "@jupyter-widgets/controls",
     "model_module_version": "1.5.0",
     "model_name": "HTMLModel",
     "state": {
      "_dom_classes": [],
      "_model_module": "@jupyter-widgets/controls",
      "_model_module_version": "1.5.0",
      "_model_name": "HTMLModel",
      "_view_count": null,
      "_view_module": "@jupyter-widgets/controls",
      "_view_module_version": "1.5.0",
      "_view_name": "HTMLView",
      "description": "",
      "description_tooltip": null,
      "layout": "IPY_MODEL_7fb24d08cb0a4ce5b617ccaad31858fe",
      "placeholder": "​",
      "style": "IPY_MODEL_bca9ca7afab14ff694c80f658cb9cf32",
      "value": "diffusion_pytorch_model.safetensors: 100%"
     }
    },
    "82ecc6406c2b44d98f52d4157e464bc9": {
     "model_module": "@jupyter-widgets/base",
     "model_module_version": "1.2.0",
     "model_name": "LayoutModel",
     "state": {
      "_model_module": "@jupyter-widgets/base",
      "_model_module_version": "1.2.0",
      "_model_name": "LayoutModel",
      "_view_count": null,
      "_view_module": "@jupyter-widgets/base",
      "_view_module_version": "1.2.0",
      "_view_name": "LayoutView",
      "align_content": null,
      "align_items": null,
      "align_self": null,
      "border": null,
      "bottom": null,
      "display": null,
      "flex": null,
      "flex_flow": null,
      "grid_area": null,
      "grid_auto_columns": null,
      "grid_auto_flow": null,
      "grid_auto_rows": null,
      "grid_column": null,
      "grid_gap": null,
      "grid_row": null,
      "grid_template_areas": null,
      "grid_template_columns": null,
      "grid_template_rows": null,
      "height": null,
      "justify_content": null,
      "justify_items": null,
      "left": null,
      "margin": null,
      "max_height": null,
      "max_width": null,
      "min_height": null,
      "min_width": null,
      "object_fit": null,
      "object_position": null,
      "order": null,
      "overflow": null,
      "overflow_x": null,
      "overflow_y": null,
      "padding": null,
      "right": null,
      "top": null,
      "visibility": null,
      "width": null
     }
    },
    "862b40336fca4a7eb6558cebf3341453": {
     "model_module": "@jupyter-widgets/base",
     "model_module_version": "1.2.0",
     "model_name": "LayoutModel",
     "state": {
      "_model_module": "@jupyter-widgets/base",
      "_model_module_version": "1.2.0",
      "_model_name": "LayoutModel",
      "_view_count": null,
      "_view_module": "@jupyter-widgets/base",
      "_view_module_version": "1.2.0",
      "_view_name": "LayoutView",
      "align_content": null,
      "align_items": null,
      "align_self": null,
      "border": null,
      "bottom": null,
      "display": null,
      "flex": null,
      "flex_flow": null,
      "grid_area": null,
      "grid_auto_columns": null,
      "grid_auto_flow": null,
      "grid_auto_rows": null,
      "grid_column": null,
      "grid_gap": null,
      "grid_row": null,
      "grid_template_areas": null,
      "grid_template_columns": null,
      "grid_template_rows": null,
      "height": null,
      "justify_content": null,
      "justify_items": null,
      "left": null,
      "margin": null,
      "max_height": null,
      "max_width": null,
      "min_height": null,
      "min_width": null,
      "object_fit": null,
      "object_position": null,
      "order": null,
      "overflow": null,
      "overflow_x": null,
      "overflow_y": null,
      "padding": null,
      "right": null,
      "top": null,
      "visibility": null,
      "width": null
     }
    },
    "8bdc3605b4434f69a3b5a72af3eaff73": {
     "model_module": "@jupyter-widgets/base",
     "model_module_version": "1.2.0",
     "model_name": "LayoutModel",
     "state": {
      "_model_module": "@jupyter-widgets/base",
      "_model_module_version": "1.2.0",
      "_model_name": "LayoutModel",
      "_view_count": null,
      "_view_module": "@jupyter-widgets/base",
      "_view_module_version": "1.2.0",
      "_view_name": "LayoutView",
      "align_content": null,
      "align_items": null,
      "align_self": null,
      "border": null,
      "bottom": null,
      "display": null,
      "flex": null,
      "flex_flow": null,
      "grid_area": null,
      "grid_auto_columns": null,
      "grid_auto_flow": null,
      "grid_auto_rows": null,
      "grid_column": null,
      "grid_gap": null,
      "grid_row": null,
      "grid_template_areas": null,
      "grid_template_columns": null,
      "grid_template_rows": null,
      "height": null,
      "justify_content": null,
      "justify_items": null,
      "left": null,
      "margin": null,
      "max_height": null,
      "max_width": null,
      "min_height": null,
      "min_width": null,
      "object_fit": null,
      "object_position": null,
      "order": null,
      "overflow": null,
      "overflow_x": null,
      "overflow_y": null,
      "padding": null,
      "right": null,
      "top": null,
      "visibility": null,
      "width": null
     }
    },
    "902eb6c8d8104d918a63e3653bec0892": {
     "model_module": "@jupyter-widgets/base",
     "model_module_version": "1.2.0",
     "model_name": "LayoutModel",
     "state": {
      "_model_module": "@jupyter-widgets/base",
      "_model_module_version": "1.2.0",
      "_model_name": "LayoutModel",
      "_view_count": null,
      "_view_module": "@jupyter-widgets/base",
      "_view_module_version": "1.2.0",
      "_view_name": "LayoutView",
      "align_content": null,
      "align_items": null,
      "align_self": null,
      "border": null,
      "bottom": null,
      "display": null,
      "flex": null,
      "flex_flow": null,
      "grid_area": null,
      "grid_auto_columns": null,
      "grid_auto_flow": null,
      "grid_auto_rows": null,
      "grid_column": null,
      "grid_gap": null,
      "grid_row": null,
      "grid_template_areas": null,
      "grid_template_columns": null,
      "grid_template_rows": null,
      "height": null,
      "justify_content": null,
      "justify_items": null,
      "left": null,
      "margin": null,
      "max_height": null,
      "max_width": null,
      "min_height": null,
      "min_width": null,
      "object_fit": null,
      "object_position": null,
      "order": null,
      "overflow": null,
      "overflow_x": null,
      "overflow_y": null,
      "padding": null,
      "right": null,
      "top": null,
      "visibility": null,
      "width": null
     }
    },
    "917542137a6b4633a1d5c15e181790de": {
     "model_module": "@jupyter-widgets/controls",
     "model_module_version": "1.5.0",
     "model_name": "HTMLModel",
     "state": {
      "_dom_classes": [],
      "_model_module": "@jupyter-widgets/controls",
      "_model_module_version": "1.5.0",
      "_model_name": "HTMLModel",
      "_view_count": null,
      "_view_module": "@jupyter-widgets/controls",
      "_view_module_version": "1.5.0",
      "_view_name": "HTMLView",
      "description": "",
      "description_tooltip": null,
      "layout": "IPY_MODEL_6ad169809e2943b9ad9d6db90c8fd132",
      "placeholder": "​",
      "style": "IPY_MODEL_baa5d4378f814b1aa2c2a567de1110c8",
      "value": " 4/4 [00:00&lt;00:00,  7.19it/s]"
     }
    },
    "91d5d74d92d64cbdb87c9eaa12dd856f": {
     "model_module": "@jupyter-widgets/base",
     "model_module_version": "1.2.0",
     "model_name": "LayoutModel",
     "state": {
      "_model_module": "@jupyter-widgets/base",
      "_model_module_version": "1.2.0",
      "_model_name": "LayoutModel",
      "_view_count": null,
      "_view_module": "@jupyter-widgets/base",
      "_view_module_version": "1.2.0",
      "_view_name": "LayoutView",
      "align_content": null,
      "align_items": null,
      "align_self": null,
      "border": null,
      "bottom": null,
      "display": null,
      "flex": null,
      "flex_flow": null,
      "grid_area": null,
      "grid_auto_columns": null,
      "grid_auto_flow": null,
      "grid_auto_rows": null,
      "grid_column": null,
      "grid_gap": null,
      "grid_row": null,
      "grid_template_areas": null,
      "grid_template_columns": null,
      "grid_template_rows": null,
      "height": null,
      "justify_content": null,
      "justify_items": null,
      "left": null,
      "margin": null,
      "max_height": null,
      "max_width": null,
      "min_height": null,
      "min_width": null,
      "object_fit": null,
      "object_position": null,
      "order": null,
      "overflow": null,
      "overflow_x": null,
      "overflow_y": null,
      "padding": null,
      "right": null,
      "top": null,
      "visibility": null,
      "width": null
     }
    },
    "92a5b01f7bb946e7b8294d1407219817": {
     "model_module": "@jupyter-widgets/controls",
     "model_module_version": "1.5.0",
     "model_name": "DescriptionStyleModel",
     "state": {
      "_model_module": "@jupyter-widgets/controls",
      "_model_module_version": "1.5.0",
      "_model_name": "DescriptionStyleModel",
      "_view_count": null,
      "_view_module": "@jupyter-widgets/base",
      "_view_module_version": "1.2.0",
      "_view_name": "StyleView",
      "description_width": ""
     }
    },
    "93d5dbc80ea2417b8d3879f8a4c7a65f": {
     "model_module": "@jupyter-widgets/controls",
     "model_module_version": "1.5.0",
     "model_name": "HTMLModel",
     "state": {
      "_dom_classes": [],
      "_model_module": "@jupyter-widgets/controls",
      "_model_module_version": "1.5.0",
      "_model_name": "HTMLModel",
      "_view_count": null,
      "_view_module": "@jupyter-widgets/controls",
      "_view_module_version": "1.5.0",
      "_view_name": "HTMLView",
      "description": "",
      "description_tooltip": null,
      "layout": "IPY_MODEL_9709d0b8d3fe4c0eb77c485e1af63dac",
      "placeholder": "​",
      "style": "IPY_MODEL_f8a6ab59b69c49b4a1f9e9ba8a384a9c",
      "value": " 5/5 [00:48&lt;00:00, 13.35s/it]"
     }
    },
    "940061667e494a8ca6cf2f7fe269d59f": {
     "model_module": "@jupyter-widgets/controls",
     "model_module_version": "1.5.0",
     "model_name": "DescriptionStyleModel",
     "state": {
      "_model_module": "@jupyter-widgets/controls",
      "_model_module_version": "1.5.0",
      "_model_name": "DescriptionStyleModel",
      "_view_count": null,
      "_view_module": "@jupyter-widgets/base",
      "_view_module_version": "1.2.0",
      "_view_name": "StyleView",
      "description_width": ""
     }
    },
    "9709d0b8d3fe4c0eb77c485e1af63dac": {
     "model_module": "@jupyter-widgets/base",
     "model_module_version": "1.2.0",
     "model_name": "LayoutModel",
     "state": {
      "_model_module": "@jupyter-widgets/base",
      "_model_module_version": "1.2.0",
      "_model_name": "LayoutModel",
      "_view_count": null,
      "_view_module": "@jupyter-widgets/base",
      "_view_module_version": "1.2.0",
      "_view_name": "LayoutView",
      "align_content": null,
      "align_items": null,
      "align_self": null,
      "border": null,
      "bottom": null,
      "display": null,
      "flex": null,
      "flex_flow": null,
      "grid_area": null,
      "grid_auto_columns": null,
      "grid_auto_flow": null,
      "grid_auto_rows": null,
      "grid_column": null,
      "grid_gap": null,
      "grid_row": null,
      "grid_template_areas": null,
      "grid_template_columns": null,
      "grid_template_rows": null,
      "height": null,
      "justify_content": null,
      "justify_items": null,
      "left": null,
      "margin": null,
      "max_height": null,
      "max_width": null,
      "min_height": null,
      "min_width": null,
      "object_fit": null,
      "object_position": null,
      "order": null,
      "overflow": null,
      "overflow_x": null,
      "overflow_y": null,
      "padding": null,
      "right": null,
      "top": null,
      "visibility": null,
      "width": null
     }
    },
    "986a28e08b2e4a9dacd202b7540854d7": {
     "model_module": "@jupyter-widgets/controls",
     "model_module_version": "1.5.0",
     "model_name": "HBoxModel",
     "state": {
      "_dom_classes": [],
      "_model_module": "@jupyter-widgets/controls",
      "_model_module_version": "1.5.0",
      "_model_name": "HBoxModel",
      "_view_count": null,
      "_view_module": "@jupyter-widgets/controls",
      "_view_module_version": "1.5.0",
      "_view_name": "HBoxView",
      "box_style": "",
      "children": [
       "IPY_MODEL_50ee75c4ed6d4fbf99838d946455df56",
       "IPY_MODEL_0e17054ac69d4ceab8ad21bf750abc42",
       "IPY_MODEL_c7882515706f469e8b20f314a0fed99a"
      ],
      "layout": "IPY_MODEL_a2f76c217864456aa502b61db9fa9ce5"
     }
    },
    "9902e3e893924b2fac641d314ba13ec2": {
     "model_module": "@jupyter-widgets/base",
     "model_module_version": "1.2.0",
     "model_name": "LayoutModel",
     "state": {
      "_model_module": "@jupyter-widgets/base",
      "_model_module_version": "1.2.0",
      "_model_name": "LayoutModel",
      "_view_count": null,
      "_view_module": "@jupyter-widgets/base",
      "_view_module_version": "1.2.0",
      "_view_name": "LayoutView",
      "align_content": null,
      "align_items": null,
      "align_self": null,
      "border": null,
      "bottom": null,
      "display": null,
      "flex": null,
      "flex_flow": null,
      "grid_area": null,
      "grid_auto_columns": null,
      "grid_auto_flow": null,
      "grid_auto_rows": null,
      "grid_column": null,
      "grid_gap": null,
      "grid_row": null,
      "grid_template_areas": null,
      "grid_template_columns": null,
      "grid_template_rows": null,
      "height": null,
      "justify_content": null,
      "justify_items": null,
      "left": null,
      "margin": null,
      "max_height": null,
      "max_width": null,
      "min_height": null,
      "min_width": null,
      "object_fit": null,
      "object_position": null,
      "order": null,
      "overflow": null,
      "overflow_x": null,
      "overflow_y": null,
      "padding": null,
      "right": null,
      "top": null,
      "visibility": null,
      "width": null
     }
    },
    "999ad5e4a6b1466a9b24fbaf876069fb": {
     "model_module": "@jupyter-widgets/base",
     "model_module_version": "1.2.0",
     "model_name": "LayoutModel",
     "state": {
      "_model_module": "@jupyter-widgets/base",
      "_model_module_version": "1.2.0",
      "_model_name": "LayoutModel",
      "_view_count": null,
      "_view_module": "@jupyter-widgets/base",
      "_view_module_version": "1.2.0",
      "_view_name": "LayoutView",
      "align_content": null,
      "align_items": null,
      "align_self": null,
      "border": null,
      "bottom": null,
      "display": null,
      "flex": null,
      "flex_flow": null,
      "grid_area": null,
      "grid_auto_columns": null,
      "grid_auto_flow": null,
      "grid_auto_rows": null,
      "grid_column": null,
      "grid_gap": null,
      "grid_row": null,
      "grid_template_areas": null,
      "grid_template_columns": null,
      "grid_template_rows": null,
      "height": null,
      "justify_content": null,
      "justify_items": null,
      "left": null,
      "margin": null,
      "max_height": null,
      "max_width": null,
      "min_height": null,
      "min_width": null,
      "object_fit": null,
      "object_position": null,
      "order": null,
      "overflow": null,
      "overflow_x": null,
      "overflow_y": null,
      "padding": null,
      "right": null,
      "top": null,
      "visibility": null,
      "width": null
     }
    },
    "9b4652270e2447658812715af54ae040": {
     "model_module": "@jupyter-widgets/base",
     "model_module_version": "1.2.0",
     "model_name": "LayoutModel",
     "state": {
      "_model_module": "@jupyter-widgets/base",
      "_model_module_version": "1.2.0",
      "_model_name": "LayoutModel",
      "_view_count": null,
      "_view_module": "@jupyter-widgets/base",
      "_view_module_version": "1.2.0",
      "_view_name": "LayoutView",
      "align_content": null,
      "align_items": null,
      "align_self": null,
      "border": null,
      "bottom": null,
      "display": null,
      "flex": null,
      "flex_flow": null,
      "grid_area": null,
      "grid_auto_columns": null,
      "grid_auto_flow": null,
      "grid_auto_rows": null,
      "grid_column": null,
      "grid_gap": null,
      "grid_row": null,
      "grid_template_areas": null,
      "grid_template_columns": null,
      "grid_template_rows": null,
      "height": null,
      "justify_content": null,
      "justify_items": null,
      "left": null,
      "margin": null,
      "max_height": null,
      "max_width": null,
      "min_height": null,
      "min_width": null,
      "object_fit": null,
      "object_position": null,
      "order": null,
      "overflow": null,
      "overflow_x": null,
      "overflow_y": null,
      "padding": null,
      "right": null,
      "top": null,
      "visibility": null,
      "width": null
     }
    },
    "9c23dd6d5a7b4adea1beac3ff2711368": {
     "model_module": "@jupyter-widgets/controls",
     "model_module_version": "1.5.0",
     "model_name": "FloatProgressModel",
     "state": {
      "_dom_classes": [],
      "_model_module": "@jupyter-widgets/controls",
      "_model_module_version": "1.5.0",
      "_model_name": "FloatProgressModel",
      "_view_count": null,
      "_view_module": "@jupyter-widgets/controls",
      "_view_module_version": "1.5.0",
      "_view_name": "ProgressView",
      "bar_style": "success",
      "description": "",
      "description_tooltip": null,
      "layout": "IPY_MODEL_635940fa48814424806ea6d9e359818b",
      "max": 2,
      "min": 0,
      "orientation": "horizontal",
      "style": "IPY_MODEL_33df725f64a644b9ab51df7fdcdf05eb",
      "value": 2
     }
    },
    "9c998e5954dc423b9532016d702dbc30": {
     "model_module": "@jupyter-widgets/controls",
     "model_module_version": "1.5.0",
     "model_name": "HTMLModel",
     "state": {
      "_dom_classes": [],
      "_model_module": "@jupyter-widgets/controls",
      "_model_module_version": "1.5.0",
      "_model_name": "HTMLModel",
      "_view_count": null,
      "_view_module": "@jupyter-widgets/controls",
      "_view_module_version": "1.5.0",
      "_view_name": "HTMLView",
      "description": "",
      "description_tooltip": null,
      "layout": "IPY_MODEL_299377f0df9443d6b5625ddcfc7c0f5d",
      "placeholder": "​",
      "style": "IPY_MODEL_8294326fcb884d6390148cf641112639",
      "value": " 1/1 [00:02&lt;00:00,  2.39s/it]"
     }
    },
    "9ed05987be8448afbc9fb18eb4bb7f9d": {
     "model_module": "@jupyter-widgets/controls",
     "model_module_version": "1.5.0",
     "model_name": "HBoxModel",
     "state": {
      "_dom_classes": [],
      "_model_module": "@jupyter-widgets/controls",
      "_model_module_version": "1.5.0",
      "_model_name": "HBoxModel",
      "_view_count": null,
      "_view_module": "@jupyter-widgets/controls",
      "_view_module_version": "1.5.0",
      "_view_name": "HBoxView",
      "box_style": "",
      "children": [
       "IPY_MODEL_21b526de1ab8403ab94425cb9f538505",
       "IPY_MODEL_b09e559b99f348fcb3260188551f9d43",
       "IPY_MODEL_917542137a6b4633a1d5c15e181790de"
      ],
      "layout": "IPY_MODEL_bcb280d17f6e4a519f49ae93a91ee990"
     }
    },
    "a0325787dfe94b3eac3c6ac485a5b38e": {
     "model_module": "@jupyter-widgets/controls",
     "model_module_version": "1.5.0",
     "model_name": "DescriptionStyleModel",
     "state": {
      "_model_module": "@jupyter-widgets/controls",
      "_model_module_version": "1.5.0",
      "_model_name": "DescriptionStyleModel",
      "_view_count": null,
      "_view_module": "@jupyter-widgets/base",
      "_view_module_version": "1.2.0",
      "_view_name": "StyleView",
      "description_width": ""
     }
    },
    "a078b32a87634eb2874757dc598eb63d": {
     "model_module": "@jupyter-widgets/controls",
     "model_module_version": "1.5.0",
     "model_name": "HBoxModel",
     "state": {
      "_dom_classes": [],
      "_model_module": "@jupyter-widgets/controls",
      "_model_module_version": "1.5.0",
      "_model_name": "HBoxModel",
      "_view_count": null,
      "_view_module": "@jupyter-widgets/controls",
      "_view_module_version": "1.5.0",
      "_view_name": "HBoxView",
      "box_style": "",
      "children": [
       "IPY_MODEL_767ea391439c40e987833b31d0628aea",
       "IPY_MODEL_5623be3b045e4afb865463263bec1286",
       "IPY_MODEL_f64b16a1cc0c403090e3af8223a3df3b"
      ],
      "layout": "IPY_MODEL_735598d4c2ef4716b2e5c46dc17e83a6"
     }
    },
    "a1808c9489ea4b398360dc52c9eb548e": {
     "model_module": "@jupyter-widgets/controls",
     "model_module_version": "1.5.0",
     "model_name": "HTMLModel",
     "state": {
      "_dom_classes": [],
      "_model_module": "@jupyter-widgets/controls",
      "_model_module_version": "1.5.0",
      "_model_name": "HTMLModel",
      "_view_count": null,
      "_view_module": "@jupyter-widgets/controls",
      "_view_module_version": "1.5.0",
      "_view_name": "HTMLView",
      "description": "",
      "description_tooltip": null,
      "layout": "IPY_MODEL_467cdc71a1d445e8b533ea63989c93d0",
      "placeholder": "​",
      "style": "IPY_MODEL_dda3cde8b5714923af89cdc0a8735a80",
      "value": "config.json: 100%"
     }
    },
    "a23a0e32937842a0862edb8f6147362c": {
     "model_module": "@jupyter-widgets/controls",
     "model_module_version": "1.5.0",
     "model_name": "FloatProgressModel",
     "state": {
      "_dom_classes": [],
      "_model_module": "@jupyter-widgets/controls",
      "_model_module_version": "1.5.0",
      "_model_name": "FloatProgressModel",
      "_view_count": null,
      "_view_module": "@jupyter-widgets/controls",
      "_view_module_version": "1.5.0",
      "_view_name": "ProgressView",
      "bar_style": "success",
      "description": "",
      "description_tooltip": null,
      "layout": "IPY_MODEL_763385e7672944f4a4746f241cc3dcf6",
      "max": 1,
      "min": 0,
      "orientation": "horizontal",
      "style": "IPY_MODEL_3ba7ba3a082e4279a98d383a422dcfc9",
      "value": 1
     }
    },
    "a2f76c217864456aa502b61db9fa9ce5": {
     "model_module": "@jupyter-widgets/base",
     "model_module_version": "1.2.0",
     "model_name": "LayoutModel",
     "state": {
      "_model_module": "@jupyter-widgets/base",
      "_model_module_version": "1.2.0",
      "_model_name": "LayoutModel",
      "_view_count": null,
      "_view_module": "@jupyter-widgets/base",
      "_view_module_version": "1.2.0",
      "_view_name": "LayoutView",
      "align_content": null,
      "align_items": null,
      "align_self": null,
      "border": null,
      "bottom": null,
      "display": null,
      "flex": null,
      "flex_flow": null,
      "grid_area": null,
      "grid_auto_columns": null,
      "grid_auto_flow": null,
      "grid_auto_rows": null,
      "grid_column": null,
      "grid_gap": null,
      "grid_row": null,
      "grid_template_areas": null,
      "grid_template_columns": null,
      "grid_template_rows": null,
      "height": null,
      "justify_content": null,
      "justify_items": null,
      "left": null,
      "margin": null,
      "max_height": null,
      "max_width": null,
      "min_height": null,
      "min_width": null,
      "object_fit": null,
      "object_position": null,
      "order": null,
      "overflow": null,
      "overflow_x": null,
      "overflow_y": null,
      "padding": null,
      "right": null,
      "top": null,
      "visibility": null,
      "width": null
     }
    },
    "a83e6b605d9a4898b683753721900b61": {
     "model_module": "@jupyter-widgets/base",
     "model_module_version": "1.2.0",
     "model_name": "LayoutModel",
     "state": {
      "_model_module": "@jupyter-widgets/base",
      "_model_module_version": "1.2.0",
      "_model_name": "LayoutModel",
      "_view_count": null,
      "_view_module": "@jupyter-widgets/base",
      "_view_module_version": "1.2.0",
      "_view_name": "LayoutView",
      "align_content": null,
      "align_items": null,
      "align_self": null,
      "border": null,
      "bottom": null,
      "display": null,
      "flex": null,
      "flex_flow": null,
      "grid_area": null,
      "grid_auto_columns": null,
      "grid_auto_flow": null,
      "grid_auto_rows": null,
      "grid_column": null,
      "grid_gap": null,
      "grid_row": null,
      "grid_template_areas": null,
      "grid_template_columns": null,
      "grid_template_rows": null,
      "height": null,
      "justify_content": null,
      "justify_items": null,
      "left": null,
      "margin": null,
      "max_height": null,
      "max_width": null,
      "min_height": null,
      "min_width": null,
      "object_fit": null,
      "object_position": null,
      "order": null,
      "overflow": null,
      "overflow_x": null,
      "overflow_y": null,
      "padding": null,
      "right": null,
      "top": null,
      "visibility": null,
      "width": null
     }
    },
    "aceebb7ca0eb4aa3bd1afe6b1c246999": {
     "model_module": "@jupyter-widgets/controls",
     "model_module_version": "1.5.0",
     "model_name": "DescriptionStyleModel",
     "state": {
      "_model_module": "@jupyter-widgets/controls",
      "_model_module_version": "1.5.0",
      "_model_name": "DescriptionStyleModel",
      "_view_count": null,
      "_view_module": "@jupyter-widgets/base",
      "_view_module_version": "1.2.0",
      "_view_name": "StyleView",
      "description_width": ""
     }
    },
    "af0d88d26ef94b03b5b66a502c69978a": {
     "model_module": "@jupyter-widgets/base",
     "model_module_version": "1.2.0",
     "model_name": "LayoutModel",
     "state": {
      "_model_module": "@jupyter-widgets/base",
      "_model_module_version": "1.2.0",
      "_model_name": "LayoutModel",
      "_view_count": null,
      "_view_module": "@jupyter-widgets/base",
      "_view_module_version": "1.2.0",
      "_view_name": "LayoutView",
      "align_content": null,
      "align_items": null,
      "align_self": null,
      "border": null,
      "bottom": null,
      "display": null,
      "flex": null,
      "flex_flow": null,
      "grid_area": null,
      "grid_auto_columns": null,
      "grid_auto_flow": null,
      "grid_auto_rows": null,
      "grid_column": null,
      "grid_gap": null,
      "grid_row": null,
      "grid_template_areas": null,
      "grid_template_columns": null,
      "grid_template_rows": null,
      "height": null,
      "justify_content": null,
      "justify_items": null,
      "left": null,
      "margin": null,
      "max_height": null,
      "max_width": null,
      "min_height": null,
      "min_width": null,
      "object_fit": null,
      "object_position": null,
      "order": null,
      "overflow": null,
      "overflow_x": null,
      "overflow_y": null,
      "padding": null,
      "right": null,
      "top": null,
      "visibility": null,
      "width": null
     }
    },
    "b06547186130428e94902933e8e7bac1": {
     "model_module": "@jupyter-widgets/base",
     "model_module_version": "1.2.0",
     "model_name": "LayoutModel",
     "state": {
      "_model_module": "@jupyter-widgets/base",
      "_model_module_version": "1.2.0",
      "_model_name": "LayoutModel",
      "_view_count": null,
      "_view_module": "@jupyter-widgets/base",
      "_view_module_version": "1.2.0",
      "_view_name": "LayoutView",
      "align_content": null,
      "align_items": null,
      "align_self": null,
      "border": null,
      "bottom": null,
      "display": null,
      "flex": null,
      "flex_flow": null,
      "grid_area": null,
      "grid_auto_columns": null,
      "grid_auto_flow": null,
      "grid_auto_rows": null,
      "grid_column": null,
      "grid_gap": null,
      "grid_row": null,
      "grid_template_areas": null,
      "grid_template_columns": null,
      "grid_template_rows": null,
      "height": null,
      "justify_content": null,
      "justify_items": null,
      "left": null,
      "margin": null,
      "max_height": null,
      "max_width": null,
      "min_height": null,
      "min_width": null,
      "object_fit": null,
      "object_position": null,
      "order": null,
      "overflow": null,
      "overflow_x": null,
      "overflow_y": null,
      "padding": null,
      "right": null,
      "top": null,
      "visibility": null,
      "width": null
     }
    },
    "b09e559b99f348fcb3260188551f9d43": {
     "model_module": "@jupyter-widgets/controls",
     "model_module_version": "1.5.0",
     "model_name": "FloatProgressModel",
     "state": {
      "_dom_classes": [],
      "_model_module": "@jupyter-widgets/controls",
      "_model_module_version": "1.5.0",
      "_model_name": "FloatProgressModel",
      "_view_count": null,
      "_view_module": "@jupyter-widgets/controls",
      "_view_module_version": "1.5.0",
      "_view_name": "ProgressView",
      "bar_style": "success",
      "description": "",
      "description_tooltip": null,
      "layout": "IPY_MODEL_a83e6b605d9a4898b683753721900b61",
      "max": 4,
      "min": 0,
      "orientation": "horizontal",
      "style": "IPY_MODEL_fe865f04255744649de69df1c97aa498",
      "value": 4
     }
    },
    "b4be22e633614cd38d8c4bf9c032e147": {
     "model_module": "@jupyter-widgets/base",
     "model_module_version": "1.2.0",
     "model_name": "LayoutModel",
     "state": {
      "_model_module": "@jupyter-widgets/base",
      "_model_module_version": "1.2.0",
      "_model_name": "LayoutModel",
      "_view_count": null,
      "_view_module": "@jupyter-widgets/base",
      "_view_module_version": "1.2.0",
      "_view_name": "LayoutView",
      "align_content": null,
      "align_items": null,
      "align_self": null,
      "border": null,
      "bottom": null,
      "display": null,
      "flex": null,
      "flex_flow": null,
      "grid_area": null,
      "grid_auto_columns": null,
      "grid_auto_flow": null,
      "grid_auto_rows": null,
      "grid_column": null,
      "grid_gap": null,
      "grid_row": null,
      "grid_template_areas": null,
      "grid_template_columns": null,
      "grid_template_rows": null,
      "height": null,
      "justify_content": null,
      "justify_items": null,
      "left": null,
      "margin": null,
      "max_height": null,
      "max_width": null,
      "min_height": null,
      "min_width": null,
      "object_fit": null,
      "object_position": null,
      "order": null,
      "overflow": null,
      "overflow_x": null,
      "overflow_y": null,
      "padding": null,
      "right": null,
      "top": null,
      "visibility": null,
      "width": null
     }
    },
    "b4c1788eefe241ae977063d21cf457e4": {
     "model_module": "@jupyter-widgets/base",
     "model_module_version": "1.2.0",
     "model_name": "LayoutModel",
     "state": {
      "_model_module": "@jupyter-widgets/base",
      "_model_module_version": "1.2.0",
      "_model_name": "LayoutModel",
      "_view_count": null,
      "_view_module": "@jupyter-widgets/base",
      "_view_module_version": "1.2.0",
      "_view_name": "LayoutView",
      "align_content": null,
      "align_items": null,
      "align_self": null,
      "border": null,
      "bottom": null,
      "display": null,
      "flex": null,
      "flex_flow": null,
      "grid_area": null,
      "grid_auto_columns": null,
      "grid_auto_flow": null,
      "grid_auto_rows": null,
      "grid_column": null,
      "grid_gap": null,
      "grid_row": null,
      "grid_template_areas": null,
      "grid_template_columns": null,
      "grid_template_rows": null,
      "height": null,
      "justify_content": null,
      "justify_items": null,
      "left": null,
      "margin": null,
      "max_height": null,
      "max_width": null,
      "min_height": null,
      "min_width": null,
      "object_fit": null,
      "object_position": null,
      "order": null,
      "overflow": null,
      "overflow_x": null,
      "overflow_y": null,
      "padding": null,
      "right": null,
      "top": null,
      "visibility": null,
      "width": null
     }
    },
    "baa5d4378f814b1aa2c2a567de1110c8": {
     "model_module": "@jupyter-widgets/controls",
     "model_module_version": "1.5.0",
     "model_name": "DescriptionStyleModel",
     "state": {
      "_model_module": "@jupyter-widgets/controls",
      "_model_module_version": "1.5.0",
      "_model_name": "DescriptionStyleModel",
      "_view_count": null,
      "_view_module": "@jupyter-widgets/base",
      "_view_module_version": "1.2.0",
      "_view_name": "StyleView",
      "description_width": ""
     }
    },
    "bca9ca7afab14ff694c80f658cb9cf32": {
     "model_module": "@jupyter-widgets/controls",
     "model_module_version": "1.5.0",
     "model_name": "DescriptionStyleModel",
     "state": {
      "_model_module": "@jupyter-widgets/controls",
      "_model_module_version": "1.5.0",
      "_model_name": "DescriptionStyleModel",
      "_view_count": null,
      "_view_module": "@jupyter-widgets/base",
      "_view_module_version": "1.2.0",
      "_view_name": "StyleView",
      "description_width": ""
     }
    },
    "bcb280d17f6e4a519f49ae93a91ee990": {
     "model_module": "@jupyter-widgets/base",
     "model_module_version": "1.2.0",
     "model_name": "LayoutModel",
     "state": {
      "_model_module": "@jupyter-widgets/base",
      "_model_module_version": "1.2.0",
      "_model_name": "LayoutModel",
      "_view_count": null,
      "_view_module": "@jupyter-widgets/base",
      "_view_module_version": "1.2.0",
      "_view_name": "LayoutView",
      "align_content": null,
      "align_items": null,
      "align_self": null,
      "border": null,
      "bottom": null,
      "display": null,
      "flex": null,
      "flex_flow": null,
      "grid_area": null,
      "grid_auto_columns": null,
      "grid_auto_flow": null,
      "grid_auto_rows": null,
      "grid_column": null,
      "grid_gap": null,
      "grid_row": null,
      "grid_template_areas": null,
      "grid_template_columns": null,
      "grid_template_rows": null,
      "height": null,
      "justify_content": null,
      "justify_items": null,
      "left": null,
      "margin": null,
      "max_height": null,
      "max_width": null,
      "min_height": null,
      "min_width": null,
      "object_fit": null,
      "object_position": null,
      "order": null,
      "overflow": null,
      "overflow_x": null,
      "overflow_y": null,
      "padding": null,
      "right": null,
      "top": null,
      "visibility": null,
      "width": null
     }
    },
    "bebe6696f9264c8f941729535a8e14fe": {
     "model_module": "@jupyter-widgets/base",
     "model_module_version": "1.2.0",
     "model_name": "LayoutModel",
     "state": {
      "_model_module": "@jupyter-widgets/base",
      "_model_module_version": "1.2.0",
      "_model_name": "LayoutModel",
      "_view_count": null,
      "_view_module": "@jupyter-widgets/base",
      "_view_module_version": "1.2.0",
      "_view_name": "LayoutView",
      "align_content": null,
      "align_items": null,
      "align_self": null,
      "border": null,
      "bottom": null,
      "display": null,
      "flex": null,
      "flex_flow": null,
      "grid_area": null,
      "grid_auto_columns": null,
      "grid_auto_flow": null,
      "grid_auto_rows": null,
      "grid_column": null,
      "grid_gap": null,
      "grid_row": null,
      "grid_template_areas": null,
      "grid_template_columns": null,
      "grid_template_rows": null,
      "height": null,
      "justify_content": null,
      "justify_items": null,
      "left": null,
      "margin": null,
      "max_height": null,
      "max_width": null,
      "min_height": null,
      "min_width": null,
      "object_fit": null,
      "object_position": null,
      "order": null,
      "overflow": null,
      "overflow_x": null,
      "overflow_y": null,
      "padding": null,
      "right": null,
      "top": null,
      "visibility": null,
      "width": null
     }
    },
    "bf637ee3501d4a39b852fc38ef46e7e4": {
     "model_module": "@jupyter-widgets/controls",
     "model_module_version": "1.5.0",
     "model_name": "DescriptionStyleModel",
     "state": {
      "_model_module": "@jupyter-widgets/controls",
      "_model_module_version": "1.5.0",
      "_model_name": "DescriptionStyleModel",
      "_view_count": null,
      "_view_module": "@jupyter-widgets/base",
      "_view_module_version": "1.2.0",
      "_view_name": "StyleView",
      "description_width": ""
     }
    },
    "bfc0bf6c02a6496089f38407addd7caf": {
     "model_module": "@jupyter-widgets/controls",
     "model_module_version": "1.5.0",
     "model_name": "DescriptionStyleModel",
     "state": {
      "_model_module": "@jupyter-widgets/controls",
      "_model_module_version": "1.5.0",
      "_model_name": "DescriptionStyleModel",
      "_view_count": null,
      "_view_module": "@jupyter-widgets/base",
      "_view_module_version": "1.2.0",
      "_view_name": "StyleView",
      "description_width": ""
     }
    },
    "c03921baab5a4c4aaac5a3b4f4980fce": {
     "model_module": "@jupyter-widgets/controls",
     "model_module_version": "1.5.0",
     "model_name": "HBoxModel",
     "state": {
      "_dom_classes": [],
      "_model_module": "@jupyter-widgets/controls",
      "_model_module_version": "1.5.0",
      "_model_name": "HBoxModel",
      "_view_count": null,
      "_view_module": "@jupyter-widgets/controls",
      "_view_module_version": "1.5.0",
      "_view_name": "HBoxView",
      "box_style": "",
      "children": [
       "IPY_MODEL_82b36337f6084500861a1ea78212e0a8",
       "IPY_MODEL_3b4da930211b44a29a386116baea5094",
       "IPY_MODEL_122912cf07014297b5e3b93af8659430"
      ],
      "layout": "IPY_MODEL_6b86b03816b24801925b2bc52e1437fb"
     }
    },
    "c1f30d802f55480fbcb31c468244f773": {
     "model_module": "@jupyter-widgets/controls",
     "model_module_version": "1.5.0",
     "model_name": "HBoxModel",
     "state": {
      "_dom_classes": [],
      "_model_module": "@jupyter-widgets/controls",
      "_model_module_version": "1.5.0",
      "_model_name": "HBoxModel",
      "_view_count": null,
      "_view_module": "@jupyter-widgets/controls",
      "_view_module_version": "1.5.0",
      "_view_name": "HBoxView",
      "box_style": "",
      "children": [
       "IPY_MODEL_d9fff5c428e94d9aaf847d9325773e65",
       "IPY_MODEL_a23a0e32937842a0862edb8f6147362c",
       "IPY_MODEL_9c998e5954dc423b9532016d702dbc30"
      ],
      "layout": "IPY_MODEL_7b55d3a222fd42b48021431333c8e74e"
     }
    },
    "c252de5f04814af087654801b750c518": {
     "model_module": "@jupyter-widgets/controls",
     "model_module_version": "1.5.0",
     "model_name": "HBoxModel",
     "state": {
      "_dom_classes": [],
      "_model_module": "@jupyter-widgets/controls",
      "_model_module_version": "1.5.0",
      "_model_name": "HBoxModel",
      "_view_count": null,
      "_view_module": "@jupyter-widgets/controls",
      "_view_module_version": "1.5.0",
      "_view_name": "HBoxView",
      "box_style": "",
      "children": [
       "IPY_MODEL_a1808c9489ea4b398360dc52c9eb548e",
       "IPY_MODEL_69b07faef030446f9e81f116d61a33f2",
       "IPY_MODEL_00e7088646734146b808724c7e7cf04a"
      ],
      "layout": "IPY_MODEL_dbf1b004c8494844850ee31862010b51"
     }
    },
    "c787838ac033415b89bdf76185ac1d95": {
     "model_module": "@jupyter-widgets/base",
     "model_module_version": "1.2.0",
     "model_name": "LayoutModel",
     "state": {
      "_model_module": "@jupyter-widgets/base",
      "_model_module_version": "1.2.0",
      "_model_name": "LayoutModel",
      "_view_count": null,
      "_view_module": "@jupyter-widgets/base",
      "_view_module_version": "1.2.0",
      "_view_name": "LayoutView",
      "align_content": null,
      "align_items": null,
      "align_self": null,
      "border": null,
      "bottom": null,
      "display": null,
      "flex": null,
      "flex_flow": null,
      "grid_area": null,
      "grid_auto_columns": null,
      "grid_auto_flow": null,
      "grid_auto_rows": null,
      "grid_column": null,
      "grid_gap": null,
      "grid_row": null,
      "grid_template_areas": null,
      "grid_template_columns": null,
      "grid_template_rows": null,
      "height": null,
      "justify_content": null,
      "justify_items": null,
      "left": null,
      "margin": null,
      "max_height": null,
      "max_width": null,
      "min_height": null,
      "min_width": null,
      "object_fit": null,
      "object_position": null,
      "order": null,
      "overflow": null,
      "overflow_x": null,
      "overflow_y": null,
      "padding": null,
      "right": null,
      "top": null,
      "visibility": null,
      "width": null
     }
    },
    "c7882515706f469e8b20f314a0fed99a": {
     "model_module": "@jupyter-widgets/controls",
     "model_module_version": "1.5.0",
     "model_name": "HTMLModel",
     "state": {
      "_dom_classes": [],
      "_model_module": "@jupyter-widgets/controls",
      "_model_module_version": "1.5.0",
      "_model_name": "HTMLModel",
      "_view_count": null,
      "_view_module": "@jupyter-widgets/controls",
      "_view_module_version": "1.5.0",
      "_view_name": "HTMLView",
      "description": "",
      "description_tooltip": null,
      "layout": "IPY_MODEL_e98182e486cf4c2cacee221c85e83437",
      "placeholder": "​",
      "style": "IPY_MODEL_5521fa04bfbf400c865118d35fe697bf",
      "value": " 243/243 [00:00&lt;00:00, 6.18kB/s]"
     }
    },
    "ca232c774a3441cb8a3cab1d4c66352b": {
     "model_module": "@jupyter-widgets/base",
     "model_module_version": "1.2.0",
     "model_name": "LayoutModel",
     "state": {
      "_model_module": "@jupyter-widgets/base",
      "_model_module_version": "1.2.0",
      "_model_name": "LayoutModel",
      "_view_count": null,
      "_view_module": "@jupyter-widgets/base",
      "_view_module_version": "1.2.0",
      "_view_name": "LayoutView",
      "align_content": null,
      "align_items": null,
      "align_self": null,
      "border": null,
      "bottom": null,
      "display": null,
      "flex": null,
      "flex_flow": null,
      "grid_area": null,
      "grid_auto_columns": null,
      "grid_auto_flow": null,
      "grid_auto_rows": null,
      "grid_column": null,
      "grid_gap": null,
      "grid_row": null,
      "grid_template_areas": null,
      "grid_template_columns": null,
      "grid_template_rows": null,
      "height": null,
      "justify_content": null,
      "justify_items": null,
      "left": null,
      "margin": null,
      "max_height": null,
      "max_width": null,
      "min_height": null,
      "min_width": null,
      "object_fit": null,
      "object_position": null,
      "order": null,
      "overflow": null,
      "overflow_x": null,
      "overflow_y": null,
      "padding": null,
      "right": null,
      "top": null,
      "visibility": null,
      "width": null
     }
    },
    "cb94d8122af047b097b50eb5e3d472bd": {
     "model_module": "@jupyter-widgets/controls",
     "model_module_version": "1.5.0",
     "model_name": "ProgressStyleModel",
     "state": {
      "_model_module": "@jupyter-widgets/controls",
      "_model_module_version": "1.5.0",
      "_model_name": "ProgressStyleModel",
      "_view_count": null,
      "_view_module": "@jupyter-widgets/base",
      "_view_module_version": "1.2.0",
      "_view_name": "StyleView",
      "bar_color": null,
      "description_width": ""
     }
    },
    "cbd7ad12a2854a029f10c39bda0e90f7": {
     "model_module": "@jupyter-widgets/controls",
     "model_module_version": "1.5.0",
     "model_name": "HTMLModel",
     "state": {
      "_dom_classes": [],
      "_model_module": "@jupyter-widgets/controls",
      "_model_module_version": "1.5.0",
      "_model_name": "HTMLModel",
      "_view_count": null,
      "_view_module": "@jupyter-widgets/controls",
      "_view_module_version": "1.5.0",
      "_view_name": "HTMLView",
      "description": "",
      "description_tooltip": null,
      "layout": "IPY_MODEL_ecbc7cb5a6f64d5c9789451f569bc090",
      "placeholder": "​",
      "style": "IPY_MODEL_4e9ac322d6bf4428bb4f47d4dda2e65f",
      "value": "unet/config.json: 100%"
     }
    },
    "cbdf3bff447143a694d6f51247505fd3": {
     "model_module": "@jupyter-widgets/controls",
     "model_module_version": "1.5.0",
     "model_name": "ProgressStyleModel",
     "state": {
      "_model_module": "@jupyter-widgets/controls",
      "_model_module_version": "1.5.0",
      "_model_name": "ProgressStyleModel",
      "_view_count": null,
      "_view_module": "@jupyter-widgets/base",
      "_view_module_version": "1.2.0",
      "_view_name": "StyleView",
      "bar_color": null,
      "description_width": ""
     }
    },
    "cc4b09747fb5488098176897328d12ae": {
     "model_module": "@jupyter-widgets/controls",
     "model_module_version": "1.5.0",
     "model_name": "DescriptionStyleModel",
     "state": {
      "_model_module": "@jupyter-widgets/controls",
      "_model_module_version": "1.5.0",
      "_model_name": "DescriptionStyleModel",
      "_view_count": null,
      "_view_module": "@jupyter-widgets/base",
      "_view_module_version": "1.2.0",
      "_view_name": "StyleView",
      "description_width": ""
     }
    },
    "cf0dcabf87b941c0ac5fd267f47c4dfa": {
     "model_module": "@jupyter-widgets/controls",
     "model_module_version": "1.5.0",
     "model_name": "HTMLModel",
     "state": {
      "_dom_classes": [],
      "_model_module": "@jupyter-widgets/controls",
      "_model_module_version": "1.5.0",
      "_model_name": "HTMLModel",
      "_view_count": null,
      "_view_module": "@jupyter-widgets/controls",
      "_view_module_version": "1.5.0",
      "_view_name": "HTMLView",
      "description": "",
      "description_tooltip": null,
      "layout": "IPY_MODEL_652fd30801944aeb8bf01d7fccbb61a9",
      "placeholder": "​",
      "style": "IPY_MODEL_737dc4a804e94dcf8a8fd9f25996e301",
      "value": "100%"
     }
    },
    "d1114a4dcf5a4d69afc322876373cb9f": {
     "model_module": "@jupyter-widgets/base",
     "model_module_version": "1.2.0",
     "model_name": "LayoutModel",
     "state": {
      "_model_module": "@jupyter-widgets/base",
      "_model_module_version": "1.2.0",
      "_model_name": "LayoutModel",
      "_view_count": null,
      "_view_module": "@jupyter-widgets/base",
      "_view_module_version": "1.2.0",
      "_view_name": "LayoutView",
      "align_content": null,
      "align_items": null,
      "align_self": null,
      "border": null,
      "bottom": null,
      "display": null,
      "flex": null,
      "flex_flow": null,
      "grid_area": null,
      "grid_auto_columns": null,
      "grid_auto_flow": null,
      "grid_auto_rows": null,
      "grid_column": null,
      "grid_gap": null,
      "grid_row": null,
      "grid_template_areas": null,
      "grid_template_columns": null,
      "grid_template_rows": null,
      "height": null,
      "justify_content": null,
      "justify_items": null,
      "left": null,
      "margin": null,
      "max_height": null,
      "max_width": null,
      "min_height": null,
      "min_width": null,
      "object_fit": null,
      "object_position": null,
      "order": null,
      "overflow": null,
      "overflow_x": null,
      "overflow_y": null,
      "padding": null,
      "right": null,
      "top": null,
      "visibility": null,
      "width": null
     }
    },
    "d29519d34c034cba84f776e64367c061": {
     "model_module": "@jupyter-widgets/base",
     "model_module_version": "1.2.0",
     "model_name": "LayoutModel",
     "state": {
      "_model_module": "@jupyter-widgets/base",
      "_model_module_version": "1.2.0",
      "_model_name": "LayoutModel",
      "_view_count": null,
      "_view_module": "@jupyter-widgets/base",
      "_view_module_version": "1.2.0",
      "_view_name": "LayoutView",
      "align_content": null,
      "align_items": null,
      "align_self": null,
      "border": null,
      "bottom": null,
      "display": null,
      "flex": null,
      "flex_flow": null,
      "grid_area": null,
      "grid_auto_columns": null,
      "grid_auto_flow": null,
      "grid_auto_rows": null,
      "grid_column": null,
      "grid_gap": null,
      "grid_row": null,
      "grid_template_areas": null,
      "grid_template_columns": null,
      "grid_template_rows": null,
      "height": null,
      "justify_content": null,
      "justify_items": null,
      "left": null,
      "margin": null,
      "max_height": null,
      "max_width": null,
      "min_height": null,
      "min_width": null,
      "object_fit": null,
      "object_position": null,
      "order": null,
      "overflow": null,
      "overflow_x": null,
      "overflow_y": null,
      "padding": null,
      "right": null,
      "top": null,
      "visibility": null,
      "width": null
     }
    },
    "d3c24aa8fadb416482d725a018e276ff": {
     "model_module": "@jupyter-widgets/controls",
     "model_module_version": "1.5.0",
     "model_name": "HTMLModel",
     "state": {
      "_dom_classes": [],
      "_model_module": "@jupyter-widgets/controls",
      "_model_module_version": "1.5.0",
      "_model_name": "HTMLModel",
      "_view_count": null,
      "_view_module": "@jupyter-widgets/controls",
      "_view_module_version": "1.5.0",
      "_view_name": "HTMLView",
      "description": "",
      "description_tooltip": null,
      "layout": "IPY_MODEL_25aba69a1b774a6687716b1135fb1e20",
      "placeholder": "​",
      "style": "IPY_MODEL_0a3a687188294b2c8420bc071b085302",
      "value": "100%"
     }
    },
    "d997f94aea1043bfbbbd1720452a7555": {
     "model_module": "@jupyter-widgets/controls",
     "model_module_version": "1.5.0",
     "model_name": "DescriptionStyleModel",
     "state": {
      "_model_module": "@jupyter-widgets/controls",
      "_model_module_version": "1.5.0",
      "_model_name": "DescriptionStyleModel",
      "_view_count": null,
      "_view_module": "@jupyter-widgets/base",
      "_view_module_version": "1.2.0",
      "_view_name": "StyleView",
      "description_width": ""
     }
    },
    "d9fff5c428e94d9aaf847d9325773e65": {
     "model_module": "@jupyter-widgets/controls",
     "model_module_version": "1.5.0",
     "model_name": "HTMLModel",
     "state": {
      "_dom_classes": [],
      "_model_module": "@jupyter-widgets/controls",
      "_model_module_version": "1.5.0",
      "_model_name": "HTMLModel",
      "_view_count": null,
      "_view_module": "@jupyter-widgets/controls",
      "_view_module_version": "1.5.0",
      "_view_name": "HTMLView",
      "description": "",
      "description_tooltip": null,
      "layout": "IPY_MODEL_3e1bf1b04faf455bb90eb46f3a430197",
      "placeholder": "​",
      "style": "IPY_MODEL_aceebb7ca0eb4aa3bd1afe6b1c246999",
      "value": "100%"
     }
    },
    "da507b713aa5498991c3e0565ccfa0b7": {
     "model_module": "@jupyter-widgets/controls",
     "model_module_version": "1.5.0",
     "model_name": "HBoxModel",
     "state": {
      "_dom_classes": [],
      "_model_module": "@jupyter-widgets/controls",
      "_model_module_version": "1.5.0",
      "_model_name": "HBoxModel",
      "_view_count": null,
      "_view_module": "@jupyter-widgets/controls",
      "_view_module_version": "1.5.0",
      "_view_name": "HBoxView",
      "box_style": "",
      "children": [
       "IPY_MODEL_568353acde19493cbd09d2d34cc87adf",
       "IPY_MODEL_407f8bed081f4aaa97ede2f9604b6492",
       "IPY_MODEL_93d5dbc80ea2417b8d3879f8a4c7a65f"
      ],
      "layout": "IPY_MODEL_6ac2c844d56f4ff59bf1d5156fc17da0"
     }
    },
    "dbf1b004c8494844850ee31862010b51": {
     "model_module": "@jupyter-widgets/base",
     "model_module_version": "1.2.0",
     "model_name": "LayoutModel",
     "state": {
      "_model_module": "@jupyter-widgets/base",
      "_model_module_version": "1.2.0",
      "_model_name": "LayoutModel",
      "_view_count": null,
      "_view_module": "@jupyter-widgets/base",
      "_view_module_version": "1.2.0",
      "_view_name": "LayoutView",
      "align_content": null,
      "align_items": null,
      "align_self": null,
      "border": null,
      "bottom": null,
      "display": null,
      "flex": null,
      "flex_flow": null,
      "grid_area": null,
      "grid_auto_columns": null,
      "grid_auto_flow": null,
      "grid_auto_rows": null,
      "grid_column": null,
      "grid_gap": null,
      "grid_row": null,
      "grid_template_areas": null,
      "grid_template_columns": null,
      "grid_template_rows": null,
      "height": null,
      "justify_content": null,
      "justify_items": null,
      "left": null,
      "margin": null,
      "max_height": null,
      "max_width": null,
      "min_height": null,
      "min_width": null,
      "object_fit": null,
      "object_position": null,
      "order": null,
      "overflow": null,
      "overflow_x": null,
      "overflow_y": null,
      "padding": null,
      "right": null,
      "top": null,
      "visibility": null,
      "width": null
     }
    },
    "dc123354b4fa4f7f8b076ef0c33a44e4": {
     "model_module": "@jupyter-widgets/controls",
     "model_module_version": "1.5.0",
     "model_name": "ProgressStyleModel",
     "state": {
      "_model_module": "@jupyter-widgets/controls",
      "_model_module_version": "1.5.0",
      "_model_name": "ProgressStyleModel",
      "_view_count": null,
      "_view_module": "@jupyter-widgets/base",
      "_view_module_version": "1.2.0",
      "_view_name": "StyleView",
      "bar_color": null,
      "description_width": ""
     }
    },
    "dda3cde8b5714923af89cdc0a8735a80": {
     "model_module": "@jupyter-widgets/controls",
     "model_module_version": "1.5.0",
     "model_name": "DescriptionStyleModel",
     "state": {
      "_model_module": "@jupyter-widgets/controls",
      "_model_module_version": "1.5.0",
      "_model_name": "DescriptionStyleModel",
      "_view_count": null,
      "_view_module": "@jupyter-widgets/base",
      "_view_module_version": "1.2.0",
      "_view_name": "StyleView",
      "description_width": ""
     }
    },
    "e1f76eb0534e4b499d6ca5d740cf94ff": {
     "model_module": "@jupyter-widgets/controls",
     "model_module_version": "1.5.0",
     "model_name": "DescriptionStyleModel",
     "state": {
      "_model_module": "@jupyter-widgets/controls",
      "_model_module_version": "1.5.0",
      "_model_name": "DescriptionStyleModel",
      "_view_count": null,
      "_view_module": "@jupyter-widgets/base",
      "_view_module_version": "1.2.0",
      "_view_name": "StyleView",
      "description_width": ""
     }
    },
    "e45f8d8b1161425db3a03cebf0c4dc4e": {
     "model_module": "@jupyter-widgets/controls",
     "model_module_version": "1.5.0",
     "model_name": "DescriptionStyleModel",
     "state": {
      "_model_module": "@jupyter-widgets/controls",
      "_model_module_version": "1.5.0",
      "_model_name": "DescriptionStyleModel",
      "_view_count": null,
      "_view_module": "@jupyter-widgets/base",
      "_view_module_version": "1.2.0",
      "_view_name": "StyleView",
      "description_width": ""
     }
    },
    "e88cb545828a4aeb8c600f52a7fe9e20": {
     "model_module": "@jupyter-widgets/base",
     "model_module_version": "1.2.0",
     "model_name": "LayoutModel",
     "state": {
      "_model_module": "@jupyter-widgets/base",
      "_model_module_version": "1.2.0",
      "_model_name": "LayoutModel",
      "_view_count": null,
      "_view_module": "@jupyter-widgets/base",
      "_view_module_version": "1.2.0",
      "_view_name": "LayoutView",
      "align_content": null,
      "align_items": null,
      "align_self": null,
      "border": null,
      "bottom": null,
      "display": null,
      "flex": null,
      "flex_flow": null,
      "grid_area": null,
      "grid_auto_columns": null,
      "grid_auto_flow": null,
      "grid_auto_rows": null,
      "grid_column": null,
      "grid_gap": null,
      "grid_row": null,
      "grid_template_areas": null,
      "grid_template_columns": null,
      "grid_template_rows": null,
      "height": null,
      "justify_content": null,
      "justify_items": null,
      "left": null,
      "margin": null,
      "max_height": null,
      "max_width": null,
      "min_height": null,
      "min_width": null,
      "object_fit": null,
      "object_position": null,
      "order": null,
      "overflow": null,
      "overflow_x": null,
      "overflow_y": null,
      "padding": null,
      "right": null,
      "top": null,
      "visibility": null,
      "width": null
     }
    },
    "e98182e486cf4c2cacee221c85e83437": {
     "model_module": "@jupyter-widgets/base",
     "model_module_version": "1.2.0",
     "model_name": "LayoutModel",
     "state": {
      "_model_module": "@jupyter-widgets/base",
      "_model_module_version": "1.2.0",
      "_model_name": "LayoutModel",
      "_view_count": null,
      "_view_module": "@jupyter-widgets/base",
      "_view_module_version": "1.2.0",
      "_view_name": "LayoutView",
      "align_content": null,
      "align_items": null,
      "align_self": null,
      "border": null,
      "bottom": null,
      "display": null,
      "flex": null,
      "flex_flow": null,
      "grid_area": null,
      "grid_auto_columns": null,
      "grid_auto_flow": null,
      "grid_auto_rows": null,
      "grid_column": null,
      "grid_gap": null,
      "grid_row": null,
      "grid_template_areas": null,
      "grid_template_columns": null,
      "grid_template_rows": null,
      "height": null,
      "justify_content": null,
      "justify_items": null,
      "left": null,
      "margin": null,
      "max_height": null,
      "max_width": null,
      "min_height": null,
      "min_width": null,
      "object_fit": null,
      "object_position": null,
      "order": null,
      "overflow": null,
      "overflow_x": null,
      "overflow_y": null,
      "padding": null,
      "right": null,
      "top": null,
      "visibility": null,
      "width": null
     }
    },
    "ecbc7cb5a6f64d5c9789451f569bc090": {
     "model_module": "@jupyter-widgets/base",
     "model_module_version": "1.2.0",
     "model_name": "LayoutModel",
     "state": {
      "_model_module": "@jupyter-widgets/base",
      "_model_module_version": "1.2.0",
      "_model_name": "LayoutModel",
      "_view_count": null,
      "_view_module": "@jupyter-widgets/base",
      "_view_module_version": "1.2.0",
      "_view_name": "LayoutView",
      "align_content": null,
      "align_items": null,
      "align_self": null,
      "border": null,
      "bottom": null,
      "display": null,
      "flex": null,
      "flex_flow": null,
      "grid_area": null,
      "grid_auto_columns": null,
      "grid_auto_flow": null,
      "grid_auto_rows": null,
      "grid_column": null,
      "grid_gap": null,
      "grid_row": null,
      "grid_template_areas": null,
      "grid_template_columns": null,
      "grid_template_rows": null,
      "height": null,
      "justify_content": null,
      "justify_items": null,
      "left": null,
      "margin": null,
      "max_height": null,
      "max_width": null,
      "min_height": null,
      "min_width": null,
      "object_fit": null,
      "object_position": null,
      "order": null,
      "overflow": null,
      "overflow_x": null,
      "overflow_y": null,
      "padding": null,
      "right": null,
      "top": null,
      "visibility": null,
      "width": null
     }
    },
    "ecd096bf38b14c2cbf5b03264b2a8ecd": {
     "model_module": "@jupyter-widgets/controls",
     "model_module_version": "1.5.0",
     "model_name": "ProgressStyleModel",
     "state": {
      "_model_module": "@jupyter-widgets/controls",
      "_model_module_version": "1.5.0",
      "_model_name": "ProgressStyleModel",
      "_view_count": null,
      "_view_module": "@jupyter-widgets/base",
      "_view_module_version": "1.2.0",
      "_view_name": "StyleView",
      "bar_color": null,
      "description_width": ""
     }
    },
    "ef97f34b88d2414c8fd995452fda3459": {
     "model_module": "@jupyter-widgets/base",
     "model_module_version": "1.2.0",
     "model_name": "LayoutModel",
     "state": {
      "_model_module": "@jupyter-widgets/base",
      "_model_module_version": "1.2.0",
      "_model_name": "LayoutModel",
      "_view_count": null,
      "_view_module": "@jupyter-widgets/base",
      "_view_module_version": "1.2.0",
      "_view_name": "LayoutView",
      "align_content": null,
      "align_items": null,
      "align_self": null,
      "border": null,
      "bottom": null,
      "display": null,
      "flex": null,
      "flex_flow": null,
      "grid_area": null,
      "grid_auto_columns": null,
      "grid_auto_flow": null,
      "grid_auto_rows": null,
      "grid_column": null,
      "grid_gap": null,
      "grid_row": null,
      "grid_template_areas": null,
      "grid_template_columns": null,
      "grid_template_rows": null,
      "height": null,
      "justify_content": null,
      "justify_items": null,
      "left": null,
      "margin": null,
      "max_height": null,
      "max_width": null,
      "min_height": null,
      "min_width": null,
      "object_fit": null,
      "object_position": null,
      "order": null,
      "overflow": null,
      "overflow_x": null,
      "overflow_y": null,
      "padding": null,
      "right": null,
      "top": null,
      "visibility": null,
      "width": null
     }
    },
    "f2631e7ab4a84ef7b45627ca7655bd84": {
     "model_module": "@jupyter-widgets/controls",
     "model_module_version": "1.5.0",
     "model_name": "HTMLModel",
     "state": {
      "_dom_classes": [],
      "_model_module": "@jupyter-widgets/controls",
      "_model_module_version": "1.5.0",
      "_model_name": "HTMLModel",
      "_view_count": null,
      "_view_module": "@jupyter-widgets/controls",
      "_view_module_version": "1.5.0",
      "_view_name": "HTMLView",
      "description": "",
      "description_tooltip": null,
      "layout": "IPY_MODEL_0a81fe267f62434791435b440f8f5265",
      "placeholder": "​",
      "style": "IPY_MODEL_a0325787dfe94b3eac3c6ac485a5b38e",
      "value": " 4/4 [00:02&lt;00:00,  2.09it/s]"
     }
    },
    "f64b16a1cc0c403090e3af8223a3df3b": {
     "model_module": "@jupyter-widgets/controls",
     "model_module_version": "1.5.0",
     "model_name": "HTMLModel",
     "state": {
      "_dom_classes": [],
      "_model_module": "@jupyter-widgets/controls",
      "_model_module_version": "1.5.0",
      "_model_name": "HTMLModel",
      "_view_count": null,
      "_view_module": "@jupyter-widgets/controls",
      "_view_module_version": "1.5.0",
      "_view_name": "HTMLView",
      "description": "",
      "description_tooltip": null,
      "layout": "IPY_MODEL_75558c1d04d0433282403959d990747f",
      "placeholder": "​",
      "style": "IPY_MODEL_2b99a57c65b34028af1f3b85d438867f",
      "value": " 7/7 [00:36&lt;00:00,  5.47s/it]"
     }
    },
    "f88ca2e8e72548c4a26f037e77677324": {
     "model_module": "@jupyter-widgets/controls",
     "model_module_version": "1.5.0",
     "model_name": "ProgressStyleModel",
     "state": {
      "_model_module": "@jupyter-widgets/controls",
      "_model_module_version": "1.5.0",
      "_model_name": "ProgressStyleModel",
      "_view_count": null,
      "_view_module": "@jupyter-widgets/base",
      "_view_module_version": "1.2.0",
      "_view_name": "StyleView",
      "bar_color": null,
      "description_width": ""
     }
    },
    "f89679319faa49728b8c9e981a911ce1": {
     "model_module": "@jupyter-widgets/base",
     "model_module_version": "1.2.0",
     "model_name": "LayoutModel",
     "state": {
      "_model_module": "@jupyter-widgets/base",
      "_model_module_version": "1.2.0",
      "_model_name": "LayoutModel",
      "_view_count": null,
      "_view_module": "@jupyter-widgets/base",
      "_view_module_version": "1.2.0",
      "_view_name": "LayoutView",
      "align_content": null,
      "align_items": null,
      "align_self": null,
      "border": null,
      "bottom": null,
      "display": null,
      "flex": null,
      "flex_flow": null,
      "grid_area": null,
      "grid_auto_columns": null,
      "grid_auto_flow": null,
      "grid_auto_rows": null,
      "grid_column": null,
      "grid_gap": null,
      "grid_row": null,
      "grid_template_areas": null,
      "grid_template_columns": null,
      "grid_template_rows": null,
      "height": null,
      "justify_content": null,
      "justify_items": null,
      "left": null,
      "margin": null,
      "max_height": null,
      "max_width": null,
      "min_height": null,
      "min_width": null,
      "object_fit": null,
      "object_position": null,
      "order": null,
      "overflow": null,
      "overflow_x": null,
      "overflow_y": null,
      "padding": null,
      "right": null,
      "top": null,
      "visibility": null,
      "width": null
     }
    },
    "f8a6ab59b69c49b4a1f9e9ba8a384a9c": {
     "model_module": "@jupyter-widgets/controls",
     "model_module_version": "1.5.0",
     "model_name": "DescriptionStyleModel",
     "state": {
      "_model_module": "@jupyter-widgets/controls",
      "_model_module_version": "1.5.0",
      "_model_name": "DescriptionStyleModel",
      "_view_count": null,
      "_view_module": "@jupyter-widgets/base",
      "_view_module_version": "1.2.0",
      "_view_name": "StyleView",
      "description_width": ""
     }
    },
    "fad461acf2744b0785377d6c4c3abeee": {
     "model_module": "@jupyter-widgets/base",
     "model_module_version": "1.2.0",
     "model_name": "LayoutModel",
     "state": {
      "_model_module": "@jupyter-widgets/base",
      "_model_module_version": "1.2.0",
      "_model_name": "LayoutModel",
      "_view_count": null,
      "_view_module": "@jupyter-widgets/base",
      "_view_module_version": "1.2.0",
      "_view_name": "LayoutView",
      "align_content": null,
      "align_items": null,
      "align_self": null,
      "border": null,
      "bottom": null,
      "display": null,
      "flex": null,
      "flex_flow": null,
      "grid_area": null,
      "grid_auto_columns": null,
      "grid_auto_flow": null,
      "grid_auto_rows": null,
      "grid_column": null,
      "grid_gap": null,
      "grid_row": null,
      "grid_template_areas": null,
      "grid_template_columns": null,
      "grid_template_rows": null,
      "height": null,
      "justify_content": null,
      "justify_items": null,
      "left": null,
      "margin": null,
      "max_height": null,
      "max_width": null,
      "min_height": null,
      "min_width": null,
      "object_fit": null,
      "object_position": null,
      "order": null,
      "overflow": null,
      "overflow_x": null,
      "overflow_y": null,
      "padding": null,
      "right": null,
      "top": null,
      "visibility": null,
      "width": null
     }
    },
    "fe865f04255744649de69df1c97aa498": {
     "model_module": "@jupyter-widgets/controls",
     "model_module_version": "1.5.0",
     "model_name": "ProgressStyleModel",
     "state": {
      "_model_module": "@jupyter-widgets/controls",
      "_model_module_version": "1.5.0",
      "_model_name": "ProgressStyleModel",
      "_view_count": null,
      "_view_module": "@jupyter-widgets/base",
      "_view_module_version": "1.2.0",
      "_view_name": "StyleView",
      "bar_color": null,
      "description_width": ""
     }
    }
   }
  }
 },
 "nbformat": 4,
 "nbformat_minor": 4
}
